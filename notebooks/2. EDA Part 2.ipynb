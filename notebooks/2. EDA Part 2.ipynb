{
 "cells": [
  {
   "cell_type": "markdown",
   "source": [
    "# 2. Exploratory Data Analysis (on all files of a certain taxi type, using spark)"
   ],
   "metadata": {
    "collapsed": false,
    "pycharm": {
     "name": "#%% md\n"
    }
   }
  },
  {
   "cell_type": "code",
   "execution_count": 18,
   "metadata": {
    "collapsed": true,
    "pycharm": {
     "name": "#%%\n"
    }
   },
   "outputs": [],
   "source": [
    "from pyspark.sql import SparkSession\n",
    "from pyspark.sql.functions import *\n",
    "\n",
    "# Create a spark session (which will run spark jobs)\n",
    "spark = (\n",
    "    SparkSession.builder.appName(\"MAST30034 Tutorial 1\")\n",
    "    .config(\"spark.sql.repl.eagerEval.enabled\", True)\n",
    "    .config(\"spark.sql.parquet.cacheMetadata\", \"true\")\n",
    "    .getOrCreate()\n",
    ")"
   ]
  },
  {
   "cell_type": "code",
   "execution_count": 4,
   "outputs": [
    {
     "name": "stderr",
     "output_type": "stream",
     "text": [
      "                                                                                \r"
     ]
    },
    {
     "name": "stdout",
     "output_type": "stream",
     "text": [
      "-RECORD 0------------------------------------\n",
      " VendorID              | 1                   \n",
      " tpep_pickup_datetime  | 2016-08-01 10:40:37 \n",
      " tpep_dropoff_datetime | 2016-08-01 10:41:37 \n",
      " passenger_count       | 1                   \n",
      " trip_distance         | 0.0                 \n",
      " RatecodeID            | 1                   \n",
      " store_and_fwd_flag    | N                   \n",
      " PULocationID          | 145                 \n",
      " DOLocationID          | 145                 \n",
      " payment_type          | 2                   \n",
      " fare_amount           | 2.5                 \n",
      " extra                 | 0.5                 \n",
      " mta_tax               | 0.5                 \n",
      " tip_amount            | 0.0                 \n",
      " tolls_amount          | 0.0                 \n",
      " improvement_surcharge | 0.3                 \n",
      " total_amount          | 3.8                 \n",
      " congestion_surcharge  | null                \n",
      " airport_fee           | null                \n",
      "only showing top 1 row\n",
      "\n"
     ]
    }
   ],
   "source": [
    "sdf_yellow = spark.read.parquet('../data/raw/NYC_Taxi/yellow/')\n",
    "sdf_yellow.show(1, vertical=True, truncate=100)"
   ],
   "metadata": {
    "collapsed": false,
    "pycharm": {
     "name": "#%%\n"
    }
   }
  },
  {
   "cell_type": "code",
   "execution_count": 5,
   "outputs": [
    {
     "name": "stderr",
     "output_type": "stream",
     "text": [
      "                                                                                \r"
     ]
    },
    {
     "data": {
      "text/plain": "131131805"
     },
     "execution_count": 5,
     "metadata": {},
     "output_type": "execute_result"
    }
   ],
   "source": [
    "# get count\n",
    "sdf_yellow.count()"
   ],
   "metadata": {
    "collapsed": false,
    "pycharm": {
     "name": "#%%\n"
    }
   }
  },
  {
   "cell_type": "code",
   "execution_count": 27,
   "outputs": [
    {
     "name": "stdout",
     "output_type": "stream",
     "text": [
      "-RECORD 0------------------------------------\n",
      " VendorID              | 2                   \n",
      " lpep_pickup_datetime  | 2016-03-01 00:49:58 \n",
      " lpep_dropoff_datetime | 2016-03-01 01:06:33 \n",
      " store_and_fwd_flag    | N                   \n",
      " RatecodeID            | 1                   \n",
      " PULocationID          | 189                 \n",
      " DOLocationID          | 165                 \n",
      " passenger_count       | 1                   \n",
      " trip_distance         | 4.12                \n",
      " fare_amount           | 14.5                \n",
      " extra                 | 0.5                 \n",
      " mta_tax               | 0.5                 \n",
      " tip_amount            | 0.0                 \n",
      " tolls_amount          | 0.0                 \n",
      " ehail_fee             | null                \n",
      " improvement_surcharge | 0.3                 \n",
      " total_amount          | 15.8                \n",
      " payment_type          | 2                   \n",
      " trip_type             | 1.0                 \n",
      "only showing top 1 row\n",
      "\n"
     ]
    }
   ],
   "source": [
    "sdf = spark.read.parquet(f'../data/raw/NYC_Taxi/green/')\n",
    "sdf = sdf.drop('congestion_surcharge')\n",
    "sdf.show(1, vertical=True, truncate=100)"
   ],
   "metadata": {
    "collapsed": false,
    "pycharm": {
     "name": "#%%\n"
    }
   }
  },
  {
   "cell_type": "code",
   "execution_count": 11,
   "outputs": [
    {
     "name": "stderr",
     "output_type": "stream",
     "text": [
      "                                                                                \r"
     ]
    },
    {
     "data": {
      "text/plain": "+-------+------------------+------------------+-----------------+----------+------------------+------------------+-----------------+------------------+----------------+-------------------+--------------------+------------------+------------------+---------------------+-----------------+--------------------+-----------+\n|summary|          VendorID|   passenger_count|    trip_distance|RatecodeID|store_and_fwd_flag|      PULocationID|     DOLocationID|      payment_type|     fare_amount|              extra|             mta_tax|        tip_amount|      tolls_amount|improvement_surcharge|     total_amount|congestion_surcharge|airport_fee|\n+-------+------------------+------------------+-----------------+----------+------------------+------------------+-----------------+------------------+----------------+-------------------+--------------------+------------------+------------------+---------------------+-----------------+--------------------+-----------+\n|  count|            260258|            260258|           260258|    260258|            260258|            260258|           260258|            260258|          260258|             260258|              260258|            260258|            260258|               260258|           260258|                   0|          0|\n|   mean| 1.516402953991808|1.7160433108684459|16.35740826410718|       3.0|              null|159.14338079905323|32.17893782323694|1.3418223455186775|  66.93041762405|0.20424079182964597|1.248760845007646...|10.010662419599011| 13.03131634762424|  0.29833549785224484|90.47944981519663|                null|       null|\n| stddev|0.4998471499671104|1.3158939889983203|6.310732487315374|       0.0|              null|  67.1703569690323|78.45447295807202|0.5799481447520934|667.921861863024| 0.9707604969239015|0.007900803001161303| 8.903531999999853|10.583100708610878|  0.03144866145888842|668.4696733384926|                null|       null|\n|    min|                 1|                 0|              0.0|         3|                 N|                 1|                1|                 1|           -44.0|               -1.0|                 0.0|             -6.09|            -17.12|                 -0.3|            -45.3|                null|       null|\n|    max|                 3|                 9|            258.8|         3|                 Y|               265|              265|                 4|       325478.79|             406.26|                 0.5|             238.0|             946.0|                  0.6|        325496.03|                null|       null|\n+-------+------------------+------------------+-----------------+----------+------------------+------------------+-----------------+------------------+----------------+-------------------+--------------------+------------------+------------------+---------------------+-----------------+--------------------+-----------+",
      "text/html": "<table border='1'>\n<tr><th>summary</th><th>VendorID</th><th>passenger_count</th><th>trip_distance</th><th>RatecodeID</th><th>store_and_fwd_flag</th><th>PULocationID</th><th>DOLocationID</th><th>payment_type</th><th>fare_amount</th><th>extra</th><th>mta_tax</th><th>tip_amount</th><th>tolls_amount</th><th>improvement_surcharge</th><th>total_amount</th><th>congestion_surcharge</th><th>airport_fee</th></tr>\n<tr><td>count</td><td>260258</td><td>260258</td><td>260258</td><td>260258</td><td>260258</td><td>260258</td><td>260258</td><td>260258</td><td>260258</td><td>260258</td><td>260258</td><td>260258</td><td>260258</td><td>260258</td><td>260258</td><td>0</td><td>0</td></tr>\n<tr><td>mean</td><td>1.516402953991808</td><td>1.7160433108684459</td><td>16.35740826410718</td><td>3.0</td><td>null</td><td>159.14338079905323</td><td>32.17893782323694</td><td>1.3418223455186775</td><td>66.93041762405</td><td>0.20424079182964597</td><td>1.248760845007646...</td><td>10.010662419599011</td><td>13.03131634762424</td><td>0.29833549785224484</td><td>90.47944981519663</td><td>null</td><td>null</td></tr>\n<tr><td>stddev</td><td>0.4998471499671104</td><td>1.3158939889983203</td><td>6.310732487315374</td><td>0.0</td><td>null</td><td>67.1703569690323</td><td>78.45447295807202</td><td>0.5799481447520934</td><td>667.921861863024</td><td>0.9707604969239015</td><td>0.007900803001161303</td><td>8.903531999999853</td><td>10.583100708610878</td><td>0.03144866145888842</td><td>668.4696733384926</td><td>null</td><td>null</td></tr>\n<tr><td>min</td><td>1</td><td>0</td><td>0.0</td><td>3</td><td>N</td><td>1</td><td>1</td><td>1</td><td>-44.0</td><td>-1.0</td><td>0.0</td><td>-6.09</td><td>-17.12</td><td>-0.3</td><td>-45.3</td><td>null</td><td>null</td></tr>\n<tr><td>max</td><td>3</td><td>9</td><td>258.8</td><td>3</td><td>Y</td><td>265</td><td>265</td><td>4</td><td>325478.79</td><td>406.26</td><td>0.5</td><td>238.0</td><td>946.0</td><td>0.6</td><td>325496.03</td><td>null</td><td>null</td></tr>\n</table>\n"
     },
     "execution_count": 11,
     "metadata": {},
     "output_type": "execute_result"
    }
   ],
   "source": [
    "# try to play with Ratecode - to see whether could do topic of predicting cancelled trips\n",
    "sdf_yellow.filter((col('RatecodeID') == 3)).describe()"
   ],
   "metadata": {
    "collapsed": false,
    "pycharm": {
     "name": "#%%\n"
    }
   }
  },
  {
   "cell_type": "code",
   "execution_count": 12,
   "outputs": [
    {
     "name": "stderr",
     "output_type": "stream",
     "text": [
      "                                                                                \r"
     ]
    },
    {
     "data": {
      "text/plain": "260258"
     },
     "execution_count": 12,
     "metadata": {},
     "output_type": "execute_result"
    }
   ],
   "source": [
    "# get counts of number of ratecode = 3 (cancelled trips?)\n",
    "sdf_yellow.filter((col('RatecodeID') == 3)).count()"
   ],
   "metadata": {
    "collapsed": false,
    "pycharm": {
     "name": "#%%\n"
    }
   }
  },
  {
   "cell_type": "code",
   "execution_count": 8,
   "outputs": [
    {
     "name": "stderr",
     "output_type": "stream",
     "text": [
      "                                                                                \r"
     ]
    },
    {
     "data": {
      "text/plain": "55664"
     },
     "execution_count": 8,
     "metadata": {},
     "output_type": "execute_result"
    }
   ],
   "source": [
    "# trying to see how many invalid inputted rows in terms of negative total amount there\n",
    "# was - could also point to cancelled trips\n",
    "sdf_yellow.filter((col('total_amount') <0)).count()"
   ],
   "metadata": {
    "collapsed": false,
    "pycharm": {
     "name": "#%%\n"
    }
   }
  },
  {
   "cell_type": "code",
   "execution_count": 28,
   "outputs": [],
   "source": [],
   "metadata": {
    "collapsed": false,
    "pycharm": {
     "name": "#%%\n"
    }
   }
  }
 ],
 "metadata": {
  "kernelspec": {
   "display_name": "Python 3",
   "language": "python",
   "name": "python3"
  },
  "language_info": {
   "codemirror_mode": {
    "name": "ipython",
    "version": 2
   },
   "file_extension": ".py",
   "mimetype": "text/x-python",
   "name": "python",
   "nbconvert_exporter": "python",
   "pygments_lexer": "ipython2",
   "version": "2.7.6"
  }
 },
 "nbformat": 4,
 "nbformat_minor": 0
}