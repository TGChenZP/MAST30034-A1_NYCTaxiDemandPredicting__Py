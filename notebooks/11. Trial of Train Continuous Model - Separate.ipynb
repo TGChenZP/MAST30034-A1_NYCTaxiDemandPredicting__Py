{
 "cells": [
  {
   "cell_type": "markdown",
   "source": [
    "# 11. Trial of Training Continuous Model (One model for each DOLocation)\n",
    "\n",
    "- Trains a selection of predictive models with default hyperparameter values to gauge the time required to train-score one model, and also get a preview of the R^2 scores. However this time try train-scoring one model for each DOLocation and make final score = weighted sum of each DOLocation's model's score\n",
    "- notebook follows Initialise, Train, Predict, Get Accuracy Score steps"
   ],
   "metadata": {
    "collapsed": false,
    "pycharm": {
     "name": "#%% md\n"
    }
   }
  },
  {
   "cell_type": "markdown",
   "source": [
    "## Create Function for special evaluation"
   ],
   "metadata": {
    "collapsed": false,
    "pycharm": {
     "name": "#%% md\n"
    }
   }
  },
  {
   "cell_type": "code",
   "execution_count": 1,
   "metadata": {
    "collapsed": true,
    "pycharm": {
     "name": "#%%\n"
    }
   },
   "outputs": [],
   "source": [
    "import numpy as np\n",
    "import pandas as pd"
   ]
  },
  {
   "cell_type": "markdown",
   "source": [
    "# Import Data"
   ],
   "metadata": {
    "collapsed": false,
    "pycharm": {
     "name": "#%% md\n"
    }
   }
  },
  {
   "cell_type": "code",
   "source": [
    "Train_data_X = pd.read_csv('../data/curated/ModelBuilding/Continuous/XTrain_16-1_16-5.csv')\n",
    "Train_data_y = pd.read_csv('../data/curated/ModelBuilding/Continuous/yTrain_16-1_16-5.csv')\n",
    "XTrain = Train_data_X.drop(['datetime'], axis=1)\n",
    "yTrain = Train_data_y['count']"
   ],
   "metadata": {
    "collapsed": false,
    "pycharm": {
     "name": "#%%\n"
    }
   },
   "execution_count": 2,
   "outputs": []
  },
  {
   "cell_type": "code",
   "execution_count": 3,
   "outputs": [],
   "source": [
    "Val_data_X = pd.read_csv('../data/curated/ModelBuilding/Continuous/XVal_16-5_16-6.csv')\n",
    "Val_data_y = pd.read_csv('../data/curated/ModelBuilding/Continuous/yVal_16-5_16-6.csv')\n",
    "XVal = Val_data_X.drop(['datetime'], axis=1)\n",
    "yVal = Val_data_y['count']"
   ],
   "metadata": {
    "collapsed": false,
    "pycharm": {
     "name": "#%%\n"
    }
   }
  },
  {
   "cell_type": "code",
   "execution_count": 4,
   "outputs": [],
   "source": [
    "Test_data_X = pd.read_csv('../data/curated/ModelBuilding/Continuous/XTest_16-6_16-6.csv')\n",
    "Test_data_y = pd.read_csv('../data/curated/ModelBuilding/Continuous/yTest_16-6_16-6.csv')\n",
    "XTest = Test_data_X.drop(['datetime'], axis=1)\n",
    "yTest = Test_data_y['count']"
   ],
   "metadata": {
    "collapsed": false,
    "pycharm": {
     "name": "#%%\n"
    }
   }
  },
  {
   "cell_type": "markdown",
   "source": [
    "# Models\n",
    "## RFRegressor"
   ],
   "metadata": {
    "collapsed": false,
    "pycharm": {
     "name": "#%% md\n"
    }
   }
  },
  {
   "cell_type": "code",
   "execution_count": 5,
   "outputs": [],
   "source": [
    "from sklearn.ensemble import RandomForestRegressor"
   ],
   "metadata": {
    "collapsed": false,
    "pycharm": {
     "name": "#%%\n"
    }
   }
  },
  {
   "cell_type": "code",
   "execution_count": 6,
   "outputs": [
    {
     "name": "stdout",
     "output_type": "stream",
     "text": [
      "1\n",
      "2\n",
      "2 train_score nan 1\n",
      "3\n"
     ]
    },
    {
     "name": "stderr",
     "output_type": "stream",
     "text": [
      "/Applications/anaconda3/lib/python3.9/site-packages/sklearn/metrics/_regression.py:796: UndefinedMetricWarning: R^2 score is not well-defined with less than two samples.\n",
      "  warnings.warn(msg, UndefinedMetricWarning)\n",
      "/Applications/anaconda3/lib/python3.9/site-packages/sklearn/metrics/_regression.py:796: UndefinedMetricWarning: R^2 score is not well-defined with less than two samples.\n",
      "  warnings.warn(msg, UndefinedMetricWarning)\n"
     ]
    },
    {
     "name": "stdout",
     "output_type": "stream",
     "text": [
      "3 train_score nan 1\n",
      "4\n",
      "6\n",
      "6 val_score nan 1\n",
      "7\n"
     ]
    },
    {
     "name": "stderr",
     "output_type": "stream",
     "text": [
      "/Applications/anaconda3/lib/python3.9/site-packages/sklearn/metrics/_regression.py:796: UndefinedMetricWarning: R^2 score is not well-defined with less than two samples.\n",
      "  warnings.warn(msg, UndefinedMetricWarning)\n"
     ]
    },
    {
     "name": "stdout",
     "output_type": "stream",
     "text": [
      "8\n",
      "8 val_score nan 1\n",
      "9\n"
     ]
    },
    {
     "name": "stderr",
     "output_type": "stream",
     "text": [
      "/Applications/anaconda3/lib/python3.9/site-packages/sklearn/metrics/_regression.py:796: UndefinedMetricWarning: R^2 score is not well-defined with less than two samples.\n",
      "  warnings.warn(msg, UndefinedMetricWarning)\n"
     ]
    },
    {
     "name": "stdout",
     "output_type": "stream",
     "text": [
      "10\n",
      "12\n",
      "13\n",
      "14\n",
      "15\n",
      "16\n",
      "17\n",
      "18\n",
      "19\n",
      "20\n",
      "21\n",
      "22\n",
      "22 val_score nan 1\n",
      "24\n"
     ]
    },
    {
     "name": "stderr",
     "output_type": "stream",
     "text": [
      "/Applications/anaconda3/lib/python3.9/site-packages/sklearn/metrics/_regression.py:796: UndefinedMetricWarning: R^2 score is not well-defined with less than two samples.\n",
      "  warnings.warn(msg, UndefinedMetricWarning)\n"
     ]
    },
    {
     "name": "stdout",
     "output_type": "stream",
     "text": [
      "25\n",
      "26\n",
      "28\n",
      "29\n",
      "31\n",
      "31 train_score nan 1\n",
      "33\n"
     ]
    },
    {
     "name": "stderr",
     "output_type": "stream",
     "text": [
      "/Applications/anaconda3/lib/python3.9/site-packages/sklearn/metrics/_regression.py:796: UndefinedMetricWarning: R^2 score is not well-defined with less than two samples.\n",
      "  warnings.warn(msg, UndefinedMetricWarning)\n"
     ]
    },
    {
     "name": "stdout",
     "output_type": "stream",
     "text": [
      "34\n",
      "35\n",
      "36\n",
      "37\n",
      "38\n"
     ]
    },
    {
     "name": "stderr",
     "output_type": "stream",
     "text": [
      "/Applications/anaconda3/lib/python3.9/site-packages/sklearn/metrics/_regression.py:796: UndefinedMetricWarning: R^2 score is not well-defined with less than two samples.\n",
      "  warnings.warn(msg, UndefinedMetricWarning)\n"
     ]
    },
    {
     "name": "stdout",
     "output_type": "stream",
     "text": [
      "38 test_score nan 1\n",
      "39\n",
      "40\n",
      "41\n",
      "42\n",
      "43\n",
      "45\n",
      "47\n",
      "47 val_score nan 1\n",
      "47 test_score nan 1\n",
      "48\n"
     ]
    },
    {
     "name": "stderr",
     "output_type": "stream",
     "text": [
      "/Applications/anaconda3/lib/python3.9/site-packages/sklearn/metrics/_regression.py:796: UndefinedMetricWarning: R^2 score is not well-defined with less than two samples.\n",
      "  warnings.warn(msg, UndefinedMetricWarning)\n",
      "/Applications/anaconda3/lib/python3.9/site-packages/sklearn/metrics/_regression.py:796: UndefinedMetricWarning: R^2 score is not well-defined with less than two samples.\n",
      "  warnings.warn(msg, UndefinedMetricWarning)\n"
     ]
    },
    {
     "name": "stdout",
     "output_type": "stream",
     "text": [
      "49\n",
      "50\n",
      "51\n",
      "51 train_score nan 1\n",
      "52\n"
     ]
    },
    {
     "name": "stderr",
     "output_type": "stream",
     "text": [
      "/Applications/anaconda3/lib/python3.9/site-packages/sklearn/metrics/_regression.py:796: UndefinedMetricWarning: R^2 score is not well-defined with less than two samples.\n",
      "  warnings.warn(msg, UndefinedMetricWarning)\n"
     ]
    },
    {
     "name": "stdout",
     "output_type": "stream",
     "text": [
      "53\n",
      "54\n",
      "55\n",
      "56\n",
      "57\n",
      "60\n"
     ]
    },
    {
     "name": "stderr",
     "output_type": "stream",
     "text": [
      "/Applications/anaconda3/lib/python3.9/site-packages/sklearn/metrics/_regression.py:796: UndefinedMetricWarning: R^2 score is not well-defined with less than two samples.\n",
      "  warnings.warn(msg, UndefinedMetricWarning)\n"
     ]
    },
    {
     "name": "stdout",
     "output_type": "stream",
     "text": [
      "60 train_score nan 1\n",
      "61\n",
      "62\n",
      "63\n",
      "64\n",
      "65\n",
      "66\n",
      "67\n",
      "68\n",
      "69\n",
      "70\n",
      "71\n",
      "72\n",
      "73\n",
      "74\n",
      "75\n",
      "76\n",
      "77\n",
      "77 val_score nan 1\n",
      "77 test_score nan 1\n",
      "78\n"
     ]
    },
    {
     "name": "stderr",
     "output_type": "stream",
     "text": [
      "/Applications/anaconda3/lib/python3.9/site-packages/sklearn/metrics/_regression.py:796: UndefinedMetricWarning: R^2 score is not well-defined with less than two samples.\n",
      "  warnings.warn(msg, UndefinedMetricWarning)\n",
      "/Applications/anaconda3/lib/python3.9/site-packages/sklearn/metrics/_regression.py:796: UndefinedMetricWarning: R^2 score is not well-defined with less than two samples.\n",
      "  warnings.warn(msg, UndefinedMetricWarning)\n",
      "/Applications/anaconda3/lib/python3.9/site-packages/sklearn/metrics/_regression.py:796: UndefinedMetricWarning: R^2 score is not well-defined with less than two samples.\n",
      "  warnings.warn(msg, UndefinedMetricWarning)\n"
     ]
    },
    {
     "name": "stdout",
     "output_type": "stream",
     "text": [
      "78 test_score nan 1\n",
      "79\n",
      "80\n",
      "82\n",
      "83\n",
      "85\n",
      "85 test_score nan 1\n",
      "86\n",
      "86 val_score nan 1\n",
      "87\n"
     ]
    },
    {
     "name": "stderr",
     "output_type": "stream",
     "text": [
      "/Applications/anaconda3/lib/python3.9/site-packages/sklearn/metrics/_regression.py:796: UndefinedMetricWarning: R^2 score is not well-defined with less than two samples.\n",
      "  warnings.warn(msg, UndefinedMetricWarning)\n",
      "/Applications/anaconda3/lib/python3.9/site-packages/sklearn/metrics/_regression.py:796: UndefinedMetricWarning: R^2 score is not well-defined with less than two samples.\n",
      "  warnings.warn(msg, UndefinedMetricWarning)\n"
     ]
    },
    {
     "name": "stdout",
     "output_type": "stream",
     "text": [
      "88\n",
      "89\n",
      "90\n",
      "91\n",
      "92\n",
      "93\n",
      "94\n",
      "95\n",
      "97\n",
      "98\n",
      "100\n",
      "101\n",
      "101 val_score nan 1\n",
      "101 test_score nan 1\n",
      "102\n"
     ]
    },
    {
     "name": "stderr",
     "output_type": "stream",
     "text": [
      "/Applications/anaconda3/lib/python3.9/site-packages/sklearn/metrics/_regression.py:796: UndefinedMetricWarning: R^2 score is not well-defined with less than two samples.\n",
      "  warnings.warn(msg, UndefinedMetricWarning)\n",
      "/Applications/anaconda3/lib/python3.9/site-packages/sklearn/metrics/_regression.py:796: UndefinedMetricWarning: R^2 score is not well-defined with less than two samples.\n",
      "  warnings.warn(msg, UndefinedMetricWarning)\n"
     ]
    },
    {
     "name": "stdout",
     "output_type": "stream",
     "text": [
      "106\n",
      "107\n",
      "108\n",
      "112\n",
      "113\n",
      "114\n",
      "115\n",
      "116\n",
      "117\n",
      "119\n",
      "120\n",
      "120 test_score nan 1\n",
      "121\n"
     ]
    },
    {
     "name": "stderr",
     "output_type": "stream",
     "text": [
      "/Applications/anaconda3/lib/python3.9/site-packages/sklearn/metrics/_regression.py:796: UndefinedMetricWarning: R^2 score is not well-defined with less than two samples.\n",
      "  warnings.warn(msg, UndefinedMetricWarning)\n"
     ]
    },
    {
     "name": "stdout",
     "output_type": "stream",
     "text": [
      "122\n",
      "122 val_score nan 1\n",
      "122 test_score nan 1\n",
      "123\n"
     ]
    },
    {
     "name": "stderr",
     "output_type": "stream",
     "text": [
      "/Applications/anaconda3/lib/python3.9/site-packages/sklearn/metrics/_regression.py:796: UndefinedMetricWarning: R^2 score is not well-defined with less than two samples.\n",
      "  warnings.warn(msg, UndefinedMetricWarning)\n",
      "/Applications/anaconda3/lib/python3.9/site-packages/sklearn/metrics/_regression.py:796: UndefinedMetricWarning: R^2 score is not well-defined with less than two samples.\n",
      "  warnings.warn(msg, UndefinedMetricWarning)\n"
     ]
    },
    {
     "name": "stdout",
     "output_type": "stream",
     "text": [
      "124\n",
      "125\n",
      "126\n",
      "127\n",
      "128\n",
      "128 train_score nan 1\n",
      "129\n"
     ]
    },
    {
     "name": "stderr",
     "output_type": "stream",
     "text": [
      "/Applications/anaconda3/lib/python3.9/site-packages/sklearn/metrics/_regression.py:796: UndefinedMetricWarning: R^2 score is not well-defined with less than two samples.\n",
      "  warnings.warn(msg, UndefinedMetricWarning)\n"
     ]
    },
    {
     "name": "stdout",
     "output_type": "stream",
     "text": [
      "130\n",
      "131\n",
      "132\n",
      "133\n",
      "134\n",
      "135\n",
      "136\n",
      "136 val_score nan 1\n",
      "137\n"
     ]
    },
    {
     "name": "stderr",
     "output_type": "stream",
     "text": [
      "/Applications/anaconda3/lib/python3.9/site-packages/sklearn/metrics/_regression.py:796: UndefinedMetricWarning: R^2 score is not well-defined with less than two samples.\n",
      "  warnings.warn(msg, UndefinedMetricWarning)\n"
     ]
    },
    {
     "name": "stdout",
     "output_type": "stream",
     "text": [
      "138\n",
      "139\n",
      "140\n",
      "141\n",
      "142\n",
      "143\n",
      "144\n",
      "145\n",
      "146\n",
      "147\n",
      "148\n",
      "149\n",
      "150\n",
      "151\n",
      "152\n",
      "153\n",
      "153 train_score nan 1\n",
      "155\n"
     ]
    },
    {
     "name": "stderr",
     "output_type": "stream",
     "text": [
      "/Applications/anaconda3/lib/python3.9/site-packages/sklearn/metrics/_regression.py:796: UndefinedMetricWarning: R^2 score is not well-defined with less than two samples.\n",
      "  warnings.warn(msg, UndefinedMetricWarning)\n"
     ]
    },
    {
     "name": "stdout",
     "output_type": "stream",
     "text": [
      "157\n",
      "158\n",
      "159\n",
      "160\n",
      "161\n",
      "162\n",
      "163\n",
      "164\n",
      "165\n",
      "166\n",
      "167\n",
      "168\n",
      "169\n",
      "170\n",
      "171\n",
      "173\n",
      "174\n",
      "175\n",
      "177\n",
      "178\n",
      "179\n",
      "180\n",
      "181\n",
      "182\n",
      "185\n"
     ]
    },
    {
     "name": "stderr",
     "output_type": "stream",
     "text": [
      "/Applications/anaconda3/lib/python3.9/site-packages/sklearn/metrics/_regression.py:796: UndefinedMetricWarning: R^2 score is not well-defined with less than two samples.\n",
      "  warnings.warn(msg, UndefinedMetricWarning)\n"
     ]
    },
    {
     "name": "stdout",
     "output_type": "stream",
     "text": [
      "185 test_score nan 1\n",
      "186\n",
      "188\n",
      "189\n",
      "190\n",
      "191\n",
      "192\n",
      "193\n",
      "194\n",
      "195\n",
      "196\n",
      "197\n",
      "198\n",
      "199\n"
     ]
    },
    {
     "name": "stderr",
     "output_type": "stream",
     "text": [
      "/Applications/anaconda3/lib/python3.9/site-packages/sklearn/metrics/_regression.py:796: UndefinedMetricWarning: R^2 score is not well-defined with less than two samples.\n",
      "  warnings.warn(msg, UndefinedMetricWarning)\n"
     ]
    },
    {
     "name": "stdout",
     "output_type": "stream",
     "text": [
      "199 train_score nan 1\n",
      "200\n",
      "201\n",
      "202\n",
      "203\n",
      "205\n",
      "206\n",
      "207\n",
      "208\n",
      "208 test_score nan 1\n",
      "209\n"
     ]
    },
    {
     "name": "stderr",
     "output_type": "stream",
     "text": [
      "/Applications/anaconda3/lib/python3.9/site-packages/sklearn/metrics/_regression.py:796: UndefinedMetricWarning: R^2 score is not well-defined with less than two samples.\n",
      "  warnings.warn(msg, UndefinedMetricWarning)\n"
     ]
    },
    {
     "name": "stdout",
     "output_type": "stream",
     "text": [
      "210\n",
      "211\n",
      "212\n",
      "213\n",
      "215\n",
      "216\n",
      "217\n",
      "218\n",
      "219\n",
      "220\n",
      "221\n",
      "223\n",
      "224\n",
      "225\n",
      "226\n",
      "227\n",
      "228\n",
      "229\n",
      "230\n",
      "231\n",
      "232\n",
      "233\n",
      "234\n",
      "235\n",
      "236\n",
      "237\n",
      "238\n",
      "239\n",
      "241\n",
      "242\n",
      "242 val_score nan 1\n",
      "243\n"
     ]
    },
    {
     "name": "stderr",
     "output_type": "stream",
     "text": [
      "/Applications/anaconda3/lib/python3.9/site-packages/sklearn/metrics/_regression.py:796: UndefinedMetricWarning: R^2 score is not well-defined with less than two samples.\n",
      "  warnings.warn(msg, UndefinedMetricWarning)\n"
     ]
    },
    {
     "name": "stdout",
     "output_type": "stream",
     "text": [
      "244\n",
      "245\n",
      "246\n",
      "247\n",
      "248\n",
      "249\n",
      "250\n",
      "252\n",
      "254\n"
     ]
    },
    {
     "name": "stderr",
     "output_type": "stream",
     "text": [
      "/Applications/anaconda3/lib/python3.9/site-packages/sklearn/metrics/_regression.py:796: UndefinedMetricWarning: R^2 score is not well-defined with less than two samples.\n",
      "  warnings.warn(msg, UndefinedMetricWarning)\n"
     ]
    },
    {
     "name": "stdout",
     "output_type": "stream",
     "text": [
      "254 train_score nan 1\n",
      "255\n",
      "256\n",
      "257\n",
      "258\n",
      "259\n"
     ]
    },
    {
     "name": "stderr",
     "output_type": "stream",
     "text": [
      "/Applications/anaconda3/lib/python3.9/site-packages/sklearn/metrics/_regression.py:796: UndefinedMetricWarning: R^2 score is not well-defined with less than two samples.\n",
      "  warnings.warn(msg, UndefinedMetricWarning)\n"
     ]
    },
    {
     "name": "stdout",
     "output_type": "stream",
     "text": [
      "259 test_score nan 1\n",
      "260\n",
      "261\n",
      "262\n",
      "263\n"
     ]
    }
   ],
   "source": [
    "# store sum of count*score (for divide by total later to form weighted R^2)\n",
    "train_correct = 0\n",
    "val_correct = 0\n",
    "test_correct = 0\n",
    "\n",
    "\n",
    "for i in set(XTrain['DOLocationID']):\n",
    "    print(i)\n",
    "\n",
    "    # first subset the data to only contain rows for\n",
    "    # which DOLocation = the location it has iterated to\n",
    "    XTrain_subset = XTrain[XTrain['DOLocationID']==i]\n",
    "    yTrain_subset = yTrain[XTrain['DOLocationID']==i]\n",
    "\n",
    "    yTrain_subset_full = Train_data_y[XTrain['DOLocationID']==i]\n",
    "\n",
    "    XVal_subset = XVal[XVal['DOLocationID']==i]\n",
    "    yVal_subset = Val_data_y[XVal['DOLocationID']==i]\n",
    "\n",
    "    XTest_subset = XTest[XTest['DOLocationID']==i]\n",
    "    yTest_subset = Test_data_y[XTest['DOLocationID']==i]\n",
    "\n",
    "    # Train model and add the correctly predicted counts onto the total\n",
    "    RF = RandomForestRegressor(n_estimators = 100, max_depth=16)\n",
    "    RF.fit(XTrain_subset, yTrain_subset)\n",
    "    train_pred_RF = RF.predict(XTrain_subset)\n",
    "    train_score = RF.score(XTrain_subset, yTrain_subset)\n",
    "    if not np.isnan(train_score):\n",
    "        train_correct += len(XTrain_subset) * train_score\n",
    "    else:\n",
    "        print(i, 'train_score', train_score, len(XTrain_subset))\n",
    "\n",
    "    # only run scoring if there are samples there to score\n",
    "    if len(XVal_subset) > 0:\n",
    "        val_pred_RF = RF.predict(XVal_subset)\n",
    "        val_score = RF.score(XVal_subset, yVal_subset)\n",
    "        if not np.isnan(val_score):\n",
    "            val_correct += len(XVal_subset) * val_score\n",
    "        else:\n",
    "            print(i, 'val_score', val_score, len(XVal_subset))\n",
    "\n",
    "    if len(XTest_subset) > 0:\n",
    "        test_pred_RF = RF.predict(XTest_subset)\n",
    "        test_score = RF.score(XTest_subset, yTest_subset)\n",
    "        if not np.isnan(test_score):\n",
    "            test_correct += len(XTest_subset) * test_score\n",
    "        else:\n",
    "            print(i, 'test_score', test_score, len(XTest_subset))"
   ],
   "metadata": {
    "collapsed": false,
    "pycharm": {
     "name": "#%%\n"
    }
   }
  },
  {
   "cell_type": "code",
   "execution_count": 7,
   "outputs": [
    {
     "name": "stdout",
     "output_type": "stream",
     "text": [
      "0.5326434385591324\n",
      "0.4275387352978639\n",
      "0.41432238483513295\n"
     ]
    }
   ],
   "source": [
    "# Get r2 score\n",
    "print(train_correct/(len(XTrain)))\n",
    "print(val_correct/(len(XVal)))\n",
    "print(test_correct/(len(XTest)))"
   ],
   "metadata": {
    "collapsed": false,
    "pycharm": {
     "name": "#%%\n"
    }
   }
  },
  {
   "cell_type": "markdown",
   "source": [
    "## NN"
   ],
   "metadata": {
    "collapsed": false,
    "pycharm": {
     "name": "#%% md\n"
    }
   }
  },
  {
   "cell_type": "code",
   "execution_count": 7,
   "outputs": [],
   "source": [
    "import keras"
   ],
   "metadata": {
    "collapsed": false,
    "pycharm": {
     "name": "#%%\n"
    }
   }
  },
  {
   "cell_type": "code",
   "execution_count": 57,
   "outputs": [],
   "source": [
    "out = pd.DataFrame()"
   ],
   "metadata": {
    "collapsed": false,
    "pycharm": {
     "name": "#%%\n"
    }
   }
  },
  {
   "cell_type": "code",
   "execution_count": null,
   "outputs": [],
   "source": [
    "for j in range(1, 264):\n",
    "    print(j)\n",
    "\n",
    "    # Create the model: one hidden layer 80 neuron\n",
    "    inputs = keras.Input(shape=(None, 225))\n",
    "    full = keras.layers.Dense(80)(inputs)\n",
    "    output = keras.layers.Dense(1)(full)\n",
    "    full_model = keras.Model(inputs, output)\n",
    "\n",
    "    full_model.compile(optimizer='sgd', loss='mse')\n",
    "\n",
    "    # Prepare data\n",
    "    XTrain_subset = XTrain[XTrain['DOLocationID']==j]\n",
    "    yTrain_subset = yTrain[XTrain['DOLocationID']==j]\n",
    "    XTrain_subset = XTrain_subset.drop('DOLocationID', axis=1)\n",
    "\n",
    "    XVal_subset = XVal[XVal['DOLocationID']==j]\n",
    "    yVal_subset = yVal[XVal['DOLocationID']==j]\n",
    "    XVal_subset = XVal_subset.drop('DOLocationID', axis=1)\n",
    "\n",
    "    XTest_subset = XTest[XTest['DOLocationID']==j]\n",
    "    yTest_subset = yTest[XTest['DOLocationID']==j]\n",
    "    XTest_subset = XTest_subset.drop('DOLocationID', axis=1)\n",
    "\n",
    "    # Don't train a network at all if there is too few data points\n",
    "    if len(XTrain_subset) >= 100:\n",
    "        # fit\n",
    "        full_model.fit(XTrain_subset, yTrain_subset, batch_size=len(XTrain_subset), epochs=30)\n",
    "\n",
    "        # get MSE (manually) for train, val, test\n",
    "        y_pred_train = full_model.predict(XTrain_subset)\n",
    "        temp_train = pd.DataFrame({'pred': [float(i) for i in y_pred_train], 'obs': yTrain_subset})\n",
    "        train_mean = temp_train['obs'].mean()\n",
    "        temp_train['TS'] = (temp_train['obs'] - train_mean)**2\n",
    "        temp_train['ES'] = (temp_train['pred'] - temp_train['obs'])**2\n",
    "\n",
    "        TSS_train = sum(temp_train.TS)\n",
    "        ESS_train = sum(temp_train.ES)\n",
    "\n",
    "        y_pred_val = full_model.predict(XVal_subset)\n",
    "        temp_val = pd.DataFrame({'pred': [float(i) for i in y_pred_val], 'obs': yVal_subset})\n",
    "        val_mean = temp_val['obs'].mean()\n",
    "        temp_val['TS'] = (temp_val['obs'] - val_mean)**2\n",
    "        temp_val['ES'] = (temp_val['pred'] - temp_val['obs'])**2\n",
    "\n",
    "        TSS_val = sum(temp_val.TS)\n",
    "        ESS_val = sum(temp_val.ES)\n",
    "\n",
    "        y_pred_test = full_model.predict(XTest_subset)\n",
    "        temp_test = pd.DataFrame({'pred': [float(i) for i in y_pred_test], 'obs': yTest_subset})\n",
    "        test_mean = temp_test['obs'].mean()\n",
    "        temp_test['TS'] = (temp_test['obs'] - test_mean)**2\n",
    "        temp_test['ES'] = (temp_test['pred'] - temp_test['obs'])**2\n",
    "\n",
    "        TSS_test = sum(temp_test.TS)\n",
    "        ESS_test = sum(temp_test.ES)\n",
    "\n",
    "        # Avoid error of TSS = 0\n",
    "        if TSS_train != 0:\n",
    "            train_r2 = val_r2 = 1-(ESS_train/TSS_train)\n",
    "        else:\n",
    "            train_r2 = 0\n",
    "\n",
    "        if TSS_val != 0:\n",
    "            val_r2 = 1-(ESS_val/TSS_val)\n",
    "        else:\n",
    "            val_r2 = 0\n",
    "\n",
    "        if TSS_test != 0:\n",
    "            test_r2 = 1-(ESS_test/TSS_test)\n",
    "        else:\n",
    "            test_r2 = 0\n",
    "\n",
    "        # only record the values if Train's r^2 is true, otherwise fit is worse than null - might as well not have it\n",
    "        if train_r2 >= 0:\n",
    "\n",
    "            tmp = pd.DataFrame({'id':j, 'Train_count': [len(XTrain_subset)], 'Val_count': [len(XVal_subset)], 'Test_count': [len(XTest_subset)], 'Train_r2':[train_r2], 'Val_r2':[val_r2], 'Test_r2': [test_r2]})\n",
    "\n",
    "    # else record 0 on the output dataframe\n",
    "        else:\n",
    "            tmp = pd.DataFrame({'id': j, 'Train_count': [0], 'Val_count': [0], 'Test_count': [0], 'Train_r2':[0], 'Val_r2':[0], 'Test_r2': [0]})\n",
    "    else:\n",
    "        tmp = pd.DataFrame({'id': j, 'Train_count': [0], 'Val_count': [0], 'Test_count': [0], 'Train_r2':[0], 'Val_r2':[0], 'Test_r2': [0]})\n",
    "\n",
    "    out = out.append(tmp)\n"
   ],
   "metadata": {
    "collapsed": false,
    "pycharm": {
     "name": "#%%\n"
    }
   }
  },
  {
   "cell_type": "code",
   "execution_count": 59,
   "outputs": [
    {
     "data": {
      "text/plain": "     id  Train_count  Val_count  Test_count  Train_r2    Val_r2   Test_r2\n0     1         2275        614         551  0.121910  0.186359  0.071545\n0     2            0          0           0  0.000000  0.000000  0.000000\n0     3            0          0           0  0.000000  0.000000  0.000000\n0     4        11601       2239        1992  0.283263  0.338526  0.354221\n0     5            0          0           0  0.000000  0.000000  0.000000\n..  ...          ...        ...         ...       ...       ...       ...\n0   259            0          0           0  0.000000  0.000000  0.000000\n0   260         5949       1206        1094  0.233420  0.233981  0.245602\n0   261        11092       2297        2221  0.168583  0.162344  0.153267\n0   262        21786       4421        4125  0.366036  0.042224 -0.193039\n0   263            0          0           0  0.000000  0.000000  0.000000\n\n[263 rows x 7 columns]",
      "text/html": "<div>\n<style scoped>\n    .dataframe tbody tr th:only-of-type {\n        vertical-align: middle;\n    }\n\n    .dataframe tbody tr th {\n        vertical-align: top;\n    }\n\n    .dataframe thead th {\n        text-align: right;\n    }\n</style>\n<table border=\"1\" class=\"dataframe\">\n  <thead>\n    <tr style=\"text-align: right;\">\n      <th></th>\n      <th>id</th>\n      <th>Train_count</th>\n      <th>Val_count</th>\n      <th>Test_count</th>\n      <th>Train_r2</th>\n      <th>Val_r2</th>\n      <th>Test_r2</th>\n    </tr>\n  </thead>\n  <tbody>\n    <tr>\n      <th>0</th>\n      <td>1</td>\n      <td>2275</td>\n      <td>614</td>\n      <td>551</td>\n      <td>0.121910</td>\n      <td>0.186359</td>\n      <td>0.071545</td>\n    </tr>\n    <tr>\n      <th>0</th>\n      <td>2</td>\n      <td>0</td>\n      <td>0</td>\n      <td>0</td>\n      <td>0.000000</td>\n      <td>0.000000</td>\n      <td>0.000000</td>\n    </tr>\n    <tr>\n      <th>0</th>\n      <td>3</td>\n      <td>0</td>\n      <td>0</td>\n      <td>0</td>\n      <td>0.000000</td>\n      <td>0.000000</td>\n      <td>0.000000</td>\n    </tr>\n    <tr>\n      <th>0</th>\n      <td>4</td>\n      <td>11601</td>\n      <td>2239</td>\n      <td>1992</td>\n      <td>0.283263</td>\n      <td>0.338526</td>\n      <td>0.354221</td>\n    </tr>\n    <tr>\n      <th>0</th>\n      <td>5</td>\n      <td>0</td>\n      <td>0</td>\n      <td>0</td>\n      <td>0.000000</td>\n      <td>0.000000</td>\n      <td>0.000000</td>\n    </tr>\n    <tr>\n      <th>...</th>\n      <td>...</td>\n      <td>...</td>\n      <td>...</td>\n      <td>...</td>\n      <td>...</td>\n      <td>...</td>\n      <td>...</td>\n    </tr>\n    <tr>\n      <th>0</th>\n      <td>259</td>\n      <td>0</td>\n      <td>0</td>\n      <td>0</td>\n      <td>0.000000</td>\n      <td>0.000000</td>\n      <td>0.000000</td>\n    </tr>\n    <tr>\n      <th>0</th>\n      <td>260</td>\n      <td>5949</td>\n      <td>1206</td>\n      <td>1094</td>\n      <td>0.233420</td>\n      <td>0.233981</td>\n      <td>0.245602</td>\n    </tr>\n    <tr>\n      <th>0</th>\n      <td>261</td>\n      <td>11092</td>\n      <td>2297</td>\n      <td>2221</td>\n      <td>0.168583</td>\n      <td>0.162344</td>\n      <td>0.153267</td>\n    </tr>\n    <tr>\n      <th>0</th>\n      <td>262</td>\n      <td>21786</td>\n      <td>4421</td>\n      <td>4125</td>\n      <td>0.366036</td>\n      <td>0.042224</td>\n      <td>-0.193039</td>\n    </tr>\n    <tr>\n      <th>0</th>\n      <td>263</td>\n      <td>0</td>\n      <td>0</td>\n      <td>0</td>\n      <td>0.000000</td>\n      <td>0.000000</td>\n      <td>0.000000</td>\n    </tr>\n  </tbody>\n</table>\n<p>263 rows × 7 columns</p>\n</div>"
     },
     "execution_count": 59,
     "metadata": {},
     "output_type": "execute_result"
    }
   ],
   "source": [
    "out"
   ],
   "metadata": {
    "collapsed": false,
    "pycharm": {
     "name": "#%%\n"
    }
   }
  },
  {
   "cell_type": "code",
   "execution_count": 60,
   "outputs": [],
   "source": [
    "out = out.fillna(0)"
   ],
   "metadata": {
    "collapsed": false,
    "pycharm": {
     "name": "#%%\n"
    }
   }
  },
  {
   "cell_type": "code",
   "execution_count": 61,
   "outputs": [
    {
     "data": {
      "text/plain": "0.25950641297493"
     },
     "execution_count": 61,
     "metadata": {},
     "output_type": "execute_result"
    }
   ],
   "source": [
    "# get the weighted R^2 for Train, Val, Test\n",
    "sum(out.Train_count*out.Train_r2)/sum(out.Train_count)"
   ],
   "metadata": {
    "collapsed": false,
    "pycharm": {
     "name": "#%%\n"
    }
   }
  },
  {
   "cell_type": "code",
   "execution_count": 62,
   "outputs": [
    {
     "data": {
      "text/plain": "0.24178961844385613"
     },
     "execution_count": 62,
     "metadata": {},
     "output_type": "execute_result"
    }
   ],
   "source": [
    "sum(out.Val_count*out.Val_r2)/sum(out.Val_count)"
   ],
   "metadata": {
    "collapsed": false,
    "pycharm": {
     "name": "#%%\n"
    }
   }
  },
  {
   "cell_type": "code",
   "execution_count": 63,
   "outputs": [
    {
     "data": {
      "text/plain": "0.23580308033594072"
     },
     "execution_count": 63,
     "metadata": {},
     "output_type": "execute_result"
    }
   ],
   "source": [
    "sum(out.Test_count*out.Test_r2)/sum(out.Test_count)"
   ],
   "metadata": {
    "collapsed": false,
    "pycharm": {
     "name": "#%%\n"
    }
   }
  },
  {
   "cell_type": "code",
   "execution_count": 42,
   "outputs": [],
   "source": [
    "out.to_csv('../data/curated/tuning/NN_80_Separate.csv')"
   ],
   "metadata": {
    "collapsed": false,
    "pycharm": {
     "name": "#%%\n"
    }
   }
  },
  {
   "cell_type": "markdown",
   "source": [],
   "metadata": {
    "collapsed": false,
    "pycharm": {
     "name": "#%% md\n"
    }
   }
  }
 ],
 "metadata": {
  "kernelspec": {
   "display_name": "Python 3",
   "language": "python",
   "name": "python3"
  },
  "language_info": {
   "codemirror_mode": {
    "name": "ipython",
    "version": 2
   },
   "file_extension": ".py",
   "mimetype": "text/x-python",
   "name": "python",
   "nbconvert_exporter": "python",
   "pygments_lexer": "ipython2",
   "version": "2.7.6"
  }
 },
 "nbformat": 4,
 "nbformat_minor": 0
}