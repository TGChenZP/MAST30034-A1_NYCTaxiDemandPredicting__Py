{
 "cells": [
  {
   "cell_type": "markdown",
   "source": [
    "# 7. Continuous Data Fine Preprocessing\n",
    "\n",
    "Content include:\n",
    " - preprocessing and joining up external data\n",
    " - joining with taxi data\n",
    " - EDA on aggregated data\n",
    " - Plotting\n",
    " - One hot encoding of some variables (DULocation and PULocation one hot encoding too large to store, done on the fly in modelbulding scripts)\n",
    " - Standardisation\n",
    " - Train Test Split\n",
    " - Attempted PCA\n",
    " - Feature Selection"
   ],
   "metadata": {
    "collapsed": false,
    "pycharm": {
     "name": "#%% md\n"
    }
   }
  },
  {
   "cell_type": "code",
   "execution_count": 1,
   "metadata": {
    "collapsed": true,
    "pycharm": {
     "name": "#%%\n"
    }
   },
   "outputs": [],
   "source": [
    "import datetime\n",
    "\n",
    "import pandas as pd\n",
    "import numpy as np\n",
    "import statistics as s\n",
    "import os\n",
    "import matplotlib.pyplot as plt"
   ]
  },
  {
   "cell_type": "markdown",
   "source": [
    "## Add external data"
   ],
   "metadata": {
    "collapsed": false,
    "pycharm": {
     "name": "#%% md\n"
    }
   }
  },
  {
   "cell_type": "markdown",
   "source": [
    "### Weather - inner join onto csv"
   ],
   "metadata": {
    "collapsed": false,
    "pycharm": {
     "name": "#%% md\n"
    }
   }
  },
  {
   "cell_type": "code",
   "execution_count": 2,
   "outputs": [],
   "source": [
    "weather_data = pd.read_csv('../data/raw/Weather/new york 2016-01-01 to 2017-12-31.csv')\n",
    "\n",
    "# Drop unnecessary rows\n",
    "weather_data = weather_data.drop(['name', 'description','icon',\n",
    "                                  'stations', 'severerisk'], axis = 1)"
   ],
   "metadata": {
    "collapsed": false,
    "pycharm": {
     "name": "#%%\n"
    }
   }
  },
  {
   "cell_type": "code",
   "execution_count": 3,
   "outputs": [
    {
     "data": {
      "text/plain": "       datetime  tempmax  tempmin  temp  feelslikemax  feelslikemin  \\\n0    2016-01-01      5.8      1.7   4.1           3.5          -3.1   \n1    2016-01-02      4.4      0.7   2.2           2.5          -4.1   \n2    2016-01-03      7.2      1.6   3.9           4.1          -2.5   \n3    2016-01-04      2.4     -9.2  -2.3          -1.0         -18.0   \n4    2016-01-05     -1.8    -11.3  -6.3          -1.8         -20.4   \n..          ...      ...      ...   ...           ...           ...   \n726  2017-12-27     -4.2     -7.6  -6.0          -9.4         -14.5   \n727  2017-12-28     -7.5    -11.0  -9.1         -14.5         -18.4   \n728  2017-12-29     -5.7    -11.5  -8.7         -11.2         -18.7   \n729  2017-12-30     -5.0     -8.0  -6.4          -6.1         -13.8   \n730  2017-12-31     -6.6    -12.0  -9.4         -12.5         -20.9   \n\n     feelslike   dew  humidity  precip  ...  sealevelpressure  cloudcover  \\\n0          0.6  -4.6      53.2    0.00  ...            1016.9        71.7   \n1         -1.3  -7.7      48.0    0.00  ...            1016.8        43.0   \n2          0.4  -5.9      49.5    0.00  ...            1011.2        19.8   \n3         -8.1 -12.3      47.0    0.00  ...            1017.7        42.8   \n4        -11.0 -18.5      39.8    0.00  ...            1034.5         3.9   \n..         ...   ...       ...     ...  ...               ...         ...   \n726      -11.8 -17.1      41.3    0.00  ...            1032.0        40.3   \n727      -16.5 -19.5      43.2    0.00  ...            1032.8        10.2   \n728      -14.8 -17.3      50.0    0.00  ...            1026.0        39.7   \n729      -10.8 -12.0      65.3    2.03  ...            1018.0        57.4   \n730      -17.0 -17.7      51.4    1.62  ...            1023.5        20.2   \n\n    visibility  solarradiation  solarenergy  uvindex              sunrise  \\\n0         16.0            71.1          6.1        4  2016-01-01T07:20:07   \n1         16.0           107.9          9.2        5  2016-01-02T07:20:13   \n2         16.0           109.9          9.6        5  2016-01-03T07:20:17   \n3         16.0           113.0          9.8        5  2016-01-04T07:20:19   \n4         16.0           118.8         10.4        5  2016-01-05T07:20:19   \n..         ...             ...          ...      ...                  ...   \n726       16.0            92.1          7.9        4  2017-12-27T07:19:10   \n727       16.0           112.3          9.8        5  2017-12-28T07:19:26   \n728       16.0            59.6          5.1        3  2017-12-29T07:19:41   \n729       12.1            29.5          2.5        1  2017-12-30T07:19:53   \n730       15.9            65.4          5.5        3  2017-12-31T07:20:03   \n\n                  sunset  moonphase              conditions  \n0    2016-01-01T16:38:54       0.72        Partially cloudy  \n1    2016-01-02T16:39:45       0.77        Partially cloudy  \n2    2016-01-03T16:40:37       0.81                   Clear  \n3    2016-01-04T16:41:30       0.86        Partially cloudy  \n4    2016-01-05T16:42:25       0.90                   Clear  \n..                   ...        ...                     ...  \n726  2017-12-27T16:35:28       0.31        Partially cloudy  \n727  2017-12-28T16:36:10       0.36                   Clear  \n728  2017-12-29T16:36:55       0.41        Partially cloudy  \n729  2017-12-30T16:37:42       0.45  Snow, Partially cloudy  \n730  2017-12-31T16:38:30       0.48  Snow, Partially cloudy  \n\n[731 rows x 28 columns]",
      "text/html": "<div>\n<style scoped>\n    .dataframe tbody tr th:only-of-type {\n        vertical-align: middle;\n    }\n\n    .dataframe tbody tr th {\n        vertical-align: top;\n    }\n\n    .dataframe thead th {\n        text-align: right;\n    }\n</style>\n<table border=\"1\" class=\"dataframe\">\n  <thead>\n    <tr style=\"text-align: right;\">\n      <th></th>\n      <th>datetime</th>\n      <th>tempmax</th>\n      <th>tempmin</th>\n      <th>temp</th>\n      <th>feelslikemax</th>\n      <th>feelslikemin</th>\n      <th>feelslike</th>\n      <th>dew</th>\n      <th>humidity</th>\n      <th>precip</th>\n      <th>...</th>\n      <th>sealevelpressure</th>\n      <th>cloudcover</th>\n      <th>visibility</th>\n      <th>solarradiation</th>\n      <th>solarenergy</th>\n      <th>uvindex</th>\n      <th>sunrise</th>\n      <th>sunset</th>\n      <th>moonphase</th>\n      <th>conditions</th>\n    </tr>\n  </thead>\n  <tbody>\n    <tr>\n      <th>0</th>\n      <td>2016-01-01</td>\n      <td>5.8</td>\n      <td>1.7</td>\n      <td>4.1</td>\n      <td>3.5</td>\n      <td>-3.1</td>\n      <td>0.6</td>\n      <td>-4.6</td>\n      <td>53.2</td>\n      <td>0.00</td>\n      <td>...</td>\n      <td>1016.9</td>\n      <td>71.7</td>\n      <td>16.0</td>\n      <td>71.1</td>\n      <td>6.1</td>\n      <td>4</td>\n      <td>2016-01-01T07:20:07</td>\n      <td>2016-01-01T16:38:54</td>\n      <td>0.72</td>\n      <td>Partially cloudy</td>\n    </tr>\n    <tr>\n      <th>1</th>\n      <td>2016-01-02</td>\n      <td>4.4</td>\n      <td>0.7</td>\n      <td>2.2</td>\n      <td>2.5</td>\n      <td>-4.1</td>\n      <td>-1.3</td>\n      <td>-7.7</td>\n      <td>48.0</td>\n      <td>0.00</td>\n      <td>...</td>\n      <td>1016.8</td>\n      <td>43.0</td>\n      <td>16.0</td>\n      <td>107.9</td>\n      <td>9.2</td>\n      <td>5</td>\n      <td>2016-01-02T07:20:13</td>\n      <td>2016-01-02T16:39:45</td>\n      <td>0.77</td>\n      <td>Partially cloudy</td>\n    </tr>\n    <tr>\n      <th>2</th>\n      <td>2016-01-03</td>\n      <td>7.2</td>\n      <td>1.6</td>\n      <td>3.9</td>\n      <td>4.1</td>\n      <td>-2.5</td>\n      <td>0.4</td>\n      <td>-5.9</td>\n      <td>49.5</td>\n      <td>0.00</td>\n      <td>...</td>\n      <td>1011.2</td>\n      <td>19.8</td>\n      <td>16.0</td>\n      <td>109.9</td>\n      <td>9.6</td>\n      <td>5</td>\n      <td>2016-01-03T07:20:17</td>\n      <td>2016-01-03T16:40:37</td>\n      <td>0.81</td>\n      <td>Clear</td>\n    </tr>\n    <tr>\n      <th>3</th>\n      <td>2016-01-04</td>\n      <td>2.4</td>\n      <td>-9.2</td>\n      <td>-2.3</td>\n      <td>-1.0</td>\n      <td>-18.0</td>\n      <td>-8.1</td>\n      <td>-12.3</td>\n      <td>47.0</td>\n      <td>0.00</td>\n      <td>...</td>\n      <td>1017.7</td>\n      <td>42.8</td>\n      <td>16.0</td>\n      <td>113.0</td>\n      <td>9.8</td>\n      <td>5</td>\n      <td>2016-01-04T07:20:19</td>\n      <td>2016-01-04T16:41:30</td>\n      <td>0.86</td>\n      <td>Partially cloudy</td>\n    </tr>\n    <tr>\n      <th>4</th>\n      <td>2016-01-05</td>\n      <td>-1.8</td>\n      <td>-11.3</td>\n      <td>-6.3</td>\n      <td>-1.8</td>\n      <td>-20.4</td>\n      <td>-11.0</td>\n      <td>-18.5</td>\n      <td>39.8</td>\n      <td>0.00</td>\n      <td>...</td>\n      <td>1034.5</td>\n      <td>3.9</td>\n      <td>16.0</td>\n      <td>118.8</td>\n      <td>10.4</td>\n      <td>5</td>\n      <td>2016-01-05T07:20:19</td>\n      <td>2016-01-05T16:42:25</td>\n      <td>0.90</td>\n      <td>Clear</td>\n    </tr>\n    <tr>\n      <th>...</th>\n      <td>...</td>\n      <td>...</td>\n      <td>...</td>\n      <td>...</td>\n      <td>...</td>\n      <td>...</td>\n      <td>...</td>\n      <td>...</td>\n      <td>...</td>\n      <td>...</td>\n      <td>...</td>\n      <td>...</td>\n      <td>...</td>\n      <td>...</td>\n      <td>...</td>\n      <td>...</td>\n      <td>...</td>\n      <td>...</td>\n      <td>...</td>\n      <td>...</td>\n      <td>...</td>\n    </tr>\n    <tr>\n      <th>726</th>\n      <td>2017-12-27</td>\n      <td>-4.2</td>\n      <td>-7.6</td>\n      <td>-6.0</td>\n      <td>-9.4</td>\n      <td>-14.5</td>\n      <td>-11.8</td>\n      <td>-17.1</td>\n      <td>41.3</td>\n      <td>0.00</td>\n      <td>...</td>\n      <td>1032.0</td>\n      <td>40.3</td>\n      <td>16.0</td>\n      <td>92.1</td>\n      <td>7.9</td>\n      <td>4</td>\n      <td>2017-12-27T07:19:10</td>\n      <td>2017-12-27T16:35:28</td>\n      <td>0.31</td>\n      <td>Partially cloudy</td>\n    </tr>\n    <tr>\n      <th>727</th>\n      <td>2017-12-28</td>\n      <td>-7.5</td>\n      <td>-11.0</td>\n      <td>-9.1</td>\n      <td>-14.5</td>\n      <td>-18.4</td>\n      <td>-16.5</td>\n      <td>-19.5</td>\n      <td>43.2</td>\n      <td>0.00</td>\n      <td>...</td>\n      <td>1032.8</td>\n      <td>10.2</td>\n      <td>16.0</td>\n      <td>112.3</td>\n      <td>9.8</td>\n      <td>5</td>\n      <td>2017-12-28T07:19:26</td>\n      <td>2017-12-28T16:36:10</td>\n      <td>0.36</td>\n      <td>Clear</td>\n    </tr>\n    <tr>\n      <th>728</th>\n      <td>2017-12-29</td>\n      <td>-5.7</td>\n      <td>-11.5</td>\n      <td>-8.7</td>\n      <td>-11.2</td>\n      <td>-18.7</td>\n      <td>-14.8</td>\n      <td>-17.3</td>\n      <td>50.0</td>\n      <td>0.00</td>\n      <td>...</td>\n      <td>1026.0</td>\n      <td>39.7</td>\n      <td>16.0</td>\n      <td>59.6</td>\n      <td>5.1</td>\n      <td>3</td>\n      <td>2017-12-29T07:19:41</td>\n      <td>2017-12-29T16:36:55</td>\n      <td>0.41</td>\n      <td>Partially cloudy</td>\n    </tr>\n    <tr>\n      <th>729</th>\n      <td>2017-12-30</td>\n      <td>-5.0</td>\n      <td>-8.0</td>\n      <td>-6.4</td>\n      <td>-6.1</td>\n      <td>-13.8</td>\n      <td>-10.8</td>\n      <td>-12.0</td>\n      <td>65.3</td>\n      <td>2.03</td>\n      <td>...</td>\n      <td>1018.0</td>\n      <td>57.4</td>\n      <td>12.1</td>\n      <td>29.5</td>\n      <td>2.5</td>\n      <td>1</td>\n      <td>2017-12-30T07:19:53</td>\n      <td>2017-12-30T16:37:42</td>\n      <td>0.45</td>\n      <td>Snow, Partially cloudy</td>\n    </tr>\n    <tr>\n      <th>730</th>\n      <td>2017-12-31</td>\n      <td>-6.6</td>\n      <td>-12.0</td>\n      <td>-9.4</td>\n      <td>-12.5</td>\n      <td>-20.9</td>\n      <td>-17.0</td>\n      <td>-17.7</td>\n      <td>51.4</td>\n      <td>1.62</td>\n      <td>...</td>\n      <td>1023.5</td>\n      <td>20.2</td>\n      <td>15.9</td>\n      <td>65.4</td>\n      <td>5.5</td>\n      <td>3</td>\n      <td>2017-12-31T07:20:03</td>\n      <td>2017-12-31T16:38:30</td>\n      <td>0.48</td>\n      <td>Snow, Partially cloudy</td>\n    </tr>\n  </tbody>\n</table>\n<p>731 rows × 28 columns</p>\n</div>"
     },
     "execution_count": 3,
     "metadata": {},
     "output_type": "execute_result"
    }
   ],
   "source": [
    "# Transform data into correct types and replace none with correct labels\n",
    "weather_data['preciptype'] = weather_data['preciptype'].replace(np.nan, 'none')\n",
    "weather_data.datetime = pd.to_datetime(weather_data.datetime).dt.date\n",
    "weather_data"
   ],
   "metadata": {
    "collapsed": false,
    "pycharm": {
     "name": "#%%\n"
    }
   }
  },
  {
   "cell_type": "code",
   "execution_count": 4,
   "outputs": [
    {
     "data": {
      "text/plain": "       datetime  tempmax  tempmin  temp  feelslikemax  feelslikemin  \\\n0    2016-01-01      5.8      1.7   4.1           3.5          -3.1   \n1    2016-01-02      4.4      0.7   2.2           2.5          -4.1   \n2    2016-01-03      7.2      1.6   3.9           4.1          -2.5   \n3    2016-01-04      2.4     -9.2  -2.3          -1.0         -18.0   \n4    2016-01-05     -1.8    -11.3  -6.3          -1.8         -20.4   \n..          ...      ...      ...   ...           ...           ...   \n726  2017-12-27     -4.2     -7.6  -6.0          -9.4         -14.5   \n727  2017-12-28     -7.5    -11.0  -9.1         -14.5         -18.4   \n728  2017-12-29     -5.7    -11.5  -8.7         -11.2         -18.7   \n729  2017-12-30     -5.0     -8.0  -6.4          -6.1         -13.8   \n730  2017-12-31     -6.6    -12.0  -9.4         -12.5         -20.9   \n\n     feelslike   dew  humidity  precip  ...  sealevelpressure  cloudcover  \\\n0          0.6  -4.6      53.2    0.00  ...            1016.9        71.7   \n1         -1.3  -7.7      48.0    0.00  ...            1016.8        43.0   \n2          0.4  -5.9      49.5    0.00  ...            1011.2        19.8   \n3         -8.1 -12.3      47.0    0.00  ...            1017.7        42.8   \n4        -11.0 -18.5      39.8    0.00  ...            1034.5         3.9   \n..         ...   ...       ...     ...  ...               ...         ...   \n726      -11.8 -17.1      41.3    0.00  ...            1032.0        40.3   \n727      -16.5 -19.5      43.2    0.00  ...            1032.8        10.2   \n728      -14.8 -17.3      50.0    0.00  ...            1026.0        39.7   \n729      -10.8 -12.0      65.3    2.03  ...            1018.0        57.4   \n730      -17.0 -17.7      51.4    1.62  ...            1023.5        20.2   \n\n    visibility  solarradiation  solarenergy  uvindex  sunrise  sunset  \\\n0         16.0            71.1          6.1        4     3727    8094   \n1         16.0           107.9          9.2        5     3733    8145   \n2         16.0           109.9          9.6        5     3737    8197   \n3         16.0           113.0          9.8        5     3739    8250   \n4         16.0           118.8         10.4        5     3739    8305   \n..         ...             ...          ...      ...      ...     ...   \n726       16.0            92.1          7.9        4     3670    7888   \n727       16.0           112.3          9.8        5     3686    7930   \n728       16.0            59.6          5.1        3     3701    7975   \n729       12.1            29.5          2.5        1     3713    8022   \n730       15.9            65.4          5.5        3     3723    8070   \n\n     moonphase              conditions  \n0         0.72        Partially cloudy  \n1         0.77        Partially cloudy  \n2         0.81                   Clear  \n3         0.86        Partially cloudy  \n4         0.90                   Clear  \n..         ...                     ...  \n726       0.31        Partially cloudy  \n727       0.36                   Clear  \n728       0.41        Partially cloudy  \n729       0.45  Snow, Partially cloudy  \n730       0.48  Snow, Partially cloudy  \n\n[731 rows x 28 columns]",
      "text/html": "<div>\n<style scoped>\n    .dataframe tbody tr th:only-of-type {\n        vertical-align: middle;\n    }\n\n    .dataframe tbody tr th {\n        vertical-align: top;\n    }\n\n    .dataframe thead th {\n        text-align: right;\n    }\n</style>\n<table border=\"1\" class=\"dataframe\">\n  <thead>\n    <tr style=\"text-align: right;\">\n      <th></th>\n      <th>datetime</th>\n      <th>tempmax</th>\n      <th>tempmin</th>\n      <th>temp</th>\n      <th>feelslikemax</th>\n      <th>feelslikemin</th>\n      <th>feelslike</th>\n      <th>dew</th>\n      <th>humidity</th>\n      <th>precip</th>\n      <th>...</th>\n      <th>sealevelpressure</th>\n      <th>cloudcover</th>\n      <th>visibility</th>\n      <th>solarradiation</th>\n      <th>solarenergy</th>\n      <th>uvindex</th>\n      <th>sunrise</th>\n      <th>sunset</th>\n      <th>moonphase</th>\n      <th>conditions</th>\n    </tr>\n  </thead>\n  <tbody>\n    <tr>\n      <th>0</th>\n      <td>2016-01-01</td>\n      <td>5.8</td>\n      <td>1.7</td>\n      <td>4.1</td>\n      <td>3.5</td>\n      <td>-3.1</td>\n      <td>0.6</td>\n      <td>-4.6</td>\n      <td>53.2</td>\n      <td>0.00</td>\n      <td>...</td>\n      <td>1016.9</td>\n      <td>71.7</td>\n      <td>16.0</td>\n      <td>71.1</td>\n      <td>6.1</td>\n      <td>4</td>\n      <td>3727</td>\n      <td>8094</td>\n      <td>0.72</td>\n      <td>Partially cloudy</td>\n    </tr>\n    <tr>\n      <th>1</th>\n      <td>2016-01-02</td>\n      <td>4.4</td>\n      <td>0.7</td>\n      <td>2.2</td>\n      <td>2.5</td>\n      <td>-4.1</td>\n      <td>-1.3</td>\n      <td>-7.7</td>\n      <td>48.0</td>\n      <td>0.00</td>\n      <td>...</td>\n      <td>1016.8</td>\n      <td>43.0</td>\n      <td>16.0</td>\n      <td>107.9</td>\n      <td>9.2</td>\n      <td>5</td>\n      <td>3733</td>\n      <td>8145</td>\n      <td>0.77</td>\n      <td>Partially cloudy</td>\n    </tr>\n    <tr>\n      <th>2</th>\n      <td>2016-01-03</td>\n      <td>7.2</td>\n      <td>1.6</td>\n      <td>3.9</td>\n      <td>4.1</td>\n      <td>-2.5</td>\n      <td>0.4</td>\n      <td>-5.9</td>\n      <td>49.5</td>\n      <td>0.00</td>\n      <td>...</td>\n      <td>1011.2</td>\n      <td>19.8</td>\n      <td>16.0</td>\n      <td>109.9</td>\n      <td>9.6</td>\n      <td>5</td>\n      <td>3737</td>\n      <td>8197</td>\n      <td>0.81</td>\n      <td>Clear</td>\n    </tr>\n    <tr>\n      <th>3</th>\n      <td>2016-01-04</td>\n      <td>2.4</td>\n      <td>-9.2</td>\n      <td>-2.3</td>\n      <td>-1.0</td>\n      <td>-18.0</td>\n      <td>-8.1</td>\n      <td>-12.3</td>\n      <td>47.0</td>\n      <td>0.00</td>\n      <td>...</td>\n      <td>1017.7</td>\n      <td>42.8</td>\n      <td>16.0</td>\n      <td>113.0</td>\n      <td>9.8</td>\n      <td>5</td>\n      <td>3739</td>\n      <td>8250</td>\n      <td>0.86</td>\n      <td>Partially cloudy</td>\n    </tr>\n    <tr>\n      <th>4</th>\n      <td>2016-01-05</td>\n      <td>-1.8</td>\n      <td>-11.3</td>\n      <td>-6.3</td>\n      <td>-1.8</td>\n      <td>-20.4</td>\n      <td>-11.0</td>\n      <td>-18.5</td>\n      <td>39.8</td>\n      <td>0.00</td>\n      <td>...</td>\n      <td>1034.5</td>\n      <td>3.9</td>\n      <td>16.0</td>\n      <td>118.8</td>\n      <td>10.4</td>\n      <td>5</td>\n      <td>3739</td>\n      <td>8305</td>\n      <td>0.90</td>\n      <td>Clear</td>\n    </tr>\n    <tr>\n      <th>...</th>\n      <td>...</td>\n      <td>...</td>\n      <td>...</td>\n      <td>...</td>\n      <td>...</td>\n      <td>...</td>\n      <td>...</td>\n      <td>...</td>\n      <td>...</td>\n      <td>...</td>\n      <td>...</td>\n      <td>...</td>\n      <td>...</td>\n      <td>...</td>\n      <td>...</td>\n      <td>...</td>\n      <td>...</td>\n      <td>...</td>\n      <td>...</td>\n      <td>...</td>\n      <td>...</td>\n    </tr>\n    <tr>\n      <th>726</th>\n      <td>2017-12-27</td>\n      <td>-4.2</td>\n      <td>-7.6</td>\n      <td>-6.0</td>\n      <td>-9.4</td>\n      <td>-14.5</td>\n      <td>-11.8</td>\n      <td>-17.1</td>\n      <td>41.3</td>\n      <td>0.00</td>\n      <td>...</td>\n      <td>1032.0</td>\n      <td>40.3</td>\n      <td>16.0</td>\n      <td>92.1</td>\n      <td>7.9</td>\n      <td>4</td>\n      <td>3670</td>\n      <td>7888</td>\n      <td>0.31</td>\n      <td>Partially cloudy</td>\n    </tr>\n    <tr>\n      <th>727</th>\n      <td>2017-12-28</td>\n      <td>-7.5</td>\n      <td>-11.0</td>\n      <td>-9.1</td>\n      <td>-14.5</td>\n      <td>-18.4</td>\n      <td>-16.5</td>\n      <td>-19.5</td>\n      <td>43.2</td>\n      <td>0.00</td>\n      <td>...</td>\n      <td>1032.8</td>\n      <td>10.2</td>\n      <td>16.0</td>\n      <td>112.3</td>\n      <td>9.8</td>\n      <td>5</td>\n      <td>3686</td>\n      <td>7930</td>\n      <td>0.36</td>\n      <td>Clear</td>\n    </tr>\n    <tr>\n      <th>728</th>\n      <td>2017-12-29</td>\n      <td>-5.7</td>\n      <td>-11.5</td>\n      <td>-8.7</td>\n      <td>-11.2</td>\n      <td>-18.7</td>\n      <td>-14.8</td>\n      <td>-17.3</td>\n      <td>50.0</td>\n      <td>0.00</td>\n      <td>...</td>\n      <td>1026.0</td>\n      <td>39.7</td>\n      <td>16.0</td>\n      <td>59.6</td>\n      <td>5.1</td>\n      <td>3</td>\n      <td>3701</td>\n      <td>7975</td>\n      <td>0.41</td>\n      <td>Partially cloudy</td>\n    </tr>\n    <tr>\n      <th>729</th>\n      <td>2017-12-30</td>\n      <td>-5.0</td>\n      <td>-8.0</td>\n      <td>-6.4</td>\n      <td>-6.1</td>\n      <td>-13.8</td>\n      <td>-10.8</td>\n      <td>-12.0</td>\n      <td>65.3</td>\n      <td>2.03</td>\n      <td>...</td>\n      <td>1018.0</td>\n      <td>57.4</td>\n      <td>12.1</td>\n      <td>29.5</td>\n      <td>2.5</td>\n      <td>1</td>\n      <td>3713</td>\n      <td>8022</td>\n      <td>0.45</td>\n      <td>Snow, Partially cloudy</td>\n    </tr>\n    <tr>\n      <th>730</th>\n      <td>2017-12-31</td>\n      <td>-6.6</td>\n      <td>-12.0</td>\n      <td>-9.4</td>\n      <td>-12.5</td>\n      <td>-20.9</td>\n      <td>-17.0</td>\n      <td>-17.7</td>\n      <td>51.4</td>\n      <td>1.62</td>\n      <td>...</td>\n      <td>1023.5</td>\n      <td>20.2</td>\n      <td>15.9</td>\n      <td>65.4</td>\n      <td>5.5</td>\n      <td>3</td>\n      <td>3723</td>\n      <td>8070</td>\n      <td>0.48</td>\n      <td>Snow, Partially cloudy</td>\n    </tr>\n  </tbody>\n</table>\n<p>731 rows × 28 columns</p>\n</div>"
     },
     "execution_count": 4,
     "metadata": {},
     "output_type": "execute_result"
    }
   ],
   "source": [
    "# Transform Weather's sunrise and sunset data into numerical values\n",
    "weather_data.sunrise = pd.to_datetime(weather_data.sunrise)\n",
    "weather_data.sunset = pd.to_datetime(weather_data.sunset)\n",
    "\n",
    "weather_data['sunrise'] = weather_data.sunrise.apply(lambda x:(x.hour * 360\n",
    "                                                               + x.minute * 60 + x.second))\n",
    "weather_data['sunset'] = weather_data.sunset.apply(lambda x:(x.hour * 360\n",
    "                                                             + x.minute * 60 + x.second))\n",
    "\n",
    "weather_data"
   ],
   "metadata": {
    "collapsed": false,
    "pycharm": {
     "name": "#%%\n"
    }
   }
  },
  {
   "cell_type": "code",
   "execution_count": 5,
   "outputs": [],
   "source": [
    "# # figure out types (EDA)\n",
    "# for col in weather_data.columns:\n",
    "#     print(col)\n",
    "#     print(type(weather_data[col][0]), '\\n')"
   ],
   "metadata": {
    "collapsed": false,
    "pycharm": {
     "name": "#%%\n"
    }
   }
  },
  {
   "cell_type": "code",
   "execution_count": 6,
   "outputs": [
    {
     "name": "stdout",
     "output_type": "stream",
     "text": [
      "{'Overcast', 'Snow, Partially cloudy', 'Snow, Rain', 'Snow, Rain, Overcast', 'Rain', 'Clear', 'Partially cloudy', 'Rain, Partially cloudy', 'Rain, Overcast', 'Snow, Rain, Partially cloudy'}\n",
      "{'rain,snow', 'snow', 'none', 'rain'}\n"
     ]
    }
   ],
   "source": [
    "# figure out types (EDA)\n",
    "print(set(weather_data['conditions']))\n",
    "print(set(weather_data['preciptype']))"
   ],
   "metadata": {
    "collapsed": false,
    "pycharm": {
     "name": "#%%\n"
    }
   }
  },
  {
   "cell_type": "markdown",
   "source": [
    "One Hot Encode some of the weather columns"
   ],
   "metadata": {
    "collapsed": false,
    "pycharm": {
     "name": "#%% md\n"
    }
   }
  },
  {
   "cell_type": "code",
   "execution_count": 7,
   "outputs": [],
   "source": [
    "# perform one hot encoding\n",
    "from sklearn.preprocessing import OneHotEncoder\n",
    "ohe = OneHotEncoder(handle_unknown='ignore')\n"
   ],
   "metadata": {
    "collapsed": false,
    "pycharm": {
     "name": "#%%\n"
    }
   }
  },
  {
   "cell_type": "code",
   "execution_count": 8,
   "outputs": [],
   "source": [
    "weather_to_ohe = weather_data[['preciptype', 'conditions']]"
   ],
   "metadata": {
    "collapsed": false,
    "pycharm": {
     "name": "#%%\n"
    }
   }
  },
  {
   "cell_type": "code",
   "execution_count": 9,
   "outputs": [
    {
     "data": {
      "text/plain": "     preciptype_none  preciptype_rain  preciptype_rain,snow  preciptype_snow  \\\n0                1.0              0.0                   0.0              0.0   \n1                1.0              0.0                   0.0              0.0   \n2                1.0              0.0                   0.0              0.0   \n3                1.0              0.0                   0.0              0.0   \n4                1.0              0.0                   0.0              0.0   \n..               ...              ...                   ...              ...   \n726              1.0              0.0                   0.0              0.0   \n727              1.0              0.0                   0.0              0.0   \n728              1.0              0.0                   0.0              0.0   \n729              0.0              0.0                   0.0              1.0   \n730              0.0              0.0                   0.0              1.0   \n\n     conditions_Clear  conditions_Overcast  conditions_Partially cloudy  \\\n0                 0.0                  0.0                          1.0   \n1                 0.0                  0.0                          1.0   \n2                 1.0                  0.0                          0.0   \n3                 0.0                  0.0                          1.0   \n4                 1.0                  0.0                          0.0   \n..                ...                  ...                          ...   \n726               0.0                  0.0                          1.0   \n727               1.0                  0.0                          0.0   \n728               0.0                  0.0                          1.0   \n729               0.0                  0.0                          0.0   \n730               0.0                  0.0                          0.0   \n\n     conditions_Rain  conditions_Rain, Overcast  \\\n0                0.0                        0.0   \n1                0.0                        0.0   \n2                0.0                        0.0   \n3                0.0                        0.0   \n4                0.0                        0.0   \n..               ...                        ...   \n726              0.0                        0.0   \n727              0.0                        0.0   \n728              0.0                        0.0   \n729              0.0                        0.0   \n730              0.0                        0.0   \n\n     conditions_Rain, Partially cloudy  conditions_Snow, Partially cloudy  \\\n0                                  0.0                                0.0   \n1                                  0.0                                0.0   \n2                                  0.0                                0.0   \n3                                  0.0                                0.0   \n4                                  0.0                                0.0   \n..                                 ...                                ...   \n726                                0.0                                0.0   \n727                                0.0                                0.0   \n728                                0.0                                0.0   \n729                                0.0                                1.0   \n730                                0.0                                1.0   \n\n     conditions_Snow, Rain  conditions_Snow, Rain, Overcast  \\\n0                      0.0                              0.0   \n1                      0.0                              0.0   \n2                      0.0                              0.0   \n3                      0.0                              0.0   \n4                      0.0                              0.0   \n..                     ...                              ...   \n726                    0.0                              0.0   \n727                    0.0                              0.0   \n728                    0.0                              0.0   \n729                    0.0                              0.0   \n730                    0.0                              0.0   \n\n     conditions_Snow, Rain, Partially cloudy  \n0                                        0.0  \n1                                        0.0  \n2                                        0.0  \n3                                        0.0  \n4                                        0.0  \n..                                       ...  \n726                                      0.0  \n727                                      0.0  \n728                                      0.0  \n729                                      0.0  \n730                                      0.0  \n\n[731 rows x 14 columns]",
      "text/html": "<div>\n<style scoped>\n    .dataframe tbody tr th:only-of-type {\n        vertical-align: middle;\n    }\n\n    .dataframe tbody tr th {\n        vertical-align: top;\n    }\n\n    .dataframe thead th {\n        text-align: right;\n    }\n</style>\n<table border=\"1\" class=\"dataframe\">\n  <thead>\n    <tr style=\"text-align: right;\">\n      <th></th>\n      <th>preciptype_none</th>\n      <th>preciptype_rain</th>\n      <th>preciptype_rain,snow</th>\n      <th>preciptype_snow</th>\n      <th>conditions_Clear</th>\n      <th>conditions_Overcast</th>\n      <th>conditions_Partially cloudy</th>\n      <th>conditions_Rain</th>\n      <th>conditions_Rain, Overcast</th>\n      <th>conditions_Rain, Partially cloudy</th>\n      <th>conditions_Snow, Partially cloudy</th>\n      <th>conditions_Snow, Rain</th>\n      <th>conditions_Snow, Rain, Overcast</th>\n      <th>conditions_Snow, Rain, Partially cloudy</th>\n    </tr>\n  </thead>\n  <tbody>\n    <tr>\n      <th>0</th>\n      <td>1.0</td>\n      <td>0.0</td>\n      <td>0.0</td>\n      <td>0.0</td>\n      <td>0.0</td>\n      <td>0.0</td>\n      <td>1.0</td>\n      <td>0.0</td>\n      <td>0.0</td>\n      <td>0.0</td>\n      <td>0.0</td>\n      <td>0.0</td>\n      <td>0.0</td>\n      <td>0.0</td>\n    </tr>\n    <tr>\n      <th>1</th>\n      <td>1.0</td>\n      <td>0.0</td>\n      <td>0.0</td>\n      <td>0.0</td>\n      <td>0.0</td>\n      <td>0.0</td>\n      <td>1.0</td>\n      <td>0.0</td>\n      <td>0.0</td>\n      <td>0.0</td>\n      <td>0.0</td>\n      <td>0.0</td>\n      <td>0.0</td>\n      <td>0.0</td>\n    </tr>\n    <tr>\n      <th>2</th>\n      <td>1.0</td>\n      <td>0.0</td>\n      <td>0.0</td>\n      <td>0.0</td>\n      <td>1.0</td>\n      <td>0.0</td>\n      <td>0.0</td>\n      <td>0.0</td>\n      <td>0.0</td>\n      <td>0.0</td>\n      <td>0.0</td>\n      <td>0.0</td>\n      <td>0.0</td>\n      <td>0.0</td>\n    </tr>\n    <tr>\n      <th>3</th>\n      <td>1.0</td>\n      <td>0.0</td>\n      <td>0.0</td>\n      <td>0.0</td>\n      <td>0.0</td>\n      <td>0.0</td>\n      <td>1.0</td>\n      <td>0.0</td>\n      <td>0.0</td>\n      <td>0.0</td>\n      <td>0.0</td>\n      <td>0.0</td>\n      <td>0.0</td>\n      <td>0.0</td>\n    </tr>\n    <tr>\n      <th>4</th>\n      <td>1.0</td>\n      <td>0.0</td>\n      <td>0.0</td>\n      <td>0.0</td>\n      <td>1.0</td>\n      <td>0.0</td>\n      <td>0.0</td>\n      <td>0.0</td>\n      <td>0.0</td>\n      <td>0.0</td>\n      <td>0.0</td>\n      <td>0.0</td>\n      <td>0.0</td>\n      <td>0.0</td>\n    </tr>\n    <tr>\n      <th>...</th>\n      <td>...</td>\n      <td>...</td>\n      <td>...</td>\n      <td>...</td>\n      <td>...</td>\n      <td>...</td>\n      <td>...</td>\n      <td>...</td>\n      <td>...</td>\n      <td>...</td>\n      <td>...</td>\n      <td>...</td>\n      <td>...</td>\n      <td>...</td>\n    </tr>\n    <tr>\n      <th>726</th>\n      <td>1.0</td>\n      <td>0.0</td>\n      <td>0.0</td>\n      <td>0.0</td>\n      <td>0.0</td>\n      <td>0.0</td>\n      <td>1.0</td>\n      <td>0.0</td>\n      <td>0.0</td>\n      <td>0.0</td>\n      <td>0.0</td>\n      <td>0.0</td>\n      <td>0.0</td>\n      <td>0.0</td>\n    </tr>\n    <tr>\n      <th>727</th>\n      <td>1.0</td>\n      <td>0.0</td>\n      <td>0.0</td>\n      <td>0.0</td>\n      <td>1.0</td>\n      <td>0.0</td>\n      <td>0.0</td>\n      <td>0.0</td>\n      <td>0.0</td>\n      <td>0.0</td>\n      <td>0.0</td>\n      <td>0.0</td>\n      <td>0.0</td>\n      <td>0.0</td>\n    </tr>\n    <tr>\n      <th>728</th>\n      <td>1.0</td>\n      <td>0.0</td>\n      <td>0.0</td>\n      <td>0.0</td>\n      <td>0.0</td>\n      <td>0.0</td>\n      <td>1.0</td>\n      <td>0.0</td>\n      <td>0.0</td>\n      <td>0.0</td>\n      <td>0.0</td>\n      <td>0.0</td>\n      <td>0.0</td>\n      <td>0.0</td>\n    </tr>\n    <tr>\n      <th>729</th>\n      <td>0.0</td>\n      <td>0.0</td>\n      <td>0.0</td>\n      <td>1.0</td>\n      <td>0.0</td>\n      <td>0.0</td>\n      <td>0.0</td>\n      <td>0.0</td>\n      <td>0.0</td>\n      <td>0.0</td>\n      <td>1.0</td>\n      <td>0.0</td>\n      <td>0.0</td>\n      <td>0.0</td>\n    </tr>\n    <tr>\n      <th>730</th>\n      <td>0.0</td>\n      <td>0.0</td>\n      <td>0.0</td>\n      <td>1.0</td>\n      <td>0.0</td>\n      <td>0.0</td>\n      <td>0.0</td>\n      <td>0.0</td>\n      <td>0.0</td>\n      <td>0.0</td>\n      <td>1.0</td>\n      <td>0.0</td>\n      <td>0.0</td>\n      <td>0.0</td>\n    </tr>\n  </tbody>\n</table>\n<p>731 rows × 14 columns</p>\n</div>"
     },
     "execution_count": 9,
     "metadata": {},
     "output_type": "execute_result"
    }
   ],
   "source": [
    "weather_ohe = ohe.fit_transform(weather_to_ohe).toarray()\n",
    "\n",
    "weather_ohe = pd.DataFrame(weather_ohe, columns = list(ohe.get_feature_names_out(['preciptype',\n",
    "                                                                                  'conditions'])))\n",
    "weather_ohe"
   ],
   "metadata": {
    "collapsed": false,
    "pycharm": {
     "name": "#%%\n"
    }
   }
  },
  {
   "cell_type": "code",
   "execution_count": 10,
   "outputs": [
    {
     "data": {
      "text/plain": "       datetime  tempmax  tempmin  temp  feelslikemax  feelslikemin  \\\n0    2016-01-01      5.8      1.7   4.1           3.5          -3.1   \n1    2016-01-02      4.4      0.7   2.2           2.5          -4.1   \n2    2016-01-03      7.2      1.6   3.9           4.1          -2.5   \n3    2016-01-04      2.4     -9.2  -2.3          -1.0         -18.0   \n4    2016-01-05     -1.8    -11.3  -6.3          -1.8         -20.4   \n..          ...      ...      ...   ...           ...           ...   \n726  2017-12-27     -4.2     -7.6  -6.0          -9.4         -14.5   \n727  2017-12-28     -7.5    -11.0  -9.1         -14.5         -18.4   \n728  2017-12-29     -5.7    -11.5  -8.7         -11.2         -18.7   \n729  2017-12-30     -5.0     -8.0  -6.4          -6.1         -13.8   \n730  2017-12-31     -6.6    -12.0  -9.4         -12.5         -20.9   \n\n     feelslike   dew  humidity  precip  ...  conditions_Clear  \\\n0          0.6  -4.6      53.2    0.00  ...               0.0   \n1         -1.3  -7.7      48.0    0.00  ...               0.0   \n2          0.4  -5.9      49.5    0.00  ...               1.0   \n3         -8.1 -12.3      47.0    0.00  ...               0.0   \n4        -11.0 -18.5      39.8    0.00  ...               1.0   \n..         ...   ...       ...     ...  ...               ...   \n726      -11.8 -17.1      41.3    0.00  ...               0.0   \n727      -16.5 -19.5      43.2    0.00  ...               1.0   \n728      -14.8 -17.3      50.0    0.00  ...               0.0   \n729      -10.8 -12.0      65.3    2.03  ...               0.0   \n730      -17.0 -17.7      51.4    1.62  ...               0.0   \n\n     conditions_Overcast  conditions_Partially cloudy  conditions_Rain  \\\n0                    0.0                          1.0              0.0   \n1                    0.0                          1.0              0.0   \n2                    0.0                          0.0              0.0   \n3                    0.0                          1.0              0.0   \n4                    0.0                          0.0              0.0   \n..                   ...                          ...              ...   \n726                  0.0                          1.0              0.0   \n727                  0.0                          0.0              0.0   \n728                  0.0                          1.0              0.0   \n729                  0.0                          0.0              0.0   \n730                  0.0                          0.0              0.0   \n\n     conditions_Rain, Overcast  conditions_Rain, Partially cloudy  \\\n0                          0.0                                0.0   \n1                          0.0                                0.0   \n2                          0.0                                0.0   \n3                          0.0                                0.0   \n4                          0.0                                0.0   \n..                         ...                                ...   \n726                        0.0                                0.0   \n727                        0.0                                0.0   \n728                        0.0                                0.0   \n729                        0.0                                0.0   \n730                        0.0                                0.0   \n\n     conditions_Snow, Partially cloudy  conditions_Snow, Rain  \\\n0                                  0.0                    0.0   \n1                                  0.0                    0.0   \n2                                  0.0                    0.0   \n3                                  0.0                    0.0   \n4                                  0.0                    0.0   \n..                                 ...                    ...   \n726                                0.0                    0.0   \n727                                0.0                    0.0   \n728                                0.0                    0.0   \n729                                1.0                    0.0   \n730                                1.0                    0.0   \n\n     conditions_Snow, Rain, Overcast  conditions_Snow, Rain, Partially cloudy  \n0                                0.0                                      0.0  \n1                                0.0                                      0.0  \n2                                0.0                                      0.0  \n3                                0.0                                      0.0  \n4                                0.0                                      0.0  \n..                               ...                                      ...  \n726                              0.0                                      0.0  \n727                              0.0                                      0.0  \n728                              0.0                                      0.0  \n729                              0.0                                      0.0  \n730                              0.0                                      0.0  \n\n[731 rows x 40 columns]",
      "text/html": "<div>\n<style scoped>\n    .dataframe tbody tr th:only-of-type {\n        vertical-align: middle;\n    }\n\n    .dataframe tbody tr th {\n        vertical-align: top;\n    }\n\n    .dataframe thead th {\n        text-align: right;\n    }\n</style>\n<table border=\"1\" class=\"dataframe\">\n  <thead>\n    <tr style=\"text-align: right;\">\n      <th></th>\n      <th>datetime</th>\n      <th>tempmax</th>\n      <th>tempmin</th>\n      <th>temp</th>\n      <th>feelslikemax</th>\n      <th>feelslikemin</th>\n      <th>feelslike</th>\n      <th>dew</th>\n      <th>humidity</th>\n      <th>precip</th>\n      <th>...</th>\n      <th>conditions_Clear</th>\n      <th>conditions_Overcast</th>\n      <th>conditions_Partially cloudy</th>\n      <th>conditions_Rain</th>\n      <th>conditions_Rain, Overcast</th>\n      <th>conditions_Rain, Partially cloudy</th>\n      <th>conditions_Snow, Partially cloudy</th>\n      <th>conditions_Snow, Rain</th>\n      <th>conditions_Snow, Rain, Overcast</th>\n      <th>conditions_Snow, Rain, Partially cloudy</th>\n    </tr>\n  </thead>\n  <tbody>\n    <tr>\n      <th>0</th>\n      <td>2016-01-01</td>\n      <td>5.8</td>\n      <td>1.7</td>\n      <td>4.1</td>\n      <td>3.5</td>\n      <td>-3.1</td>\n      <td>0.6</td>\n      <td>-4.6</td>\n      <td>53.2</td>\n      <td>0.00</td>\n      <td>...</td>\n      <td>0.0</td>\n      <td>0.0</td>\n      <td>1.0</td>\n      <td>0.0</td>\n      <td>0.0</td>\n      <td>0.0</td>\n      <td>0.0</td>\n      <td>0.0</td>\n      <td>0.0</td>\n      <td>0.0</td>\n    </tr>\n    <tr>\n      <th>1</th>\n      <td>2016-01-02</td>\n      <td>4.4</td>\n      <td>0.7</td>\n      <td>2.2</td>\n      <td>2.5</td>\n      <td>-4.1</td>\n      <td>-1.3</td>\n      <td>-7.7</td>\n      <td>48.0</td>\n      <td>0.00</td>\n      <td>...</td>\n      <td>0.0</td>\n      <td>0.0</td>\n      <td>1.0</td>\n      <td>0.0</td>\n      <td>0.0</td>\n      <td>0.0</td>\n      <td>0.0</td>\n      <td>0.0</td>\n      <td>0.0</td>\n      <td>0.0</td>\n    </tr>\n    <tr>\n      <th>2</th>\n      <td>2016-01-03</td>\n      <td>7.2</td>\n      <td>1.6</td>\n      <td>3.9</td>\n      <td>4.1</td>\n      <td>-2.5</td>\n      <td>0.4</td>\n      <td>-5.9</td>\n      <td>49.5</td>\n      <td>0.00</td>\n      <td>...</td>\n      <td>1.0</td>\n      <td>0.0</td>\n      <td>0.0</td>\n      <td>0.0</td>\n      <td>0.0</td>\n      <td>0.0</td>\n      <td>0.0</td>\n      <td>0.0</td>\n      <td>0.0</td>\n      <td>0.0</td>\n    </tr>\n    <tr>\n      <th>3</th>\n      <td>2016-01-04</td>\n      <td>2.4</td>\n      <td>-9.2</td>\n      <td>-2.3</td>\n      <td>-1.0</td>\n      <td>-18.0</td>\n      <td>-8.1</td>\n      <td>-12.3</td>\n      <td>47.0</td>\n      <td>0.00</td>\n      <td>...</td>\n      <td>0.0</td>\n      <td>0.0</td>\n      <td>1.0</td>\n      <td>0.0</td>\n      <td>0.0</td>\n      <td>0.0</td>\n      <td>0.0</td>\n      <td>0.0</td>\n      <td>0.0</td>\n      <td>0.0</td>\n    </tr>\n    <tr>\n      <th>4</th>\n      <td>2016-01-05</td>\n      <td>-1.8</td>\n      <td>-11.3</td>\n      <td>-6.3</td>\n      <td>-1.8</td>\n      <td>-20.4</td>\n      <td>-11.0</td>\n      <td>-18.5</td>\n      <td>39.8</td>\n      <td>0.00</td>\n      <td>...</td>\n      <td>1.0</td>\n      <td>0.0</td>\n      <td>0.0</td>\n      <td>0.0</td>\n      <td>0.0</td>\n      <td>0.0</td>\n      <td>0.0</td>\n      <td>0.0</td>\n      <td>0.0</td>\n      <td>0.0</td>\n    </tr>\n    <tr>\n      <th>...</th>\n      <td>...</td>\n      <td>...</td>\n      <td>...</td>\n      <td>...</td>\n      <td>...</td>\n      <td>...</td>\n      <td>...</td>\n      <td>...</td>\n      <td>...</td>\n      <td>...</td>\n      <td>...</td>\n      <td>...</td>\n      <td>...</td>\n      <td>...</td>\n      <td>...</td>\n      <td>...</td>\n      <td>...</td>\n      <td>...</td>\n      <td>...</td>\n      <td>...</td>\n      <td>...</td>\n    </tr>\n    <tr>\n      <th>726</th>\n      <td>2017-12-27</td>\n      <td>-4.2</td>\n      <td>-7.6</td>\n      <td>-6.0</td>\n      <td>-9.4</td>\n      <td>-14.5</td>\n      <td>-11.8</td>\n      <td>-17.1</td>\n      <td>41.3</td>\n      <td>0.00</td>\n      <td>...</td>\n      <td>0.0</td>\n      <td>0.0</td>\n      <td>1.0</td>\n      <td>0.0</td>\n      <td>0.0</td>\n      <td>0.0</td>\n      <td>0.0</td>\n      <td>0.0</td>\n      <td>0.0</td>\n      <td>0.0</td>\n    </tr>\n    <tr>\n      <th>727</th>\n      <td>2017-12-28</td>\n      <td>-7.5</td>\n      <td>-11.0</td>\n      <td>-9.1</td>\n      <td>-14.5</td>\n      <td>-18.4</td>\n      <td>-16.5</td>\n      <td>-19.5</td>\n      <td>43.2</td>\n      <td>0.00</td>\n      <td>...</td>\n      <td>1.0</td>\n      <td>0.0</td>\n      <td>0.0</td>\n      <td>0.0</td>\n      <td>0.0</td>\n      <td>0.0</td>\n      <td>0.0</td>\n      <td>0.0</td>\n      <td>0.0</td>\n      <td>0.0</td>\n    </tr>\n    <tr>\n      <th>728</th>\n      <td>2017-12-29</td>\n      <td>-5.7</td>\n      <td>-11.5</td>\n      <td>-8.7</td>\n      <td>-11.2</td>\n      <td>-18.7</td>\n      <td>-14.8</td>\n      <td>-17.3</td>\n      <td>50.0</td>\n      <td>0.00</td>\n      <td>...</td>\n      <td>0.0</td>\n      <td>0.0</td>\n      <td>1.0</td>\n      <td>0.0</td>\n      <td>0.0</td>\n      <td>0.0</td>\n      <td>0.0</td>\n      <td>0.0</td>\n      <td>0.0</td>\n      <td>0.0</td>\n    </tr>\n    <tr>\n      <th>729</th>\n      <td>2017-12-30</td>\n      <td>-5.0</td>\n      <td>-8.0</td>\n      <td>-6.4</td>\n      <td>-6.1</td>\n      <td>-13.8</td>\n      <td>-10.8</td>\n      <td>-12.0</td>\n      <td>65.3</td>\n      <td>2.03</td>\n      <td>...</td>\n      <td>0.0</td>\n      <td>0.0</td>\n      <td>0.0</td>\n      <td>0.0</td>\n      <td>0.0</td>\n      <td>0.0</td>\n      <td>1.0</td>\n      <td>0.0</td>\n      <td>0.0</td>\n      <td>0.0</td>\n    </tr>\n    <tr>\n      <th>730</th>\n      <td>2017-12-31</td>\n      <td>-6.6</td>\n      <td>-12.0</td>\n      <td>-9.4</td>\n      <td>-12.5</td>\n      <td>-20.9</td>\n      <td>-17.0</td>\n      <td>-17.7</td>\n      <td>51.4</td>\n      <td>1.62</td>\n      <td>...</td>\n      <td>0.0</td>\n      <td>0.0</td>\n      <td>0.0</td>\n      <td>0.0</td>\n      <td>0.0</td>\n      <td>0.0</td>\n      <td>1.0</td>\n      <td>0.0</td>\n      <td>0.0</td>\n      <td>0.0</td>\n    </tr>\n  </tbody>\n</table>\n<p>731 rows × 40 columns</p>\n</div>"
     },
     "execution_count": 10,
     "metadata": {},
     "output_type": "execute_result"
    }
   ],
   "source": [
    "weather_data = weather_data.drop(['preciptype',\n",
    "                                  'conditions'], axis = 1)\n",
    "\n",
    "for col in weather_ohe.columns:\n",
    "    new_col = weather_ohe[col]\n",
    "    new_col.index = range(len(new_col))\n",
    "\n",
    "    weather_data[str(col)] = new_col\n",
    "\n",
    "weather_data"
   ],
   "metadata": {
    "collapsed": false,
    "pycharm": {
     "name": "#%%\n"
    }
   }
  },
  {
   "cell_type": "markdown",
   "source": [
    "### Holiday data"
   ],
   "metadata": {
    "collapsed": false,
    "pycharm": {
     "name": "#%% md\n"
    }
   }
  },
  {
   "cell_type": "code",
   "execution_count": 11,
   "outputs": [],
   "source": [
    "# Holiday data 1: includes workday before holiday and workday after\n",
    "holiday_data1 = pd.read_excel('../data/raw/Holidays/NY Holidays 2016-2019.xlsx')"
   ],
   "metadata": {
    "collapsed": false,
    "pycharm": {
     "name": "#%%\n"
    }
   }
  },
  {
   "cell_type": "code",
   "execution_count": 12,
   "outputs": [],
   "source": [
    "holiday_data1['datetime'] = pd.to_datetime(holiday_data1['datetime']).dt.date"
   ],
   "metadata": {
    "collapsed": false,
    "pycharm": {
     "name": "#%%\n"
    }
   }
  },
  {
   "cell_type": "code",
   "execution_count": 13,
   "outputs": [
    {
     "data": {
      "text/plain": "       datetime  holiday1\n0    2016-01-01         1\n1    2016-01-02         1\n2    2016-01-15         1\n3    2016-01-18         1\n4    2016-01-19         1\n..          ...       ...\n127  2019-11-30         1\n128  2019-12-24         1\n129  2019-12-25         1\n130  2019-12-26         1\n131  2019-12-31         1\n\n[132 rows x 2 columns]",
      "text/html": "<div>\n<style scoped>\n    .dataframe tbody tr th:only-of-type {\n        vertical-align: middle;\n    }\n\n    .dataframe tbody tr th {\n        vertical-align: top;\n    }\n\n    .dataframe thead th {\n        text-align: right;\n    }\n</style>\n<table border=\"1\" class=\"dataframe\">\n  <thead>\n    <tr style=\"text-align: right;\">\n      <th></th>\n      <th>datetime</th>\n      <th>holiday1</th>\n    </tr>\n  </thead>\n  <tbody>\n    <tr>\n      <th>0</th>\n      <td>2016-01-01</td>\n      <td>1</td>\n    </tr>\n    <tr>\n      <th>1</th>\n      <td>2016-01-02</td>\n      <td>1</td>\n    </tr>\n    <tr>\n      <th>2</th>\n      <td>2016-01-15</td>\n      <td>1</td>\n    </tr>\n    <tr>\n      <th>3</th>\n      <td>2016-01-18</td>\n      <td>1</td>\n    </tr>\n    <tr>\n      <th>4</th>\n      <td>2016-01-19</td>\n      <td>1</td>\n    </tr>\n    <tr>\n      <th>...</th>\n      <td>...</td>\n      <td>...</td>\n    </tr>\n    <tr>\n      <th>127</th>\n      <td>2019-11-30</td>\n      <td>1</td>\n    </tr>\n    <tr>\n      <th>128</th>\n      <td>2019-12-24</td>\n      <td>1</td>\n    </tr>\n    <tr>\n      <th>129</th>\n      <td>2019-12-25</td>\n      <td>1</td>\n    </tr>\n    <tr>\n      <th>130</th>\n      <td>2019-12-26</td>\n      <td>1</td>\n    </tr>\n    <tr>\n      <th>131</th>\n      <td>2019-12-31</td>\n      <td>1</td>\n    </tr>\n  </tbody>\n</table>\n<p>132 rows × 2 columns</p>\n</div>"
     },
     "execution_count": 13,
     "metadata": {},
     "output_type": "execute_result"
    }
   ],
   "source": [
    "holiday_data1['holiday1'] = 1\n",
    "holiday_data1"
   ],
   "metadata": {
    "collapsed": false,
    "pycharm": {
     "name": "#%%\n"
    }
   }
  },
  {
   "cell_type": "code",
   "execution_count": 14,
   "outputs": [],
   "source": [
    "# Holiday data 2: only includes holiday\n",
    "holiday_data2 = pd.read_excel('../data/raw/Holidays/NY Holidays2 2016-2019.xlsx')"
   ],
   "metadata": {
    "collapsed": false,
    "pycharm": {
     "name": "#%%\n"
    }
   }
  },
  {
   "cell_type": "code",
   "execution_count": 15,
   "outputs": [],
   "source": [
    "holiday_data2['datetime'] = pd.to_datetime(holiday_data2['datetime']).dt.date"
   ],
   "metadata": {
    "collapsed": false,
    "pycharm": {
     "name": "#%%\n"
    }
   }
  },
  {
   "cell_type": "code",
   "execution_count": 16,
   "outputs": [
    {
     "data": {
      "text/plain": "      datetime  holiday2\n0   2016-01-01         1\n1   2016-01-18         1\n2   2016-02-12         1\n3   2016-05-27         1\n4   2016-07-01         1\n5   2016-09-05         1\n6   2016-10-10         1\n7   2016-11-11         1\n8   2016-11-24         1\n9   2016-12-26         1\n10  2017-01-02         1\n11  2017-01-16         1\n12  2017-02-13         1\n13  2017-02-20         1\n14  2017-05-29         1\n15  2017-07-04         1\n16  2017-09-04         1\n17  2017-10-09         1\n18  2017-11-10         1\n19  2017-11-23         1\n20  2017-12-25         1\n21  2018-01-01         1\n22  2018-01-15         1\n23  2018-02-12         1\n24  2018-02-19         1\n25  2018-05-28         1\n26  2018-07-04         1\n27  2018-09-03         1\n28  2018-10-08         1\n29  2018-11-12         1\n30  2018-11-22         1\n31  2018-12-05         1\n32  2018-12-25         1\n33  2019-01-01         1\n34  2019-01-21         1\n35  2019-02-12         1\n36  2019-02-18         1\n37  2019-05-27         1\n38  2019-07-04         1\n39  2019-09-02         1\n40  2019-10-14         1\n41  2019-11-11         1\n42  2019-11-28         1\n43  2019-12-25         1",
      "text/html": "<div>\n<style scoped>\n    .dataframe tbody tr th:only-of-type {\n        vertical-align: middle;\n    }\n\n    .dataframe tbody tr th {\n        vertical-align: top;\n    }\n\n    .dataframe thead th {\n        text-align: right;\n    }\n</style>\n<table border=\"1\" class=\"dataframe\">\n  <thead>\n    <tr style=\"text-align: right;\">\n      <th></th>\n      <th>datetime</th>\n      <th>holiday2</th>\n    </tr>\n  </thead>\n  <tbody>\n    <tr>\n      <th>0</th>\n      <td>2016-01-01</td>\n      <td>1</td>\n    </tr>\n    <tr>\n      <th>1</th>\n      <td>2016-01-18</td>\n      <td>1</td>\n    </tr>\n    <tr>\n      <th>2</th>\n      <td>2016-02-12</td>\n      <td>1</td>\n    </tr>\n    <tr>\n      <th>3</th>\n      <td>2016-05-27</td>\n      <td>1</td>\n    </tr>\n    <tr>\n      <th>4</th>\n      <td>2016-07-01</td>\n      <td>1</td>\n    </tr>\n    <tr>\n      <th>5</th>\n      <td>2016-09-05</td>\n      <td>1</td>\n    </tr>\n    <tr>\n      <th>6</th>\n      <td>2016-10-10</td>\n      <td>1</td>\n    </tr>\n    <tr>\n      <th>7</th>\n      <td>2016-11-11</td>\n      <td>1</td>\n    </tr>\n    <tr>\n      <th>8</th>\n      <td>2016-11-24</td>\n      <td>1</td>\n    </tr>\n    <tr>\n      <th>9</th>\n      <td>2016-12-26</td>\n      <td>1</td>\n    </tr>\n    <tr>\n      <th>10</th>\n      <td>2017-01-02</td>\n      <td>1</td>\n    </tr>\n    <tr>\n      <th>11</th>\n      <td>2017-01-16</td>\n      <td>1</td>\n    </tr>\n    <tr>\n      <th>12</th>\n      <td>2017-02-13</td>\n      <td>1</td>\n    </tr>\n    <tr>\n      <th>13</th>\n      <td>2017-02-20</td>\n      <td>1</td>\n    </tr>\n    <tr>\n      <th>14</th>\n      <td>2017-05-29</td>\n      <td>1</td>\n    </tr>\n    <tr>\n      <th>15</th>\n      <td>2017-07-04</td>\n      <td>1</td>\n    </tr>\n    <tr>\n      <th>16</th>\n      <td>2017-09-04</td>\n      <td>1</td>\n    </tr>\n    <tr>\n      <th>17</th>\n      <td>2017-10-09</td>\n      <td>1</td>\n    </tr>\n    <tr>\n      <th>18</th>\n      <td>2017-11-10</td>\n      <td>1</td>\n    </tr>\n    <tr>\n      <th>19</th>\n      <td>2017-11-23</td>\n      <td>1</td>\n    </tr>\n    <tr>\n      <th>20</th>\n      <td>2017-12-25</td>\n      <td>1</td>\n    </tr>\n    <tr>\n      <th>21</th>\n      <td>2018-01-01</td>\n      <td>1</td>\n    </tr>\n    <tr>\n      <th>22</th>\n      <td>2018-01-15</td>\n      <td>1</td>\n    </tr>\n    <tr>\n      <th>23</th>\n      <td>2018-02-12</td>\n      <td>1</td>\n    </tr>\n    <tr>\n      <th>24</th>\n      <td>2018-02-19</td>\n      <td>1</td>\n    </tr>\n    <tr>\n      <th>25</th>\n      <td>2018-05-28</td>\n      <td>1</td>\n    </tr>\n    <tr>\n      <th>26</th>\n      <td>2018-07-04</td>\n      <td>1</td>\n    </tr>\n    <tr>\n      <th>27</th>\n      <td>2018-09-03</td>\n      <td>1</td>\n    </tr>\n    <tr>\n      <th>28</th>\n      <td>2018-10-08</td>\n      <td>1</td>\n    </tr>\n    <tr>\n      <th>29</th>\n      <td>2018-11-12</td>\n      <td>1</td>\n    </tr>\n    <tr>\n      <th>30</th>\n      <td>2018-11-22</td>\n      <td>1</td>\n    </tr>\n    <tr>\n      <th>31</th>\n      <td>2018-12-05</td>\n      <td>1</td>\n    </tr>\n    <tr>\n      <th>32</th>\n      <td>2018-12-25</td>\n      <td>1</td>\n    </tr>\n    <tr>\n      <th>33</th>\n      <td>2019-01-01</td>\n      <td>1</td>\n    </tr>\n    <tr>\n      <th>34</th>\n      <td>2019-01-21</td>\n      <td>1</td>\n    </tr>\n    <tr>\n      <th>35</th>\n      <td>2019-02-12</td>\n      <td>1</td>\n    </tr>\n    <tr>\n      <th>36</th>\n      <td>2019-02-18</td>\n      <td>1</td>\n    </tr>\n    <tr>\n      <th>37</th>\n      <td>2019-05-27</td>\n      <td>1</td>\n    </tr>\n    <tr>\n      <th>38</th>\n      <td>2019-07-04</td>\n      <td>1</td>\n    </tr>\n    <tr>\n      <th>39</th>\n      <td>2019-09-02</td>\n      <td>1</td>\n    </tr>\n    <tr>\n      <th>40</th>\n      <td>2019-10-14</td>\n      <td>1</td>\n    </tr>\n    <tr>\n      <th>41</th>\n      <td>2019-11-11</td>\n      <td>1</td>\n    </tr>\n    <tr>\n      <th>42</th>\n      <td>2019-11-28</td>\n      <td>1</td>\n    </tr>\n    <tr>\n      <th>43</th>\n      <td>2019-12-25</td>\n      <td>1</td>\n    </tr>\n  </tbody>\n</table>\n</div>"
     },
     "execution_count": 16,
     "metadata": {},
     "output_type": "execute_result"
    }
   ],
   "source": [
    "holiday_data2['holiday2'] = 1\n",
    "holiday_data2"
   ],
   "metadata": {
    "collapsed": false,
    "pycharm": {
     "name": "#%%\n"
    }
   }
  },
  {
   "cell_type": "markdown",
   "source": [
    "### Import aggregated taxi data and join\n",
    "Different to Discrete Data, because the combined table size is too large and joining is costly, import each month and do joining before aggregation to save computational cost"
   ],
   "metadata": {
    "collapsed": false,
    "pycharm": {
     "name": "#%% md\n"
    }
   }
  },
  {
   "cell_type": "code",
   "execution_count": 17,
   "outputs": [
    {
     "name": "stdout",
     "output_type": "stream",
     "text": [
      "\n",
      " 2016-01_continuous.csv\n",
      "1502811\n",
      "start_merge1\n",
      "start_merge2\n",
      "start_merge3\n",
      "end_merge\n",
      "end 2016-01_continuous.csv\n",
      "\n",
      " 2016-02_continuous.csv\n",
      "1494316\n",
      "start_merge1\n",
      "start_merge2\n",
      "start_merge3\n",
      "end_merge\n",
      "end 2016-02_continuous.csv\n",
      "\n",
      " 2016-03_continuous.csv\n",
      "1619320\n",
      "start_merge1\n",
      "start_merge2\n",
      "start_merge3\n",
      "end_merge\n",
      "end 2016-03_continuous.csv\n",
      "\n",
      " 2016-04_continuous.csv\n",
      "1583251\n",
      "start_merge1\n",
      "start_merge2\n",
      "start_merge3\n",
      "end_merge\n",
      "end 2016-04_continuous.csv\n",
      "\n",
      " 2016-05_continuous.csv\n",
      "1631094\n",
      "start_merge1\n",
      "start_merge2\n",
      "start_merge3\n",
      "end_merge\n",
      "end 2016-05_continuous.csv\n",
      "\n",
      " 2016-06_continuous.csv\n",
      "1546447\n",
      "start_merge1\n",
      "start_merge2\n",
      "start_merge3\n",
      "end_merge\n",
      "end 2016-06_continuous.csv\n"
     ]
    }
   ],
   "source": [
    "joined_data = pd.DataFrame()\n",
    "for file in sorted(os.listdir('../data/curated/cleaned/continuous')):\n",
    "    if '2016-01' in file or '2016-02' in file or '2016-03' in file or \\\n",
    "            '2016-04' in file or '2016-05' in file or '2016-06' in file:\n",
    "        print('\\n', file)\n",
    "        data = pd.read_csv(f'../data/curated/cleaned/continuous/{file}')\n",
    "        print(len(data))\n",
    "\n",
    "        # create column called weekday\n",
    "        data['weekday'] = pd.to_datetime(data['datetime']).dt.weekday\n",
    "\n",
    "        # create weekday labels (one hot encoded)\n",
    "        data['weekdaylabel1_weekday'] = data['weekday'].apply(lambda x:(1 if\n",
    "                                                                x in [0, 1, 2, 3, 4] else 0))\n",
    "        data['weekdaylabel1_weekend'] = data['weekday'].apply(lambda x:(1 if\n",
    "                                                                x in [5, 6] else 0))\n",
    "\n",
    "        data['weekdaylabel2_weekday'] = data['weekday'].apply(lambda x:(1 if\n",
    "                                                                x in [0, 1, 2, 3] else 0))\n",
    "        data['weekdaylabel2_friday'] = data['weekday'].apply(lambda x:(1 if\n",
    "                                                                x in [4] else 0))\n",
    "        data['weekdaylabel2_weekend'] = data['weekday'].apply(lambda x:(1 if\n",
    "                                                                x in [5, 6] else 0))\n",
    "\n",
    "        data = data.drop(['weekday'], axis = 1)\n",
    "\n",
    "        # merge with external data\n",
    "        print('start_merge1')\n",
    "        # merge weather data\n",
    "        data['datetime'] = pd.to_datetime(data['datetime']).dt.date\n",
    "        data = data.merge(weather_data, on='datetime', how='inner')\n",
    "        print('start_merge2')\n",
    "        # merge holiday1 data\n",
    "        data = data.merge(holiday_data1, on='datetime', how='left')\n",
    "        print('start_merge3')\n",
    "        # merge holiday2 data\n",
    "        data = data.merge(holiday_data2, on = 'datetime', how='left')\n",
    "        data = data.replace(np.nan, 0)\n",
    "        print('end_merge')\n",
    "\n",
    "        joined_data = joined_data.append(data)\n",
    "        print(f'end {file}')"
   ],
   "metadata": {
    "collapsed": false,
    "pycharm": {
     "name": "#%%\n"
    }
   }
  },
  {
   "cell_type": "markdown",
   "source": [
    "# EDA on aggregated data and Plots"
   ],
   "metadata": {
    "collapsed": false,
    "pycharm": {
     "name": "#%% md\n"
    }
   }
  },
  {
   "cell_type": "code",
   "execution_count": 18,
   "outputs": [
    {
     "data": {
      "text/plain": "9377239"
     },
     "execution_count": 18,
     "metadata": {},
     "output_type": "execute_result"
    }
   ],
   "source": [
    "len(joined_data)"
   ],
   "metadata": {
    "collapsed": false,
    "pycharm": {
     "name": "#%%\n"
    }
   }
  },
  {
   "cell_type": "code",
   "execution_count": 19,
   "outputs": [
    {
     "data": {
      "text/plain": "<Figure size 432x288 with 1 Axes>",
      "image/png": "[encoded data removed]"
     },
     "metadata": {
      "needs_background": "light"
     },
     "output_type": "display_data"
    },
    {
     "data": {
      "text/plain": "<Figure size 432x288 with 0 Axes>"
     },
     "metadata": {},
     "output_type": "display_data"
    }
   ],
   "source": [
    "plt.boxplot(joined_data['count']);\n",
    "# plt.xlabel('')\n",
    "plt.ylabel('Counts')\n",
    "plt.title('Boxplot of Counts of Continuous Data')\n",
    "plt.show()\n",
    "plt.savefig('../plots/Boxplot of Counts of Continuous Data.png')"
   ],
   "metadata": {
    "collapsed": false,
    "pycharm": {
     "name": "#%%\n"
    }
   }
  },
  {
   "cell_type": "code",
   "execution_count": 20,
   "outputs": [
    {
     "data": {
      "text/plain": "count    9.377239e+06\nmean     8.221149e+00\nstd      1.814726e+01\nmin      1.000000e+00\n25%      1.000000e+00\n50%      2.000000e+00\n75%      7.000000e+00\nmax      7.270000e+02\nName: count, dtype: float64"
     },
     "execution_count": 20,
     "metadata": {},
     "output_type": "execute_result"
    }
   ],
   "source": [
    "joined_data['count'].describe()"
   ],
   "metadata": {
    "collapsed": false,
    "pycharm": {
     "name": "#%%\n"
    }
   }
  },
  {
   "cell_type": "code",
   "execution_count": 24,
   "outputs": [
    {
     "name": "stdout",
     "output_type": "stream",
     "text": [
      "8.221148890414332\n",
      "18.147260256095024\n",
      "9377239\n"
     ]
    }
   ],
   "source": [
    "count_mean = np.mean(joined_data['count'])\n",
    "count_sd = np.std(joined_data['count'])\n",
    "count_n = len(joined_data['count'])\n",
    "print(count_mean)\n",
    "print(count_sd)\n",
    "print(count_n)"
   ],
   "metadata": {
    "collapsed": false,
    "pycharm": {
     "name": "#%%\n"
    }
   }
  },
  {
   "cell_type": "code",
   "execution_count": 21,
   "outputs": [
    {
     "data": {
      "text/plain": "2424270"
     },
     "execution_count": 21,
     "metadata": {},
     "output_type": "execute_result"
    }
   ],
   "source": [
    "# discard data under 75% quantile\n",
    "joined_data_75 = joined_data[joined_data['count'] >= 7]\n",
    "len(joined_data_75)"
   ],
   "metadata": {
    "collapsed": false,
    "pycharm": {
     "name": "#%%\n"
    }
   }
  },
  {
   "cell_type": "code",
   "execution_count": 22,
   "outputs": [
    {
     "data": {
      "text/plain": "count    2.424270e+06\nmean     2.599186e+01\nstd      2.901863e+01\nmin      7.000000e+00\n25%      1.000000e+01\n50%      1.600000e+01\n75%      3.000000e+01\nmax      7.270000e+02\nName: count, dtype: float64"
     },
     "execution_count": 22,
     "metadata": {},
     "output_type": "execute_result"
    }
   ],
   "source": [
    "joined_data_75['count'].describe()"
   ],
   "metadata": {
    "collapsed": false,
    "pycharm": {
     "name": "#%%\n"
    }
   }
  },
  {
   "cell_type": "code",
   "execution_count": 23,
   "outputs": [
    {
     "data": {
      "text/plain": "<Figure size 432x288 with 1 Axes>",
      "image/png": "[encoded data removed]"
     },
     "metadata": {
      "needs_background": "light"
     },
     "output_type": "display_data"
    },
    {
     "data": {
      "text/plain": "<Figure size 432x288 with 0 Axes>"
     },
     "metadata": {},
     "output_type": "display_data"
    }
   ],
   "source": [
    "plt.boxplot(list(joined_data_75['count']));\n",
    "\n",
    "plt.ylabel('Counts')\n",
    "plt.title('Boxplot of Counts of Continuous Data (>75%Quant)')\n",
    "plt.show()\n",
    "plt.savefig('../plots/Boxplot of Counts of Continuous Data (>75%Quant)')"
   ],
   "metadata": {
    "collapsed": false,
    "pycharm": {
     "name": "#%%\n"
    }
   }
  },
  {
   "cell_type": "code",
   "execution_count": 24,
   "outputs": [
    {
     "data": {
      "text/plain": "<Figure size 1200x720 with 1 Axes>",
      "image/png": "[encoded data removed]"
     },
     "metadata": {
      "needs_background": "light"
     },
     "output_type": "display_data"
    }
   ],
   "source": [
    "# Create the plot to use in report\n",
    "from matplotlib.pyplot import figure\n",
    "figure(figsize=(10, 6), dpi=120)\n",
    "\n",
    "dataA = joined_data['count']\n",
    "\n",
    "dataB = joined_data_75['count']\n",
    "\n",
    "plt.boxplot([dataA, dataB])\n",
    "plt.yticks(fontsize=16)\n",
    "plt.xticks([1, 2], ['Full', '>75% Quantile'], fontsize=16)\n",
    "plt.title(\"Boxplot: Count of Continuous Labelled Data\", fontsize=20)\n",
    "plt.xlabel('Dataset', fontsize=18)\n",
    "plt.ylabel('Count', fontsize=18);\n",
    "\n",
    "plt.savefig('../plots/boxplot_continuous.png')"
   ],
   "metadata": {
    "collapsed": false,
    "pycharm": {
     "name": "#%%\n"
    }
   }
  },
  {
   "cell_type": "code",
   "execution_count": 28,
   "outputs": [
    {
     "data": {
      "text/plain": "<Figure size 432x288 with 1 Axes>",
      "image/png": "[encoded data removed]"
     },
     "metadata": {
      "needs_background": "light"
     },
     "output_type": "display_data"
    },
    {
     "data": {
      "text/plain": "<Figure size 432x288 with 0 Axes>"
     },
     "metadata": {},
     "output_type": "display_data"
    }
   ],
   "source": [
    "plt.hist(list(joined_data_75['count']), bins=10);\n",
    "\n",
    "plt.ylabel('Counts of Counts that fall within Bin')\n",
    "plt.xlabel('Counts of {DO,PU,3HrB}')\n",
    "plt.title('Histogram Distribution of {DO,PU,3HrB} in Continuous Data')\n",
    "\n",
    "plt.show()\n",
    "plt.savefig('../plots/Histogram Distribution of {DO,PU,3HrB} in '\n",
    "            'Continuous Data (>75%Quant).png')"
   ],
   "metadata": {
    "collapsed": false,
    "pycharm": {
     "name": "#%%\n"
    }
   }
  },
  {
   "cell_type": "markdown",
   "source": [
    "# One Hot Encode 3 Hour Block (from original data)"
   ],
   "metadata": {
    "collapsed": false,
    "pycharm": {
     "name": "#%% md\n"
    }
   }
  },
  {
   "cell_type": "code",
   "execution_count": 28,
   "outputs": [
    {
     "data": {
      "text/plain": "         DOLocationID  PULocationID    datetime  count  weekdaylabel1_weekday  \\\n30                  1           186  2016-01-01      7                      1   \n48                  1            68  2016-01-01      8                      1   \n62                  1           161  2016-01-01      9                      1   \n65                  1           164  2016-01-01      8                      1   \n73                  1           230  2016-01-01      9                      1   \n...               ...           ...         ...    ...                    ...   \n1546439           263           239  2016-06-14     37                      1   \n1546440           263           246  2016-06-14      7                      1   \n1546441           263           249  2016-06-14     17                      1   \n1546445           263           262  2016-06-14     14                      1   \n1546446           263           263  2016-06-14     45                      1   \n\n         weekdaylabel1_weekend  weekdaylabel2_weekday  weekdaylabel2_friday  \\\n30                           0                      0                     1   \n48                           0                      0                     1   \n62                           0                      0                     1   \n65                           0                      0                     1   \n73                           0                      0                     1   \n...                        ...                    ...                   ...   \n1546439                      0                      1                     0   \n1546440                      0                      1                     0   \n1546441                      0                      1                     0   \n1546445                      0                      1                     0   \n1546446                      0                      1                     0   \n\n         weekdaylabel2_weekend  tempmax  ...  holiday1  holiday2  hour_0  \\\n30                           0      5.8  ...       1.0       1.0     1.0   \n48                           0      5.8  ...       1.0       1.0     1.0   \n62                           0      5.8  ...       1.0       1.0     0.0   \n65                           0      5.8  ...       1.0       1.0     0.0   \n73                           0      5.8  ...       1.0       1.0     0.0   \n...                        ...      ...  ...       ...       ...     ...   \n1546439                      0     26.3  ...       0.0       0.0     0.0   \n1546440                      0     26.3  ...       0.0       0.0     0.0   \n1546441                      0     26.3  ...       0.0       0.0     0.0   \n1546445                      0     26.3  ...       0.0       0.0     0.0   \n1546446                      0     26.3  ...       0.0       0.0     0.0   \n\n         hour_1  hour_2  hour_3  hour_4  hour_5  hour_6  hour_7  \n30          0.0     0.0     0.0     0.0     0.0     0.0     0.0  \n48          0.0     0.0     0.0     0.0     0.0     0.0     0.0  \n62          1.0     0.0     0.0     0.0     0.0     0.0     0.0  \n65          1.0     0.0     0.0     0.0     0.0     0.0     0.0  \n73          1.0     0.0     0.0     0.0     0.0     0.0     0.0  \n...         ...     ...     ...     ...     ...     ...     ...  \n1546439     0.0     0.0     0.0     0.0     0.0     1.0     0.0  \n1546440     0.0     0.0     0.0     0.0     0.0     1.0     0.0  \n1546441     0.0     0.0     0.0     0.0     0.0     0.0     1.0  \n1546445     0.0     0.0     0.0     0.0     0.0     0.0     1.0  \n1546446     0.0     0.0     0.0     0.0     0.0     0.0     1.0  \n\n[2424270 rows x 58 columns]",
      "text/html": "<div>\n<style scoped>\n    .dataframe tbody tr th:only-of-type {\n        vertical-align: middle;\n    }\n\n    .dataframe tbody tr th {\n        vertical-align: top;\n    }\n\n    .dataframe thead th {\n        text-align: right;\n    }\n</style>\n<table border=\"1\" class=\"dataframe\">\n  <thead>\n    <tr style=\"text-align: right;\">\n      <th></th>\n      <th>DOLocationID</th>\n      <th>PULocationID</th>\n      <th>datetime</th>\n      <th>count</th>\n      <th>weekdaylabel1_weekday</th>\n      <th>weekdaylabel1_weekend</th>\n      <th>weekdaylabel2_weekday</th>\n      <th>weekdaylabel2_friday</th>\n      <th>weekdaylabel2_weekend</th>\n      <th>tempmax</th>\n      <th>...</th>\n      <th>holiday1</th>\n      <th>holiday2</th>\n      <th>hour_0</th>\n      <th>hour_1</th>\n      <th>hour_2</th>\n      <th>hour_3</th>\n      <th>hour_4</th>\n      <th>hour_5</th>\n      <th>hour_6</th>\n      <th>hour_7</th>\n    </tr>\n  </thead>\n  <tbody>\n    <tr>\n      <th>30</th>\n      <td>1</td>\n      <td>186</td>\n      <td>2016-01-01</td>\n      <td>7</td>\n      <td>1</td>\n      <td>0</td>\n      <td>0</td>\n      <td>1</td>\n      <td>0</td>\n      <td>5.8</td>\n      <td>...</td>\n      <td>1.0</td>\n      <td>1.0</td>\n      <td>1.0</td>\n      <td>0.0</td>\n      <td>0.0</td>\n      <td>0.0</td>\n      <td>0.0</td>\n      <td>0.0</td>\n      <td>0.0</td>\n      <td>0.0</td>\n    </tr>\n    <tr>\n      <th>48</th>\n      <td>1</td>\n      <td>68</td>\n      <td>2016-01-01</td>\n      <td>8</td>\n      <td>1</td>\n      <td>0</td>\n      <td>0</td>\n      <td>1</td>\n      <td>0</td>\n      <td>5.8</td>\n      <td>...</td>\n      <td>1.0</td>\n      <td>1.0</td>\n      <td>1.0</td>\n      <td>0.0</td>\n      <td>0.0</td>\n      <td>0.0</td>\n      <td>0.0</td>\n      <td>0.0</td>\n      <td>0.0</td>\n      <td>0.0</td>\n    </tr>\n    <tr>\n      <th>62</th>\n      <td>1</td>\n      <td>161</td>\n      <td>2016-01-01</td>\n      <td>9</td>\n      <td>1</td>\n      <td>0</td>\n      <td>0</td>\n      <td>1</td>\n      <td>0</td>\n      <td>5.8</td>\n      <td>...</td>\n      <td>1.0</td>\n      <td>1.0</td>\n      <td>0.0</td>\n      <td>1.0</td>\n      <td>0.0</td>\n      <td>0.0</td>\n      <td>0.0</td>\n      <td>0.0</td>\n      <td>0.0</td>\n      <td>0.0</td>\n    </tr>\n    <tr>\n      <th>65</th>\n      <td>1</td>\n      <td>164</td>\n      <td>2016-01-01</td>\n      <td>8</td>\n      <td>1</td>\n      <td>0</td>\n      <td>0</td>\n      <td>1</td>\n      <td>0</td>\n      <td>5.8</td>\n      <td>...</td>\n      <td>1.0</td>\n      <td>1.0</td>\n      <td>0.0</td>\n      <td>1.0</td>\n      <td>0.0</td>\n      <td>0.0</td>\n      <td>0.0</td>\n      <td>0.0</td>\n      <td>0.0</td>\n      <td>0.0</td>\n    </tr>\n    <tr>\n      <th>73</th>\n      <td>1</td>\n      <td>230</td>\n      <td>2016-01-01</td>\n      <td>9</td>\n      <td>1</td>\n      <td>0</td>\n      <td>0</td>\n      <td>1</td>\n      <td>0</td>\n      <td>5.8</td>\n      <td>...</td>\n      <td>1.0</td>\n      <td>1.0</td>\n      <td>0.0</td>\n      <td>1.0</td>\n      <td>0.0</td>\n      <td>0.0</td>\n      <td>0.0</td>\n      <td>0.0</td>\n      <td>0.0</td>\n      <td>0.0</td>\n    </tr>\n    <tr>\n      <th>...</th>\n      <td>...</td>\n      <td>...</td>\n      <td>...</td>\n      <td>...</td>\n      <td>...</td>\n      <td>...</td>\n      <td>...</td>\n      <td>...</td>\n      <td>...</td>\n      <td>...</td>\n      <td>...</td>\n      <td>...</td>\n      <td>...</td>\n      <td>...</td>\n      <td>...</td>\n      <td>...</td>\n      <td>...</td>\n      <td>...</td>\n      <td>...</td>\n      <td>...</td>\n      <td>...</td>\n    </tr>\n    <tr>\n      <th>1546439</th>\n      <td>263</td>\n      <td>239</td>\n      <td>2016-06-14</td>\n      <td>37</td>\n      <td>1</td>\n      <td>0</td>\n      <td>1</td>\n      <td>0</td>\n      <td>0</td>\n      <td>26.3</td>\n      <td>...</td>\n      <td>0.0</td>\n      <td>0.0</td>\n      <td>0.0</td>\n      <td>0.0</td>\n      <td>0.0</td>\n      <td>0.0</td>\n      <td>0.0</td>\n      <td>0.0</td>\n      <td>1.0</td>\n      <td>0.0</td>\n    </tr>\n    <tr>\n      <th>1546440</th>\n      <td>263</td>\n      <td>246</td>\n      <td>2016-06-14</td>\n      <td>7</td>\n      <td>1</td>\n      <td>0</td>\n      <td>1</td>\n      <td>0</td>\n      <td>0</td>\n      <td>26.3</td>\n      <td>...</td>\n      <td>0.0</td>\n      <td>0.0</td>\n      <td>0.0</td>\n      <td>0.0</td>\n      <td>0.0</td>\n      <td>0.0</td>\n      <td>0.0</td>\n      <td>0.0</td>\n      <td>1.0</td>\n      <td>0.0</td>\n    </tr>\n    <tr>\n      <th>1546441</th>\n      <td>263</td>\n      <td>249</td>\n      <td>2016-06-14</td>\n      <td>17</td>\n      <td>1</td>\n      <td>0</td>\n      <td>1</td>\n      <td>0</td>\n      <td>0</td>\n      <td>26.3</td>\n      <td>...</td>\n      <td>0.0</td>\n      <td>0.0</td>\n      <td>0.0</td>\n      <td>0.0</td>\n      <td>0.0</td>\n      <td>0.0</td>\n      <td>0.0</td>\n      <td>0.0</td>\n      <td>0.0</td>\n      <td>1.0</td>\n    </tr>\n    <tr>\n      <th>1546445</th>\n      <td>263</td>\n      <td>262</td>\n      <td>2016-06-14</td>\n      <td>14</td>\n      <td>1</td>\n      <td>0</td>\n      <td>1</td>\n      <td>0</td>\n      <td>0</td>\n      <td>26.3</td>\n      <td>...</td>\n      <td>0.0</td>\n      <td>0.0</td>\n      <td>0.0</td>\n      <td>0.0</td>\n      <td>0.0</td>\n      <td>0.0</td>\n      <td>0.0</td>\n      <td>0.0</td>\n      <td>0.0</td>\n      <td>1.0</td>\n    </tr>\n    <tr>\n      <th>1546446</th>\n      <td>263</td>\n      <td>263</td>\n      <td>2016-06-14</td>\n      <td>45</td>\n      <td>1</td>\n      <td>0</td>\n      <td>1</td>\n      <td>0</td>\n      <td>0</td>\n      <td>26.3</td>\n      <td>...</td>\n      <td>0.0</td>\n      <td>0.0</td>\n      <td>0.0</td>\n      <td>0.0</td>\n      <td>0.0</td>\n      <td>0.0</td>\n      <td>0.0</td>\n      <td>0.0</td>\n      <td>0.0</td>\n      <td>1.0</td>\n    </tr>\n  </tbody>\n</table>\n<p>2424270 rows × 58 columns</p>\n</div>"
     },
     "execution_count": 28,
     "metadata": {},
     "output_type": "execute_result"
    }
   ],
   "source": [
    "ohe = OneHotEncoder(handle_unknown='ignore')\n",
    "\n",
    "joined_to_ohe = joined_data_75[['hour']]\n",
    "joined_ohe = ohe.fit_transform(joined_to_ohe).toarray()\n",
    "\n",
    "joined_ohe = pd.DataFrame(joined_ohe, columns=list(ohe.get_feature_names_out(['hour'])))\n",
    "\n",
    "joined_data_75 = joined_data_75.drop(['hour'], axis=1)\n",
    "\n",
    "for col in joined_ohe.columns:\n",
    "    new_col = joined_ohe[col]\n",
    "    new_col.index = range(len(new_col))\n",
    "\n",
    "    joined_data_75[str(col)] = new_col\n",
    "\n",
    "joined_data_75"
   ],
   "metadata": {
    "collapsed": false,
    "pycharm": {
     "name": "#%%\n"
    }
   }
  },
  {
   "cell_type": "code",
   "execution_count": 29,
   "outputs": [
    {
     "data": {
      "text/plain": "         DOLocationID  PULocationID    datetime  count  weekdaylabel1_weekday  \\\n30                  1           186  2016-01-01      7                      1   \n48                  1            68  2016-01-01      8                      1   \n62                  1           161  2016-01-01      9                      1   \n65                  1           164  2016-01-01      8                      1   \n73                  1           230  2016-01-01      9                      1   \n...               ...           ...         ...    ...                    ...   \n1546439           263           239  2016-06-14     37                      1   \n1546440           263           246  2016-06-14      7                      1   \n1546441           263           249  2016-06-14     17                      1   \n1546445           263           262  2016-06-14     14                      1   \n1546446           263           263  2016-06-14     45                      1   \n\n         weekdaylabel1_weekend  weekdaylabel2_weekday  weekdaylabel2_friday  \\\n30                           0                      0                     1   \n48                           0                      0                     1   \n62                           0                      0                     1   \n65                           0                      0                     1   \n73                           0                      0                     1   \n...                        ...                    ...                   ...   \n1546439                      0                      1                     0   \n1546440                      0                      1                     0   \n1546441                      0                      1                     0   \n1546445                      0                      1                     0   \n1546446                      0                      1                     0   \n\n         weekdaylabel2_weekend  tempmax  ...  holiday1  holiday2  hour_0  \\\n30                           0      5.8  ...       1.0       1.0     1.0   \n48                           0      5.8  ...       1.0       1.0     1.0   \n62                           0      5.8  ...       1.0       1.0     0.0   \n65                           0      5.8  ...       1.0       1.0     0.0   \n73                           0      5.8  ...       1.0       1.0     0.0   \n...                        ...      ...  ...       ...       ...     ...   \n1546439                      0     26.3  ...       0.0       0.0     0.0   \n1546440                      0     26.3  ...       0.0       0.0     0.0   \n1546441                      0     26.3  ...       0.0       0.0     0.0   \n1546445                      0     26.3  ...       0.0       0.0     0.0   \n1546446                      0     26.3  ...       0.0       0.0     0.0   \n\n         hour_1  hour_2  hour_3  hour_4  hour_5  hour_6  hour_7  \n30          0.0     0.0     0.0     0.0     0.0     0.0     0.0  \n48          0.0     0.0     0.0     0.0     0.0     0.0     0.0  \n62          1.0     0.0     0.0     0.0     0.0     0.0     0.0  \n65          1.0     0.0     0.0     0.0     0.0     0.0     0.0  \n73          1.0     0.0     0.0     0.0     0.0     0.0     0.0  \n...         ...     ...     ...     ...     ...     ...     ...  \n1546439     0.0     0.0     0.0     0.0     0.0     1.0     0.0  \n1546440     0.0     0.0     0.0     0.0     0.0     1.0     0.0  \n1546441     0.0     0.0     0.0     0.0     0.0     0.0     1.0  \n1546445     0.0     0.0     0.0     0.0     0.0     0.0     1.0  \n1546446     0.0     0.0     0.0     0.0     0.0     0.0     1.0  \n\n[2424270 rows x 58 columns]",
      "text/html": "<div>\n<style scoped>\n    .dataframe tbody tr th:only-of-type {\n        vertical-align: middle;\n    }\n\n    .dataframe tbody tr th {\n        vertical-align: top;\n    }\n\n    .dataframe thead th {\n        text-align: right;\n    }\n</style>\n<table border=\"1\" class=\"dataframe\">\n  <thead>\n    <tr style=\"text-align: right;\">\n      <th></th>\n      <th>DOLocationID</th>\n      <th>PULocationID</th>\n      <th>datetime</th>\n      <th>count</th>\n      <th>weekdaylabel1_weekday</th>\n      <th>weekdaylabel1_weekend</th>\n      <th>weekdaylabel2_weekday</th>\n      <th>weekdaylabel2_friday</th>\n      <th>weekdaylabel2_weekend</th>\n      <th>tempmax</th>\n      <th>...</th>\n      <th>holiday1</th>\n      <th>holiday2</th>\n      <th>hour_0</th>\n      <th>hour_1</th>\n      <th>hour_2</th>\n      <th>hour_3</th>\n      <th>hour_4</th>\n      <th>hour_5</th>\n      <th>hour_6</th>\n      <th>hour_7</th>\n    </tr>\n  </thead>\n  <tbody>\n    <tr>\n      <th>30</th>\n      <td>1</td>\n      <td>186</td>\n      <td>2016-01-01</td>\n      <td>7</td>\n      <td>1</td>\n      <td>0</td>\n      <td>0</td>\n      <td>1</td>\n      <td>0</td>\n      <td>5.8</td>\n      <td>...</td>\n      <td>1.0</td>\n      <td>1.0</td>\n      <td>1.0</td>\n      <td>0.0</td>\n      <td>0.0</td>\n      <td>0.0</td>\n      <td>0.0</td>\n      <td>0.0</td>\n      <td>0.0</td>\n      <td>0.0</td>\n    </tr>\n    <tr>\n      <th>48</th>\n      <td>1</td>\n      <td>68</td>\n      <td>2016-01-01</td>\n      <td>8</td>\n      <td>1</td>\n      <td>0</td>\n      <td>0</td>\n      <td>1</td>\n      <td>0</td>\n      <td>5.8</td>\n      <td>...</td>\n      <td>1.0</td>\n      <td>1.0</td>\n      <td>1.0</td>\n      <td>0.0</td>\n      <td>0.0</td>\n      <td>0.0</td>\n      <td>0.0</td>\n      <td>0.0</td>\n      <td>0.0</td>\n      <td>0.0</td>\n    </tr>\n    <tr>\n      <th>62</th>\n      <td>1</td>\n      <td>161</td>\n      <td>2016-01-01</td>\n      <td>9</td>\n      <td>1</td>\n      <td>0</td>\n      <td>0</td>\n      <td>1</td>\n      <td>0</td>\n      <td>5.8</td>\n      <td>...</td>\n      <td>1.0</td>\n      <td>1.0</td>\n      <td>0.0</td>\n      <td>1.0</td>\n      <td>0.0</td>\n      <td>0.0</td>\n      <td>0.0</td>\n      <td>0.0</td>\n      <td>0.0</td>\n      <td>0.0</td>\n    </tr>\n    <tr>\n      <th>65</th>\n      <td>1</td>\n      <td>164</td>\n      <td>2016-01-01</td>\n      <td>8</td>\n      <td>1</td>\n      <td>0</td>\n      <td>0</td>\n      <td>1</td>\n      <td>0</td>\n      <td>5.8</td>\n      <td>...</td>\n      <td>1.0</td>\n      <td>1.0</td>\n      <td>0.0</td>\n      <td>1.0</td>\n      <td>0.0</td>\n      <td>0.0</td>\n      <td>0.0</td>\n      <td>0.0</td>\n      <td>0.0</td>\n      <td>0.0</td>\n    </tr>\n    <tr>\n      <th>73</th>\n      <td>1</td>\n      <td>230</td>\n      <td>2016-01-01</td>\n      <td>9</td>\n      <td>1</td>\n      <td>0</td>\n      <td>0</td>\n      <td>1</td>\n      <td>0</td>\n      <td>5.8</td>\n      <td>...</td>\n      <td>1.0</td>\n      <td>1.0</td>\n      <td>0.0</td>\n      <td>1.0</td>\n      <td>0.0</td>\n      <td>0.0</td>\n      <td>0.0</td>\n      <td>0.0</td>\n      <td>0.0</td>\n      <td>0.0</td>\n    </tr>\n    <tr>\n      <th>...</th>\n      <td>...</td>\n      <td>...</td>\n      <td>...</td>\n      <td>...</td>\n      <td>...</td>\n      <td>...</td>\n      <td>...</td>\n      <td>...</td>\n      <td>...</td>\n      <td>...</td>\n      <td>...</td>\n      <td>...</td>\n      <td>...</td>\n      <td>...</td>\n      <td>...</td>\n      <td>...</td>\n      <td>...</td>\n      <td>...</td>\n      <td>...</td>\n      <td>...</td>\n      <td>...</td>\n    </tr>\n    <tr>\n      <th>1546439</th>\n      <td>263</td>\n      <td>239</td>\n      <td>2016-06-14</td>\n      <td>37</td>\n      <td>1</td>\n      <td>0</td>\n      <td>1</td>\n      <td>0</td>\n      <td>0</td>\n      <td>26.3</td>\n      <td>...</td>\n      <td>0.0</td>\n      <td>0.0</td>\n      <td>0.0</td>\n      <td>0.0</td>\n      <td>0.0</td>\n      <td>0.0</td>\n      <td>0.0</td>\n      <td>0.0</td>\n      <td>1.0</td>\n      <td>0.0</td>\n    </tr>\n    <tr>\n      <th>1546440</th>\n      <td>263</td>\n      <td>246</td>\n      <td>2016-06-14</td>\n      <td>7</td>\n      <td>1</td>\n      <td>0</td>\n      <td>1</td>\n      <td>0</td>\n      <td>0</td>\n      <td>26.3</td>\n      <td>...</td>\n      <td>0.0</td>\n      <td>0.0</td>\n      <td>0.0</td>\n      <td>0.0</td>\n      <td>0.0</td>\n      <td>0.0</td>\n      <td>0.0</td>\n      <td>0.0</td>\n      <td>1.0</td>\n      <td>0.0</td>\n    </tr>\n    <tr>\n      <th>1546441</th>\n      <td>263</td>\n      <td>249</td>\n      <td>2016-06-14</td>\n      <td>17</td>\n      <td>1</td>\n      <td>0</td>\n      <td>1</td>\n      <td>0</td>\n      <td>0</td>\n      <td>26.3</td>\n      <td>...</td>\n      <td>0.0</td>\n      <td>0.0</td>\n      <td>0.0</td>\n      <td>0.0</td>\n      <td>0.0</td>\n      <td>0.0</td>\n      <td>0.0</td>\n      <td>0.0</td>\n      <td>0.0</td>\n      <td>1.0</td>\n    </tr>\n    <tr>\n      <th>1546445</th>\n      <td>263</td>\n      <td>262</td>\n      <td>2016-06-14</td>\n      <td>14</td>\n      <td>1</td>\n      <td>0</td>\n      <td>1</td>\n      <td>0</td>\n      <td>0</td>\n      <td>26.3</td>\n      <td>...</td>\n      <td>0.0</td>\n      <td>0.0</td>\n      <td>0.0</td>\n      <td>0.0</td>\n      <td>0.0</td>\n      <td>0.0</td>\n      <td>0.0</td>\n      <td>0.0</td>\n      <td>0.0</td>\n      <td>1.0</td>\n    </tr>\n    <tr>\n      <th>1546446</th>\n      <td>263</td>\n      <td>263</td>\n      <td>2016-06-14</td>\n      <td>45</td>\n      <td>1</td>\n      <td>0</td>\n      <td>1</td>\n      <td>0</td>\n      <td>0</td>\n      <td>26.3</td>\n      <td>...</td>\n      <td>0.0</td>\n      <td>0.0</td>\n      <td>0.0</td>\n      <td>0.0</td>\n      <td>0.0</td>\n      <td>0.0</td>\n      <td>0.0</td>\n      <td>0.0</td>\n      <td>0.0</td>\n      <td>1.0</td>\n    </tr>\n  </tbody>\n</table>\n<p>2424270 rows × 58 columns</p>\n</div>"
     },
     "execution_count": 29,
     "metadata": {},
     "output_type": "execute_result"
    }
   ],
   "source": [
    "joined_data_75"
   ],
   "metadata": {
    "collapsed": false,
    "pycharm": {
     "name": "#%%\n"
    }
   }
  },
  {
   "cell_type": "markdown",
   "source": [
    "# Train Test Split"
   ],
   "metadata": {
    "collapsed": false,
    "pycharm": {
     "name": "#%% md\n"
    }
   }
  },
  {
   "cell_type": "code",
   "execution_count": 30,
   "outputs": [],
   "source": [
    "# Train: between Jan01 and May10\n",
    "Train = joined_data_75[joined_data_75['datetime'] <=\n",
    "                       datetime.date(year=2016, month=5, day=10)]\n",
    "\n",
    "# Val: between May11 and Jun5\n",
    "Validate = joined_data_75[(joined_data_75['datetime'] >=\n",
    "                           datetime.date(year=2016, month=5, day=11)) &\n",
    "                          (joined_data_75['datetime'] <=\n",
    "                           datetime.date(year=2016, month=6, day=5))]\n",
    "\n",
    "# Test: between Jun6 and Jun30\n",
    "Test =joined_data_75[(joined_data_75['datetime'] >=\n",
    "                      datetime.date(year=2016, month=6, day=6)) &\n",
    "                     ((joined_data_75['datetime'] <=\n",
    "                       datetime.date(year=2016, month=6, day=30)))]"
   ],
   "metadata": {
    "collapsed": false,
    "pycharm": {
     "name": "#%%\n"
    }
   }
  },
  {
   "cell_type": "code",
   "execution_count": 31,
   "outputs": [
    {
     "data": {
      "text/plain": "         DOLocationID  PULocationID    datetime  count  weekdaylabel1_weekday  \\\n30                  1           186  2016-01-01      7                      1   \n48                  1            68  2016-01-01      8                      1   \n62                  1           161  2016-01-01      9                      1   \n65                  1           164  2016-01-01      8                      1   \n73                  1           230  2016-01-01      9                      1   \n...               ...           ...         ...    ...                    ...   \n1631084           263           238  2016-05-10     29                      1   \n1631085           263           239  2016-05-10     40                      1   \n1631089           263           249  2016-05-10     22                      1   \n1631092           263           262  2016-05-10     17                      1   \n1631093           263           263  2016-05-10     46                      1   \n\n         weekdaylabel1_weekend  weekdaylabel2_weekday  weekdaylabel2_friday  \\\n30                           0                      0                     1   \n48                           0                      0                     1   \n62                           0                      0                     1   \n65                           0                      0                     1   \n73                           0                      0                     1   \n...                        ...                    ...                   ...   \n1631084                      0                      1                     0   \n1631085                      0                      1                     0   \n1631089                      0                      1                     0   \n1631092                      0                      1                     0   \n1631093                      0                      1                     0   \n\n         weekdaylabel2_weekend  tempmax  ...  holiday1  holiday2  hour_0  \\\n30                           0      5.8  ...       1.0       1.0     1.0   \n48                           0      5.8  ...       1.0       1.0     1.0   \n62                           0      5.8  ...       1.0       1.0     0.0   \n65                           0      5.8  ...       1.0       1.0     0.0   \n73                           0      5.8  ...       1.0       1.0     0.0   \n...                        ...      ...  ...       ...       ...     ...   \n1631084                      0     16.8  ...       0.0       0.0     0.0   \n1631085                      0     16.8  ...       0.0       0.0     0.0   \n1631089                      0     16.8  ...       0.0       0.0     0.0   \n1631092                      0     16.8  ...       0.0       0.0     0.0   \n1631093                      0     16.8  ...       0.0       0.0     0.0   \n\n         hour_1  hour_2  hour_3  hour_4  hour_5  hour_6  hour_7  \n30          0.0     0.0     0.0     0.0     0.0     0.0     0.0  \n48          0.0     0.0     0.0     0.0     0.0     0.0     0.0  \n62          1.0     0.0     0.0     0.0     0.0     0.0     0.0  \n65          1.0     0.0     0.0     0.0     0.0     0.0     0.0  \n73          1.0     0.0     0.0     0.0     0.0     0.0     0.0  \n...         ...     ...     ...     ...     ...     ...     ...  \n1631084     0.0     0.0     1.0     0.0     0.0     0.0     0.0  \n1631085     0.0     0.0     1.0     0.0     0.0     0.0     0.0  \n1631089     0.0     0.0     1.0     0.0     0.0     0.0     0.0  \n1631092     0.0     0.0     1.0     0.0     0.0     0.0     0.0  \n1631093     0.0     0.0     1.0     0.0     0.0     0.0     0.0  \n\n[1740323 rows x 58 columns]",
      "text/html": "<div>\n<style scoped>\n    .dataframe tbody tr th:only-of-type {\n        vertical-align: middle;\n    }\n\n    .dataframe tbody tr th {\n        vertical-align: top;\n    }\n\n    .dataframe thead th {\n        text-align: right;\n    }\n</style>\n<table border=\"1\" class=\"dataframe\">\n  <thead>\n    <tr style=\"text-align: right;\">\n      <th></th>\n      <th>DOLocationID</th>\n      <th>PULocationID</th>\n      <th>datetime</th>\n      <th>count</th>\n      <th>weekdaylabel1_weekday</th>\n      <th>weekdaylabel1_weekend</th>\n      <th>weekdaylabel2_weekday</th>\n      <th>weekdaylabel2_friday</th>\n      <th>weekdaylabel2_weekend</th>\n      <th>tempmax</th>\n      <th>...</th>\n      <th>holiday1</th>\n      <th>holiday2</th>\n      <th>hour_0</th>\n      <th>hour_1</th>\n      <th>hour_2</th>\n      <th>hour_3</th>\n      <th>hour_4</th>\n      <th>hour_5</th>\n      <th>hour_6</th>\n      <th>hour_7</th>\n    </tr>\n  </thead>\n  <tbody>\n    <tr>\n      <th>30</th>\n      <td>1</td>\n      <td>186</td>\n      <td>2016-01-01</td>\n      <td>7</td>\n      <td>1</td>\n      <td>0</td>\n      <td>0</td>\n      <td>1</td>\n      <td>0</td>\n      <td>5.8</td>\n      <td>...</td>\n      <td>1.0</td>\n      <td>1.0</td>\n      <td>1.0</td>\n      <td>0.0</td>\n      <td>0.0</td>\n      <td>0.0</td>\n      <td>0.0</td>\n      <td>0.0</td>\n      <td>0.0</td>\n      <td>0.0</td>\n    </tr>\n    <tr>\n      <th>48</th>\n      <td>1</td>\n      <td>68</td>\n      <td>2016-01-01</td>\n      <td>8</td>\n      <td>1</td>\n      <td>0</td>\n      <td>0</td>\n      <td>1</td>\n      <td>0</td>\n      <td>5.8</td>\n      <td>...</td>\n      <td>1.0</td>\n      <td>1.0</td>\n      <td>1.0</td>\n      <td>0.0</td>\n      <td>0.0</td>\n      <td>0.0</td>\n      <td>0.0</td>\n      <td>0.0</td>\n      <td>0.0</td>\n      <td>0.0</td>\n    </tr>\n    <tr>\n      <th>62</th>\n      <td>1</td>\n      <td>161</td>\n      <td>2016-01-01</td>\n      <td>9</td>\n      <td>1</td>\n      <td>0</td>\n      <td>0</td>\n      <td>1</td>\n      <td>0</td>\n      <td>5.8</td>\n      <td>...</td>\n      <td>1.0</td>\n      <td>1.0</td>\n      <td>0.0</td>\n      <td>1.0</td>\n      <td>0.0</td>\n      <td>0.0</td>\n      <td>0.0</td>\n      <td>0.0</td>\n      <td>0.0</td>\n      <td>0.0</td>\n    </tr>\n    <tr>\n      <th>65</th>\n      <td>1</td>\n      <td>164</td>\n      <td>2016-01-01</td>\n      <td>8</td>\n      <td>1</td>\n      <td>0</td>\n      <td>0</td>\n      <td>1</td>\n      <td>0</td>\n      <td>5.8</td>\n      <td>...</td>\n      <td>1.0</td>\n      <td>1.0</td>\n      <td>0.0</td>\n      <td>1.0</td>\n      <td>0.0</td>\n      <td>0.0</td>\n      <td>0.0</td>\n      <td>0.0</td>\n      <td>0.0</td>\n      <td>0.0</td>\n    </tr>\n    <tr>\n      <th>73</th>\n      <td>1</td>\n      <td>230</td>\n      <td>2016-01-01</td>\n      <td>9</td>\n      <td>1</td>\n      <td>0</td>\n      <td>0</td>\n      <td>1</td>\n      <td>0</td>\n      <td>5.8</td>\n      <td>...</td>\n      <td>1.0</td>\n      <td>1.0</td>\n      <td>0.0</td>\n      <td>1.0</td>\n      <td>0.0</td>\n      <td>0.0</td>\n      <td>0.0</td>\n      <td>0.0</td>\n      <td>0.0</td>\n      <td>0.0</td>\n    </tr>\n    <tr>\n      <th>...</th>\n      <td>...</td>\n      <td>...</td>\n      <td>...</td>\n      <td>...</td>\n      <td>...</td>\n      <td>...</td>\n      <td>...</td>\n      <td>...</td>\n      <td>...</td>\n      <td>...</td>\n      <td>...</td>\n      <td>...</td>\n      <td>...</td>\n      <td>...</td>\n      <td>...</td>\n      <td>...</td>\n      <td>...</td>\n      <td>...</td>\n      <td>...</td>\n      <td>...</td>\n      <td>...</td>\n    </tr>\n    <tr>\n      <th>1631084</th>\n      <td>263</td>\n      <td>238</td>\n      <td>2016-05-10</td>\n      <td>29</td>\n      <td>1</td>\n      <td>0</td>\n      <td>1</td>\n      <td>0</td>\n      <td>0</td>\n      <td>16.8</td>\n      <td>...</td>\n      <td>0.0</td>\n      <td>0.0</td>\n      <td>0.0</td>\n      <td>0.0</td>\n      <td>0.0</td>\n      <td>1.0</td>\n      <td>0.0</td>\n      <td>0.0</td>\n      <td>0.0</td>\n      <td>0.0</td>\n    </tr>\n    <tr>\n      <th>1631085</th>\n      <td>263</td>\n      <td>239</td>\n      <td>2016-05-10</td>\n      <td>40</td>\n      <td>1</td>\n      <td>0</td>\n      <td>1</td>\n      <td>0</td>\n      <td>0</td>\n      <td>16.8</td>\n      <td>...</td>\n      <td>0.0</td>\n      <td>0.0</td>\n      <td>0.0</td>\n      <td>0.0</td>\n      <td>0.0</td>\n      <td>1.0</td>\n      <td>0.0</td>\n      <td>0.0</td>\n      <td>0.0</td>\n      <td>0.0</td>\n    </tr>\n    <tr>\n      <th>1631089</th>\n      <td>263</td>\n      <td>249</td>\n      <td>2016-05-10</td>\n      <td>22</td>\n      <td>1</td>\n      <td>0</td>\n      <td>1</td>\n      <td>0</td>\n      <td>0</td>\n      <td>16.8</td>\n      <td>...</td>\n      <td>0.0</td>\n      <td>0.0</td>\n      <td>0.0</td>\n      <td>0.0</td>\n      <td>0.0</td>\n      <td>1.0</td>\n      <td>0.0</td>\n      <td>0.0</td>\n      <td>0.0</td>\n      <td>0.0</td>\n    </tr>\n    <tr>\n      <th>1631092</th>\n      <td>263</td>\n      <td>262</td>\n      <td>2016-05-10</td>\n      <td>17</td>\n      <td>1</td>\n      <td>0</td>\n      <td>1</td>\n      <td>0</td>\n      <td>0</td>\n      <td>16.8</td>\n      <td>...</td>\n      <td>0.0</td>\n      <td>0.0</td>\n      <td>0.0</td>\n      <td>0.0</td>\n      <td>0.0</td>\n      <td>1.0</td>\n      <td>0.0</td>\n      <td>0.0</td>\n      <td>0.0</td>\n      <td>0.0</td>\n    </tr>\n    <tr>\n      <th>1631093</th>\n      <td>263</td>\n      <td>263</td>\n      <td>2016-05-10</td>\n      <td>46</td>\n      <td>1</td>\n      <td>0</td>\n      <td>1</td>\n      <td>0</td>\n      <td>0</td>\n      <td>16.8</td>\n      <td>...</td>\n      <td>0.0</td>\n      <td>0.0</td>\n      <td>0.0</td>\n      <td>0.0</td>\n      <td>0.0</td>\n      <td>1.0</td>\n      <td>0.0</td>\n      <td>0.0</td>\n      <td>0.0</td>\n      <td>0.0</td>\n    </tr>\n  </tbody>\n</table>\n<p>1740323 rows × 58 columns</p>\n</div>"
     },
     "execution_count": 31,
     "metadata": {},
     "output_type": "execute_result"
    }
   ],
   "source": [
    "Train"
   ],
   "metadata": {
    "collapsed": false,
    "pycharm": {
     "name": "#%%\n"
    }
   }
  },
  {
   "cell_type": "markdown",
   "source": [
    "# Standardisation"
   ],
   "metadata": {
    "collapsed": false,
    "pycharm": {
     "name": "#%% md\n"
    }
   }
  },
  {
   "cell_type": "code",
   "execution_count": 32,
   "outputs": [
    {
     "name": "stdout",
     "output_type": "stream",
     "text": [
      "tempmax\n"
     ]
    },
    {
     "name": "stderr",
     "output_type": "stream",
     "text": [
      "/var/folders/xg/8w_3dndd6l5c3n99vd7vd3f40000gn/T/ipykernel_4699/3492732095.py:8: SettingWithCopyWarning: \n",
      "A value is trying to be set on a copy of a slice from a DataFrame.\n",
      "Try using .loc[row_indexer,col_indexer] = value instead\n",
      "\n",
      "See the caveats in the documentation: https://pandas.pydata.org/pandas-docs/stable/user_guide/indexing.html#returning-a-view-versus-a-copy\n",
      "  Train[col] = (Train[col] - mean)/std\n",
      "/var/folders/xg/8w_3dndd6l5c3n99vd7vd3f40000gn/T/ipykernel_4699/3492732095.py:9: SettingWithCopyWarning: \n",
      "A value is trying to be set on a copy of a slice from a DataFrame.\n",
      "Try using .loc[row_indexer,col_indexer] = value instead\n",
      "\n",
      "See the caveats in the documentation: https://pandas.pydata.org/pandas-docs/stable/user_guide/indexing.html#returning-a-view-versus-a-copy\n",
      "  Validate[col] = (Validate[col] - mean)/std\n",
      "/var/folders/xg/8w_3dndd6l5c3n99vd7vd3f40000gn/T/ipykernel_4699/3492732095.py:10: SettingWithCopyWarning: \n",
      "A value is trying to be set on a copy of a slice from a DataFrame.\n",
      "Try using .loc[row_indexer,col_indexer] = value instead\n",
      "\n",
      "See the caveats in the documentation: https://pandas.pydata.org/pandas-docs/stable/user_guide/indexing.html#returning-a-view-versus-a-copy\n",
      "  Test[col] = (Test[col] - mean)/std\n"
     ]
    },
    {
     "name": "stdout",
     "output_type": "stream",
     "text": [
      "tempmin\n",
      "temp\n",
      "feelslikemax\n",
      "feelslikemin\n",
      "feelslike\n",
      "dew\n",
      "humidity\n",
      "precip\n",
      "precipprob\n",
      "precipcover\n",
      "snow\n",
      "snowdepth\n",
      "windgust\n",
      "windspeed\n",
      "winddir\n",
      "sealevelpressure\n",
      "cloudcover\n",
      "visibility\n",
      "solarradiation\n",
      "solarenergy\n",
      "uvindex\n",
      "sunrise\n",
      "sunset\n",
      "moonphase\n"
     ]
    }
   ],
   "source": [
    "for col in Train.columns:\n",
    "    if col not in ['PULocationID', 'DOLocationID', 'hour', 'count',\n",
    "                   'datetime', 'preciptype_none', 'preciptype_rain',\n",
    "                   'preciptype_rain,snow', 'preciptype_snow', 'conditions_Clear',\n",
    "                   'conditions_Overcast', 'conditions_Partially cloudy',\n",
    "                   'conditions_Rain', 'conditions_Rain, Overcast',\n",
    "                   'conditions_Rain, Partially cloudy',\n",
    "                   'conditions_Snow, Partially cloudy',\n",
    "                   'conditions_Snow, Rain', 'conditions_Snow, Rain, Overcast',\n",
    "                   'conditions_Snow, Rain, Partially cloudy',\n",
    "                   'conditions_Snow, Rain, Partially cloudy', 'holiday1',\n",
    "                   'holiday2', 'weekdaylabel1_weekday', 'weekdaylabel1_weekend',\n",
    "                   'weekdaylabel2_weekday', 'weekdaylabel2_friday',\n",
    "                   'weekdaylabel2_weekend', 'hour_0', 'hour_1', 'hour_2', 'hour_3',\n",
    "                   'hour_4', 'hour_5', 'hour_6', 'hour_7']:\n",
    "        print(col)\n",
    "\n",
    "        # use train data mean and std to prevent overfit\n",
    "        mean = s.mean(Train[col])\n",
    "        std = s.stdev(Train[col])\n",
    "\n",
    "        # (x - mean(train))/std(train)\n",
    "        Train[col] = (Train[col] - mean)/std\n",
    "        Validate[col] = (Validate[col] - mean)/std\n",
    "        Test[col] = (Test[col] - mean)/std"
   ],
   "metadata": {
    "collapsed": false,
    "pycharm": {
     "name": "#%%\n"
    }
   }
  },
  {
   "cell_type": "code",
   "execution_count": 34,
   "outputs": [],
   "source": [
    "# create directory if not exist\n",
    "output_relative_dirs = ['../data/curated/ModelBuilding/Continuous',\n",
    "                        '../data/curated/ModelBuilding/ContinuousKBest']\n",
    "\n",
    "# check if it exists as it makedir will raise an error if it does exist\n",
    "for output_relative_dir in output_relative_dirs:\n",
    "    if not os.path.exists(output_relative_dir):\n",
    "        os.makedirs(output_relative_dir)"
   ],
   "metadata": {
    "collapsed": false,
    "pycharm": {
     "name": "#%%\n"
    }
   }
  },
  {
   "cell_type": "code",
   "execution_count": 35,
   "outputs": [],
   "source": [
    "# Export cleaned data with all columns in case need to re-select features - trade space for time\n",
    "Train.to_csv('../data/curated/ModelBuilding/Continuous/FullTrain_16-1_16-5.csv', index = False)\n",
    "Validate.to_csv('../data/curated/ModelBuilding/Continuous/FullVal_16-5_16-6.csv', index = False)\n",
    "Test.to_csv('../data/curated/ModelBuilding/Continuous/FullTest_16-6_16-6.csv', index = False)"
   ],
   "metadata": {
    "collapsed": false,
    "pycharm": {
     "name": "#%%\n"
    }
   }
  },
  {
   "cell_type": "markdown",
   "source": [
    "# PCA (ATTEMPTED, NOT SUCCESSFUL)"
   ],
   "metadata": {
    "collapsed": false,
    "pycharm": {
     "name": "#%% md\n"
    }
   }
  },
  {
   "cell_type": "code",
   "execution_count": 1,
   "outputs": [],
   "source": [
    "X = Train.drop(['datetime', 'DOLocationID', 'count'], axis = 1)\n",
    "y = Train['count']"
   ],
   "metadata": {
    "collapsed": false,
    "pycharm": {
     "name": "#%%\n"
    }
   }
  },
  {
   "cell_type": "code",
   "execution_count": null,
   "outputs": [],
   "source": [
    "X.head()"
   ],
   "metadata": {
    "collapsed": false,
    "pycharm": {
     "name": "#%%\n"
    }
   }
  },
  {
   "cell_type": "code",
   "execution_count": null,
   "outputs": [],
   "source": [
    "# from sklearn.decomposition import PCA\n",
    "# pca = PCA(n_components=10)\n",
    "# pca.fit(X)\n",
    "# pca_result = pca.transform(X)"
   ],
   "metadata": {
    "collapsed": false,
    "pycharm": {
     "name": "#%%\n"
    }
   }
  },
  {
   "cell_type": "code",
   "execution_count": 2,
   "outputs": [],
   "source": [
    "# list(pca.explained_variance_)"
   ],
   "metadata": {
    "collapsed": false,
    "pycharm": {
     "name": "#%%\n"
    }
   }
  },
  {
   "cell_type": "code",
   "execution_count": null,
   "outputs": [],
   "source": [
    "# pd.DataFrame(pca_result)"
   ],
   "metadata": {
    "collapsed": false,
    "pycharm": {
     "name": "#%%\n"
    }
   }
  },
  {
   "cell_type": "markdown",
   "source": [
    "# Feature Selection"
   ],
   "metadata": {
    "collapsed": false,
    "pycharm": {
     "name": "#%% md\n"
    }
   }
  },
  {
   "cell_type": "code",
   "execution_count": 43,
   "outputs": [],
   "source": [
    "from sklearn.feature_selection import SelectKBest\n",
    "from sklearn.feature_selection import f_regression"
   ],
   "metadata": {
    "collapsed": false,
    "pycharm": {
     "name": "#%%\n"
    }
   }
  },
  {
   "cell_type": "code",
   "execution_count": 44,
   "outputs": [
    {
     "name": "stderr",
     "output_type": "stream",
     "text": [
      "/Applications/anaconda3/lib/python3.9/site-packages/sklearn/feature_selection/_univariate_selection.py:289: RuntimeWarning: invalid value encountered in true_divide\n",
      "  correlation_coefficient /= X_norms\n"
     ]
    },
    {
     "data": {
      "text/plain": "SelectKBest(k=55, score_func=<function f_regression at 0x7f94b86a6160>)"
     },
     "execution_count": 44,
     "metadata": {},
     "output_type": "execute_result"
    }
   ],
   "source": [
    "# F-test\n",
    "f = SelectKBest(f_regression, k=len(X.columns))\n",
    "f.fit(X,y)"
   ],
   "metadata": {
    "collapsed": false,
    "pycharm": {
     "name": "#%%\n"
    }
   }
  },
  {
   "cell_type": "code",
   "execution_count": 45,
   "outputs": [
    {
     "data": {
      "text/plain": "                                   features        scores\n0                              PULocationID  16534.147602\n2                     weekdaylabel1_weekend   2223.521728\n5                     weekdaylabel2_weekend   2223.521728\n1                     weekdaylabel1_weekday   2223.521728\n3                     weekdaylabel2_weekday   1247.354695\n19                                 windgust    353.731411\n18                                snowdepth    325.224361\n17                                     snow    256.474146\n9                              feelslikemax    238.332775\n6                                   tempmax    231.479812\n20                                windspeed    226.863759\n11                                feelslike    192.833702\n8                                      temp    172.142727\n10                             feelslikemin    171.049979\n7                                   tempmin    139.792047\n4                      weekdaylabel2_friday    131.439625\n27                                  uvindex    122.336960\n26                              solarenergy     92.447391\n25                           solarradiation     90.444658\n23                               cloudcover     85.737980\n43          conditions_Snow, Rain, Overcast     78.623616\n39                conditions_Rain, Overcast     70.504927\n36                      conditions_Overcast     65.748890\n46                                 holiday2     62.980463\n15                               precipprob     54.505746\n31                          preciptype_none     54.505746\n12                                      dew     53.938501\n37              conditions_Partially cloudy     53.236643\n32                          preciptype_rain     50.122291\n16                              precipcover     47.316819\n28                                  sunrise     45.314451\n41        conditions_Snow, Partially cloudy     33.773804\n34                          preciptype_snow     33.773804\n13                                 humidity     32.399720\n29                                   sunset     28.517653\n30                                moonphase     19.661771\n33                     preciptype_rain,snow     16.791301\n35                         conditions_Clear     10.668217\n22                         sealevelpressure     10.292694\n24                               visibility     10.059295\n21                                  winddir      8.206567\n14                                   precip      5.344648\n48                                   hour_1      4.273154\n40        conditions_Rain, Partially cloudy      3.466815\n45                                 holiday1      1.708818\n51                                   hour_4      1.656224\n52                                   hour_5      1.328893\n53                                   hour_6      0.546664\n44  conditions_Snow, Rain, Partially cloudy      0.433367\n42                    conditions_Snow, Rain      0.283753\n50                                   hour_3      0.116959\n54                                   hour_7      0.020284\n47                                   hour_0      0.003655\n49                                   hour_2      0.001759\n38                          conditions_Rain           NaN",
      "text/html": "<div>\n<style scoped>\n    .dataframe tbody tr th:only-of-type {\n        vertical-align: middle;\n    }\n\n    .dataframe tbody tr th {\n        vertical-align: top;\n    }\n\n    .dataframe thead th {\n        text-align: right;\n    }\n</style>\n<table border=\"1\" class=\"dataframe\">\n  <thead>\n    <tr style=\"text-align: right;\">\n      <th></th>\n      <th>features</th>\n      <th>scores</th>\n    </tr>\n  </thead>\n  <tbody>\n    <tr>\n      <th>0</th>\n      <td>PULocationID</td>\n      <td>16534.147602</td>\n    </tr>\n    <tr>\n      <th>2</th>\n      <td>weekdaylabel1_weekend</td>\n      <td>2223.521728</td>\n    </tr>\n    <tr>\n      <th>5</th>\n      <td>weekdaylabel2_weekend</td>\n      <td>2223.521728</td>\n    </tr>\n    <tr>\n      <th>1</th>\n      <td>weekdaylabel1_weekday</td>\n      <td>2223.521728</td>\n    </tr>\n    <tr>\n      <th>3</th>\n      <td>weekdaylabel2_weekday</td>\n      <td>1247.354695</td>\n    </tr>\n    <tr>\n      <th>19</th>\n      <td>windgust</td>\n      <td>353.731411</td>\n    </tr>\n    <tr>\n      <th>18</th>\n      <td>snowdepth</td>\n      <td>325.224361</td>\n    </tr>\n    <tr>\n      <th>17</th>\n      <td>snow</td>\n      <td>256.474146</td>\n    </tr>\n    <tr>\n      <th>9</th>\n      <td>feelslikemax</td>\n      <td>238.332775</td>\n    </tr>\n    <tr>\n      <th>6</th>\n      <td>tempmax</td>\n      <td>231.479812</td>\n    </tr>\n    <tr>\n      <th>20</th>\n      <td>windspeed</td>\n      <td>226.863759</td>\n    </tr>\n    <tr>\n      <th>11</th>\n      <td>feelslike</td>\n      <td>192.833702</td>\n    </tr>\n    <tr>\n      <th>8</th>\n      <td>temp</td>\n      <td>172.142727</td>\n    </tr>\n    <tr>\n      <th>10</th>\n      <td>feelslikemin</td>\n      <td>171.049979</td>\n    </tr>\n    <tr>\n      <th>7</th>\n      <td>tempmin</td>\n      <td>139.792047</td>\n    </tr>\n    <tr>\n      <th>4</th>\n      <td>weekdaylabel2_friday</td>\n      <td>131.439625</td>\n    </tr>\n    <tr>\n      <th>27</th>\n      <td>uvindex</td>\n      <td>122.336960</td>\n    </tr>\n    <tr>\n      <th>26</th>\n      <td>solarenergy</td>\n      <td>92.447391</td>\n    </tr>\n    <tr>\n      <th>25</th>\n      <td>solarradiation</td>\n      <td>90.444658</td>\n    </tr>\n    <tr>\n      <th>23</th>\n      <td>cloudcover</td>\n      <td>85.737980</td>\n    </tr>\n    <tr>\n      <th>43</th>\n      <td>conditions_Snow, Rain, Overcast</td>\n      <td>78.623616</td>\n    </tr>\n    <tr>\n      <th>39</th>\n      <td>conditions_Rain, Overcast</td>\n      <td>70.504927</td>\n    </tr>\n    <tr>\n      <th>36</th>\n      <td>conditions_Overcast</td>\n      <td>65.748890</td>\n    </tr>\n    <tr>\n      <th>46</th>\n      <td>holiday2</td>\n      <td>62.980463</td>\n    </tr>\n    <tr>\n      <th>15</th>\n      <td>precipprob</td>\n      <td>54.505746</td>\n    </tr>\n    <tr>\n      <th>31</th>\n      <td>preciptype_none</td>\n      <td>54.505746</td>\n    </tr>\n    <tr>\n      <th>12</th>\n      <td>dew</td>\n      <td>53.938501</td>\n    </tr>\n    <tr>\n      <th>37</th>\n      <td>conditions_Partially cloudy</td>\n      <td>53.236643</td>\n    </tr>\n    <tr>\n      <th>32</th>\n      <td>preciptype_rain</td>\n      <td>50.122291</td>\n    </tr>\n    <tr>\n      <th>16</th>\n      <td>precipcover</td>\n      <td>47.316819</td>\n    </tr>\n    <tr>\n      <th>28</th>\n      <td>sunrise</td>\n      <td>45.314451</td>\n    </tr>\n    <tr>\n      <th>41</th>\n      <td>conditions_Snow, Partially cloudy</td>\n      <td>33.773804</td>\n    </tr>\n    <tr>\n      <th>34</th>\n      <td>preciptype_snow</td>\n      <td>33.773804</td>\n    </tr>\n    <tr>\n      <th>13</th>\n      <td>humidity</td>\n      <td>32.399720</td>\n    </tr>\n    <tr>\n      <th>29</th>\n      <td>sunset</td>\n      <td>28.517653</td>\n    </tr>\n    <tr>\n      <th>30</th>\n      <td>moonphase</td>\n      <td>19.661771</td>\n    </tr>\n    <tr>\n      <th>33</th>\n      <td>preciptype_rain,snow</td>\n      <td>16.791301</td>\n    </tr>\n    <tr>\n      <th>35</th>\n      <td>conditions_Clear</td>\n      <td>10.668217</td>\n    </tr>\n    <tr>\n      <th>22</th>\n      <td>sealevelpressure</td>\n      <td>10.292694</td>\n    </tr>\n    <tr>\n      <th>24</th>\n      <td>visibility</td>\n      <td>10.059295</td>\n    </tr>\n    <tr>\n      <th>21</th>\n      <td>winddir</td>\n      <td>8.206567</td>\n    </tr>\n    <tr>\n      <th>14</th>\n      <td>precip</td>\n      <td>5.344648</td>\n    </tr>\n    <tr>\n      <th>48</th>\n      <td>hour_1</td>\n      <td>4.273154</td>\n    </tr>\n    <tr>\n      <th>40</th>\n      <td>conditions_Rain, Partially cloudy</td>\n      <td>3.466815</td>\n    </tr>\n    <tr>\n      <th>45</th>\n      <td>holiday1</td>\n      <td>1.708818</td>\n    </tr>\n    <tr>\n      <th>51</th>\n      <td>hour_4</td>\n      <td>1.656224</td>\n    </tr>\n    <tr>\n      <th>52</th>\n      <td>hour_5</td>\n      <td>1.328893</td>\n    </tr>\n    <tr>\n      <th>53</th>\n      <td>hour_6</td>\n      <td>0.546664</td>\n    </tr>\n    <tr>\n      <th>44</th>\n      <td>conditions_Snow, Rain, Partially cloudy</td>\n      <td>0.433367</td>\n    </tr>\n    <tr>\n      <th>42</th>\n      <td>conditions_Snow, Rain</td>\n      <td>0.283753</td>\n    </tr>\n    <tr>\n      <th>50</th>\n      <td>hour_3</td>\n      <td>0.116959</td>\n    </tr>\n    <tr>\n      <th>54</th>\n      <td>hour_7</td>\n      <td>0.020284</td>\n    </tr>\n    <tr>\n      <th>47</th>\n      <td>hour_0</td>\n      <td>0.003655</td>\n    </tr>\n    <tr>\n      <th>49</th>\n      <td>hour_2</td>\n      <td>0.001759</td>\n    </tr>\n    <tr>\n      <th>38</th>\n      <td>conditions_Rain</td>\n      <td>NaN</td>\n    </tr>\n  </tbody>\n</table>\n</div>"
     },
     "execution_count": 45,
     "metadata": {},
     "output_type": "execute_result"
    }
   ],
   "source": [
    "# get the ranked features names and scores\n",
    "kbest_scores1 = pd.DataFrame({'features': f.get_feature_names_out(),\n",
    "                              'scores': f.scores_})\n",
    "kbest_scores1 = kbest_scores1.sort_values('scores', ascending=False)\n",
    "kbest_scores1"
   ],
   "metadata": {
    "collapsed": false,
    "pycharm": {
     "name": "#%%\n"
    }
   }
  },
  {
   "cell_type": "code",
   "execution_count": null,
   "outputs": [],
   "source": [
    "# 6 months PULocationID, weeklabel1, snow, snowdepth, windgust, tempmax, windspeed, temp, tempmin, uvindex"
   ],
   "metadata": {
    "collapsed": false,
    "pycharm": {
     "name": "#%%\n"
    }
   }
  },
  {
   "cell_type": "markdown",
   "source": [
    "### Select correct columns"
   ],
   "metadata": {
    "collapsed": false,
    "pycharm": {
     "name": "#%% md\n"
    }
   }
  },
  {
   "cell_type": "code",
   "execution_count": 1,
   "outputs": [],
   "source": [
    "# import pandas as pd\n",
    "# Train = pd.read_csv('../data/curated/ModelBuilding/Continuous/FullTrain_16-1_16-5.csv')\n",
    "# Validate = pd.read_csv('../data/curated/ModelBuilding/Continuous/FullVal_16-5_16-6.csv')\n",
    "# Test = pd.read_csv('../data/curated/ModelBuilding/Continuous/FullTest_16-6_16-6.csv')"
   ],
   "metadata": {
    "collapsed": false,
    "pycharm": {
     "name": "#%%\n"
    }
   }
  },
  {
   "cell_type": "code",
   "execution_count": 59,
   "outputs": [],
   "source": [
    "X_train = Train[['weekdaylabel1_weekday', 'weekdaylabel1_weekend', 'snowdepth',\n",
    "                 'snow', 'DOLocationID', 'PULocationID', 'windgust', 'datetime',\n",
    "                 'tempmax', 'windspeed', 'temp', 'tempmin', 'uvindex']]\n",
    "y_train = Train[['count']]"
   ],
   "metadata": {
    "collapsed": false,
    "pycharm": {
     "name": "#%%\n"
    }
   }
  },
  {
   "cell_type": "code",
   "execution_count": 60,
   "outputs": [],
   "source": [
    "X_validate = Validate[['weekdaylabel1_weekday', 'weekdaylabel1_weekend', 'snowdepth',\n",
    "                       'snow', 'DOLocationID', 'PULocationID', 'windgust', 'datetime',\n",
    "                       'tempmax', 'windspeed', 'temp', 'tempmin', 'uvindex']]\n",
    "y_validate = Validate[['count']]"
   ],
   "metadata": {
    "collapsed": false,
    "pycharm": {
     "name": "#%%\n"
    }
   }
  },
  {
   "cell_type": "code",
   "execution_count": 61,
   "outputs": [],
   "source": [
    "X_test = Test[['weekdaylabel1_weekday', 'weekdaylabel1_weekend', 'snowdepth', 'snow',\n",
    "               'DOLocationID', 'PULocationID', 'windgust', 'datetime', 'tempmax',\n",
    "               'windspeed', 'temp', 'tempmin', 'uvindex']]\n",
    "y_test = Test[['count']]"
   ],
   "metadata": {
    "collapsed": false,
    "pycharm": {
     "name": "#%%\n"
    }
   }
  },
  {
   "cell_type": "markdown",
   "source": [
    "(Create one more plot)"
   ],
   "metadata": {
    "collapsed": false,
    "pycharm": {
     "name": "#%% md\n"
    }
   }
  },
  {
   "cell_type": "code",
   "execution_count": 16,
   "outputs": [
    {
     "data": {
      "text/plain": "<Figure size 432x288 with 1 Axes>",
      "image/png": "[encoded data removed]"
     },
     "metadata": {
      "needs_background": "light"
     },
     "output_type": "display_data"
    }
   ],
   "source": [
    "plt.scatter(Train['snow'], Train['count'])\n",
    "\n",
    "plt.title(\"Count vs Snow\", fontsize=16)\n",
    "plt.xlabel('Snow (inch)', fontsize=14)\n",
    "plt.ylabel('Count (trips)', fontsize=14);\n",
    "\n",
    "plt.savefig('../plots/scatter_snow_x_count.png')"
   ],
   "metadata": {
    "collapsed": false,
    "pycharm": {
     "name": "#%%\n"
    }
   }
  },
  {
   "cell_type": "code",
   "execution_count": 13,
   "outputs": [
    {
     "data": {
      "text/plain": "array([[ 1.        , -0.01213878],\n       [-0.01213878,  1.        ]])"
     },
     "execution_count": 13,
     "metadata": {},
     "output_type": "execute_result"
    }
   ],
   "source": [
    "import numpy as np\n",
    "np.corrcoef(Train['snow'], Train['count'])"
   ],
   "metadata": {
    "collapsed": false,
    "pycharm": {
     "name": "#%%\n"
    }
   }
  },
  {
   "cell_type": "markdown",
   "source": [
    "# Export"
   ],
   "metadata": {
    "collapsed": false,
    "pycharm": {
     "name": "#%% md\n"
    }
   }
  },
  {
   "cell_type": "code",
   "execution_count": 62,
   "outputs": [],
   "source": [
    "X_train.to_csv('../data/curated/ModelBuilding/Continuous/XTrain_16-1_16-5.csv', index = False)\n",
    "X_validate.to_csv('../data/curated/ModelBuilding/Continuous/XVal_16-5_16-6.csv', index = False)\n",
    "X_test.to_csv('../data/curated/ModelBuilding/Continuous/XTest_16-6_16-6.csv', index = False)\n",
    "y_train.to_csv('../data/curated/ModelBuilding/Continuous/yTrain_16-1_16-5.csv', index = False)\n",
    "y_validate.to_csv('../data/curated/ModelBuilding/Continuous/yVal_16-5_16-6.csv', index = False)\n",
    "y_test.to_csv('../data/curated/ModelBuilding/Continuous/yTest_16-6_16-6.csv', index = False)"
   ],
   "metadata": {
    "collapsed": false,
    "pycharm": {
     "name": "#%%\n"
    }
   }
  },
  {
   "cell_type": "code",
   "execution_count": 53,
   "outputs": [],
   "source": [
    "kbest_scores1.to_csv('../data/curated/ModelBuilding/ContinuousKBest/f_16-1_16-6.csv', index=False)"
   ],
   "metadata": {
    "collapsed": false,
    "pycharm": {
     "name": "#%%\n"
    }
   }
  }
 ],
 "metadata": {
  "kernelspec": {
   "display_name": "Python 3",
   "language": "python",
   "name": "python3"
  },
  "language_info": {
   "codemirror_mode": {
    "name": "ipython",
    "version": 2
   },
   "file_extension": ".py",
   "mimetype": "text/x-python",
   "name": "python",
   "nbconvert_exporter": "python",
   "pygments_lexer": "ipython2",
   "version": "2.7.6"
  }
 },
 "nbformat": 4,
 "nbformat_minor": 0
}