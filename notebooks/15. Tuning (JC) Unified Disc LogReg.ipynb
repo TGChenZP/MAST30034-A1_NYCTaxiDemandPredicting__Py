{
 "cells": [
  {
   "cell_type": "markdown",
   "source": [
    "# Logistical Regression\n",
    "## JiaoCheng Class Tuner (Brute Force)"
   ],
   "metadata": {
    "collapsed": false,
    "pycharm": {
     "name": "#%% md\n"
    }
   }
  },
  {
   "cell_type": "code",
   "execution_count": 1,
   "metadata": {
    "collapsed": true
   },
   "outputs": [],
   "source": [
    "import pandas as pd\n",
    "import os"
   ]
  },
  {
   "cell_type": "code",
   "execution_count": 2,
   "outputs": [],
   "source": [
    "# create directory to store tuning results\n",
    "output_relative_dirs = ['../data/curated/tuning']\n",
    "\n",
    "# check if it exists as it makedir will raise an error if it does exist\n",
    "for output_relative_dir in output_relative_dirs:\n",
    "    if not os.path.exists(output_relative_dir):\n",
    "        os.makedirs(output_relative_dir)"
   ],
   "metadata": {
    "collapsed": false,
    "pycharm": {
     "name": "#%%\n"
    }
   }
  },
  {
   "cell_type": "code",
   "execution_count": 3,
   "outputs": [],
   "source": [
    "def accuracy_score(pred, obs):\n",
    "\n",
    "    n = len(pred)\n",
    "    n_tp = 0\n",
    "\n",
    "    for i in range(n):\n",
    "        if pred[i] in obs[i]:\n",
    "            n_tp += 1\n",
    "\n",
    "    return n_tp/n"
   ],
   "metadata": {
    "collapsed": false,
    "pycharm": {
     "name": "#%%\n"
    }
   }
  },
  {
   "cell_type": "markdown",
   "source": [
    "# Import Data"
   ],
   "metadata": {
    "collapsed": false
   }
  },
  {
   "cell_type": "code",
   "execution_count": 4,
   "outputs": [],
   "source": [
    "# Import Data\n",
    "Train_data_X = pd.read_csv('../data/curated/ModelBuilding/Discrete/XTrain_16-1_16-5.csv')\n",
    "Train_data_y = pd.read_csv('../data/curated/ModelBuilding/Discrete/yTrain_16-1_16-5.csv')\n",
    "XTrain = Train_data_X\n",
    "yTrain = Train_data_y['Max_PULocationID']"
   ],
   "metadata": {
    "collapsed": false,
    "pycharm": {
     "name": "#%%\n"
    }
   }
  },
  {
   "cell_type": "code",
   "execution_count": 5,
   "outputs": [],
   "source": [
    "Val_data_X = pd.read_csv('../data/curated/ModelBuilding/Discrete/XVal_16-5_16-6.csv')\n",
    "Val_data_y = pd.read_csv('../data/curated/ModelBuilding/Discrete/yVal_16-5_16-6.csv')\n",
    "XVal = Val_data_X\n",
    "yVal = Val_data_y['Max_PULocationID']"
   ],
   "metadata": {
    "collapsed": false,
    "pycharm": {
     "name": "#%%\n"
    }
   }
  },
  {
   "cell_type": "code",
   "execution_count": 6,
   "outputs": [],
   "source": [
    "Test_data_X = pd.read_csv('../data/curated/ModelBuilding/Discrete/XTest_16-6_16-6.csv')\n",
    "Test_data_y = pd.read_csv('../data/curated/ModelBuilding/Discrete/yTest_16-6_16-6.csv')\n",
    "XTest = Test_data_X\n",
    "yTest = Test_data_y['Max_PULocationID']"
   ],
   "metadata": {
    "collapsed": false,
    "pycharm": {
     "name": "#%%\n"
    }
   }
  },
  {
   "cell_type": "markdown",
   "source": [
    "# Extra One Hot Encoding (On the Fly)"
   ],
   "metadata": {
    "collapsed": false,
    "pycharm": {
     "name": "#%% md\n"
    }
   }
  },
  {
   "cell_type": "code",
   "execution_count": 7,
   "outputs": [
    {
     "name": "stderr",
     "output_type": "stream",
     "text": [
      "/var/folders/xg/8w_3dndd6l5c3n99vd7vd3f40000gn/T/ipykernel_8172/1371465160.py:20: PerformanceWarning: DataFrame is highly fragmented.  This is usually the result of calling `frame.insert` many times, which has poor performance.  Consider joining all columns at once using pd.concat(axis=1) instead.  To get a de-fragmented frame, use `newframe = frame.copy()`\n",
      "  XTrain[str(col)] = new_col\n",
      "/var/folders/xg/8w_3dndd6l5c3n99vd7vd3f40000gn/T/ipykernel_8172/1371465160.py:36: PerformanceWarning: DataFrame is highly fragmented.  This is usually the result of calling `frame.insert` many times, which has poor performance.  Consider joining all columns at once using pd.concat(axis=1) instead.  To get a de-fragmented frame, use `newframe = frame.copy()`\n",
      "  XVal[str(col)] = new_col\n",
      "/var/folders/xg/8w_3dndd6l5c3n99vd7vd3f40000gn/T/ipykernel_8172/1371465160.py:52: PerformanceWarning: DataFrame is highly fragmented.  This is usually the result of calling `frame.insert` many times, which has poor performance.  Consider joining all columns at once using pd.concat(axis=1) instead.  To get a de-fragmented frame, use `newframe = frame.copy()`\n",
      "  XTest[str(col)] = new_col\n"
     ]
    }
   ],
   "source": [
    "# Extra One Hot Encoding\n",
    "from sklearn.preprocessing import OneHotEncoder\n",
    "\n",
    "# OHE for DOLocationID\n",
    "\n",
    "ohe = OneHotEncoder(handle_unknown='ignore')\n",
    "\n",
    "Train_data_to_ohe = XTrain[['DOLocationID']]\n",
    "Train_data_ohe = ohe.fit_transform(Train_data_to_ohe).toarray()\n",
    "\n",
    "Train_data_ohe = pd.DataFrame(Train_data_ohe,\n",
    "                              columns=list(ohe.get_feature_names_out(['DOLocationID'])))\n",
    "\n",
    "XTrain = Train_data_X.drop(['DOLocationID'], axis=1)\n",
    "\n",
    "for col in Train_data_ohe.columns:\n",
    "    new_col = Train_data_ohe[col]\n",
    "    new_col.index = range(len(new_col))\n",
    "\n",
    "    XTrain[str(col)] = new_col\n",
    "\n",
    "XTrain = XTrain.drop('datetime', axis=1)\n",
    "\n",
    "Val_data_to_ohe = XVal[['DOLocationID']]\n",
    "Val_data_ohe = ohe.transform(Val_data_to_ohe).toarray()\n",
    "\n",
    "Val_data_ohe = pd.DataFrame(Val_data_ohe,\n",
    "                            columns=list(ohe.get_feature_names_out(['DOLocationID'])))\n",
    "\n",
    "XVal = XVal.drop(['DOLocationID'], axis=1)\n",
    "\n",
    "for col in Val_data_ohe.columns:\n",
    "    new_col = Val_data_ohe[col]\n",
    "    new_col.index = range(len(new_col))\n",
    "\n",
    "    XVal[str(col)] = new_col\n",
    "\n",
    "XVal = XVal.drop('datetime', axis=1)\n",
    "\n",
    "Test_data_to_ohe = XTest[['DOLocationID']]\n",
    "Test_data_ohe = ohe.transform(Test_data_to_ohe).toarray()\n",
    "\n",
    "Test_data_ohe = pd.DataFrame(Test_data_ohe,\n",
    "                             columns=list(ohe.get_feature_names_out(['DOLocationID'])))\n",
    "\n",
    "XTest = XTest.drop(['DOLocationID'], axis=1)\n",
    "\n",
    "for col in Test_data_ohe.columns:\n",
    "    new_col = Test_data_ohe[col]\n",
    "    new_col.index = range(len(new_col))\n",
    "\n",
    "    XTest[str(col)] = new_col\n",
    "\n",
    "XTest = XTest.drop('datetime', axis=1)\n"
   ],
   "metadata": {
    "collapsed": false,
    "pycharm": {
     "name": "#%%\n"
    }
   }
  },
  {
   "cell_type": "markdown",
   "source": [
    "# Special format for getting data in right format for accuracy evlauation"
   ],
   "metadata": {
    "collapsed": false,
    "pycharm": {
     "name": "#%% md\n"
    }
   }
  },
  {
   "cell_type": "code",
   "execution_count": 8,
   "outputs": [],
   "source": [
    "# Object for evaluation with multiple correct labels\n",
    "train_obs = [[int(x) for x in Max_IDs.strip('[]').split(',')]\n",
    "             for Max_IDs in Train_data_y['Max_PULocationIDs']]\n",
    "val_obs = [[int(x) for x in Max_IDs.strip('[]').split(',')]\n",
    "           for Max_IDs in Val_data_y['Max_PULocationIDs']]\n",
    "test_obs = [[int(x) for x in Max_IDs.strip('[]').split(',')]\n",
    "            for Max_IDs in Test_data_y['Max_PULocationIDs']]"
   ],
   "metadata": {
    "collapsed": false,
    "pycharm": {
     "name": "#%%\n"
    }
   }
  },
  {
   "cell_type": "markdown",
   "source": [
    "# Run JiaoCheng Tuning Algorithm (brute force train)"
   ],
   "metadata": {
    "collapsed": false,
    "pycharm": {
     "name": "#%% md\n"
    }
   }
  },
  {
   "cell_type": "code",
   "execution_count": 9,
   "outputs": [],
   "source": [
    "from sklearn.linear_model import LogisticRegression"
   ],
   "metadata": {
    "collapsed": false,
    "pycharm": {
     "name": "#%%\n"
    }
   }
  },
  {
   "cell_type": "code",
   "execution_count": 10,
   "outputs": [],
   "source": [
    "C = [10, 0.1, 0.00001]\n",
    "PENALTY = [['liblinear', 'l1'], ['newton-cg', 'l2']]"
   ],
   "metadata": {
    "collapsed": false,
    "pycharm": {
     "name": "#%%\n"
    }
   }
  },
  {
   "cell_type": "code",
   "execution_count": 11,
   "outputs": [],
   "source": [
    "# use loop to create list of combinations\n",
    "combinations = list()\n",
    "for c in C:\n",
    "    for penalty in PENALTY:\n",
    "        tmp = [c, penalty]\n",
    "\n",
    "        combinations.append(tmp)"
   ],
   "metadata": {
    "collapsed": false,
    "pycharm": {
     "name": "#%%\n"
    }
   }
  },
  {
   "cell_type": "code",
   "execution_count": 12,
   "outputs": [
    {
     "data": {
      "text/plain": "[[10, ['liblinear', 'l1']],\n [10, ['newton-cg', 'l2']],\n [0.1, ['liblinear', 'l1']],\n [0.1, ['newton-cg', 'l2']],\n [1e-05, ['liblinear', 'l1']],\n [1e-05, ['newton-cg', 'l2']]]"
     },
     "execution_count": 12,
     "metadata": {},
     "output_type": "execute_result"
    }
   ],
   "source": [
    "combinations"
   ],
   "metadata": {
    "collapsed": false,
    "pycharm": {
     "name": "#%%\n"
    }
   }
  },
  {
   "cell_type": "code",
   "execution_count": 13,
   "outputs": [],
   "source": [
    "tuning_results = pd.DataFrame()"
   ],
   "metadata": {
    "collapsed": false,
    "pycharm": {
     "name": "#%%\n"
    }
   }
  },
  {
   "cell_type": "code",
   "execution_count": 14,
   "outputs": [
    {
     "name": "stdout",
     "output_type": "stream",
     "text": [
      "0\n",
      "1\n",
      "2\n",
      "3\n",
      "4\n",
      "5\n"
     ]
    }
   ],
   "source": [
    "# start training and scoring each combination\n",
    "\n",
    "for i in range(len(combinations)):\n",
    "    print(i)\n",
    "    logR = LogisticRegression(C = combinations[i][0],\n",
    "                              solver = combinations[i][1][0],\n",
    "                              penalty = combinations[i][1][1],\n",
    "                              max_iter = 100000)\n",
    "\n",
    "    logR.fit(XTrain, yTrain)\n",
    "    train_pred_logR = logR.predict(XTrain)\n",
    "    train_accu = accuracy_score(train_pred_logR, train_obs)\n",
    "    val_pred_logR = logR.predict(XVal)\n",
    "    val_accu = accuracy_score(val_pred_logR, val_obs)\n",
    "    test_pred_logR = logR.predict(XTest)\n",
    "    test_accu = accuracy_score(test_pred_logR, test_obs)\n",
    "\n",
    "    one_result = pd.DataFrame({'C': [combinations[i][0]],\n",
    "                               'solver': [combinations[i][1][0]],\n",
    "                               'penalty': [combinations[i][1][1]],\n",
    "                               'training_accuracy': [train_accu],\n",
    "                               'validation_accuracy': [val_accu],\n",
    "                               'testing_accuracy': [test_accu]})\n",
    "\n",
    "    tuning_results = tuning_results.append(one_result)\n",
    "    tuning_results.to_csv('../data/curated/tuning/logR_Unified.csv')"
   ],
   "metadata": {
    "collapsed": false,
    "pycharm": {
     "name": "#%%\n"
    }
   }
  },
  {
   "cell_type": "code",
   "execution_count": 15,
   "outputs": [],
   "source": [
    "C = [1]\n",
    "PENALTY = [['liblinear', 'l1'], ['newton-cg', 'l2']]\n",
    "# use loop to create list of combinations\n",
    "combinations = list()\n",
    "for c in C:\n",
    "    for penalty in PENALTY:\n",
    "        tmp = [c, penalty]\n",
    "\n",
    "        combinations.append(tmp)"
   ],
   "metadata": {
    "collapsed": false,
    "pycharm": {
     "name": "#%%\n"
    }
   }
  },
  {
   "cell_type": "code",
   "execution_count": 16,
   "outputs": [
    {
     "name": "stdout",
     "output_type": "stream",
     "text": [
      "0\n",
      "1\n"
     ]
    }
   ],
   "source": [
    "# start training and scoring each combination\n",
    "\n",
    "for i in range(len(combinations)):\n",
    "    print(i)\n",
    "    logR = LogisticRegression(C = combinations[i][0],\n",
    "                              solver = combinations[i][1][0],\n",
    "                              penalty = combinations[i][1][1],\n",
    "                              max_iter = 100000)\n",
    "\n",
    "    logR.fit(XTrain, yTrain)\n",
    "    train_pred_logR = logR.predict(XTrain)\n",
    "    train_accu = accuracy_score(train_pred_logR, train_obs)\n",
    "    val_pred_logR = logR.predict(XVal)\n",
    "    val_accu = accuracy_score(val_pred_logR, val_obs)\n",
    "    test_pred_logR = logR.predict(XTest)\n",
    "    test_accu = accuracy_score(test_pred_logR, test_obs)\n",
    "\n",
    "    one_result = pd.DataFrame({'C': [combinations[i][0]],\n",
    "                               'solver': [combinations[i][1][0]],\n",
    "                               'penalty': [combinations[i][1][1]],\n",
    "                               'training_accuracy': [train_accu],\n",
    "                               'validation_accuracy': [val_accu],\n",
    "                               'testing_accuracy': [test_accu]})\n",
    "\n",
    "    tuning_results = tuning_results.append(one_result)\n",
    "    tuning_results.to_csv('../data/curated/tuning/logR_Unified.csv')"
   ],
   "metadata": {
    "collapsed": false,
    "pycharm": {
     "name": "#%%\n"
    }
   }
  },
  {
   "cell_type": "code",
   "execution_count": null,
   "outputs": [],
   "source": [],
   "metadata": {
    "collapsed": false,
    "pycharm": {
     "name": "#%%\n"
    }
   }
  }
 ],
 "metadata": {
  "kernelspec": {
   "display_name": "Python 3",
   "language": "python",
   "name": "python3"
  },
  "language_info": {
   "codemirror_mode": {
    "name": "ipython",
    "version": 2
   },
   "file_extension": ".py",
   "mimetype": "text/x-python",
   "name": "python",
   "nbconvert_exporter": "python",
   "pygments_lexer": "ipython2",
   "version": "2.7.6"
  }
 },
 "nbformat": 4,
 "nbformat_minor": 0
}