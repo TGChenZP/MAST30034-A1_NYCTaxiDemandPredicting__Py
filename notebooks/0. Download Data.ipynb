{
 "cells": [
  {
   "cell_type": "markdown",
   "source": [
    "# 0. Download Data"
   ],
   "metadata": {
    "collapsed": false,
    "pycharm": {
     "name": "#%% md\n"
    }
   }
  },
  {
   "cell_type": "code",
   "execution_count": 9,
   "metadata": {
    "collapsed": true,
    "pycharm": {
     "name": "#%%\n"
    }
   },
   "outputs": [],
   "source": [
    "from urllib.request import urlretrieve\n",
    "import os"
   ]
  },
  {
   "cell_type": "code",
   "execution_count": 10,
   "outputs": [],
   "source": [
    "# create new directory\n",
    "output_relative_dirs = ['../data/raw/NYC_Taxi/green', '../data/raw/NYC_Taxi/yellow']\n",
    "\n",
    "# check if it exists as it makedir will raise an error if it does exist\n",
    "for output_relative_dir in output_relative_dirs:\n",
    "    if not os.path.exists(output_relative_dir):\n",
    "        os.makedirs(output_relative_dir)"
   ],
   "metadata": {
    "collapsed": false,
    "pycharm": {
     "name": "#%%\n"
    }
   }
  },
  {
   "cell_type": "code",
   "execution_count": 11,
   "outputs": [],
   "source": [
    "output_relative_dir = '../data/raw/NYC_Taxi/'\n",
    "\n",
    "MONTHS = range(1, 7)\n",
    "YEARS = [2016]\n",
    "types = ['green', 'yellow']\n",
    "\n",
    "URL_TEMPLATE = \"https://d37ci6vzurychx.cloudfront.net/trip-data/\"\n",
    "URLTEMPLATE2 = \"_tripdata_\""
   ],
   "metadata": {
    "collapsed": false,
    "pycharm": {
     "name": "#%%\n"
    }
   }
  },
  {
   "cell_type": "code",
   "execution_count": 12,
   "outputs": [
    {
     "name": "stdout",
     "output_type": "stream",
     "text": [
      "Begin month 01\n",
      "\t fhv done\n",
      "\t green done\n",
      "\t yellow done\n",
      "\n",
      "\n",
      "Begin month 02\n",
      "\t fhv done\n",
      "\t green done\n",
      "\t yellow done\n",
      "\n",
      "\n",
      "Begin month 03\n",
      "\t fhv done\n",
      "\t green done\n",
      "\t yellow done\n",
      "\n",
      "\n",
      "Begin month 04\n",
      "\t fhv done\n",
      "\t green done\n",
      "\t yellow done\n",
      "\n",
      "\n",
      "Begin month 05\n",
      "\t fhv done\n",
      "\t green done\n",
      "\t yellow done\n",
      "\n",
      "\n",
      "Begin month 06\n",
      "\t fhv done\n",
      "\t green done\n",
      "\t yellow done\n",
      "\n",
      "\n",
      "Begin month 07\n",
      "\t fhv done\n",
      "\t green done\n",
      "\t yellow done\n",
      "\n",
      "\n",
      "Begin month 08\n",
      "\t fhv done\n",
      "\t green done\n",
      "\t yellow done\n",
      "\n",
      "\n",
      "Begin month 09\n",
      "\t fhv done\n",
      "\t green done\n",
      "\t yellow done\n",
      "\n",
      "\n",
      "Begin month 10\n",
      "\t fhv done\n",
      "\t green done\n",
      "\t yellow done\n",
      "\n",
      "\n",
      "Begin month 11\n",
      "\t fhv done\n",
      "\t green done\n",
      "\t yellow done\n",
      "\n",
      "\n",
      "Begin month 12\n",
      "\t fhv done\n",
      "\t green done\n",
      "\t yellow done\n",
      "\n",
      "\n",
      "Begin month 01\n",
      "\t fhv done\n",
      "\t green done\n",
      "\t yellow done\n",
      "\n",
      "\n",
      "Begin month 02\n",
      "\t fhv done\n",
      "\t green done\n",
      "\t yellow done\n",
      "\n",
      "\n",
      "Begin month 03\n",
      "\t fhv done\n",
      "\t green done\n",
      "\t yellow done\n",
      "\n",
      "\n",
      "Begin month 04\n",
      "\t fhv done\n",
      "\t green done\n",
      "\t yellow done\n",
      "\n",
      "\n",
      "Begin month 05\n",
      "\t fhv done\n",
      "\t green done\n",
      "\t yellow done\n",
      "\n",
      "\n",
      "Begin month 06\n",
      "\t fhv done\n",
      "\t green done\n",
      "\t yellow done\n",
      "\n",
      "\n",
      "Begin month 07\n",
      "\t fhv done\n",
      "\t green done\n",
      "\t yellow done\n",
      "\n",
      "\n",
      "Begin month 08\n",
      "\t fhv done\n",
      "\t green done\n",
      "\t yellow done\n",
      "\n",
      "\n",
      "Begin month 09\n",
      "\t fhv done\n",
      "\t green done\n",
      "\t yellow done\n",
      "\n",
      "\n",
      "Begin month 10\n",
      "\t fhv done\n",
      "\t green done\n",
      "\t yellow done\n",
      "\n",
      "\n",
      "Begin month 11\n",
      "\t fhv done\n",
      "\t green done\n",
      "\t yellow done\n",
      "\n",
      "\n",
      "Begin month 12\n",
      "\t fhv done\n",
      "\t green done\n",
      "\t yellow done\n",
      "\n",
      "\n"
     ]
    }
   ],
   "source": [
    "# Download green and yellow taxi data for 2016-01 to 2016-06\n",
    "for year in YEARS:\n",
    "    for month in MONTHS:\n",
    "\n",
    "        month = str(month).zfill(2)\n",
    "        print(f'Begin year {year} month {month}')\n",
    "\n",
    "        for type in types:\n",
    "\n",
    "            url = f'{URL_TEMPLATE}{type}{URLTEMPLATE2}{year}-{month}.parquet'\n",
    "            output_dir = f'{output_relative_dir}{type}/{year}-{month}.parquet'\n",
    "            urlretrieve(url, output_dir)\n",
    "\n",
    "            print('\\t', type, 'done')\n",
    "\n",
    "        print('\\n')"
   ],
   "metadata": {
    "collapsed": false,
    "pycharm": {
     "name": "#%%\n"
    }
   }
  },
  {
   "cell_type": "code",
   "execution_count": null,
   "outputs": [],
   "source": [],
   "metadata": {
    "collapsed": false,
    "pycharm": {
     "name": "#%%\n"
    }
   }
  }
 ],
 "metadata": {
  "kernelspec": {
   "display_name": "Python 3",
   "language": "python",
   "name": "python3"
  },
  "language_info": {
   "codemirror_mode": {
    "name": "ipython",
    "version": 2
   },
   "file_extension": ".py",
   "mimetype": "text/x-python",
   "name": "python",
   "nbconvert_exporter": "python",
   "pygments_lexer": "ipython2",
   "version": "2.7.6"
  }
 },
 "nbformat": 4,
 "nbformat_minor": 0
}