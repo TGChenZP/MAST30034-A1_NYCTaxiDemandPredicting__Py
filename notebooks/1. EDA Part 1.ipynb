{
 "cells": [
  {
   "cell_type": "markdown",
   "source": [
    "# 1. Exploratory Data Analysis (just one file - to get a glance at what is in data)"
   ],
   "metadata": {
    "collapsed": false,
    "pycharm": {
     "name": "#%% md\n"
    }
   }
  },
  {
   "cell_type": "code",
   "execution_count": 1,
   "metadata": {
    "collapsed": true,
    "pycharm": {
     "name": "#%%\n"
    }
   },
   "outputs": [],
   "source": [
    "import pandas as pd\n",
    "import numpy as np\n",
    "import matplotlib.pyplot as plt"
   ]
  },
  {
   "cell_type": "markdown",
   "source": [
    "# Open one file to inspect data structure"
   ],
   "metadata": {
    "collapsed": false,
    "pycharm": {
     "name": "#%% md\n"
    }
   }
  },
  {
   "cell_type": "code",
   "execution_count": 2,
   "outputs": [
    {
     "data": {
      "text/plain": "          VendorID tpep_pickup_datetime tpep_dropoff_datetime  \\\n0                1  2016-01-01 00:12:22   2016-01-01 00:29:14   \n1                1  2016-01-01 00:41:31   2016-01-01 00:55:10   \n2                1  2016-01-01 00:53:37   2016-01-01 00:59:57   \n3                1  2016-01-01 00:13:28   2016-01-01 00:18:07   \n4                1  2016-01-01 00:33:04   2016-01-01 00:47:14   \n...            ...                  ...                   ...   \n10905062         1  2016-01-31 23:42:59   2016-01-31 23:51:01   \n10905063         1  2016-01-31 23:13:07   2016-01-31 23:27:20   \n10905064         2  2016-01-31 23:39:18   2016-01-31 23:54:14   \n10905065         2  2016-01-31 23:03:58   2016-01-31 23:07:26   \n10905066         2  2016-01-31 23:10:54   2016-01-31 23:15:58   \n\n          passenger_count  trip_distance  RatecodeID store_and_fwd_flag  \\\n0                       1           3.20           1                  N   \n1                       2           1.00           1                  N   \n2                       1           0.90           1                  N   \n3                       1           0.80           1                  N   \n4                       1           1.80           1                  N   \n...                   ...            ...         ...                ...   \n10905062                1           1.50           1                  N   \n10905063                1           2.60           1                  N   \n10905064                5           5.63           1                  N   \n10905065                2           0.77           1                  N   \n10905066                2           1.26           1                  N   \n\n          PULocationID  DOLocationID  payment_type  fare_amount  extra  \\\n0                   48           262             1         14.0    0.5   \n1                  162            48             2          9.5    0.5   \n2                  246            90             2          6.0    0.5   \n3                  170           162             2          5.0    0.5   \n4                  161           140             2         11.0    0.5   \n...                ...           ...           ...          ...    ...   \n10905062            41            42             1          7.5    0.5   \n10905063           140           239             1         12.0    0.5   \n10905064            74           212             2         18.5    0.5   \n10905065            79           107             2          5.0    0.5   \n10905066           234           162             1          6.5    0.5   \n\n          mta_tax  tip_amount  tolls_amount  improvement_surcharge  \\\n0             0.5        3.06           0.0                    0.3   \n1             0.5        0.00           0.0                    0.3   \n2             0.5        0.00           0.0                    0.3   \n3             0.5        0.00           0.0                    0.3   \n4             0.5        0.00           0.0                    0.3   \n...           ...         ...           ...                    ...   \n10905062      0.5        2.20           0.0                    0.3   \n10905063      0.5        3.30           0.0                    0.3   \n10905064      0.5        0.00           0.0                    0.3   \n10905065      0.5        0.00           0.0                    0.3   \n10905066      0.5        1.56           0.0                    0.3   \n\n          total_amount congestion_surcharge airport_fee  \n0                18.36                 None        None  \n1                10.80                 None        None  \n2                 7.30                 None        None  \n3                 6.30                 None        None  \n4                12.30                 None        None  \n...                ...                  ...         ...  \n10905062         11.00                 None        None  \n10905063         16.60                 None        None  \n10905064         19.80                 None        None  \n10905065          6.30                 None        None  \n10905066          9.36                 None        None  \n\n[10905067 rows x 19 columns]",
      "text/html": "<div>\n<style scoped>\n    .dataframe tbody tr th:only-of-type {\n        vertical-align: middle;\n    }\n\n    .dataframe tbody tr th {\n        vertical-align: top;\n    }\n\n    .dataframe thead th {\n        text-align: right;\n    }\n</style>\n<table border=\"1\" class=\"dataframe\">\n  <thead>\n    <tr style=\"text-align: right;\">\n      <th></th>\n      <th>VendorID</th>\n      <th>tpep_pickup_datetime</th>\n      <th>tpep_dropoff_datetime</th>\n      <th>passenger_count</th>\n      <th>trip_distance</th>\n      <th>RatecodeID</th>\n      <th>store_and_fwd_flag</th>\n      <th>PULocationID</th>\n      <th>DOLocationID</th>\n      <th>payment_type</th>\n      <th>fare_amount</th>\n      <th>extra</th>\n      <th>mta_tax</th>\n      <th>tip_amount</th>\n      <th>tolls_amount</th>\n      <th>improvement_surcharge</th>\n      <th>total_amount</th>\n      <th>congestion_surcharge</th>\n      <th>airport_fee</th>\n    </tr>\n  </thead>\n  <tbody>\n    <tr>\n      <th>0</th>\n      <td>1</td>\n      <td>2016-01-01 00:12:22</td>\n      <td>2016-01-01 00:29:14</td>\n      <td>1</td>\n      <td>3.20</td>\n      <td>1</td>\n      <td>N</td>\n      <td>48</td>\n      <td>262</td>\n      <td>1</td>\n      <td>14.0</td>\n      <td>0.5</td>\n      <td>0.5</td>\n      <td>3.06</td>\n      <td>0.0</td>\n      <td>0.3</td>\n      <td>18.36</td>\n      <td>None</td>\n      <td>None</td>\n    </tr>\n    <tr>\n      <th>1</th>\n      <td>1</td>\n      <td>2016-01-01 00:41:31</td>\n      <td>2016-01-01 00:55:10</td>\n      <td>2</td>\n      <td>1.00</td>\n      <td>1</td>\n      <td>N</td>\n      <td>162</td>\n      <td>48</td>\n      <td>2</td>\n      <td>9.5</td>\n      <td>0.5</td>\n      <td>0.5</td>\n      <td>0.00</td>\n      <td>0.0</td>\n      <td>0.3</td>\n      <td>10.80</td>\n      <td>None</td>\n      <td>None</td>\n    </tr>\n    <tr>\n      <th>2</th>\n      <td>1</td>\n      <td>2016-01-01 00:53:37</td>\n      <td>2016-01-01 00:59:57</td>\n      <td>1</td>\n      <td>0.90</td>\n      <td>1</td>\n      <td>N</td>\n      <td>246</td>\n      <td>90</td>\n      <td>2</td>\n      <td>6.0</td>\n      <td>0.5</td>\n      <td>0.5</td>\n      <td>0.00</td>\n      <td>0.0</td>\n      <td>0.3</td>\n      <td>7.30</td>\n      <td>None</td>\n      <td>None</td>\n    </tr>\n    <tr>\n      <th>3</th>\n      <td>1</td>\n      <td>2016-01-01 00:13:28</td>\n      <td>2016-01-01 00:18:07</td>\n      <td>1</td>\n      <td>0.80</td>\n      <td>1</td>\n      <td>N</td>\n      <td>170</td>\n      <td>162</td>\n      <td>2</td>\n      <td>5.0</td>\n      <td>0.5</td>\n      <td>0.5</td>\n      <td>0.00</td>\n      <td>0.0</td>\n      <td>0.3</td>\n      <td>6.30</td>\n      <td>None</td>\n      <td>None</td>\n    </tr>\n    <tr>\n      <th>4</th>\n      <td>1</td>\n      <td>2016-01-01 00:33:04</td>\n      <td>2016-01-01 00:47:14</td>\n      <td>1</td>\n      <td>1.80</td>\n      <td>1</td>\n      <td>N</td>\n      <td>161</td>\n      <td>140</td>\n      <td>2</td>\n      <td>11.0</td>\n      <td>0.5</td>\n      <td>0.5</td>\n      <td>0.00</td>\n      <td>0.0</td>\n      <td>0.3</td>\n      <td>12.30</td>\n      <td>None</td>\n      <td>None</td>\n    </tr>\n    <tr>\n      <th>...</th>\n      <td>...</td>\n      <td>...</td>\n      <td>...</td>\n      <td>...</td>\n      <td>...</td>\n      <td>...</td>\n      <td>...</td>\n      <td>...</td>\n      <td>...</td>\n      <td>...</td>\n      <td>...</td>\n      <td>...</td>\n      <td>...</td>\n      <td>...</td>\n      <td>...</td>\n      <td>...</td>\n      <td>...</td>\n      <td>...</td>\n      <td>...</td>\n    </tr>\n    <tr>\n      <th>10905062</th>\n      <td>1</td>\n      <td>2016-01-31 23:42:59</td>\n      <td>2016-01-31 23:51:01</td>\n      <td>1</td>\n      <td>1.50</td>\n      <td>1</td>\n      <td>N</td>\n      <td>41</td>\n      <td>42</td>\n      <td>1</td>\n      <td>7.5</td>\n      <td>0.5</td>\n      <td>0.5</td>\n      <td>2.20</td>\n      <td>0.0</td>\n      <td>0.3</td>\n      <td>11.00</td>\n      <td>None</td>\n      <td>None</td>\n    </tr>\n    <tr>\n      <th>10905063</th>\n      <td>1</td>\n      <td>2016-01-31 23:13:07</td>\n      <td>2016-01-31 23:27:20</td>\n      <td>1</td>\n      <td>2.60</td>\n      <td>1</td>\n      <td>N</td>\n      <td>140</td>\n      <td>239</td>\n      <td>1</td>\n      <td>12.0</td>\n      <td>0.5</td>\n      <td>0.5</td>\n      <td>3.30</td>\n      <td>0.0</td>\n      <td>0.3</td>\n      <td>16.60</td>\n      <td>None</td>\n      <td>None</td>\n    </tr>\n    <tr>\n      <th>10905064</th>\n      <td>2</td>\n      <td>2016-01-31 23:39:18</td>\n      <td>2016-01-31 23:54:14</td>\n      <td>5</td>\n      <td>5.63</td>\n      <td>1</td>\n      <td>N</td>\n      <td>74</td>\n      <td>212</td>\n      <td>2</td>\n      <td>18.5</td>\n      <td>0.5</td>\n      <td>0.5</td>\n      <td>0.00</td>\n      <td>0.0</td>\n      <td>0.3</td>\n      <td>19.80</td>\n      <td>None</td>\n      <td>None</td>\n    </tr>\n    <tr>\n      <th>10905065</th>\n      <td>2</td>\n      <td>2016-01-31 23:03:58</td>\n      <td>2016-01-31 23:07:26</td>\n      <td>2</td>\n      <td>0.77</td>\n      <td>1</td>\n      <td>N</td>\n      <td>79</td>\n      <td>107</td>\n      <td>2</td>\n      <td>5.0</td>\n      <td>0.5</td>\n      <td>0.5</td>\n      <td>0.00</td>\n      <td>0.0</td>\n      <td>0.3</td>\n      <td>6.30</td>\n      <td>None</td>\n      <td>None</td>\n    </tr>\n    <tr>\n      <th>10905066</th>\n      <td>2</td>\n      <td>2016-01-31 23:10:54</td>\n      <td>2016-01-31 23:15:58</td>\n      <td>2</td>\n      <td>1.26</td>\n      <td>1</td>\n      <td>N</td>\n      <td>234</td>\n      <td>162</td>\n      <td>1</td>\n      <td>6.5</td>\n      <td>0.5</td>\n      <td>0.5</td>\n      <td>1.56</td>\n      <td>0.0</td>\n      <td>0.3</td>\n      <td>9.36</td>\n      <td>None</td>\n      <td>None</td>\n    </tr>\n  </tbody>\n</table>\n<p>10905067 rows × 19 columns</p>\n</div>"
     },
     "execution_count": 2,
     "metadata": {},
     "output_type": "execute_result"
    }
   ],
   "source": [
    "data_yellow_16_1 = pd.read_parquet('../data/raw/NYC_Taxi/yellow_tripdata_2016-01.parquet')\n",
    "data_yellow_16_1"
   ],
   "metadata": {
    "collapsed": false,
    "pycharm": {
     "name": "#%%\n"
    }
   }
  },
  {
   "cell_type": "code",
   "execution_count": 3,
   "outputs": [
    {
     "data": {
      "text/plain": "         VendorID lpep_pickup_datetime lpep_dropoff_datetime  \\\n0               2  2016-01-01 00:17:40   2016-01-01 00:36:15   \n1               2  2016-01-01 00:47:37   2016-01-01 01:18:37   \n2               2  2016-01-01 00:15:19   2016-01-01 00:24:27   \n3               2  2016-01-01 00:40:30   2016-01-01 00:45:42   \n4               2  2016-01-01 00:53:43   2016-01-01 01:43:47   \n...           ...                  ...                   ...   \n1445287         2  2016-01-31 23:57:51   2016-02-01 00:05:15   \n1445288         2  2016-01-31 23:27:42   2016-01-31 23:32:31   \n1445289         2  2016-01-31 23:44:08   2016-01-31 23:50:35   \n1445290         2  2016-01-31 23:12:49   2016-01-31 23:24:15   \n1445291         2  2016-01-31 23:27:07   2016-01-31 23:36:58   \n\n        store_and_fwd_flag  RatecodeID  PULocationID  DOLocationID  \\\n0                        N           1           255           228   \n1                        N           1           106            36   \n2                        N           2           226           260   \n3                        N           1           226           260   \n4                        N           1           226            79   \n...                    ...         ...           ...           ...   \n1445287                  N           1            41            24   \n1445288                  N           1           223           223   \n1445289                  N           1           223           223   \n1445290                  N           1            61            49   \n1445291                  N           1            49           257   \n\n         passenger_count  trip_distance  fare_amount  extra  mta_tax  \\\n0                      1           8.46         25.5    0.5      0.5   \n1                      1           5.84         23.0    0.5      0.5   \n2                      1           1.55         52.0    0.0      0.5   \n3                      1           0.88          5.5    0.5      0.5   \n4                      2           9.06         37.0    0.5      0.5   \n...                  ...            ...          ...    ...      ...   \n1445287                1           1.38          8.0    0.5      0.5   \n1445288                1           1.11          6.0    0.5      0.5   \n1445289                1           1.43          7.0    0.5      0.5   \n1445290                1           2.34         10.5    0.5      0.5   \n1445291                1           2.38         10.0    0.5      0.5   \n\n         tip_amount  tolls_amount ehail_fee  improvement_surcharge  \\\n0             30.00           0.0      None                    0.3   \n1              4.86           0.0      None                    0.3   \n2              0.00           0.0      None                    0.3   \n3              0.00           0.0      None                    0.3   \n4              0.00           0.0      None                    0.3   \n...             ...           ...       ...                    ...   \n1445287        0.00           0.0      None                    0.3   \n1445288        1.82           0.0      None                    0.3   \n1445289        0.00           0.0      None                    0.3   \n1445290        0.00           0.0      None                    0.3   \n1445291        2.26           0.0      None                    0.3   \n\n         total_amount  payment_type  trip_type  congestion_surcharge  \n0               56.80             1        1.0                   NaN  \n1               29.16             1        1.0                   NaN  \n2               52.80             2        1.0                   NaN  \n3                6.80             2        1.0                   NaN  \n4               38.30             2        1.0                   NaN  \n...               ...           ...        ...                   ...  \n1445287          9.30             2        1.0                   NaN  \n1445288          9.12             1        1.0                   NaN  \n1445289          8.30             2        1.0                   NaN  \n1445290         11.80             2        1.0                   NaN  \n1445291         13.56             1        1.0                   NaN  \n\n[1445292 rows x 20 columns]",
      "text/html": "<div>\n<style scoped>\n    .dataframe tbody tr th:only-of-type {\n        vertical-align: middle;\n    }\n\n    .dataframe tbody tr th {\n        vertical-align: top;\n    }\n\n    .dataframe thead th {\n        text-align: right;\n    }\n</style>\n<table border=\"1\" class=\"dataframe\">\n  <thead>\n    <tr style=\"text-align: right;\">\n      <th></th>\n      <th>VendorID</th>\n      <th>lpep_pickup_datetime</th>\n      <th>lpep_dropoff_datetime</th>\n      <th>store_and_fwd_flag</th>\n      <th>RatecodeID</th>\n      <th>PULocationID</th>\n      <th>DOLocationID</th>\n      <th>passenger_count</th>\n      <th>trip_distance</th>\n      <th>fare_amount</th>\n      <th>extra</th>\n      <th>mta_tax</th>\n      <th>tip_amount</th>\n      <th>tolls_amount</th>\n      <th>ehail_fee</th>\n      <th>improvement_surcharge</th>\n      <th>total_amount</th>\n      <th>payment_type</th>\n      <th>trip_type</th>\n      <th>congestion_surcharge</th>\n    </tr>\n  </thead>\n  <tbody>\n    <tr>\n      <th>0</th>\n      <td>2</td>\n      <td>2016-01-01 00:17:40</td>\n      <td>2016-01-01 00:36:15</td>\n      <td>N</td>\n      <td>1</td>\n      <td>255</td>\n      <td>228</td>\n      <td>1</td>\n      <td>8.46</td>\n      <td>25.5</td>\n      <td>0.5</td>\n      <td>0.5</td>\n      <td>30.00</td>\n      <td>0.0</td>\n      <td>None</td>\n      <td>0.3</td>\n      <td>56.80</td>\n      <td>1</td>\n      <td>1.0</td>\n      <td>NaN</td>\n    </tr>\n    <tr>\n      <th>1</th>\n      <td>2</td>\n      <td>2016-01-01 00:47:37</td>\n      <td>2016-01-01 01:18:37</td>\n      <td>N</td>\n      <td>1</td>\n      <td>106</td>\n      <td>36</td>\n      <td>1</td>\n      <td>5.84</td>\n      <td>23.0</td>\n      <td>0.5</td>\n      <td>0.5</td>\n      <td>4.86</td>\n      <td>0.0</td>\n      <td>None</td>\n      <td>0.3</td>\n      <td>29.16</td>\n      <td>1</td>\n      <td>1.0</td>\n      <td>NaN</td>\n    </tr>\n    <tr>\n      <th>2</th>\n      <td>2</td>\n      <td>2016-01-01 00:15:19</td>\n      <td>2016-01-01 00:24:27</td>\n      <td>N</td>\n      <td>2</td>\n      <td>226</td>\n      <td>260</td>\n      <td>1</td>\n      <td>1.55</td>\n      <td>52.0</td>\n      <td>0.0</td>\n      <td>0.5</td>\n      <td>0.00</td>\n      <td>0.0</td>\n      <td>None</td>\n      <td>0.3</td>\n      <td>52.80</td>\n      <td>2</td>\n      <td>1.0</td>\n      <td>NaN</td>\n    </tr>\n    <tr>\n      <th>3</th>\n      <td>2</td>\n      <td>2016-01-01 00:40:30</td>\n      <td>2016-01-01 00:45:42</td>\n      <td>N</td>\n      <td>1</td>\n      <td>226</td>\n      <td>260</td>\n      <td>1</td>\n      <td>0.88</td>\n      <td>5.5</td>\n      <td>0.5</td>\n      <td>0.5</td>\n      <td>0.00</td>\n      <td>0.0</td>\n      <td>None</td>\n      <td>0.3</td>\n      <td>6.80</td>\n      <td>2</td>\n      <td>1.0</td>\n      <td>NaN</td>\n    </tr>\n    <tr>\n      <th>4</th>\n      <td>2</td>\n      <td>2016-01-01 00:53:43</td>\n      <td>2016-01-01 01:43:47</td>\n      <td>N</td>\n      <td>1</td>\n      <td>226</td>\n      <td>79</td>\n      <td>2</td>\n      <td>9.06</td>\n      <td>37.0</td>\n      <td>0.5</td>\n      <td>0.5</td>\n      <td>0.00</td>\n      <td>0.0</td>\n      <td>None</td>\n      <td>0.3</td>\n      <td>38.30</td>\n      <td>2</td>\n      <td>1.0</td>\n      <td>NaN</td>\n    </tr>\n    <tr>\n      <th>...</th>\n      <td>...</td>\n      <td>...</td>\n      <td>...</td>\n      <td>...</td>\n      <td>...</td>\n      <td>...</td>\n      <td>...</td>\n      <td>...</td>\n      <td>...</td>\n      <td>...</td>\n      <td>...</td>\n      <td>...</td>\n      <td>...</td>\n      <td>...</td>\n      <td>...</td>\n      <td>...</td>\n      <td>...</td>\n      <td>...</td>\n      <td>...</td>\n      <td>...</td>\n    </tr>\n    <tr>\n      <th>1445287</th>\n      <td>2</td>\n      <td>2016-01-31 23:57:51</td>\n      <td>2016-02-01 00:05:15</td>\n      <td>N</td>\n      <td>1</td>\n      <td>41</td>\n      <td>24</td>\n      <td>1</td>\n      <td>1.38</td>\n      <td>8.0</td>\n      <td>0.5</td>\n      <td>0.5</td>\n      <td>0.00</td>\n      <td>0.0</td>\n      <td>None</td>\n      <td>0.3</td>\n      <td>9.30</td>\n      <td>2</td>\n      <td>1.0</td>\n      <td>NaN</td>\n    </tr>\n    <tr>\n      <th>1445288</th>\n      <td>2</td>\n      <td>2016-01-31 23:27:42</td>\n      <td>2016-01-31 23:32:31</td>\n      <td>N</td>\n      <td>1</td>\n      <td>223</td>\n      <td>223</td>\n      <td>1</td>\n      <td>1.11</td>\n      <td>6.0</td>\n      <td>0.5</td>\n      <td>0.5</td>\n      <td>1.82</td>\n      <td>0.0</td>\n      <td>None</td>\n      <td>0.3</td>\n      <td>9.12</td>\n      <td>1</td>\n      <td>1.0</td>\n      <td>NaN</td>\n    </tr>\n    <tr>\n      <th>1445289</th>\n      <td>2</td>\n      <td>2016-01-31 23:44:08</td>\n      <td>2016-01-31 23:50:35</td>\n      <td>N</td>\n      <td>1</td>\n      <td>223</td>\n      <td>223</td>\n      <td>1</td>\n      <td>1.43</td>\n      <td>7.0</td>\n      <td>0.5</td>\n      <td>0.5</td>\n      <td>0.00</td>\n      <td>0.0</td>\n      <td>None</td>\n      <td>0.3</td>\n      <td>8.30</td>\n      <td>2</td>\n      <td>1.0</td>\n      <td>NaN</td>\n    </tr>\n    <tr>\n      <th>1445290</th>\n      <td>2</td>\n      <td>2016-01-31 23:12:49</td>\n      <td>2016-01-31 23:24:15</td>\n      <td>N</td>\n      <td>1</td>\n      <td>61</td>\n      <td>49</td>\n      <td>1</td>\n      <td>2.34</td>\n      <td>10.5</td>\n      <td>0.5</td>\n      <td>0.5</td>\n      <td>0.00</td>\n      <td>0.0</td>\n      <td>None</td>\n      <td>0.3</td>\n      <td>11.80</td>\n      <td>2</td>\n      <td>1.0</td>\n      <td>NaN</td>\n    </tr>\n    <tr>\n      <th>1445291</th>\n      <td>2</td>\n      <td>2016-01-31 23:27:07</td>\n      <td>2016-01-31 23:36:58</td>\n      <td>N</td>\n      <td>1</td>\n      <td>49</td>\n      <td>257</td>\n      <td>1</td>\n      <td>2.38</td>\n      <td>10.0</td>\n      <td>0.5</td>\n      <td>0.5</td>\n      <td>2.26</td>\n      <td>0.0</td>\n      <td>None</td>\n      <td>0.3</td>\n      <td>13.56</td>\n      <td>1</td>\n      <td>1.0</td>\n      <td>NaN</td>\n    </tr>\n  </tbody>\n</table>\n<p>1445292 rows × 20 columns</p>\n</div>"
     },
     "execution_count": 3,
     "metadata": {},
     "output_type": "execute_result"
    }
   ],
   "source": [
    "data_green_16_1 = pd.read_parquet('../data/raw/NYC_Taxi/green_tripdata_2016-01.parquet')\n",
    "data_green_16_1"
   ],
   "metadata": {
    "collapsed": false,
    "pycharm": {
     "name": "#%%\n"
    }
   }
  },
  {
   "cell_type": "markdown",
   "source": [
    "# Attempt to Clean data to get rid of total amount paid <0"
   ],
   "metadata": {
    "collapsed": false,
    "pycharm": {
     "name": "#%% md\n"
    }
   }
  },
  {
   "cell_type": "code",
   "execution_count": 6,
   "outputs": [
    {
     "data": {
      "text/plain": "          VendorID tpep_pickup_datetime tpep_dropoff_datetime  \\\n0                1  2016-01-01 00:12:22   2016-01-01 00:29:14   \n1                1  2016-01-01 00:41:31   2016-01-01 00:55:10   \n2                1  2016-01-01 00:53:37   2016-01-01 00:59:57   \n3                1  2016-01-01 00:13:28   2016-01-01 00:18:07   \n4                1  2016-01-01 00:33:04   2016-01-01 00:47:14   \n...            ...                  ...                   ...   \n10905062         1  2016-01-31 23:42:59   2016-01-31 23:51:01   \n10905063         1  2016-01-31 23:13:07   2016-01-31 23:27:20   \n10905064         2  2016-01-31 23:39:18   2016-01-31 23:54:14   \n10905065         2  2016-01-31 23:03:58   2016-01-31 23:07:26   \n10905066         2  2016-01-31 23:10:54   2016-01-31 23:15:58   \n\n          passenger_count  trip_distance  RatecodeID store_and_fwd_flag  \\\n0                       1           3.20           1                  N   \n1                       2           1.00           1                  N   \n2                       1           0.90           1                  N   \n3                       1           0.80           1                  N   \n4                       1           1.80           1                  N   \n...                   ...            ...         ...                ...   \n10905062                1           1.50           1                  N   \n10905063                1           2.60           1                  N   \n10905064                5           5.63           1                  N   \n10905065                2           0.77           1                  N   \n10905066                2           1.26           1                  N   \n\n          PULocationID  DOLocationID  payment_type  fare_amount  extra  \\\n0                   48           262             1         14.0    0.5   \n1                  162            48             2          9.5    0.5   \n2                  246            90             2          6.0    0.5   \n3                  170           162             2          5.0    0.5   \n4                  161           140             2         11.0    0.5   \n...                ...           ...           ...          ...    ...   \n10905062            41            42             1          7.5    0.5   \n10905063           140           239             1         12.0    0.5   \n10905064            74           212             2         18.5    0.5   \n10905065            79           107             2          5.0    0.5   \n10905066           234           162             1          6.5    0.5   \n\n          mta_tax  tip_amount  tolls_amount  improvement_surcharge  \\\n0             0.5        3.06           0.0                    0.3   \n1             0.5        0.00           0.0                    0.3   \n2             0.5        0.00           0.0                    0.3   \n3             0.5        0.00           0.0                    0.3   \n4             0.5        0.00           0.0                    0.3   \n...           ...         ...           ...                    ...   \n10905062      0.5        2.20           0.0                    0.3   \n10905063      0.5        3.30           0.0                    0.3   \n10905064      0.5        0.00           0.0                    0.3   \n10905065      0.5        0.00           0.0                    0.3   \n10905066      0.5        1.56           0.0                    0.3   \n\n          total_amount congestion_surcharge airport_fee  \n0                18.36                 None        None  \n1                10.80                 None        None  \n2                 7.30                 None        None  \n3                 6.30                 None        None  \n4                12.30                 None        None  \n...                ...                  ...         ...  \n10905062         11.00                 None        None  \n10905063         16.60                 None        None  \n10905064         19.80                 None        None  \n10905065          6.30                 None        None  \n10905066          9.36                 None        None  \n\n[10900859 rows x 19 columns]",
      "text/html": "<div>\n<style scoped>\n    .dataframe tbody tr th:only-of-type {\n        vertical-align: middle;\n    }\n\n    .dataframe tbody tr th {\n        vertical-align: top;\n    }\n\n    .dataframe thead th {\n        text-align: right;\n    }\n</style>\n<table border=\"1\" class=\"dataframe\">\n  <thead>\n    <tr style=\"text-align: right;\">\n      <th></th>\n      <th>VendorID</th>\n      <th>tpep_pickup_datetime</th>\n      <th>tpep_dropoff_datetime</th>\n      <th>passenger_count</th>\n      <th>trip_distance</th>\n      <th>RatecodeID</th>\n      <th>store_and_fwd_flag</th>\n      <th>PULocationID</th>\n      <th>DOLocationID</th>\n      <th>payment_type</th>\n      <th>fare_amount</th>\n      <th>extra</th>\n      <th>mta_tax</th>\n      <th>tip_amount</th>\n      <th>tolls_amount</th>\n      <th>improvement_surcharge</th>\n      <th>total_amount</th>\n      <th>congestion_surcharge</th>\n      <th>airport_fee</th>\n    </tr>\n  </thead>\n  <tbody>\n    <tr>\n      <th>0</th>\n      <td>1</td>\n      <td>2016-01-01 00:12:22</td>\n      <td>2016-01-01 00:29:14</td>\n      <td>1</td>\n      <td>3.20</td>\n      <td>1</td>\n      <td>N</td>\n      <td>48</td>\n      <td>262</td>\n      <td>1</td>\n      <td>14.0</td>\n      <td>0.5</td>\n      <td>0.5</td>\n      <td>3.06</td>\n      <td>0.0</td>\n      <td>0.3</td>\n      <td>18.36</td>\n      <td>None</td>\n      <td>None</td>\n    </tr>\n    <tr>\n      <th>1</th>\n      <td>1</td>\n      <td>2016-01-01 00:41:31</td>\n      <td>2016-01-01 00:55:10</td>\n      <td>2</td>\n      <td>1.00</td>\n      <td>1</td>\n      <td>N</td>\n      <td>162</td>\n      <td>48</td>\n      <td>2</td>\n      <td>9.5</td>\n      <td>0.5</td>\n      <td>0.5</td>\n      <td>0.00</td>\n      <td>0.0</td>\n      <td>0.3</td>\n      <td>10.80</td>\n      <td>None</td>\n      <td>None</td>\n    </tr>\n    <tr>\n      <th>2</th>\n      <td>1</td>\n      <td>2016-01-01 00:53:37</td>\n      <td>2016-01-01 00:59:57</td>\n      <td>1</td>\n      <td>0.90</td>\n      <td>1</td>\n      <td>N</td>\n      <td>246</td>\n      <td>90</td>\n      <td>2</td>\n      <td>6.0</td>\n      <td>0.5</td>\n      <td>0.5</td>\n      <td>0.00</td>\n      <td>0.0</td>\n      <td>0.3</td>\n      <td>7.30</td>\n      <td>None</td>\n      <td>None</td>\n    </tr>\n    <tr>\n      <th>3</th>\n      <td>1</td>\n      <td>2016-01-01 00:13:28</td>\n      <td>2016-01-01 00:18:07</td>\n      <td>1</td>\n      <td>0.80</td>\n      <td>1</td>\n      <td>N</td>\n      <td>170</td>\n      <td>162</td>\n      <td>2</td>\n      <td>5.0</td>\n      <td>0.5</td>\n      <td>0.5</td>\n      <td>0.00</td>\n      <td>0.0</td>\n      <td>0.3</td>\n      <td>6.30</td>\n      <td>None</td>\n      <td>None</td>\n    </tr>\n    <tr>\n      <th>4</th>\n      <td>1</td>\n      <td>2016-01-01 00:33:04</td>\n      <td>2016-01-01 00:47:14</td>\n      <td>1</td>\n      <td>1.80</td>\n      <td>1</td>\n      <td>N</td>\n      <td>161</td>\n      <td>140</td>\n      <td>2</td>\n      <td>11.0</td>\n      <td>0.5</td>\n      <td>0.5</td>\n      <td>0.00</td>\n      <td>0.0</td>\n      <td>0.3</td>\n      <td>12.30</td>\n      <td>None</td>\n      <td>None</td>\n    </tr>\n    <tr>\n      <th>...</th>\n      <td>...</td>\n      <td>...</td>\n      <td>...</td>\n      <td>...</td>\n      <td>...</td>\n      <td>...</td>\n      <td>...</td>\n      <td>...</td>\n      <td>...</td>\n      <td>...</td>\n      <td>...</td>\n      <td>...</td>\n      <td>...</td>\n      <td>...</td>\n      <td>...</td>\n      <td>...</td>\n      <td>...</td>\n      <td>...</td>\n      <td>...</td>\n    </tr>\n    <tr>\n      <th>10905062</th>\n      <td>1</td>\n      <td>2016-01-31 23:42:59</td>\n      <td>2016-01-31 23:51:01</td>\n      <td>1</td>\n      <td>1.50</td>\n      <td>1</td>\n      <td>N</td>\n      <td>41</td>\n      <td>42</td>\n      <td>1</td>\n      <td>7.5</td>\n      <td>0.5</td>\n      <td>0.5</td>\n      <td>2.20</td>\n      <td>0.0</td>\n      <td>0.3</td>\n      <td>11.00</td>\n      <td>None</td>\n      <td>None</td>\n    </tr>\n    <tr>\n      <th>10905063</th>\n      <td>1</td>\n      <td>2016-01-31 23:13:07</td>\n      <td>2016-01-31 23:27:20</td>\n      <td>1</td>\n      <td>2.60</td>\n      <td>1</td>\n      <td>N</td>\n      <td>140</td>\n      <td>239</td>\n      <td>1</td>\n      <td>12.0</td>\n      <td>0.5</td>\n      <td>0.5</td>\n      <td>3.30</td>\n      <td>0.0</td>\n      <td>0.3</td>\n      <td>16.60</td>\n      <td>None</td>\n      <td>None</td>\n    </tr>\n    <tr>\n      <th>10905064</th>\n      <td>2</td>\n      <td>2016-01-31 23:39:18</td>\n      <td>2016-01-31 23:54:14</td>\n      <td>5</td>\n      <td>5.63</td>\n      <td>1</td>\n      <td>N</td>\n      <td>74</td>\n      <td>212</td>\n      <td>2</td>\n      <td>18.5</td>\n      <td>0.5</td>\n      <td>0.5</td>\n      <td>0.00</td>\n      <td>0.0</td>\n      <td>0.3</td>\n      <td>19.80</td>\n      <td>None</td>\n      <td>None</td>\n    </tr>\n    <tr>\n      <th>10905065</th>\n      <td>2</td>\n      <td>2016-01-31 23:03:58</td>\n      <td>2016-01-31 23:07:26</td>\n      <td>2</td>\n      <td>0.77</td>\n      <td>1</td>\n      <td>N</td>\n      <td>79</td>\n      <td>107</td>\n      <td>2</td>\n      <td>5.0</td>\n      <td>0.5</td>\n      <td>0.5</td>\n      <td>0.00</td>\n      <td>0.0</td>\n      <td>0.3</td>\n      <td>6.30</td>\n      <td>None</td>\n      <td>None</td>\n    </tr>\n    <tr>\n      <th>10905066</th>\n      <td>2</td>\n      <td>2016-01-31 23:10:54</td>\n      <td>2016-01-31 23:15:58</td>\n      <td>2</td>\n      <td>1.26</td>\n      <td>1</td>\n      <td>N</td>\n      <td>234</td>\n      <td>162</td>\n      <td>1</td>\n      <td>6.5</td>\n      <td>0.5</td>\n      <td>0.5</td>\n      <td>1.56</td>\n      <td>0.0</td>\n      <td>0.3</td>\n      <td>9.36</td>\n      <td>None</td>\n      <td>None</td>\n    </tr>\n  </tbody>\n</table>\n<p>10900859 rows × 19 columns</p>\n</div>"
     },
     "execution_count": 6,
     "metadata": {},
     "output_type": "execute_result"
    }
   ],
   "source": [
    "data_yellow_16_1_clean = data_yellow_16_1[(data_yellow_16_1['total_amount']>=0) & (data_yellow_16_1['tip_amount'] >= 0)]\n",
    "data_yellow_16_1_clean"
   ],
   "metadata": {
    "collapsed": false,
    "pycharm": {
     "name": "#%%\n"
    }
   }
  },
  {
   "cell_type": "markdown",
   "source": [
    "# EDA\n",
    "## Sample data and do correlation and plots"
   ],
   "metadata": {
    "collapsed": false,
    "pycharm": {
     "name": "#%% md\n"
    }
   }
  },
  {
   "cell_type": "code",
   "execution_count": 7,
   "outputs": [
    {
     "data": {
      "text/plain": "         VendorID tpep_pickup_datetime tpep_dropoff_datetime  passenger_count  \\\n4603721         1  2016-01-14 02:07:48   2016-01-14 02:10:54                1   \n1150845         1  2016-01-04 16:49:10   2016-01-04 16:51:17                1   \n5510412         2  2016-01-16 10:14:12   2016-01-16 10:39:47                1   \n5496840         1  2016-01-16 09:28:05   2016-01-16 09:44:16                1   \n3428259         1  2016-01-10 19:43:27   2016-01-10 19:44:49                1   \n...           ...                  ...                   ...              ...   \n4797053         1  2016-01-14 15:31:52   2016-01-14 15:38:06                1   \n7123988         2  2016-01-20 16:32:16   2016-01-20 16:43:31                1   \n9819932         1  2016-01-29 10:17:27   2016-01-29 10:47:53                1   \n7009343         2  2016-01-20 10:11:24   2016-01-20 10:26:13                6   \n3535374         2  2016-01-11 08:06:32   2016-01-11 08:11:43                1   \n\n         trip_distance  RatecodeID store_and_fwd_flag  PULocationID  \\\n4603721           1.10           1                  N           249   \n1150845           0.60           1                  N           263   \n5510412          10.58           1                  N           138   \n5496840           4.40           1                  N           114   \n3428259           0.30           1                  N           249   \n...                ...         ...                ...           ...   \n4797053           2.00           1                  N           239   \n7123988           1.44           1                  N            68   \n9819932           3.40           1                  N           148   \n7009343           1.37           1                  N           249   \n3535374           0.54           1                  N            48   \n\n         DOLocationID  payment_type  fare_amount  extra  mta_tax  tip_amount  \\\n4603721            90             1          5.0    0.5      0.5        0.20   \n1150845           141             1          4.0    1.0      0.5        2.00   \n5510412           239             1         32.0    0.0      0.5        7.67   \n5496840           143             1         15.5    0.0      0.5        2.70   \n3428259            90             1          3.5    0.0      0.5        1.05   \n...               ...           ...          ...    ...      ...         ...   \n4797053            24             1          7.5    0.0      0.5        1.65   \n7123988           164             1          9.0    1.0      0.5        1.00   \n9819932           163             2         20.0    0.0      0.5        0.00   \n7009343           234             1         10.5    0.0      0.5        2.26   \n3535374            50             2          5.0    0.0      0.5        0.00   \n\n         tolls_amount  improvement_surcharge  total_amount  \\\n4603721          0.00                    0.3          6.50   \n1150845          0.00                    0.3          7.80   \n5510412          5.54                    0.3         46.01   \n5496840          0.00                    0.3         19.00   \n3428259          0.00                    0.3          5.35   \n...               ...                    ...           ...   \n4797053          0.00                    0.3          9.95   \n7123988          0.00                    0.3         11.80   \n9819932          0.00                    0.3         20.80   \n7009343          0.00                    0.3         13.56   \n3535374          0.00                    0.3          5.80   \n\n        congestion_surcharge airport_fee  \n4603721                 None        None  \n1150845                 None        None  \n5510412                 None        None  \n5496840                 None        None  \n3428259                 None        None  \n...                      ...         ...  \n4797053                 None        None  \n7123988                 None        None  \n9819932                 None        None  \n7009343                 None        None  \n3535374                 None        None  \n\n[100000 rows x 19 columns]",
      "text/html": "<div>\n<style scoped>\n    .dataframe tbody tr th:only-of-type {\n        vertical-align: middle;\n    }\n\n    .dataframe tbody tr th {\n        vertical-align: top;\n    }\n\n    .dataframe thead th {\n        text-align: right;\n    }\n</style>\n<table border=\"1\" class=\"dataframe\">\n  <thead>\n    <tr style=\"text-align: right;\">\n      <th></th>\n      <th>VendorID</th>\n      <th>tpep_pickup_datetime</th>\n      <th>tpep_dropoff_datetime</th>\n      <th>passenger_count</th>\n      <th>trip_distance</th>\n      <th>RatecodeID</th>\n      <th>store_and_fwd_flag</th>\n      <th>PULocationID</th>\n      <th>DOLocationID</th>\n      <th>payment_type</th>\n      <th>fare_amount</th>\n      <th>extra</th>\n      <th>mta_tax</th>\n      <th>tip_amount</th>\n      <th>tolls_amount</th>\n      <th>improvement_surcharge</th>\n      <th>total_amount</th>\n      <th>congestion_surcharge</th>\n      <th>airport_fee</th>\n    </tr>\n  </thead>\n  <tbody>\n    <tr>\n      <th>4603721</th>\n      <td>1</td>\n      <td>2016-01-14 02:07:48</td>\n      <td>2016-01-14 02:10:54</td>\n      <td>1</td>\n      <td>1.10</td>\n      <td>1</td>\n      <td>N</td>\n      <td>249</td>\n      <td>90</td>\n      <td>1</td>\n      <td>5.0</td>\n      <td>0.5</td>\n      <td>0.5</td>\n      <td>0.20</td>\n      <td>0.00</td>\n      <td>0.3</td>\n      <td>6.50</td>\n      <td>None</td>\n      <td>None</td>\n    </tr>\n    <tr>\n      <th>1150845</th>\n      <td>1</td>\n      <td>2016-01-04 16:49:10</td>\n      <td>2016-01-04 16:51:17</td>\n      <td>1</td>\n      <td>0.60</td>\n      <td>1</td>\n      <td>N</td>\n      <td>263</td>\n      <td>141</td>\n      <td>1</td>\n      <td>4.0</td>\n      <td>1.0</td>\n      <td>0.5</td>\n      <td>2.00</td>\n      <td>0.00</td>\n      <td>0.3</td>\n      <td>7.80</td>\n      <td>None</td>\n      <td>None</td>\n    </tr>\n    <tr>\n      <th>5510412</th>\n      <td>2</td>\n      <td>2016-01-16 10:14:12</td>\n      <td>2016-01-16 10:39:47</td>\n      <td>1</td>\n      <td>10.58</td>\n      <td>1</td>\n      <td>N</td>\n      <td>138</td>\n      <td>239</td>\n      <td>1</td>\n      <td>32.0</td>\n      <td>0.0</td>\n      <td>0.5</td>\n      <td>7.67</td>\n      <td>5.54</td>\n      <td>0.3</td>\n      <td>46.01</td>\n      <td>None</td>\n      <td>None</td>\n    </tr>\n    <tr>\n      <th>5496840</th>\n      <td>1</td>\n      <td>2016-01-16 09:28:05</td>\n      <td>2016-01-16 09:44:16</td>\n      <td>1</td>\n      <td>4.40</td>\n      <td>1</td>\n      <td>N</td>\n      <td>114</td>\n      <td>143</td>\n      <td>1</td>\n      <td>15.5</td>\n      <td>0.0</td>\n      <td>0.5</td>\n      <td>2.70</td>\n      <td>0.00</td>\n      <td>0.3</td>\n      <td>19.00</td>\n      <td>None</td>\n      <td>None</td>\n    </tr>\n    <tr>\n      <th>3428259</th>\n      <td>1</td>\n      <td>2016-01-10 19:43:27</td>\n      <td>2016-01-10 19:44:49</td>\n      <td>1</td>\n      <td>0.30</td>\n      <td>1</td>\n      <td>N</td>\n      <td>249</td>\n      <td>90</td>\n      <td>1</td>\n      <td>3.5</td>\n      <td>0.0</td>\n      <td>0.5</td>\n      <td>1.05</td>\n      <td>0.00</td>\n      <td>0.3</td>\n      <td>5.35</td>\n      <td>None</td>\n      <td>None</td>\n    </tr>\n    <tr>\n      <th>...</th>\n      <td>...</td>\n      <td>...</td>\n      <td>...</td>\n      <td>...</td>\n      <td>...</td>\n      <td>...</td>\n      <td>...</td>\n      <td>...</td>\n      <td>...</td>\n      <td>...</td>\n      <td>...</td>\n      <td>...</td>\n      <td>...</td>\n      <td>...</td>\n      <td>...</td>\n      <td>...</td>\n      <td>...</td>\n      <td>...</td>\n      <td>...</td>\n    </tr>\n    <tr>\n      <th>4797053</th>\n      <td>1</td>\n      <td>2016-01-14 15:31:52</td>\n      <td>2016-01-14 15:38:06</td>\n      <td>1</td>\n      <td>2.00</td>\n      <td>1</td>\n      <td>N</td>\n      <td>239</td>\n      <td>24</td>\n      <td>1</td>\n      <td>7.5</td>\n      <td>0.0</td>\n      <td>0.5</td>\n      <td>1.65</td>\n      <td>0.00</td>\n      <td>0.3</td>\n      <td>9.95</td>\n      <td>None</td>\n      <td>None</td>\n    </tr>\n    <tr>\n      <th>7123988</th>\n      <td>2</td>\n      <td>2016-01-20 16:32:16</td>\n      <td>2016-01-20 16:43:31</td>\n      <td>1</td>\n      <td>1.44</td>\n      <td>1</td>\n      <td>N</td>\n      <td>68</td>\n      <td>164</td>\n      <td>1</td>\n      <td>9.0</td>\n      <td>1.0</td>\n      <td>0.5</td>\n      <td>1.00</td>\n      <td>0.00</td>\n      <td>0.3</td>\n      <td>11.80</td>\n      <td>None</td>\n      <td>None</td>\n    </tr>\n    <tr>\n      <th>9819932</th>\n      <td>1</td>\n      <td>2016-01-29 10:17:27</td>\n      <td>2016-01-29 10:47:53</td>\n      <td>1</td>\n      <td>3.40</td>\n      <td>1</td>\n      <td>N</td>\n      <td>148</td>\n      <td>163</td>\n      <td>2</td>\n      <td>20.0</td>\n      <td>0.0</td>\n      <td>0.5</td>\n      <td>0.00</td>\n      <td>0.00</td>\n      <td>0.3</td>\n      <td>20.80</td>\n      <td>None</td>\n      <td>None</td>\n    </tr>\n    <tr>\n      <th>7009343</th>\n      <td>2</td>\n      <td>2016-01-20 10:11:24</td>\n      <td>2016-01-20 10:26:13</td>\n      <td>6</td>\n      <td>1.37</td>\n      <td>1</td>\n      <td>N</td>\n      <td>249</td>\n      <td>234</td>\n      <td>1</td>\n      <td>10.5</td>\n      <td>0.0</td>\n      <td>0.5</td>\n      <td>2.26</td>\n      <td>0.00</td>\n      <td>0.3</td>\n      <td>13.56</td>\n      <td>None</td>\n      <td>None</td>\n    </tr>\n    <tr>\n      <th>3535374</th>\n      <td>2</td>\n      <td>2016-01-11 08:06:32</td>\n      <td>2016-01-11 08:11:43</td>\n      <td>1</td>\n      <td>0.54</td>\n      <td>1</td>\n      <td>N</td>\n      <td>48</td>\n      <td>50</td>\n      <td>2</td>\n      <td>5.0</td>\n      <td>0.0</td>\n      <td>0.5</td>\n      <td>0.00</td>\n      <td>0.00</td>\n      <td>0.3</td>\n      <td>5.80</td>\n      <td>None</td>\n      <td>None</td>\n    </tr>\n  </tbody>\n</table>\n<p>100000 rows × 19 columns</p>\n</div>"
     },
     "execution_count": 7,
     "metadata": {},
     "output_type": "execute_result"
    }
   ],
   "source": [
    "data_yellow_16_1_sampled = data_yellow_16_1_clean.sample(100000)\n",
    "data_yellow_16_1_sampled"
   ],
   "metadata": {
    "collapsed": false,
    "pycharm": {
     "name": "#%%\n"
    }
   }
  },
  {
   "cell_type": "code",
   "execution_count": 8,
   "outputs": [
    {
     "data": {
      "text/plain": "<matplotlib.collections.PathCollection at 0x7f7a29f3bcd0>"
     },
     "execution_count": 8,
     "metadata": {},
     "output_type": "execute_result"
    },
    {
     "data": {
      "text/plain": "<Figure size 432x288 with 1 Axes>",
      "image/png": "[encoded data removed]"
     },
     "metadata": {
      "needs_background": "light"
     },
     "output_type": "display_data"
    }
   ],
   "source": [
    "plt.scatter(data_yellow_16_1_sampled['trip_distance'], data_yellow_16_1_sampled['fare_amount'])\n",
    "# Need to continue splitting"
   ],
   "metadata": {
    "collapsed": false,
    "pycharm": {
     "name": "#%%\n"
    }
   }
  },
  {
   "cell_type": "code",
   "execution_count": 9,
   "outputs": [
    {
     "data": {
      "text/plain": "array([[1.0000000e+00, 4.1215328e-04],\n       [4.1215328e-04, 1.0000000e+00]])"
     },
     "execution_count": 9,
     "metadata": {},
     "output_type": "execute_result"
    }
   ],
   "source": [
    "np.corrcoef(data_yellow_16_1_clean['trip_distance'], data_yellow_16_1_clean['fare_amount'])"
   ],
   "metadata": {
    "collapsed": false,
    "pycharm": {
     "name": "#%%\n"
    }
   }
  },
  {
   "cell_type": "markdown",
   "source": [
    "## Run some EDA: detecting outliers"
   ],
   "metadata": {
    "collapsed": false,
    "pycharm": {
     "name": "#%% md\n"
    }
   }
  },
  {
   "cell_type": "code",
   "execution_count": 10,
   "outputs": [],
   "source": [
    "# specify columns to run EDA outliers\n",
    "to_check = ['trip_distance', 'fare_amount', 'total_amount', 'passenger_count', 'tip_amount']"
   ],
   "metadata": {
    "collapsed": false,
    "pycharm": {
     "name": "#%%\n"
    }
   }
  },
  {
   "cell_type": "markdown",
   "source": [
    "Helper functions"
   ],
   "metadata": {
    "collapsed": false,
    "pycharm": {
     "name": "#%% md\n"
    }
   }
  },
  {
   "cell_type": "code",
   "execution_count": 11,
   "outputs": [],
   "source": [
    "def outlier_detection(series: 'series') -> 'dataframe, dataframe':\n",
    "    \"\"\" get outliers by q1 and q3 - / + 1.5 IQR \"\"\"\n",
    "\n",
    "    describe = series.describe()\n",
    "    IQR = describe[6]-describe[4]\n",
    "    lower_fence = describe[4]-1.5*IQR\n",
    "    extreme_lower_fence = describe[4]-3*IQR\n",
    "    upper_fence = describe[6]+1.5*IQR\n",
    "    extreme_upper_fence = describe[6]+3*IQR\n",
    "\n",
    "    df = pd.DataFrame({'values':list(series)})\n",
    "\n",
    "    return df[(df['values']>upper_fence) | (df['values'] < lower_fence)], \\\n",
    "           df[(df['values']>extreme_upper_fence) | (df['values'] < extreme_lower_fence)]"
   ],
   "metadata": {
    "collapsed": false,
    "pycharm": {
     "name": "#%%\n"
    }
   }
  },
  {
   "cell_type": "code",
   "execution_count": 12,
   "outputs": [],
   "source": [
    "def box_plot(series:'series') -> None:\n",
    "    \"\"\" helper function to generate box plot \"\"\"\n",
    "    plt.boxplot(series)"
   ],
   "metadata": {
    "collapsed": false,
    "pycharm": {
     "name": "#%%\n"
    }
   }
  },
  {
   "cell_type": "code",
   "execution_count": 13,
   "outputs": [],
   "source": [
    "def validation(series:'series') -> 'Dataframe':\n",
    "    \"\"\" helper function to return rows where a certain column has <0 values \"\"\"\n",
    "\n",
    "    df = pd.DataFrame({'values':list(series)})\n",
    "\n",
    "    return df[df['values'] < 0]"
   ],
   "metadata": {
    "collapsed": false,
    "pycharm": {
     "name": "#%%\n"
    }
   }
  },
  {
   "cell_type": "markdown",
   "source": [
    "Run functions for each column"
   ],
   "metadata": {
    "collapsed": false,
    "pycharm": {
     "name": "#%% md\n"
    }
   }
  },
  {
   "cell_type": "code",
   "execution_count": 14,
   "outputs": [
    {
     "name": "stdout",
     "output_type": "stream",
     "text": [
      "trip_distance\n",
      "1150180\n",
      "674933 \n",
      "\n",
      "fare_amount\n",
      "973218\n",
      "457814 \n",
      "\n",
      "total_amount\n",
      "976973\n",
      "534115 \n",
      "\n",
      "passenger_count\n",
      "1180244\n",
      "369055 \n",
      "\n",
      "tip_amount\n",
      "573792\n",
      "234423 \n",
      "\n"
     ]
    }
   ],
   "source": [
    "# run through to check number of outliers in each column\n",
    "for col in to_check:\n",
    "    print(col)\n",
    "    outliers1, outliers2 = outlier_detection(data_yellow_16_1_clean[col])\n",
    "    print(len(outliers1))\n",
    "    print(len(outliers2), '\\n')\n",
    "    # print(outliers)"
   ],
   "metadata": {
    "collapsed": false,
    "pycharm": {
     "name": "#%%\n"
    }
   }
  },
  {
   "cell_type": "code",
   "execution_count": 15,
   "outputs": [
    {
     "name": "stdout",
     "output_type": "stream",
     "text": [
      "trip_distance\n",
      "mean    4.498870e+00\n",
      "std     2.939565e+03\n",
      "min     0.000000e+00\n",
      "25%     1.000000e+00\n",
      "50%     1.680000e+00\n",
      "75%     3.090000e+00\n",
      "max     8.000010e+06\n",
      "Name: trip_distance, dtype: float64 \n",
      "\n",
      "fare_amount\n",
      "mean        12.495917\n",
      "std         35.530182\n",
      "min          0.000000\n",
      "25%          6.500000\n",
      "50%          9.000000\n",
      "75%         14.000000\n",
      "max     111270.850000\n",
      "Name: fare_amount, dtype: float64 \n",
      "\n",
      "total_amount\n",
      "mean        15.652410\n",
      "std         36.378893\n",
      "min          0.000000\n",
      "25%          8.300000\n",
      "50%         11.620000\n",
      "75%         17.160000\n",
      "max     111271.650000\n",
      "Name: total_amount, dtype: float64 \n",
      "\n",
      "passenger_count\n",
      "mean    1.670826\n",
      "std     1.324878\n",
      "min     0.000000\n",
      "25%     1.000000\n",
      "50%     1.000000\n",
      "75%     2.000000\n",
      "max     9.000000\n",
      "Name: passenger_count, dtype: float64 \n",
      "\n",
      "tip_amount\n",
      "mean      1.751637\n",
      "std       2.622731\n",
      "min       0.000000\n",
      "25%       0.000000\n",
      "50%       1.260000\n",
      "75%       2.320000\n",
      "max     998.140000\n",
      "Name: tip_amount, dtype: float64 \n",
      "\n"
     ]
    }
   ],
   "source": [
    "# check 5 point summary of each column\n",
    "for col in to_check:\n",
    "    print(col)\n",
    "    print(data_yellow_16_1_clean[col].describe()[1:], '\\n')"
   ],
   "metadata": {
    "collapsed": false,
    "pycharm": {
     "name": "#%%\n"
    }
   }
  },
  {
   "cell_type": "code",
   "execution_count": 16,
   "outputs": [
    {
     "name": "stdout",
     "output_type": "stream",
     "text": [
      "trip_distance\n",
      "0 \n",
      "\n",
      "fare_amount\n",
      "0 \n",
      "\n",
      "total_amount\n",
      "0 \n",
      "\n",
      "passenger_count\n",
      "0 \n",
      "\n",
      "tip_amount\n",
      "0 \n",
      "\n"
     ]
    }
   ],
   "source": [
    "# check fo negative values in columns\n",
    "for col in to_check:\n",
    "    print(col)\n",
    "    neg = validation(data_yellow_16_1_clean[col])\n",
    "    print(len(neg),'\\n')"
   ],
   "metadata": {
    "collapsed": false,
    "pycharm": {
     "name": "#%%\n"
    }
   }
  },
  {
   "cell_type": "markdown",
   "source": [
    "Plot boxplots for each columns"
   ],
   "metadata": {
    "collapsed": false,
    "pycharm": {
     "name": "#%% md\n"
    }
   }
  },
  {
   "cell_type": "code",
   "execution_count": 17,
   "outputs": [
    {
     "name": "stdout",
     "output_type": "stream",
     "text": [
      "trip_distance\n"
     ]
    },
    {
     "data": {
      "text/plain": "<Figure size 432x288 with 1 Axes>",
      "image/png": "[encoded data removed]"
     },
     "metadata": {
      "needs_background": "light"
     },
     "output_type": "display_data"
    },
    {
     "name": "stdout",
     "output_type": "stream",
     "text": [
      "fare_amount\n"
     ]
    },
    {
     "data": {
      "text/plain": "<Figure size 432x288 with 1 Axes>",
      "image/png": "[encoded data removed]"
     },
     "metadata": {
      "needs_background": "light"
     },
     "output_type": "display_data"
    },
    {
     "name": "stdout",
     "output_type": "stream",
     "text": [
      "total_amount\n"
     ]
    },
    {
     "data": {
      "text/plain": "<Figure size 432x288 with 1 Axes>",
      "image/png": "[encoded data removed]"
     },
     "metadata": {
      "needs_background": "light"
     },
     "output_type": "display_data"
    },
    {
     "name": "stdout",
     "output_type": "stream",
     "text": [
      "passenger_count\n"
     ]
    },
    {
     "data": {
      "text/plain": "<Figure size 432x288 with 1 Axes>",
      "image/png": "[encoded data removed]"
     },
     "metadata": {
      "needs_background": "light"
     },
     "output_type": "display_data"
    },
    {
     "name": "stdout",
     "output_type": "stream",
     "text": [
      "tip_amount\n"
     ]
    },
    {
     "data": {
      "text/plain": "<Figure size 432x288 with 1 Axes>",
      "image/png": "[encoded data removed]"
     },
     "metadata": {
      "needs_background": "light"
     },
     "output_type": "display_data"
    }
   ],
   "source": [
    "# plot box and whisker plots\n",
    "for col in to_check:\n",
    "    print(col)\n",
    "    box_plot(data_yellow_16_1_clean[col])\n",
    "    plt.show()"
   ],
   "metadata": {
    "collapsed": false,
    "pycharm": {
     "name": "#%%\n"
    }
   }
  },
  {
   "cell_type": "code",
   "execution_count": 17,
   "outputs": [],
   "source": [],
   "metadata": {
    "collapsed": false,
    "pycharm": {
     "name": "#%%\n"
    }
   }
  }
 ],
 "metadata": {
  "kernelspec": {
   "display_name": "Python 3",
   "language": "python",
   "name": "python3"
  },
  "language_info": {
   "codemirror_mode": {
    "name": "ipython",
    "version": 2
   },
   "file_extension": ".py",
   "mimetype": "text/x-python",
   "name": "python",
   "nbconvert_exporter": "python",
   "pygments_lexer": "ipython2",
   "version": "2.7.6"
  }
 },
 "nbformat": 4,
 "nbformat_minor": 0
}