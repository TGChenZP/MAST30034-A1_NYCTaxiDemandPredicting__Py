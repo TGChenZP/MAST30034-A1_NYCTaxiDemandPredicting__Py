{
 "cells": [
  {
   "cell_type": "markdown",
   "source": [
    "# 6. Discrete Data Fine Preprocessing\n",
    "\n",
    "Content include:\n",
    " - preprocessing and joining up external data\n",
    " - joining with taxi data\n",
    " - EDA on aggregated data\n",
    " - Plotting\n",
    " - One hot encoding of some variables (DULocation one hot encoding too large to store, done on the fly in modelbulding scripts)\n",
    " - Standardisation\n",
    " - Train Test Split\n",
    " - Attempted PCA\n",
    " - Feature Selection"
   ],
   "metadata": {
    "collapsed": false,
    "pycharm": {
     "name": "#%% md\n"
    }
   }
  },
  {
   "cell_type": "code",
   "execution_count": 1,
   "metadata": {
    "collapsed": true
   },
   "outputs": [],
   "source": [
    "import datetime\n",
    "\n",
    "import pandas as pd\n",
    "import numpy as np\n",
    "import statistics as s\n",
    "import os\n",
    "import matplotlib.pyplot as plt"
   ]
  },
  {
   "cell_type": "markdown",
   "source": [
    "## Add other data (but must first undergo own preprocessing)"
   ],
   "metadata": {
    "collapsed": false,
    "pycharm": {
     "name": "#%% md\n"
    }
   }
  },
  {
   "cell_type": "markdown",
   "source": [
    "### Weather"
   ],
   "metadata": {
    "collapsed": false,
    "pycharm": {
     "name": "#%% md\n"
    }
   }
  },
  {
   "cell_type": "code",
   "execution_count": 2,
   "outputs": [],
   "source": [
    "weather_data = pd.read_csv('../data/raw/Weather/new york 2016-01-01 to 2017-12-31.csv')\n",
    "\n",
    "# Drop unnecessary rows\n",
    "weather_data = weather_data.drop(['name', 'description','icon',\n",
    "                                  'stations', 'severerisk'], axis = 1)"
   ],
   "metadata": {
    "collapsed": false,
    "pycharm": {
     "name": "#%%\n"
    }
   }
  },
  {
   "cell_type": "code",
   "execution_count": 3,
   "outputs": [
    {
     "data": {
      "text/plain": "       datetime  tempmax  tempmin  temp  feelslikemax  feelslikemin  \\\n0    2016-01-01      5.8      1.7   4.1           3.5          -3.1   \n1    2016-01-02      4.4      0.7   2.2           2.5          -4.1   \n2    2016-01-03      7.2      1.6   3.9           4.1          -2.5   \n3    2016-01-04      2.4     -9.2  -2.3          -1.0         -18.0   \n4    2016-01-05     -1.8    -11.3  -6.3          -1.8         -20.4   \n..          ...      ...      ...   ...           ...           ...   \n726  2017-12-27     -4.2     -7.6  -6.0          -9.4         -14.5   \n727  2017-12-28     -7.5    -11.0  -9.1         -14.5         -18.4   \n728  2017-12-29     -5.7    -11.5  -8.7         -11.2         -18.7   \n729  2017-12-30     -5.0     -8.0  -6.4          -6.1         -13.8   \n730  2017-12-31     -6.6    -12.0  -9.4         -12.5         -20.9   \n\n     feelslike   dew  humidity  precip  ...  sealevelpressure  cloudcover  \\\n0          0.6  -4.6      53.2    0.00  ...            1016.9        71.7   \n1         -1.3  -7.7      48.0    0.00  ...            1016.8        43.0   \n2          0.4  -5.9      49.5    0.00  ...            1011.2        19.8   \n3         -8.1 -12.3      47.0    0.00  ...            1017.7        42.8   \n4        -11.0 -18.5      39.8    0.00  ...            1034.5         3.9   \n..         ...   ...       ...     ...  ...               ...         ...   \n726      -11.8 -17.1      41.3    0.00  ...            1032.0        40.3   \n727      -16.5 -19.5      43.2    0.00  ...            1032.8        10.2   \n728      -14.8 -17.3      50.0    0.00  ...            1026.0        39.7   \n729      -10.8 -12.0      65.3    2.03  ...            1018.0        57.4   \n730      -17.0 -17.7      51.4    1.62  ...            1023.5        20.2   \n\n    visibility  solarradiation  solarenergy  uvindex              sunrise  \\\n0         16.0            71.1          6.1        4  2016-01-01T07:20:07   \n1         16.0           107.9          9.2        5  2016-01-02T07:20:13   \n2         16.0           109.9          9.6        5  2016-01-03T07:20:17   \n3         16.0           113.0          9.8        5  2016-01-04T07:20:19   \n4         16.0           118.8         10.4        5  2016-01-05T07:20:19   \n..         ...             ...          ...      ...                  ...   \n726       16.0            92.1          7.9        4  2017-12-27T07:19:10   \n727       16.0           112.3          9.8        5  2017-12-28T07:19:26   \n728       16.0            59.6          5.1        3  2017-12-29T07:19:41   \n729       12.1            29.5          2.5        1  2017-12-30T07:19:53   \n730       15.9            65.4          5.5        3  2017-12-31T07:20:03   \n\n                  sunset  moonphase              conditions  \n0    2016-01-01T16:38:54       0.72        Partially cloudy  \n1    2016-01-02T16:39:45       0.77        Partially cloudy  \n2    2016-01-03T16:40:37       0.81                   Clear  \n3    2016-01-04T16:41:30       0.86        Partially cloudy  \n4    2016-01-05T16:42:25       0.90                   Clear  \n..                   ...        ...                     ...  \n726  2017-12-27T16:35:28       0.31        Partially cloudy  \n727  2017-12-28T16:36:10       0.36                   Clear  \n728  2017-12-29T16:36:55       0.41        Partially cloudy  \n729  2017-12-30T16:37:42       0.45  Snow, Partially cloudy  \n730  2017-12-31T16:38:30       0.48  Snow, Partially cloudy  \n\n[731 rows x 28 columns]",
      "text/html": "<div>\n<style scoped>\n    .dataframe tbody tr th:only-of-type {\n        vertical-align: middle;\n    }\n\n    .dataframe tbody tr th {\n        vertical-align: top;\n    }\n\n    .dataframe thead th {\n        text-align: right;\n    }\n</style>\n<table border=\"1\" class=\"dataframe\">\n  <thead>\n    <tr style=\"text-align: right;\">\n      <th></th>\n      <th>datetime</th>\n      <th>tempmax</th>\n      <th>tempmin</th>\n      <th>temp</th>\n      <th>feelslikemax</th>\n      <th>feelslikemin</th>\n      <th>feelslike</th>\n      <th>dew</th>\n      <th>humidity</th>\n      <th>precip</th>\n      <th>...</th>\n      <th>sealevelpressure</th>\n      <th>cloudcover</th>\n      <th>visibility</th>\n      <th>solarradiation</th>\n      <th>solarenergy</th>\n      <th>uvindex</th>\n      <th>sunrise</th>\n      <th>sunset</th>\n      <th>moonphase</th>\n      <th>conditions</th>\n    </tr>\n  </thead>\n  <tbody>\n    <tr>\n      <th>0</th>\n      <td>2016-01-01</td>\n      <td>5.8</td>\n      <td>1.7</td>\n      <td>4.1</td>\n      <td>3.5</td>\n      <td>-3.1</td>\n      <td>0.6</td>\n      <td>-4.6</td>\n      <td>53.2</td>\n      <td>0.00</td>\n      <td>...</td>\n      <td>1016.9</td>\n      <td>71.7</td>\n      <td>16.0</td>\n      <td>71.1</td>\n      <td>6.1</td>\n      <td>4</td>\n      <td>2016-01-01T07:20:07</td>\n      <td>2016-01-01T16:38:54</td>\n      <td>0.72</td>\n      <td>Partially cloudy</td>\n    </tr>\n    <tr>\n      <th>1</th>\n      <td>2016-01-02</td>\n      <td>4.4</td>\n      <td>0.7</td>\n      <td>2.2</td>\n      <td>2.5</td>\n      <td>-4.1</td>\n      <td>-1.3</td>\n      <td>-7.7</td>\n      <td>48.0</td>\n      <td>0.00</td>\n      <td>...</td>\n      <td>1016.8</td>\n      <td>43.0</td>\n      <td>16.0</td>\n      <td>107.9</td>\n      <td>9.2</td>\n      <td>5</td>\n      <td>2016-01-02T07:20:13</td>\n      <td>2016-01-02T16:39:45</td>\n      <td>0.77</td>\n      <td>Partially cloudy</td>\n    </tr>\n    <tr>\n      <th>2</th>\n      <td>2016-01-03</td>\n      <td>7.2</td>\n      <td>1.6</td>\n      <td>3.9</td>\n      <td>4.1</td>\n      <td>-2.5</td>\n      <td>0.4</td>\n      <td>-5.9</td>\n      <td>49.5</td>\n      <td>0.00</td>\n      <td>...</td>\n      <td>1011.2</td>\n      <td>19.8</td>\n      <td>16.0</td>\n      <td>109.9</td>\n      <td>9.6</td>\n      <td>5</td>\n      <td>2016-01-03T07:20:17</td>\n      <td>2016-01-03T16:40:37</td>\n      <td>0.81</td>\n      <td>Clear</td>\n    </tr>\n    <tr>\n      <th>3</th>\n      <td>2016-01-04</td>\n      <td>2.4</td>\n      <td>-9.2</td>\n      <td>-2.3</td>\n      <td>-1.0</td>\n      <td>-18.0</td>\n      <td>-8.1</td>\n      <td>-12.3</td>\n      <td>47.0</td>\n      <td>0.00</td>\n      <td>...</td>\n      <td>1017.7</td>\n      <td>42.8</td>\n      <td>16.0</td>\n      <td>113.0</td>\n      <td>9.8</td>\n      <td>5</td>\n      <td>2016-01-04T07:20:19</td>\n      <td>2016-01-04T16:41:30</td>\n      <td>0.86</td>\n      <td>Partially cloudy</td>\n    </tr>\n    <tr>\n      <th>4</th>\n      <td>2016-01-05</td>\n      <td>-1.8</td>\n      <td>-11.3</td>\n      <td>-6.3</td>\n      <td>-1.8</td>\n      <td>-20.4</td>\n      <td>-11.0</td>\n      <td>-18.5</td>\n      <td>39.8</td>\n      <td>0.00</td>\n      <td>...</td>\n      <td>1034.5</td>\n      <td>3.9</td>\n      <td>16.0</td>\n      <td>118.8</td>\n      <td>10.4</td>\n      <td>5</td>\n      <td>2016-01-05T07:20:19</td>\n      <td>2016-01-05T16:42:25</td>\n      <td>0.90</td>\n      <td>Clear</td>\n    </tr>\n    <tr>\n      <th>...</th>\n      <td>...</td>\n      <td>...</td>\n      <td>...</td>\n      <td>...</td>\n      <td>...</td>\n      <td>...</td>\n      <td>...</td>\n      <td>...</td>\n      <td>...</td>\n      <td>...</td>\n      <td>...</td>\n      <td>...</td>\n      <td>...</td>\n      <td>...</td>\n      <td>...</td>\n      <td>...</td>\n      <td>...</td>\n      <td>...</td>\n      <td>...</td>\n      <td>...</td>\n      <td>...</td>\n    </tr>\n    <tr>\n      <th>726</th>\n      <td>2017-12-27</td>\n      <td>-4.2</td>\n      <td>-7.6</td>\n      <td>-6.0</td>\n      <td>-9.4</td>\n      <td>-14.5</td>\n      <td>-11.8</td>\n      <td>-17.1</td>\n      <td>41.3</td>\n      <td>0.00</td>\n      <td>...</td>\n      <td>1032.0</td>\n      <td>40.3</td>\n      <td>16.0</td>\n      <td>92.1</td>\n      <td>7.9</td>\n      <td>4</td>\n      <td>2017-12-27T07:19:10</td>\n      <td>2017-12-27T16:35:28</td>\n      <td>0.31</td>\n      <td>Partially cloudy</td>\n    </tr>\n    <tr>\n      <th>727</th>\n      <td>2017-12-28</td>\n      <td>-7.5</td>\n      <td>-11.0</td>\n      <td>-9.1</td>\n      <td>-14.5</td>\n      <td>-18.4</td>\n      <td>-16.5</td>\n      <td>-19.5</td>\n      <td>43.2</td>\n      <td>0.00</td>\n      <td>...</td>\n      <td>1032.8</td>\n      <td>10.2</td>\n      <td>16.0</td>\n      <td>112.3</td>\n      <td>9.8</td>\n      <td>5</td>\n      <td>2017-12-28T07:19:26</td>\n      <td>2017-12-28T16:36:10</td>\n      <td>0.36</td>\n      <td>Clear</td>\n    </tr>\n    <tr>\n      <th>728</th>\n      <td>2017-12-29</td>\n      <td>-5.7</td>\n      <td>-11.5</td>\n      <td>-8.7</td>\n      <td>-11.2</td>\n      <td>-18.7</td>\n      <td>-14.8</td>\n      <td>-17.3</td>\n      <td>50.0</td>\n      <td>0.00</td>\n      <td>...</td>\n      <td>1026.0</td>\n      <td>39.7</td>\n      <td>16.0</td>\n      <td>59.6</td>\n      <td>5.1</td>\n      <td>3</td>\n      <td>2017-12-29T07:19:41</td>\n      <td>2017-12-29T16:36:55</td>\n      <td>0.41</td>\n      <td>Partially cloudy</td>\n    </tr>\n    <tr>\n      <th>729</th>\n      <td>2017-12-30</td>\n      <td>-5.0</td>\n      <td>-8.0</td>\n      <td>-6.4</td>\n      <td>-6.1</td>\n      <td>-13.8</td>\n      <td>-10.8</td>\n      <td>-12.0</td>\n      <td>65.3</td>\n      <td>2.03</td>\n      <td>...</td>\n      <td>1018.0</td>\n      <td>57.4</td>\n      <td>12.1</td>\n      <td>29.5</td>\n      <td>2.5</td>\n      <td>1</td>\n      <td>2017-12-30T07:19:53</td>\n      <td>2017-12-30T16:37:42</td>\n      <td>0.45</td>\n      <td>Snow, Partially cloudy</td>\n    </tr>\n    <tr>\n      <th>730</th>\n      <td>2017-12-31</td>\n      <td>-6.6</td>\n      <td>-12.0</td>\n      <td>-9.4</td>\n      <td>-12.5</td>\n      <td>-20.9</td>\n      <td>-17.0</td>\n      <td>-17.7</td>\n      <td>51.4</td>\n      <td>1.62</td>\n      <td>...</td>\n      <td>1023.5</td>\n      <td>20.2</td>\n      <td>15.9</td>\n      <td>65.4</td>\n      <td>5.5</td>\n      <td>3</td>\n      <td>2017-12-31T07:20:03</td>\n      <td>2017-12-31T16:38:30</td>\n      <td>0.48</td>\n      <td>Snow, Partially cloudy</td>\n    </tr>\n  </tbody>\n</table>\n<p>731 rows × 28 columns</p>\n</div>"
     },
     "execution_count": 3,
     "metadata": {},
     "output_type": "execute_result"
    }
   ],
   "source": [
    "# Transform data into correct types and replace none with correct labels\n",
    "weather_data['preciptype'] = weather_data['preciptype'].replace(np.nan, 'none')\n",
    "weather_data.datetime = pd.to_datetime(weather_data.datetime).dt.date\n",
    "weather_data"
   ],
   "metadata": {
    "collapsed": false,
    "pycharm": {
     "name": "#%%\n"
    }
   }
  },
  {
   "cell_type": "code",
   "execution_count": 4,
   "outputs": [
    {
     "data": {
      "text/plain": "       datetime  tempmax  tempmin  temp  feelslikemax  feelslikemin  \\\n0    2016-01-01      5.8      1.7   4.1           3.5          -3.1   \n1    2016-01-02      4.4      0.7   2.2           2.5          -4.1   \n2    2016-01-03      7.2      1.6   3.9           4.1          -2.5   \n3    2016-01-04      2.4     -9.2  -2.3          -1.0         -18.0   \n4    2016-01-05     -1.8    -11.3  -6.3          -1.8         -20.4   \n..          ...      ...      ...   ...           ...           ...   \n726  2017-12-27     -4.2     -7.6  -6.0          -9.4         -14.5   \n727  2017-12-28     -7.5    -11.0  -9.1         -14.5         -18.4   \n728  2017-12-29     -5.7    -11.5  -8.7         -11.2         -18.7   \n729  2017-12-30     -5.0     -8.0  -6.4          -6.1         -13.8   \n730  2017-12-31     -6.6    -12.0  -9.4         -12.5         -20.9   \n\n     feelslike   dew  humidity  precip  ...  sealevelpressure  cloudcover  \\\n0          0.6  -4.6      53.2    0.00  ...            1016.9        71.7   \n1         -1.3  -7.7      48.0    0.00  ...            1016.8        43.0   \n2          0.4  -5.9      49.5    0.00  ...            1011.2        19.8   \n3         -8.1 -12.3      47.0    0.00  ...            1017.7        42.8   \n4        -11.0 -18.5      39.8    0.00  ...            1034.5         3.9   \n..         ...   ...       ...     ...  ...               ...         ...   \n726      -11.8 -17.1      41.3    0.00  ...            1032.0        40.3   \n727      -16.5 -19.5      43.2    0.00  ...            1032.8        10.2   \n728      -14.8 -17.3      50.0    0.00  ...            1026.0        39.7   \n729      -10.8 -12.0      65.3    2.03  ...            1018.0        57.4   \n730      -17.0 -17.7      51.4    1.62  ...            1023.5        20.2   \n\n    visibility  solarradiation  solarenergy  uvindex  sunrise  sunset  \\\n0         16.0            71.1          6.1        4     3727    8094   \n1         16.0           107.9          9.2        5     3733    8145   \n2         16.0           109.9          9.6        5     3737    8197   \n3         16.0           113.0          9.8        5     3739    8250   \n4         16.0           118.8         10.4        5     3739    8305   \n..         ...             ...          ...      ...      ...     ...   \n726       16.0            92.1          7.9        4     3670    7888   \n727       16.0           112.3          9.8        5     3686    7930   \n728       16.0            59.6          5.1        3     3701    7975   \n729       12.1            29.5          2.5        1     3713    8022   \n730       15.9            65.4          5.5        3     3723    8070   \n\n     moonphase              conditions  \n0         0.72        Partially cloudy  \n1         0.77        Partially cloudy  \n2         0.81                   Clear  \n3         0.86        Partially cloudy  \n4         0.90                   Clear  \n..         ...                     ...  \n726       0.31        Partially cloudy  \n727       0.36                   Clear  \n728       0.41        Partially cloudy  \n729       0.45  Snow, Partially cloudy  \n730       0.48  Snow, Partially cloudy  \n\n[731 rows x 28 columns]",
      "text/html": "<div>\n<style scoped>\n    .dataframe tbody tr th:only-of-type {\n        vertical-align: middle;\n    }\n\n    .dataframe tbody tr th {\n        vertical-align: top;\n    }\n\n    .dataframe thead th {\n        text-align: right;\n    }\n</style>\n<table border=\"1\" class=\"dataframe\">\n  <thead>\n    <tr style=\"text-align: right;\">\n      <th></th>\n      <th>datetime</th>\n      <th>tempmax</th>\n      <th>tempmin</th>\n      <th>temp</th>\n      <th>feelslikemax</th>\n      <th>feelslikemin</th>\n      <th>feelslike</th>\n      <th>dew</th>\n      <th>humidity</th>\n      <th>precip</th>\n      <th>...</th>\n      <th>sealevelpressure</th>\n      <th>cloudcover</th>\n      <th>visibility</th>\n      <th>solarradiation</th>\n      <th>solarenergy</th>\n      <th>uvindex</th>\n      <th>sunrise</th>\n      <th>sunset</th>\n      <th>moonphase</th>\n      <th>conditions</th>\n    </tr>\n  </thead>\n  <tbody>\n    <tr>\n      <th>0</th>\n      <td>2016-01-01</td>\n      <td>5.8</td>\n      <td>1.7</td>\n      <td>4.1</td>\n      <td>3.5</td>\n      <td>-3.1</td>\n      <td>0.6</td>\n      <td>-4.6</td>\n      <td>53.2</td>\n      <td>0.00</td>\n      <td>...</td>\n      <td>1016.9</td>\n      <td>71.7</td>\n      <td>16.0</td>\n      <td>71.1</td>\n      <td>6.1</td>\n      <td>4</td>\n      <td>3727</td>\n      <td>8094</td>\n      <td>0.72</td>\n      <td>Partially cloudy</td>\n    </tr>\n    <tr>\n      <th>1</th>\n      <td>2016-01-02</td>\n      <td>4.4</td>\n      <td>0.7</td>\n      <td>2.2</td>\n      <td>2.5</td>\n      <td>-4.1</td>\n      <td>-1.3</td>\n      <td>-7.7</td>\n      <td>48.0</td>\n      <td>0.00</td>\n      <td>...</td>\n      <td>1016.8</td>\n      <td>43.0</td>\n      <td>16.0</td>\n      <td>107.9</td>\n      <td>9.2</td>\n      <td>5</td>\n      <td>3733</td>\n      <td>8145</td>\n      <td>0.77</td>\n      <td>Partially cloudy</td>\n    </tr>\n    <tr>\n      <th>2</th>\n      <td>2016-01-03</td>\n      <td>7.2</td>\n      <td>1.6</td>\n      <td>3.9</td>\n      <td>4.1</td>\n      <td>-2.5</td>\n      <td>0.4</td>\n      <td>-5.9</td>\n      <td>49.5</td>\n      <td>0.00</td>\n      <td>...</td>\n      <td>1011.2</td>\n      <td>19.8</td>\n      <td>16.0</td>\n      <td>109.9</td>\n      <td>9.6</td>\n      <td>5</td>\n      <td>3737</td>\n      <td>8197</td>\n      <td>0.81</td>\n      <td>Clear</td>\n    </tr>\n    <tr>\n      <th>3</th>\n      <td>2016-01-04</td>\n      <td>2.4</td>\n      <td>-9.2</td>\n      <td>-2.3</td>\n      <td>-1.0</td>\n      <td>-18.0</td>\n      <td>-8.1</td>\n      <td>-12.3</td>\n      <td>47.0</td>\n      <td>0.00</td>\n      <td>...</td>\n      <td>1017.7</td>\n      <td>42.8</td>\n      <td>16.0</td>\n      <td>113.0</td>\n      <td>9.8</td>\n      <td>5</td>\n      <td>3739</td>\n      <td>8250</td>\n      <td>0.86</td>\n      <td>Partially cloudy</td>\n    </tr>\n    <tr>\n      <th>4</th>\n      <td>2016-01-05</td>\n      <td>-1.8</td>\n      <td>-11.3</td>\n      <td>-6.3</td>\n      <td>-1.8</td>\n      <td>-20.4</td>\n      <td>-11.0</td>\n      <td>-18.5</td>\n      <td>39.8</td>\n      <td>0.00</td>\n      <td>...</td>\n      <td>1034.5</td>\n      <td>3.9</td>\n      <td>16.0</td>\n      <td>118.8</td>\n      <td>10.4</td>\n      <td>5</td>\n      <td>3739</td>\n      <td>8305</td>\n      <td>0.90</td>\n      <td>Clear</td>\n    </tr>\n    <tr>\n      <th>...</th>\n      <td>...</td>\n      <td>...</td>\n      <td>...</td>\n      <td>...</td>\n      <td>...</td>\n      <td>...</td>\n      <td>...</td>\n      <td>...</td>\n      <td>...</td>\n      <td>...</td>\n      <td>...</td>\n      <td>...</td>\n      <td>...</td>\n      <td>...</td>\n      <td>...</td>\n      <td>...</td>\n      <td>...</td>\n      <td>...</td>\n      <td>...</td>\n      <td>...</td>\n      <td>...</td>\n    </tr>\n    <tr>\n      <th>726</th>\n      <td>2017-12-27</td>\n      <td>-4.2</td>\n      <td>-7.6</td>\n      <td>-6.0</td>\n      <td>-9.4</td>\n      <td>-14.5</td>\n      <td>-11.8</td>\n      <td>-17.1</td>\n      <td>41.3</td>\n      <td>0.00</td>\n      <td>...</td>\n      <td>1032.0</td>\n      <td>40.3</td>\n      <td>16.0</td>\n      <td>92.1</td>\n      <td>7.9</td>\n      <td>4</td>\n      <td>3670</td>\n      <td>7888</td>\n      <td>0.31</td>\n      <td>Partially cloudy</td>\n    </tr>\n    <tr>\n      <th>727</th>\n      <td>2017-12-28</td>\n      <td>-7.5</td>\n      <td>-11.0</td>\n      <td>-9.1</td>\n      <td>-14.5</td>\n      <td>-18.4</td>\n      <td>-16.5</td>\n      <td>-19.5</td>\n      <td>43.2</td>\n      <td>0.00</td>\n      <td>...</td>\n      <td>1032.8</td>\n      <td>10.2</td>\n      <td>16.0</td>\n      <td>112.3</td>\n      <td>9.8</td>\n      <td>5</td>\n      <td>3686</td>\n      <td>7930</td>\n      <td>0.36</td>\n      <td>Clear</td>\n    </tr>\n    <tr>\n      <th>728</th>\n      <td>2017-12-29</td>\n      <td>-5.7</td>\n      <td>-11.5</td>\n      <td>-8.7</td>\n      <td>-11.2</td>\n      <td>-18.7</td>\n      <td>-14.8</td>\n      <td>-17.3</td>\n      <td>50.0</td>\n      <td>0.00</td>\n      <td>...</td>\n      <td>1026.0</td>\n      <td>39.7</td>\n      <td>16.0</td>\n      <td>59.6</td>\n      <td>5.1</td>\n      <td>3</td>\n      <td>3701</td>\n      <td>7975</td>\n      <td>0.41</td>\n      <td>Partially cloudy</td>\n    </tr>\n    <tr>\n      <th>729</th>\n      <td>2017-12-30</td>\n      <td>-5.0</td>\n      <td>-8.0</td>\n      <td>-6.4</td>\n      <td>-6.1</td>\n      <td>-13.8</td>\n      <td>-10.8</td>\n      <td>-12.0</td>\n      <td>65.3</td>\n      <td>2.03</td>\n      <td>...</td>\n      <td>1018.0</td>\n      <td>57.4</td>\n      <td>12.1</td>\n      <td>29.5</td>\n      <td>2.5</td>\n      <td>1</td>\n      <td>3713</td>\n      <td>8022</td>\n      <td>0.45</td>\n      <td>Snow, Partially cloudy</td>\n    </tr>\n    <tr>\n      <th>730</th>\n      <td>2017-12-31</td>\n      <td>-6.6</td>\n      <td>-12.0</td>\n      <td>-9.4</td>\n      <td>-12.5</td>\n      <td>-20.9</td>\n      <td>-17.0</td>\n      <td>-17.7</td>\n      <td>51.4</td>\n      <td>1.62</td>\n      <td>...</td>\n      <td>1023.5</td>\n      <td>20.2</td>\n      <td>15.9</td>\n      <td>65.4</td>\n      <td>5.5</td>\n      <td>3</td>\n      <td>3723</td>\n      <td>8070</td>\n      <td>0.48</td>\n      <td>Snow, Partially cloudy</td>\n    </tr>\n  </tbody>\n</table>\n<p>731 rows × 28 columns</p>\n</div>"
     },
     "execution_count": 4,
     "metadata": {},
     "output_type": "execute_result"
    }
   ],
   "source": [
    "# Transform Weather's sunrise and sunset data into numerical values\n",
    "weather_data.sunrise = pd.to_datetime(weather_data.sunrise)\n",
    "weather_data.sunset = pd.to_datetime(weather_data.sunset)\n",
    "\n",
    "weather_data['sunrise'] = weather_data.sunrise.apply(lambda x:(x.hour * 360\n",
    "                                                               + x.minute * 60 + x.second))\n",
    "weather_data['sunset'] = weather_data.sunset.apply(lambda x:(x.hour * 360\n",
    "                                                             + x.minute * 60 + x.second))\n",
    "\n",
    "weather_data"
   ],
   "metadata": {
    "collapsed": false,
    "pycharm": {
     "name": "#%%\n"
    }
   }
  },
  {
   "cell_type": "code",
   "execution_count": 5,
   "outputs": [],
   "source": [
    "# # figure out types (EDA)\n",
    "# for col in weather_data.columns:\n",
    "#     print(col)\n",
    "#     print(type(weather_data[col][0]), '\\n')"
   ],
   "metadata": {
    "collapsed": false,
    "pycharm": {
     "name": "#%%\n"
    }
   }
  },
  {
   "cell_type": "code",
   "execution_count": 6,
   "outputs": [
    {
     "name": "stdout",
     "output_type": "stream",
     "text": [
      "{'Rain, Partially cloudy', 'Snow, Rain, Partially cloudy', 'Overcast', 'Rain', 'Rain, Overcast', 'Snow, Rain', 'Snow, Rain, Overcast', 'Partially cloudy', 'Snow, Partially cloudy', 'Clear'}\n",
      "{'none', 'snow', 'rain,snow', 'rain'}\n"
     ]
    }
   ],
   "source": [
    "# figure out types (EDA)\n",
    "print(set(weather_data['conditions']))\n",
    "print(set(weather_data['preciptype']))"
   ],
   "metadata": {
    "collapsed": false,
    "pycharm": {
     "name": "#%%\n"
    }
   }
  },
  {
   "cell_type": "markdown",
   "source": [
    "One Hot Encode some of the weather columns"
   ],
   "metadata": {
    "collapsed": false,
    "pycharm": {
     "name": "#%% md\n"
    }
   }
  },
  {
   "cell_type": "code",
   "execution_count": 7,
   "outputs": [
    {
     "data": {
      "text/plain": "     preciptype_none  preciptype_rain  preciptype_rain,snow  preciptype_snow  \\\n0                1.0              0.0                   0.0              0.0   \n1                1.0              0.0                   0.0              0.0   \n2                1.0              0.0                   0.0              0.0   \n3                1.0              0.0                   0.0              0.0   \n4                1.0              0.0                   0.0              0.0   \n..               ...              ...                   ...              ...   \n726              1.0              0.0                   0.0              0.0   \n727              1.0              0.0                   0.0              0.0   \n728              1.0              0.0                   0.0              0.0   \n729              0.0              0.0                   0.0              1.0   \n730              0.0              0.0                   0.0              1.0   \n\n     conditions_Clear  conditions_Overcast  conditions_Partially cloudy  \\\n0                 0.0                  0.0                          1.0   \n1                 0.0                  0.0                          1.0   \n2                 1.0                  0.0                          0.0   \n3                 0.0                  0.0                          1.0   \n4                 1.0                  0.0                          0.0   \n..                ...                  ...                          ...   \n726               0.0                  0.0                          1.0   \n727               1.0                  0.0                          0.0   \n728               0.0                  0.0                          1.0   \n729               0.0                  0.0                          0.0   \n730               0.0                  0.0                          0.0   \n\n     conditions_Rain  conditions_Rain, Overcast  \\\n0                0.0                        0.0   \n1                0.0                        0.0   \n2                0.0                        0.0   \n3                0.0                        0.0   \n4                0.0                        0.0   \n..               ...                        ...   \n726              0.0                        0.0   \n727              0.0                        0.0   \n728              0.0                        0.0   \n729              0.0                        0.0   \n730              0.0                        0.0   \n\n     conditions_Rain, Partially cloudy  conditions_Snow, Partially cloudy  \\\n0                                  0.0                                0.0   \n1                                  0.0                                0.0   \n2                                  0.0                                0.0   \n3                                  0.0                                0.0   \n4                                  0.0                                0.0   \n..                                 ...                                ...   \n726                                0.0                                0.0   \n727                                0.0                                0.0   \n728                                0.0                                0.0   \n729                                0.0                                1.0   \n730                                0.0                                1.0   \n\n     conditions_Snow, Rain  conditions_Snow, Rain, Overcast  \\\n0                      0.0                              0.0   \n1                      0.0                              0.0   \n2                      0.0                              0.0   \n3                      0.0                              0.0   \n4                      0.0                              0.0   \n..                     ...                              ...   \n726                    0.0                              0.0   \n727                    0.0                              0.0   \n728                    0.0                              0.0   \n729                    0.0                              0.0   \n730                    0.0                              0.0   \n\n     conditions_Snow, Rain, Partially cloudy  \n0                                        0.0  \n1                                        0.0  \n2                                        0.0  \n3                                        0.0  \n4                                        0.0  \n..                                       ...  \n726                                      0.0  \n727                                      0.0  \n728                                      0.0  \n729                                      0.0  \n730                                      0.0  \n\n[731 rows x 14 columns]",
      "text/html": "<div>\n<style scoped>\n    .dataframe tbody tr th:only-of-type {\n        vertical-align: middle;\n    }\n\n    .dataframe tbody tr th {\n        vertical-align: top;\n    }\n\n    .dataframe thead th {\n        text-align: right;\n    }\n</style>\n<table border=\"1\" class=\"dataframe\">\n  <thead>\n    <tr style=\"text-align: right;\">\n      <th></th>\n      <th>preciptype_none</th>\n      <th>preciptype_rain</th>\n      <th>preciptype_rain,snow</th>\n      <th>preciptype_snow</th>\n      <th>conditions_Clear</th>\n      <th>conditions_Overcast</th>\n      <th>conditions_Partially cloudy</th>\n      <th>conditions_Rain</th>\n      <th>conditions_Rain, Overcast</th>\n      <th>conditions_Rain, Partially cloudy</th>\n      <th>conditions_Snow, Partially cloudy</th>\n      <th>conditions_Snow, Rain</th>\n      <th>conditions_Snow, Rain, Overcast</th>\n      <th>conditions_Snow, Rain, Partially cloudy</th>\n    </tr>\n  </thead>\n  <tbody>\n    <tr>\n      <th>0</th>\n      <td>1.0</td>\n      <td>0.0</td>\n      <td>0.0</td>\n      <td>0.0</td>\n      <td>0.0</td>\n      <td>0.0</td>\n      <td>1.0</td>\n      <td>0.0</td>\n      <td>0.0</td>\n      <td>0.0</td>\n      <td>0.0</td>\n      <td>0.0</td>\n      <td>0.0</td>\n      <td>0.0</td>\n    </tr>\n    <tr>\n      <th>1</th>\n      <td>1.0</td>\n      <td>0.0</td>\n      <td>0.0</td>\n      <td>0.0</td>\n      <td>0.0</td>\n      <td>0.0</td>\n      <td>1.0</td>\n      <td>0.0</td>\n      <td>0.0</td>\n      <td>0.0</td>\n      <td>0.0</td>\n      <td>0.0</td>\n      <td>0.0</td>\n      <td>0.0</td>\n    </tr>\n    <tr>\n      <th>2</th>\n      <td>1.0</td>\n      <td>0.0</td>\n      <td>0.0</td>\n      <td>0.0</td>\n      <td>1.0</td>\n      <td>0.0</td>\n      <td>0.0</td>\n      <td>0.0</td>\n      <td>0.0</td>\n      <td>0.0</td>\n      <td>0.0</td>\n      <td>0.0</td>\n      <td>0.0</td>\n      <td>0.0</td>\n    </tr>\n    <tr>\n      <th>3</th>\n      <td>1.0</td>\n      <td>0.0</td>\n      <td>0.0</td>\n      <td>0.0</td>\n      <td>0.0</td>\n      <td>0.0</td>\n      <td>1.0</td>\n      <td>0.0</td>\n      <td>0.0</td>\n      <td>0.0</td>\n      <td>0.0</td>\n      <td>0.0</td>\n      <td>0.0</td>\n      <td>0.0</td>\n    </tr>\n    <tr>\n      <th>4</th>\n      <td>1.0</td>\n      <td>0.0</td>\n      <td>0.0</td>\n      <td>0.0</td>\n      <td>1.0</td>\n      <td>0.0</td>\n      <td>0.0</td>\n      <td>0.0</td>\n      <td>0.0</td>\n      <td>0.0</td>\n      <td>0.0</td>\n      <td>0.0</td>\n      <td>0.0</td>\n      <td>0.0</td>\n    </tr>\n    <tr>\n      <th>...</th>\n      <td>...</td>\n      <td>...</td>\n      <td>...</td>\n      <td>...</td>\n      <td>...</td>\n      <td>...</td>\n      <td>...</td>\n      <td>...</td>\n      <td>...</td>\n      <td>...</td>\n      <td>...</td>\n      <td>...</td>\n      <td>...</td>\n      <td>...</td>\n    </tr>\n    <tr>\n      <th>726</th>\n      <td>1.0</td>\n      <td>0.0</td>\n      <td>0.0</td>\n      <td>0.0</td>\n      <td>0.0</td>\n      <td>0.0</td>\n      <td>1.0</td>\n      <td>0.0</td>\n      <td>0.0</td>\n      <td>0.0</td>\n      <td>0.0</td>\n      <td>0.0</td>\n      <td>0.0</td>\n      <td>0.0</td>\n    </tr>\n    <tr>\n      <th>727</th>\n      <td>1.0</td>\n      <td>0.0</td>\n      <td>0.0</td>\n      <td>0.0</td>\n      <td>1.0</td>\n      <td>0.0</td>\n      <td>0.0</td>\n      <td>0.0</td>\n      <td>0.0</td>\n      <td>0.0</td>\n      <td>0.0</td>\n      <td>0.0</td>\n      <td>0.0</td>\n      <td>0.0</td>\n    </tr>\n    <tr>\n      <th>728</th>\n      <td>1.0</td>\n      <td>0.0</td>\n      <td>0.0</td>\n      <td>0.0</td>\n      <td>0.0</td>\n      <td>0.0</td>\n      <td>1.0</td>\n      <td>0.0</td>\n      <td>0.0</td>\n      <td>0.0</td>\n      <td>0.0</td>\n      <td>0.0</td>\n      <td>0.0</td>\n      <td>0.0</td>\n    </tr>\n    <tr>\n      <th>729</th>\n      <td>0.0</td>\n      <td>0.0</td>\n      <td>0.0</td>\n      <td>1.0</td>\n      <td>0.0</td>\n      <td>0.0</td>\n      <td>0.0</td>\n      <td>0.0</td>\n      <td>0.0</td>\n      <td>0.0</td>\n      <td>1.0</td>\n      <td>0.0</td>\n      <td>0.0</td>\n      <td>0.0</td>\n    </tr>\n    <tr>\n      <th>730</th>\n      <td>0.0</td>\n      <td>0.0</td>\n      <td>0.0</td>\n      <td>1.0</td>\n      <td>0.0</td>\n      <td>0.0</td>\n      <td>0.0</td>\n      <td>0.0</td>\n      <td>0.0</td>\n      <td>0.0</td>\n      <td>1.0</td>\n      <td>0.0</td>\n      <td>0.0</td>\n      <td>0.0</td>\n    </tr>\n  </tbody>\n</table>\n<p>731 rows × 14 columns</p>\n</div>"
     },
     "execution_count": 7,
     "metadata": {},
     "output_type": "execute_result"
    }
   ],
   "source": [
    "# perform one hot encoding\n",
    "from sklearn.preprocessing import OneHotEncoder\n",
    "ohe = OneHotEncoder(handle_unknown='ignore')\n",
    "weather_to_ohe = weather_data[['preciptype', 'conditions']]\n",
    "weather_ohe = ohe.fit_transform(weather_to_ohe).toarray()\n",
    "\n",
    "weather_ohe = pd.DataFrame(weather_ohe, columns = list(ohe.get_feature_names_out(['preciptype',\n",
    "                                                                                  'conditions'])))\n",
    "weather_ohe"
   ],
   "metadata": {
    "collapsed": false,
    "pycharm": {
     "name": "#%%\n"
    }
   }
  },
  {
   "cell_type": "code",
   "execution_count": 8,
   "outputs": [
    {
     "data": {
      "text/plain": "       datetime  tempmax  tempmin  temp  feelslikemax  feelslikemin  \\\n0    2016-01-01      5.8      1.7   4.1           3.5          -3.1   \n1    2016-01-02      4.4      0.7   2.2           2.5          -4.1   \n2    2016-01-03      7.2      1.6   3.9           4.1          -2.5   \n3    2016-01-04      2.4     -9.2  -2.3          -1.0         -18.0   \n4    2016-01-05     -1.8    -11.3  -6.3          -1.8         -20.4   \n..          ...      ...      ...   ...           ...           ...   \n726  2017-12-27     -4.2     -7.6  -6.0          -9.4         -14.5   \n727  2017-12-28     -7.5    -11.0  -9.1         -14.5         -18.4   \n728  2017-12-29     -5.7    -11.5  -8.7         -11.2         -18.7   \n729  2017-12-30     -5.0     -8.0  -6.4          -6.1         -13.8   \n730  2017-12-31     -6.6    -12.0  -9.4         -12.5         -20.9   \n\n     feelslike   dew  humidity  precip  ...  conditions_Clear  \\\n0          0.6  -4.6      53.2    0.00  ...               0.0   \n1         -1.3  -7.7      48.0    0.00  ...               0.0   \n2          0.4  -5.9      49.5    0.00  ...               1.0   \n3         -8.1 -12.3      47.0    0.00  ...               0.0   \n4        -11.0 -18.5      39.8    0.00  ...               1.0   \n..         ...   ...       ...     ...  ...               ...   \n726      -11.8 -17.1      41.3    0.00  ...               0.0   \n727      -16.5 -19.5      43.2    0.00  ...               1.0   \n728      -14.8 -17.3      50.0    0.00  ...               0.0   \n729      -10.8 -12.0      65.3    2.03  ...               0.0   \n730      -17.0 -17.7      51.4    1.62  ...               0.0   \n\n     conditions_Overcast  conditions_Partially cloudy  conditions_Rain  \\\n0                    0.0                          1.0              0.0   \n1                    0.0                          1.0              0.0   \n2                    0.0                          0.0              0.0   \n3                    0.0                          1.0              0.0   \n4                    0.0                          0.0              0.0   \n..                   ...                          ...              ...   \n726                  0.0                          1.0              0.0   \n727                  0.0                          0.0              0.0   \n728                  0.0                          1.0              0.0   \n729                  0.0                          0.0              0.0   \n730                  0.0                          0.0              0.0   \n\n     conditions_Rain, Overcast  conditions_Rain, Partially cloudy  \\\n0                          0.0                                0.0   \n1                          0.0                                0.0   \n2                          0.0                                0.0   \n3                          0.0                                0.0   \n4                          0.0                                0.0   \n..                         ...                                ...   \n726                        0.0                                0.0   \n727                        0.0                                0.0   \n728                        0.0                                0.0   \n729                        0.0                                0.0   \n730                        0.0                                0.0   \n\n     conditions_Snow, Partially cloudy  conditions_Snow, Rain  \\\n0                                  0.0                    0.0   \n1                                  0.0                    0.0   \n2                                  0.0                    0.0   \n3                                  0.0                    0.0   \n4                                  0.0                    0.0   \n..                                 ...                    ...   \n726                                0.0                    0.0   \n727                                0.0                    0.0   \n728                                0.0                    0.0   \n729                                1.0                    0.0   \n730                                1.0                    0.0   \n\n     conditions_Snow, Rain, Overcast  conditions_Snow, Rain, Partially cloudy  \n0                                0.0                                      0.0  \n1                                0.0                                      0.0  \n2                                0.0                                      0.0  \n3                                0.0                                      0.0  \n4                                0.0                                      0.0  \n..                               ...                                      ...  \n726                              0.0                                      0.0  \n727                              0.0                                      0.0  \n728                              0.0                                      0.0  \n729                              0.0                                      0.0  \n730                              0.0                                      0.0  \n\n[731 rows x 40 columns]",
      "text/html": "<div>\n<style scoped>\n    .dataframe tbody tr th:only-of-type {\n        vertical-align: middle;\n    }\n\n    .dataframe tbody tr th {\n        vertical-align: top;\n    }\n\n    .dataframe thead th {\n        text-align: right;\n    }\n</style>\n<table border=\"1\" class=\"dataframe\">\n  <thead>\n    <tr style=\"text-align: right;\">\n      <th></th>\n      <th>datetime</th>\n      <th>tempmax</th>\n      <th>tempmin</th>\n      <th>temp</th>\n      <th>feelslikemax</th>\n      <th>feelslikemin</th>\n      <th>feelslike</th>\n      <th>dew</th>\n      <th>humidity</th>\n      <th>precip</th>\n      <th>...</th>\n      <th>conditions_Clear</th>\n      <th>conditions_Overcast</th>\n      <th>conditions_Partially cloudy</th>\n      <th>conditions_Rain</th>\n      <th>conditions_Rain, Overcast</th>\n      <th>conditions_Rain, Partially cloudy</th>\n      <th>conditions_Snow, Partially cloudy</th>\n      <th>conditions_Snow, Rain</th>\n      <th>conditions_Snow, Rain, Overcast</th>\n      <th>conditions_Snow, Rain, Partially cloudy</th>\n    </tr>\n  </thead>\n  <tbody>\n    <tr>\n      <th>0</th>\n      <td>2016-01-01</td>\n      <td>5.8</td>\n      <td>1.7</td>\n      <td>4.1</td>\n      <td>3.5</td>\n      <td>-3.1</td>\n      <td>0.6</td>\n      <td>-4.6</td>\n      <td>53.2</td>\n      <td>0.00</td>\n      <td>...</td>\n      <td>0.0</td>\n      <td>0.0</td>\n      <td>1.0</td>\n      <td>0.0</td>\n      <td>0.0</td>\n      <td>0.0</td>\n      <td>0.0</td>\n      <td>0.0</td>\n      <td>0.0</td>\n      <td>0.0</td>\n    </tr>\n    <tr>\n      <th>1</th>\n      <td>2016-01-02</td>\n      <td>4.4</td>\n      <td>0.7</td>\n      <td>2.2</td>\n      <td>2.5</td>\n      <td>-4.1</td>\n      <td>-1.3</td>\n      <td>-7.7</td>\n      <td>48.0</td>\n      <td>0.00</td>\n      <td>...</td>\n      <td>0.0</td>\n      <td>0.0</td>\n      <td>1.0</td>\n      <td>0.0</td>\n      <td>0.0</td>\n      <td>0.0</td>\n      <td>0.0</td>\n      <td>0.0</td>\n      <td>0.0</td>\n      <td>0.0</td>\n    </tr>\n    <tr>\n      <th>2</th>\n      <td>2016-01-03</td>\n      <td>7.2</td>\n      <td>1.6</td>\n      <td>3.9</td>\n      <td>4.1</td>\n      <td>-2.5</td>\n      <td>0.4</td>\n      <td>-5.9</td>\n      <td>49.5</td>\n      <td>0.00</td>\n      <td>...</td>\n      <td>1.0</td>\n      <td>0.0</td>\n      <td>0.0</td>\n      <td>0.0</td>\n      <td>0.0</td>\n      <td>0.0</td>\n      <td>0.0</td>\n      <td>0.0</td>\n      <td>0.0</td>\n      <td>0.0</td>\n    </tr>\n    <tr>\n      <th>3</th>\n      <td>2016-01-04</td>\n      <td>2.4</td>\n      <td>-9.2</td>\n      <td>-2.3</td>\n      <td>-1.0</td>\n      <td>-18.0</td>\n      <td>-8.1</td>\n      <td>-12.3</td>\n      <td>47.0</td>\n      <td>0.00</td>\n      <td>...</td>\n      <td>0.0</td>\n      <td>0.0</td>\n      <td>1.0</td>\n      <td>0.0</td>\n      <td>0.0</td>\n      <td>0.0</td>\n      <td>0.0</td>\n      <td>0.0</td>\n      <td>0.0</td>\n      <td>0.0</td>\n    </tr>\n    <tr>\n      <th>4</th>\n      <td>2016-01-05</td>\n      <td>-1.8</td>\n      <td>-11.3</td>\n      <td>-6.3</td>\n      <td>-1.8</td>\n      <td>-20.4</td>\n      <td>-11.0</td>\n      <td>-18.5</td>\n      <td>39.8</td>\n      <td>0.00</td>\n      <td>...</td>\n      <td>1.0</td>\n      <td>0.0</td>\n      <td>0.0</td>\n      <td>0.0</td>\n      <td>0.0</td>\n      <td>0.0</td>\n      <td>0.0</td>\n      <td>0.0</td>\n      <td>0.0</td>\n      <td>0.0</td>\n    </tr>\n    <tr>\n      <th>...</th>\n      <td>...</td>\n      <td>...</td>\n      <td>...</td>\n      <td>...</td>\n      <td>...</td>\n      <td>...</td>\n      <td>...</td>\n      <td>...</td>\n      <td>...</td>\n      <td>...</td>\n      <td>...</td>\n      <td>...</td>\n      <td>...</td>\n      <td>...</td>\n      <td>...</td>\n      <td>...</td>\n      <td>...</td>\n      <td>...</td>\n      <td>...</td>\n      <td>...</td>\n      <td>...</td>\n    </tr>\n    <tr>\n      <th>726</th>\n      <td>2017-12-27</td>\n      <td>-4.2</td>\n      <td>-7.6</td>\n      <td>-6.0</td>\n      <td>-9.4</td>\n      <td>-14.5</td>\n      <td>-11.8</td>\n      <td>-17.1</td>\n      <td>41.3</td>\n      <td>0.00</td>\n      <td>...</td>\n      <td>0.0</td>\n      <td>0.0</td>\n      <td>1.0</td>\n      <td>0.0</td>\n      <td>0.0</td>\n      <td>0.0</td>\n      <td>0.0</td>\n      <td>0.0</td>\n      <td>0.0</td>\n      <td>0.0</td>\n    </tr>\n    <tr>\n      <th>727</th>\n      <td>2017-12-28</td>\n      <td>-7.5</td>\n      <td>-11.0</td>\n      <td>-9.1</td>\n      <td>-14.5</td>\n      <td>-18.4</td>\n      <td>-16.5</td>\n      <td>-19.5</td>\n      <td>43.2</td>\n      <td>0.00</td>\n      <td>...</td>\n      <td>1.0</td>\n      <td>0.0</td>\n      <td>0.0</td>\n      <td>0.0</td>\n      <td>0.0</td>\n      <td>0.0</td>\n      <td>0.0</td>\n      <td>0.0</td>\n      <td>0.0</td>\n      <td>0.0</td>\n    </tr>\n    <tr>\n      <th>728</th>\n      <td>2017-12-29</td>\n      <td>-5.7</td>\n      <td>-11.5</td>\n      <td>-8.7</td>\n      <td>-11.2</td>\n      <td>-18.7</td>\n      <td>-14.8</td>\n      <td>-17.3</td>\n      <td>50.0</td>\n      <td>0.00</td>\n      <td>...</td>\n      <td>0.0</td>\n      <td>0.0</td>\n      <td>1.0</td>\n      <td>0.0</td>\n      <td>0.0</td>\n      <td>0.0</td>\n      <td>0.0</td>\n      <td>0.0</td>\n      <td>0.0</td>\n      <td>0.0</td>\n    </tr>\n    <tr>\n      <th>729</th>\n      <td>2017-12-30</td>\n      <td>-5.0</td>\n      <td>-8.0</td>\n      <td>-6.4</td>\n      <td>-6.1</td>\n      <td>-13.8</td>\n      <td>-10.8</td>\n      <td>-12.0</td>\n      <td>65.3</td>\n      <td>2.03</td>\n      <td>...</td>\n      <td>0.0</td>\n      <td>0.0</td>\n      <td>0.0</td>\n      <td>0.0</td>\n      <td>0.0</td>\n      <td>0.0</td>\n      <td>1.0</td>\n      <td>0.0</td>\n      <td>0.0</td>\n      <td>0.0</td>\n    </tr>\n    <tr>\n      <th>730</th>\n      <td>2017-12-31</td>\n      <td>-6.6</td>\n      <td>-12.0</td>\n      <td>-9.4</td>\n      <td>-12.5</td>\n      <td>-20.9</td>\n      <td>-17.0</td>\n      <td>-17.7</td>\n      <td>51.4</td>\n      <td>1.62</td>\n      <td>...</td>\n      <td>0.0</td>\n      <td>0.0</td>\n      <td>0.0</td>\n      <td>0.0</td>\n      <td>0.0</td>\n      <td>0.0</td>\n      <td>1.0</td>\n      <td>0.0</td>\n      <td>0.0</td>\n      <td>0.0</td>\n    </tr>\n  </tbody>\n</table>\n<p>731 rows × 40 columns</p>\n</div>"
     },
     "execution_count": 8,
     "metadata": {},
     "output_type": "execute_result"
    }
   ],
   "source": [
    "weather_data = weather_data.drop(['preciptype', 'conditions'], axis = 1)\n",
    "\n",
    "for col in weather_ohe.columns:\n",
    "    new_col = weather_ohe[col]\n",
    "    new_col.index = range(len(new_col))\n",
    "\n",
    "    weather_data[str(col)] = new_col\n",
    "\n",
    "weather_data"
   ],
   "metadata": {
    "collapsed": false,
    "pycharm": {
     "name": "#%%\n"
    }
   }
  },
  {
   "cell_type": "markdown",
   "source": [
    "### Holiday Data"
   ],
   "metadata": {
    "collapsed": false,
    "pycharm": {
     "name": "#%% md\n"
    }
   }
  },
  {
   "cell_type": "code",
   "execution_count": 9,
   "outputs": [],
   "source": [
    "# Holiday data 1: includes workday before holiday and workday after\n",
    "holiday_data1 = pd.read_excel('../data/raw/Holidays/NY Holidays 2016-2019.xlsx')"
   ],
   "metadata": {
    "collapsed": false,
    "pycharm": {
     "name": "#%%\n"
    }
   }
  },
  {
   "cell_type": "code",
   "execution_count": 10,
   "outputs": [],
   "source": [
    "holiday_data1['datetime'] = pd.to_datetime(holiday_data1['datetime']).dt.date"
   ],
   "metadata": {
    "collapsed": false,
    "pycharm": {
     "name": "#%%\n"
    }
   }
  },
  {
   "cell_type": "code",
   "execution_count": 11,
   "outputs": [
    {
     "data": {
      "text/plain": "       datetime  holiday1\n0    2016-01-01         1\n1    2016-01-02         1\n2    2016-01-15         1\n3    2016-01-18         1\n4    2016-01-19         1\n..          ...       ...\n127  2019-11-30         1\n128  2019-12-24         1\n129  2019-12-25         1\n130  2019-12-26         1\n131  2019-12-31         1\n\n[132 rows x 2 columns]",
      "text/html": "<div>\n<style scoped>\n    .dataframe tbody tr th:only-of-type {\n        vertical-align: middle;\n    }\n\n    .dataframe tbody tr th {\n        vertical-align: top;\n    }\n\n    .dataframe thead th {\n        text-align: right;\n    }\n</style>\n<table border=\"1\" class=\"dataframe\">\n  <thead>\n    <tr style=\"text-align: right;\">\n      <th></th>\n      <th>datetime</th>\n      <th>holiday1</th>\n    </tr>\n  </thead>\n  <tbody>\n    <tr>\n      <th>0</th>\n      <td>2016-01-01</td>\n      <td>1</td>\n    </tr>\n    <tr>\n      <th>1</th>\n      <td>2016-01-02</td>\n      <td>1</td>\n    </tr>\n    <tr>\n      <th>2</th>\n      <td>2016-01-15</td>\n      <td>1</td>\n    </tr>\n    <tr>\n      <th>3</th>\n      <td>2016-01-18</td>\n      <td>1</td>\n    </tr>\n    <tr>\n      <th>4</th>\n      <td>2016-01-19</td>\n      <td>1</td>\n    </tr>\n    <tr>\n      <th>...</th>\n      <td>...</td>\n      <td>...</td>\n    </tr>\n    <tr>\n      <th>127</th>\n      <td>2019-11-30</td>\n      <td>1</td>\n    </tr>\n    <tr>\n      <th>128</th>\n      <td>2019-12-24</td>\n      <td>1</td>\n    </tr>\n    <tr>\n      <th>129</th>\n      <td>2019-12-25</td>\n      <td>1</td>\n    </tr>\n    <tr>\n      <th>130</th>\n      <td>2019-12-26</td>\n      <td>1</td>\n    </tr>\n    <tr>\n      <th>131</th>\n      <td>2019-12-31</td>\n      <td>1</td>\n    </tr>\n  </tbody>\n</table>\n<p>132 rows × 2 columns</p>\n</div>"
     },
     "execution_count": 11,
     "metadata": {},
     "output_type": "execute_result"
    }
   ],
   "source": [
    "holiday_data1['holiday1'] = 1\n",
    "holiday_data1"
   ],
   "metadata": {
    "collapsed": false,
    "pycharm": {
     "name": "#%%\n"
    }
   }
  },
  {
   "cell_type": "code",
   "execution_count": 12,
   "outputs": [],
   "source": [
    "# Holiday data 2: only includes holiday\n",
    "holiday_data2 = pd.read_excel('../data/raw/Holidays/NY Holidays2 2016-2019.xlsx')"
   ],
   "metadata": {
    "collapsed": false,
    "pycharm": {
     "name": "#%%\n"
    }
   }
  },
  {
   "cell_type": "code",
   "execution_count": 13,
   "outputs": [],
   "source": [
    "holiday_data2['datetime'] = pd.to_datetime(holiday_data2['datetime']).dt.date"
   ],
   "metadata": {
    "collapsed": false,
    "pycharm": {
     "name": "#%%\n"
    }
   }
  },
  {
   "cell_type": "code",
   "execution_count": 14,
   "outputs": [
    {
     "data": {
      "text/plain": "      datetime  holiday2\n0   2016-01-01         1\n1   2016-01-18         1\n2   2016-02-12         1\n3   2016-05-27         1\n4   2016-07-01         1\n5   2016-09-05         1\n6   2016-10-10         1\n7   2016-11-11         1\n8   2016-11-24         1\n9   2016-12-26         1\n10  2017-01-02         1\n11  2017-01-16         1\n12  2017-02-13         1\n13  2017-02-20         1\n14  2017-05-29         1\n15  2017-07-04         1\n16  2017-09-04         1\n17  2017-10-09         1\n18  2017-11-10         1\n19  2017-11-23         1\n20  2017-12-25         1\n21  2018-01-01         1\n22  2018-01-15         1\n23  2018-02-12         1\n24  2018-02-19         1\n25  2018-05-28         1\n26  2018-07-04         1\n27  2018-09-03         1\n28  2018-10-08         1\n29  2018-11-12         1\n30  2018-11-22         1\n31  2018-12-05         1\n32  2018-12-25         1\n33  2019-01-01         1\n34  2019-01-21         1\n35  2019-02-12         1\n36  2019-02-18         1\n37  2019-05-27         1\n38  2019-07-04         1\n39  2019-09-02         1\n40  2019-10-14         1\n41  2019-11-11         1\n42  2019-11-28         1\n43  2019-12-25         1",
      "text/html": "<div>\n<style scoped>\n    .dataframe tbody tr th:only-of-type {\n        vertical-align: middle;\n    }\n\n    .dataframe tbody tr th {\n        vertical-align: top;\n    }\n\n    .dataframe thead th {\n        text-align: right;\n    }\n</style>\n<table border=\"1\" class=\"dataframe\">\n  <thead>\n    <tr style=\"text-align: right;\">\n      <th></th>\n      <th>datetime</th>\n      <th>holiday2</th>\n    </tr>\n  </thead>\n  <tbody>\n    <tr>\n      <th>0</th>\n      <td>2016-01-01</td>\n      <td>1</td>\n    </tr>\n    <tr>\n      <th>1</th>\n      <td>2016-01-18</td>\n      <td>1</td>\n    </tr>\n    <tr>\n      <th>2</th>\n      <td>2016-02-12</td>\n      <td>1</td>\n    </tr>\n    <tr>\n      <th>3</th>\n      <td>2016-05-27</td>\n      <td>1</td>\n    </tr>\n    <tr>\n      <th>4</th>\n      <td>2016-07-01</td>\n      <td>1</td>\n    </tr>\n    <tr>\n      <th>5</th>\n      <td>2016-09-05</td>\n      <td>1</td>\n    </tr>\n    <tr>\n      <th>6</th>\n      <td>2016-10-10</td>\n      <td>1</td>\n    </tr>\n    <tr>\n      <th>7</th>\n      <td>2016-11-11</td>\n      <td>1</td>\n    </tr>\n    <tr>\n      <th>8</th>\n      <td>2016-11-24</td>\n      <td>1</td>\n    </tr>\n    <tr>\n      <th>9</th>\n      <td>2016-12-26</td>\n      <td>1</td>\n    </tr>\n    <tr>\n      <th>10</th>\n      <td>2017-01-02</td>\n      <td>1</td>\n    </tr>\n    <tr>\n      <th>11</th>\n      <td>2017-01-16</td>\n      <td>1</td>\n    </tr>\n    <tr>\n      <th>12</th>\n      <td>2017-02-13</td>\n      <td>1</td>\n    </tr>\n    <tr>\n      <th>13</th>\n      <td>2017-02-20</td>\n      <td>1</td>\n    </tr>\n    <tr>\n      <th>14</th>\n      <td>2017-05-29</td>\n      <td>1</td>\n    </tr>\n    <tr>\n      <th>15</th>\n      <td>2017-07-04</td>\n      <td>1</td>\n    </tr>\n    <tr>\n      <th>16</th>\n      <td>2017-09-04</td>\n      <td>1</td>\n    </tr>\n    <tr>\n      <th>17</th>\n      <td>2017-10-09</td>\n      <td>1</td>\n    </tr>\n    <tr>\n      <th>18</th>\n      <td>2017-11-10</td>\n      <td>1</td>\n    </tr>\n    <tr>\n      <th>19</th>\n      <td>2017-11-23</td>\n      <td>1</td>\n    </tr>\n    <tr>\n      <th>20</th>\n      <td>2017-12-25</td>\n      <td>1</td>\n    </tr>\n    <tr>\n      <th>21</th>\n      <td>2018-01-01</td>\n      <td>1</td>\n    </tr>\n    <tr>\n      <th>22</th>\n      <td>2018-01-15</td>\n      <td>1</td>\n    </tr>\n    <tr>\n      <th>23</th>\n      <td>2018-02-12</td>\n      <td>1</td>\n    </tr>\n    <tr>\n      <th>24</th>\n      <td>2018-02-19</td>\n      <td>1</td>\n    </tr>\n    <tr>\n      <th>25</th>\n      <td>2018-05-28</td>\n      <td>1</td>\n    </tr>\n    <tr>\n      <th>26</th>\n      <td>2018-07-04</td>\n      <td>1</td>\n    </tr>\n    <tr>\n      <th>27</th>\n      <td>2018-09-03</td>\n      <td>1</td>\n    </tr>\n    <tr>\n      <th>28</th>\n      <td>2018-10-08</td>\n      <td>1</td>\n    </tr>\n    <tr>\n      <th>29</th>\n      <td>2018-11-12</td>\n      <td>1</td>\n    </tr>\n    <tr>\n      <th>30</th>\n      <td>2018-11-22</td>\n      <td>1</td>\n    </tr>\n    <tr>\n      <th>31</th>\n      <td>2018-12-05</td>\n      <td>1</td>\n    </tr>\n    <tr>\n      <th>32</th>\n      <td>2018-12-25</td>\n      <td>1</td>\n    </tr>\n    <tr>\n      <th>33</th>\n      <td>2019-01-01</td>\n      <td>1</td>\n    </tr>\n    <tr>\n      <th>34</th>\n      <td>2019-01-21</td>\n      <td>1</td>\n    </tr>\n    <tr>\n      <th>35</th>\n      <td>2019-02-12</td>\n      <td>1</td>\n    </tr>\n    <tr>\n      <th>36</th>\n      <td>2019-02-18</td>\n      <td>1</td>\n    </tr>\n    <tr>\n      <th>37</th>\n      <td>2019-05-27</td>\n      <td>1</td>\n    </tr>\n    <tr>\n      <th>38</th>\n      <td>2019-07-04</td>\n      <td>1</td>\n    </tr>\n    <tr>\n      <th>39</th>\n      <td>2019-09-02</td>\n      <td>1</td>\n    </tr>\n    <tr>\n      <th>40</th>\n      <td>2019-10-14</td>\n      <td>1</td>\n    </tr>\n    <tr>\n      <th>41</th>\n      <td>2019-11-11</td>\n      <td>1</td>\n    </tr>\n    <tr>\n      <th>42</th>\n      <td>2019-11-28</td>\n      <td>1</td>\n    </tr>\n    <tr>\n      <th>43</th>\n      <td>2019-12-25</td>\n      <td>1</td>\n    </tr>\n  </tbody>\n</table>\n</div>"
     },
     "execution_count": 14,
     "metadata": {},
     "output_type": "execute_result"
    }
   ],
   "source": [
    "holiday_data2['holiday2'] = 1\n",
    "holiday_data2"
   ],
   "metadata": {
    "collapsed": false,
    "pycharm": {
     "name": "#%%\n"
    }
   }
  },
  {
   "cell_type": "markdown",
   "source": [
    "### Import aggregated taxi data and begin preprocess"
   ],
   "metadata": {
    "collapsed": false,
    "pycharm": {
     "name": "#%% md\n"
    }
   }
  },
  {
   "cell_type": "code",
   "execution_count": 15,
   "outputs": [],
   "source": [
    "data = pd.DataFrame()\n",
    "for file in sorted(os.listdir('../data/curated/cleaned/discrete')):\n",
    "    if '2016-01' in file or '2016-02' in file or '2016-03' in file or \\\n",
    "            '2016-04' in file or '2016-05' in file or '2016-06' in file:\n",
    "        tmp = pd.read_csv(f'../data/curated/cleaned/discrete/{file}')\n",
    "        data = data.append(tmp)"
   ],
   "metadata": {
    "collapsed": false,
    "pycharm": {
     "name": "#%%\n"
    }
   }
  },
  {
   "cell_type": "code",
   "execution_count": 16,
   "outputs": [
    {
     "data": {
      "text/plain": "       DOLocationID  hour  Max_PULocationID  \\\n0               1.0   0.0             170.0   \n1               1.0   0.0             230.0   \n2               1.0   0.0             261.0   \n3               1.0   0.0             132.0   \n4               1.0   0.0             161.0   \n...             ...   ...               ...   \n94631         263.0   7.0             186.0   \n94632         263.0   7.0             263.0   \n94633         263.0   7.0             162.0   \n94634         263.0   7.0             161.0   \n94635         263.0   7.0             162.0   \n\n                         Max_PULocationIDs  max_count    datetime  \n0                                    [170]        2.0  2016-01-01  \n1                                    [230]        3.0  2016-01-02  \n2                                    [261]        2.0  2016-01-03  \n3      [132, 161, 164, 170, 186, 230, 238]        1.0  2016-01-04  \n4      [132, 161, 164, 170, 186, 230, 238]        1.0  2016-01-04  \n...                                    ...        ...         ...  \n94631                                [186]       83.0  2016-06-26  \n94632                                [263]       89.0  2016-06-27  \n94633                                [162]       87.0  2016-06-28  \n94634                                [161]      101.0  2016-06-29  \n94635                                [162]       95.0  2016-06-30  \n\n[565425 rows x 6 columns]",
      "text/html": "<div>\n<style scoped>\n    .dataframe tbody tr th:only-of-type {\n        vertical-align: middle;\n    }\n\n    .dataframe tbody tr th {\n        vertical-align: top;\n    }\n\n    .dataframe thead th {\n        text-align: right;\n    }\n</style>\n<table border=\"1\" class=\"dataframe\">\n  <thead>\n    <tr style=\"text-align: right;\">\n      <th></th>\n      <th>DOLocationID</th>\n      <th>hour</th>\n      <th>Max_PULocationID</th>\n      <th>Max_PULocationIDs</th>\n      <th>max_count</th>\n      <th>datetime</th>\n    </tr>\n  </thead>\n  <tbody>\n    <tr>\n      <th>0</th>\n      <td>1.0</td>\n      <td>0.0</td>\n      <td>170.0</td>\n      <td>[170]</td>\n      <td>2.0</td>\n      <td>2016-01-01</td>\n    </tr>\n    <tr>\n      <th>1</th>\n      <td>1.0</td>\n      <td>0.0</td>\n      <td>230.0</td>\n      <td>[230]</td>\n      <td>3.0</td>\n      <td>2016-01-02</td>\n    </tr>\n    <tr>\n      <th>2</th>\n      <td>1.0</td>\n      <td>0.0</td>\n      <td>261.0</td>\n      <td>[261]</td>\n      <td>2.0</td>\n      <td>2016-01-03</td>\n    </tr>\n    <tr>\n      <th>3</th>\n      <td>1.0</td>\n      <td>0.0</td>\n      <td>132.0</td>\n      <td>[132, 161, 164, 170, 186, 230, 238]</td>\n      <td>1.0</td>\n      <td>2016-01-04</td>\n    </tr>\n    <tr>\n      <th>4</th>\n      <td>1.0</td>\n      <td>0.0</td>\n      <td>161.0</td>\n      <td>[132, 161, 164, 170, 186, 230, 238]</td>\n      <td>1.0</td>\n      <td>2016-01-04</td>\n    </tr>\n    <tr>\n      <th>...</th>\n      <td>...</td>\n      <td>...</td>\n      <td>...</td>\n      <td>...</td>\n      <td>...</td>\n      <td>...</td>\n    </tr>\n    <tr>\n      <th>94631</th>\n      <td>263.0</td>\n      <td>7.0</td>\n      <td>186.0</td>\n      <td>[186]</td>\n      <td>83.0</td>\n      <td>2016-06-26</td>\n    </tr>\n    <tr>\n      <th>94632</th>\n      <td>263.0</td>\n      <td>7.0</td>\n      <td>263.0</td>\n      <td>[263]</td>\n      <td>89.0</td>\n      <td>2016-06-27</td>\n    </tr>\n    <tr>\n      <th>94633</th>\n      <td>263.0</td>\n      <td>7.0</td>\n      <td>162.0</td>\n      <td>[162]</td>\n      <td>87.0</td>\n      <td>2016-06-28</td>\n    </tr>\n    <tr>\n      <th>94634</th>\n      <td>263.0</td>\n      <td>7.0</td>\n      <td>161.0</td>\n      <td>[161]</td>\n      <td>101.0</td>\n      <td>2016-06-29</td>\n    </tr>\n    <tr>\n      <th>94635</th>\n      <td>263.0</td>\n      <td>7.0</td>\n      <td>162.0</td>\n      <td>[162]</td>\n      <td>95.0</td>\n      <td>2016-06-30</td>\n    </tr>\n  </tbody>\n</table>\n<p>565425 rows × 6 columns</p>\n</div>"
     },
     "execution_count": 16,
     "metadata": {},
     "output_type": "execute_result"
    }
   ],
   "source": [
    "data"
   ],
   "metadata": {
    "collapsed": false,
    "pycharm": {
     "name": "#%%\n"
    }
   }
  },
  {
   "cell_type": "markdown",
   "source": [
    "# EDA on aggregated data and Plots"
   ],
   "metadata": {
    "collapsed": false,
    "pycharm": {
     "name": "#%% md\n"
    }
   }
  },
  {
   "cell_type": "code",
   "execution_count": 17,
   "outputs": [
    {
     "data": {
      "text/plain": "<Figure size 432x288 with 1 Axes>",
      "image/png": "[encoded data removed]"
     },
     "metadata": {
      "needs_background": "light"
     },
     "output_type": "display_data"
    }
   ],
   "source": [
    "plt.boxplot(data['max_count']);\n",
    "plt.ylabel('Max Counts')\n",
    "plt.title('Boxplot of Max Counts of Discrete Data')\n",
    "plt.show()"
   ],
   "metadata": {
    "collapsed": false,
    "pycharm": {
     "name": "#%%\n"
    }
   }
  },
  {
   "cell_type": "code",
   "execution_count": 18,
   "outputs": [
    {
     "data": {
      "text/plain": "count    565425.000000\nmean         15.788541\nstd          38.000149\nmin           1.000000\n25%           1.000000\n50%           2.000000\n75%          10.000000\nmax         727.000000\nName: max_count, dtype: float64"
     },
     "execution_count": 18,
     "metadata": {},
     "output_type": "execute_result"
    }
   ],
   "source": [
    "# Get 5 point summary and hence discard data below 75% quantile\n",
    "data['max_count'].describe()"
   ],
   "metadata": {
    "collapsed": false,
    "pycharm": {
     "name": "#%%\n"
    }
   }
  },
  {
   "cell_type": "code",
   "execution_count": 19,
   "outputs": [],
   "source": [
    "# discard data under 75% quantile\n",
    "data_75 = data[data['max_count']>=5]"
   ],
   "metadata": {
    "collapsed": false,
    "pycharm": {
     "name": "#%%\n"
    }
   }
  },
  {
   "cell_type": "code",
   "execution_count": 20,
   "outputs": [
    {
     "data": {
      "text/plain": "count    202253.000000\nmean         41.216051\nstd          55.034289\nmin           5.000000\n25%           9.000000\n50%          19.000000\n75%          53.000000\nmax         727.000000\nName: max_count, dtype: float64"
     },
     "execution_count": 20,
     "metadata": {},
     "output_type": "execute_result"
    }
   ],
   "source": [
    "data_75['max_count'].describe()"
   ],
   "metadata": {
    "collapsed": false,
    "pycharm": {
     "name": "#%%\n"
    }
   }
  },
  {
   "cell_type": "code",
   "execution_count": 21,
   "outputs": [
    {
     "data": {
      "text/plain": "<Figure size 432x288 with 1 Axes>",
      "image/png": "[encoded data removed]"
     },
     "metadata": {
      "needs_background": "light"
     },
     "output_type": "display_data"
    }
   ],
   "source": [
    "value_count = data_75['Max_PULocationID'].value_counts()\n",
    "\n",
    "plt.xlabel('PULocationID')\n",
    "plt.ylabel('Counts of Max_PULocationID')\n",
    "plt.title('Counts of Max_PULocationID in Discrete Data')\n",
    "plt.bar(value_count.index, height = value_count)\n",
    "\n",
    "plt.show()"
   ],
   "metadata": {
    "collapsed": false,
    "pycharm": {
     "name": "#%%\n"
    }
   }
  },
  {
   "cell_type": "code",
   "execution_count": 22,
   "outputs": [
    {
     "data": {
      "text/plain": "<Figure size 432x288 with 1 Axes>",
      "image/png": "[encoded data removed]"
     },
     "metadata": {
      "needs_background": "light"
     },
     "output_type": "display_data"
    }
   ],
   "source": [
    "plt.xlabel('PULocationID')\n",
    "plt.ylabel('Counts of PULocationID being Max_PULocationID')\n",
    "plt.title('Counts of PULocationID being Max_PULocationID in Discrete Data')\n",
    "plt.boxplot(value_count)\n",
    "\n",
    "plt.show()"
   ],
   "metadata": {
    "collapsed": false,
    "pycharm": {
     "name": "#%%\n"
    }
   }
  },
  {
   "cell_type": "code",
   "execution_count": 23,
   "outputs": [
    {
     "data": {
      "text/plain": "<Figure size 1200x720 with 1 Axes>",
      "image/png": "[encoded data removed]"
     },
     "metadata": {
      "needs_background": "light"
     },
     "output_type": "display_data"
    }
   ],
   "source": [
    "# Create the plot to use in report\n",
    "from matplotlib.pyplot import figure\n",
    "figure(figsize=(10, 6), dpi=120)\n",
    "\n",
    "dataA = data['max_count']\n",
    "\n",
    "dataB = data_75['max_count']\n",
    "\n",
    "plt.boxplot([dataA, dataB])\n",
    "plt.yticks(fontsize=16)\n",
    "plt.xticks([1, 2], ['Full', '>75% Quantile'],fontsize=16)\n",
    "plt.title(\"Boxplot: Max Count of Discretely Labelled Data\", fontsize=20)\n",
    "plt.xlabel('Dataset', fontsize=18)\n",
    "plt.ylabel('Count', fontsize=18);\n",
    "\n",
    "plt.savefig('../plots/boxplot_discrete1.png')"
   ],
   "metadata": {
    "collapsed": false,
    "pycharm": {
     "name": "#%%\n"
    }
   }
  },
  {
   "cell_type": "code",
   "execution_count": 27,
   "outputs": [
    {
     "name": "stderr",
     "output_type": "stream",
     "text": [
      "/var/folders/xg/8w_3dndd6l5c3n99vd7vd3f40000gn/T/ipykernel_7355/3572086656.py:1: SettingWithCopyWarning: \n",
      "A value is trying to be set on a copy of a slice from a DataFrame.\n",
      "Try using .loc[row_indexer,col_indexer] = value instead\n",
      "\n",
      "See the caveats in the documentation: https://pandas.pydata.org/pandas-docs/stable/user_guide/indexing.html#returning-a-view-versus-a-copy\n",
      "  data_75['weekday'] = pd.to_datetime(data_75['datetime']).dt.weekday\n"
     ]
    },
    {
     "data": {
      "text/plain": "       DOLocationID  hour  Max_PULocationID Max_PULocationIDs  max_count  \\\n62              1.0   1.0             186.0             [186]        7.0   \n63              1.0   1.0             161.0   [161, 162, 230]        9.0   \n64              1.0   1.0             162.0   [161, 162, 230]        9.0   \n65              1.0   1.0             230.0   [161, 162, 230]        9.0   \n66              1.0   1.0             230.0             [230]       12.0   \n...             ...   ...               ...               ...        ...   \n94631         263.0   7.0             186.0             [186]       83.0   \n94632         263.0   7.0             263.0             [263]       89.0   \n94633         263.0   7.0             162.0             [162]       87.0   \n94634         263.0   7.0             161.0             [161]      101.0   \n94635         263.0   7.0             162.0             [162]       95.0   \n\n         datetime  weekday  \n62     2016-01-01        4  \n63     2016-01-02        5  \n64     2016-01-02        5  \n65     2016-01-02        5  \n66     2016-01-03        6  \n...           ...      ...  \n94631  2016-06-26        6  \n94632  2016-06-27        0  \n94633  2016-06-28        1  \n94634  2016-06-29        2  \n94635  2016-06-30        3  \n\n[202253 rows x 7 columns]",
      "text/html": "<div>\n<style scoped>\n    .dataframe tbody tr th:only-of-type {\n        vertical-align: middle;\n    }\n\n    .dataframe tbody tr th {\n        vertical-align: top;\n    }\n\n    .dataframe thead th {\n        text-align: right;\n    }\n</style>\n<table border=\"1\" class=\"dataframe\">\n  <thead>\n    <tr style=\"text-align: right;\">\n      <th></th>\n      <th>DOLocationID</th>\n      <th>hour</th>\n      <th>Max_PULocationID</th>\n      <th>Max_PULocationIDs</th>\n      <th>max_count</th>\n      <th>datetime</th>\n      <th>weekday</th>\n    </tr>\n  </thead>\n  <tbody>\n    <tr>\n      <th>62</th>\n      <td>1.0</td>\n      <td>1.0</td>\n      <td>186.0</td>\n      <td>[186]</td>\n      <td>7.0</td>\n      <td>2016-01-01</td>\n      <td>4</td>\n    </tr>\n    <tr>\n      <th>63</th>\n      <td>1.0</td>\n      <td>1.0</td>\n      <td>161.0</td>\n      <td>[161, 162, 230]</td>\n      <td>9.0</td>\n      <td>2016-01-02</td>\n      <td>5</td>\n    </tr>\n    <tr>\n      <th>64</th>\n      <td>1.0</td>\n      <td>1.0</td>\n      <td>162.0</td>\n      <td>[161, 162, 230]</td>\n      <td>9.0</td>\n      <td>2016-01-02</td>\n      <td>5</td>\n    </tr>\n    <tr>\n      <th>65</th>\n      <td>1.0</td>\n      <td>1.0</td>\n      <td>230.0</td>\n      <td>[161, 162, 230]</td>\n      <td>9.0</td>\n      <td>2016-01-02</td>\n      <td>5</td>\n    </tr>\n    <tr>\n      <th>66</th>\n      <td>1.0</td>\n      <td>1.0</td>\n      <td>230.0</td>\n      <td>[230]</td>\n      <td>12.0</td>\n      <td>2016-01-03</td>\n      <td>6</td>\n    </tr>\n    <tr>\n      <th>...</th>\n      <td>...</td>\n      <td>...</td>\n      <td>...</td>\n      <td>...</td>\n      <td>...</td>\n      <td>...</td>\n      <td>...</td>\n    </tr>\n    <tr>\n      <th>94631</th>\n      <td>263.0</td>\n      <td>7.0</td>\n      <td>186.0</td>\n      <td>[186]</td>\n      <td>83.0</td>\n      <td>2016-06-26</td>\n      <td>6</td>\n    </tr>\n    <tr>\n      <th>94632</th>\n      <td>263.0</td>\n      <td>7.0</td>\n      <td>263.0</td>\n      <td>[263]</td>\n      <td>89.0</td>\n      <td>2016-06-27</td>\n      <td>0</td>\n    </tr>\n    <tr>\n      <th>94633</th>\n      <td>263.0</td>\n      <td>7.0</td>\n      <td>162.0</td>\n      <td>[162]</td>\n      <td>87.0</td>\n      <td>2016-06-28</td>\n      <td>1</td>\n    </tr>\n    <tr>\n      <th>94634</th>\n      <td>263.0</td>\n      <td>7.0</td>\n      <td>161.0</td>\n      <td>[161]</td>\n      <td>101.0</td>\n      <td>2016-06-29</td>\n      <td>2</td>\n    </tr>\n    <tr>\n      <th>94635</th>\n      <td>263.0</td>\n      <td>7.0</td>\n      <td>162.0</td>\n      <td>[162]</td>\n      <td>95.0</td>\n      <td>2016-06-30</td>\n      <td>3</td>\n    </tr>\n  </tbody>\n</table>\n<p>202253 rows × 7 columns</p>\n</div>"
     },
     "execution_count": 27,
     "metadata": {},
     "output_type": "execute_result"
    }
   ],
   "source": [
    "data_75['weekday'] = pd.to_datetime(data_75['datetime']).dt.weekday\n",
    "data_75"
   ],
   "metadata": {
    "collapsed": false,
    "pycharm": {
     "name": "#%%\n"
    }
   }
  },
  {
   "cell_type": "code",
   "execution_count": 24,
   "outputs": [
    {
     "name": "stdout",
     "output_type": "stream",
     "text": [
      "864.3290598290598\n"
     ]
    }
   ],
   "source": [
    "print(np.mean(value_count))"
   ],
   "metadata": {
    "collapsed": false,
    "pycharm": {
     "name": "#%%\n"
    }
   }
  },
  {
   "cell_type": "code",
   "execution_count": 28,
   "outputs": [
    {
     "name": "stderr",
     "output_type": "stream",
     "text": [
      "/var/folders/xg/8w_3dndd6l5c3n99vd7vd3f40000gn/T/ipykernel_7355/3868608344.py:2: SettingWithCopyWarning: \n",
      "A value is trying to be set on a copy of a slice from a DataFrame.\n",
      "Try using .loc[row_indexer,col_indexer] = value instead\n",
      "\n",
      "See the caveats in the documentation: https://pandas.pydata.org/pandas-docs/stable/user_guide/indexing.html#returning-a-view-versus-a-copy\n",
      "  data_75['weekdaylabel1_weekday'] = data_75['weekday'].apply(lambda x:(1 if\n",
      "/var/folders/xg/8w_3dndd6l5c3n99vd7vd3f40000gn/T/ipykernel_7355/3868608344.py:4: SettingWithCopyWarning: \n",
      "A value is trying to be set on a copy of a slice from a DataFrame.\n",
      "Try using .loc[row_indexer,col_indexer] = value instead\n",
      "\n",
      "See the caveats in the documentation: https://pandas.pydata.org/pandas-docs/stable/user_guide/indexing.html#returning-a-view-versus-a-copy\n",
      "  data_75['weekdaylabel1_weekend'] = data_75['weekday'].apply(lambda x:(1 if\n",
      "/var/folders/xg/8w_3dndd6l5c3n99vd7vd3f40000gn/T/ipykernel_7355/3868608344.py:7: SettingWithCopyWarning: \n",
      "A value is trying to be set on a copy of a slice from a DataFrame.\n",
      "Try using .loc[row_indexer,col_indexer] = value instead\n",
      "\n",
      "See the caveats in the documentation: https://pandas.pydata.org/pandas-docs/stable/user_guide/indexing.html#returning-a-view-versus-a-copy\n",
      "  data_75['weekdaylabel2_weekday'] = data_75['weekday'].apply(lambda x:(1 if\n",
      "/var/folders/xg/8w_3dndd6l5c3n99vd7vd3f40000gn/T/ipykernel_7355/3868608344.py:9: SettingWithCopyWarning: \n",
      "A value is trying to be set on a copy of a slice from a DataFrame.\n",
      "Try using .loc[row_indexer,col_indexer] = value instead\n",
      "\n",
      "See the caveats in the documentation: https://pandas.pydata.org/pandas-docs/stable/user_guide/indexing.html#returning-a-view-versus-a-copy\n",
      "  data_75['weekdaylabel2_friday'] = data_75['weekday'].apply(lambda x:(1 if\n",
      "/var/folders/xg/8w_3dndd6l5c3n99vd7vd3f40000gn/T/ipykernel_7355/3868608344.py:11: SettingWithCopyWarning: \n",
      "A value is trying to be set on a copy of a slice from a DataFrame.\n",
      "Try using .loc[row_indexer,col_indexer] = value instead\n",
      "\n",
      "See the caveats in the documentation: https://pandas.pydata.org/pandas-docs/stable/user_guide/indexing.html#returning-a-view-versus-a-copy\n",
      "  data_75['weekdaylabel2_weekend'] = data_75['weekday'].apply(lambda x:(1 if\n"
     ]
    },
    {
     "data": {
      "text/plain": "       DOLocationID  hour  Max_PULocationID Max_PULocationIDs  max_count  \\\n62              1.0   1.0             186.0             [186]        7.0   \n63              1.0   1.0             161.0   [161, 162, 230]        9.0   \n64              1.0   1.0             162.0   [161, 162, 230]        9.0   \n65              1.0   1.0             230.0   [161, 162, 230]        9.0   \n66              1.0   1.0             230.0             [230]       12.0   \n...             ...   ...               ...               ...        ...   \n94631         263.0   7.0             186.0             [186]       83.0   \n94632         263.0   7.0             263.0             [263]       89.0   \n94633         263.0   7.0             162.0             [162]       87.0   \n94634         263.0   7.0             161.0             [161]      101.0   \n94635         263.0   7.0             162.0             [162]       95.0   \n\n         datetime  weekdaylabel1_weekday  weekdaylabel1_weekend  \\\n62     2016-01-01                      1                      0   \n63     2016-01-02                      0                      1   \n64     2016-01-02                      0                      1   \n65     2016-01-02                      0                      1   \n66     2016-01-03                      0                      1   \n...           ...                    ...                    ...   \n94631  2016-06-26                      0                      1   \n94632  2016-06-27                      1                      0   \n94633  2016-06-28                      1                      0   \n94634  2016-06-29                      1                      0   \n94635  2016-06-30                      1                      0   \n\n       weekdaylabel2_weekday  weekdaylabel2_friday  weekdaylabel2_weekend  \n62                         0                     1                      0  \n63                         0                     0                      1  \n64                         0                     0                      1  \n65                         0                     0                      1  \n66                         0                     0                      1  \n...                      ...                   ...                    ...  \n94631                      0                     0                      1  \n94632                      1                     0                      0  \n94633                      1                     0                      0  \n94634                      1                     0                      0  \n94635                      1                     0                      0  \n\n[202253 rows x 11 columns]",
      "text/html": "<div>\n<style scoped>\n    .dataframe tbody tr th:only-of-type {\n        vertical-align: middle;\n    }\n\n    .dataframe tbody tr th {\n        vertical-align: top;\n    }\n\n    .dataframe thead th {\n        text-align: right;\n    }\n</style>\n<table border=\"1\" class=\"dataframe\">\n  <thead>\n    <tr style=\"text-align: right;\">\n      <th></th>\n      <th>DOLocationID</th>\n      <th>hour</th>\n      <th>Max_PULocationID</th>\n      <th>Max_PULocationIDs</th>\n      <th>max_count</th>\n      <th>datetime</th>\n      <th>weekdaylabel1_weekday</th>\n      <th>weekdaylabel1_weekend</th>\n      <th>weekdaylabel2_weekday</th>\n      <th>weekdaylabel2_friday</th>\n      <th>weekdaylabel2_weekend</th>\n    </tr>\n  </thead>\n  <tbody>\n    <tr>\n      <th>62</th>\n      <td>1.0</td>\n      <td>1.0</td>\n      <td>186.0</td>\n      <td>[186]</td>\n      <td>7.0</td>\n      <td>2016-01-01</td>\n      <td>1</td>\n      <td>0</td>\n      <td>0</td>\n      <td>1</td>\n      <td>0</td>\n    </tr>\n    <tr>\n      <th>63</th>\n      <td>1.0</td>\n      <td>1.0</td>\n      <td>161.0</td>\n      <td>[161, 162, 230]</td>\n      <td>9.0</td>\n      <td>2016-01-02</td>\n      <td>0</td>\n      <td>1</td>\n      <td>0</td>\n      <td>0</td>\n      <td>1</td>\n    </tr>\n    <tr>\n      <th>64</th>\n      <td>1.0</td>\n      <td>1.0</td>\n      <td>162.0</td>\n      <td>[161, 162, 230]</td>\n      <td>9.0</td>\n      <td>2016-01-02</td>\n      <td>0</td>\n      <td>1</td>\n      <td>0</td>\n      <td>0</td>\n      <td>1</td>\n    </tr>\n    <tr>\n      <th>65</th>\n      <td>1.0</td>\n      <td>1.0</td>\n      <td>230.0</td>\n      <td>[161, 162, 230]</td>\n      <td>9.0</td>\n      <td>2016-01-02</td>\n      <td>0</td>\n      <td>1</td>\n      <td>0</td>\n      <td>0</td>\n      <td>1</td>\n    </tr>\n    <tr>\n      <th>66</th>\n      <td>1.0</td>\n      <td>1.0</td>\n      <td>230.0</td>\n      <td>[230]</td>\n      <td>12.0</td>\n      <td>2016-01-03</td>\n      <td>0</td>\n      <td>1</td>\n      <td>0</td>\n      <td>0</td>\n      <td>1</td>\n    </tr>\n    <tr>\n      <th>...</th>\n      <td>...</td>\n      <td>...</td>\n      <td>...</td>\n      <td>...</td>\n      <td>...</td>\n      <td>...</td>\n      <td>...</td>\n      <td>...</td>\n      <td>...</td>\n      <td>...</td>\n      <td>...</td>\n    </tr>\n    <tr>\n      <th>94631</th>\n      <td>263.0</td>\n      <td>7.0</td>\n      <td>186.0</td>\n      <td>[186]</td>\n      <td>83.0</td>\n      <td>2016-06-26</td>\n      <td>0</td>\n      <td>1</td>\n      <td>0</td>\n      <td>0</td>\n      <td>1</td>\n    </tr>\n    <tr>\n      <th>94632</th>\n      <td>263.0</td>\n      <td>7.0</td>\n      <td>263.0</td>\n      <td>[263]</td>\n      <td>89.0</td>\n      <td>2016-06-27</td>\n      <td>1</td>\n      <td>0</td>\n      <td>1</td>\n      <td>0</td>\n      <td>0</td>\n    </tr>\n    <tr>\n      <th>94633</th>\n      <td>263.0</td>\n      <td>7.0</td>\n      <td>162.0</td>\n      <td>[162]</td>\n      <td>87.0</td>\n      <td>2016-06-28</td>\n      <td>1</td>\n      <td>0</td>\n      <td>1</td>\n      <td>0</td>\n      <td>0</td>\n    </tr>\n    <tr>\n      <th>94634</th>\n      <td>263.0</td>\n      <td>7.0</td>\n      <td>161.0</td>\n      <td>[161]</td>\n      <td>101.0</td>\n      <td>2016-06-29</td>\n      <td>1</td>\n      <td>0</td>\n      <td>1</td>\n      <td>0</td>\n      <td>0</td>\n    </tr>\n    <tr>\n      <th>94635</th>\n      <td>263.0</td>\n      <td>7.0</td>\n      <td>162.0</td>\n      <td>[162]</td>\n      <td>95.0</td>\n      <td>2016-06-30</td>\n      <td>1</td>\n      <td>0</td>\n      <td>1</td>\n      <td>0</td>\n      <td>0</td>\n    </tr>\n  </tbody>\n</table>\n<p>202253 rows × 11 columns</p>\n</div>"
     },
     "execution_count": 28,
     "metadata": {},
     "output_type": "execute_result"
    }
   ],
   "source": [
    "# create weekday labels (one hot encoded)\n",
    "data_75['weekdaylabel1_weekday'] = data_75['weekday'].apply(lambda x:(1 if\n",
    "                                                                x in [0, 1, 2, 3, 4] else 0))\n",
    "data_75['weekdaylabel1_weekend'] = data_75['weekday'].apply(lambda x:(1 if\n",
    "                                                                x in [5, 6] else 0))\n",
    "\n",
    "data_75['weekdaylabel2_weekday'] = data_75['weekday'].apply(lambda x:(1 if\n",
    "                                                                x in [0, 1, 2, 3] else 0))\n",
    "data_75['weekdaylabel2_friday'] = data_75['weekday'].apply(lambda x:(1 if\n",
    "                                                                x in [4] else 0))\n",
    "data_75['weekdaylabel2_weekend'] = data_75['weekday'].apply(lambda x:(1 if\n",
    "                                                                x in [5, 6] else 0))\n",
    "\n",
    "data_75 = data_75.drop(['weekday'], axis = 1)\n",
    "\n",
    "data_75"
   ],
   "metadata": {
    "collapsed": false,
    "pycharm": {
     "name": "#%%\n"
    }
   }
  },
  {
   "cell_type": "markdown",
   "source": [
    "# Join up preprocessed external datasets with preprocessed taxi dataset"
   ],
   "metadata": {
    "collapsed": false,
    "pycharm": {
     "name": "#%% md\n"
    }
   }
  },
  {
   "cell_type": "code",
   "execution_count": 29,
   "outputs": [],
   "source": [
    "data_75['datetime'] = pd.to_datetime(data_75['datetime']).dt.date\n",
    "\n",
    "# merge weather data\n",
    "joined_data_75 = data_75.merge(weather_data, on = 'datetime', how = 'inner')"
   ],
   "metadata": {
    "collapsed": false,
    "pycharm": {
     "name": "#%%\n"
    }
   }
  },
  {
   "cell_type": "code",
   "execution_count": 30,
   "outputs": [],
   "source": [
    "# merge holiday data\n",
    "joined_data_75 = joined_data_75.merge(holiday_data1, on = 'datetime', how='left')\n",
    "# merge holiday data 2\n",
    "joined_data_75 = joined_data_75.merge(holiday_data2, on = 'datetime', how='left')"
   ],
   "metadata": {
    "collapsed": false,
    "pycharm": {
     "name": "#%%\n"
    }
   }
  },
  {
   "cell_type": "code",
   "execution_count": 31,
   "outputs": [],
   "source": [
    "joined_data_75 = joined_data_75.replace(np.nan, 0)"
   ],
   "metadata": {
    "collapsed": false,
    "pycharm": {
     "name": "#%%\n"
    }
   }
  },
  {
   "cell_type": "code",
   "execution_count": 32,
   "outputs": [
    {
     "data": {
      "text/plain": "        DOLocationID  hour  Max_PULocationID Max_PULocationIDs  max_count  \\\n0                1.0   1.0             186.0             [186]        7.0   \n1                1.0   2.0             161.0        [161, 230]        9.0   \n2                1.0   2.0             230.0        [161, 230]        9.0   \n3                1.0   3.0             186.0        [186, 230]       12.0   \n4                1.0   3.0             230.0        [186, 230]       12.0   \n...              ...   ...               ...               ...        ...   \n202248         263.0   3.0             236.0             [236]      114.0   \n202249         263.0   4.0             236.0             [236]      134.0   \n202250         263.0   5.0             236.0             [236]      124.0   \n202251         263.0   6.0             236.0             [236]      194.0   \n202252         263.0   7.0             141.0             [141]       91.0   \n\n          datetime  weekdaylabel1_weekday  weekdaylabel1_weekend  \\\n0       2016-01-01                      1                      0   \n1       2016-01-01                      1                      0   \n2       2016-01-01                      1                      0   \n3       2016-01-01                      1                      0   \n4       2016-01-01                      1                      0   \n...            ...                    ...                    ...   \n202248  2016-06-04                      0                      1   \n202249  2016-06-04                      0                      1   \n202250  2016-06-04                      0                      1   \n202251  2016-06-04                      0                      1   \n202252  2016-06-04                      0                      1   \n\n        weekdaylabel2_weekday  weekdaylabel2_friday  ...  \\\n0                           0                     1  ...   \n1                           0                     1  ...   \n2                           0                     1  ...   \n3                           0                     1  ...   \n4                           0                     1  ...   \n...                       ...                   ...  ...   \n202248                      0                     0  ...   \n202249                      0                     0  ...   \n202250                      0                     0  ...   \n202251                      0                     0  ...   \n202252                      0                     0  ...   \n\n        conditions_Partially cloudy  conditions_Rain  \\\n0                               1.0              0.0   \n1                               1.0              0.0   \n2                               1.0              0.0   \n3                               1.0              0.0   \n4                               1.0              0.0   \n...                             ...              ...   \n202248                          0.0              0.0   \n202249                          0.0              0.0   \n202250                          0.0              0.0   \n202251                          0.0              0.0   \n202252                          0.0              0.0   \n\n        conditions_Rain, Overcast  conditions_Rain, Partially cloudy  \\\n0                             0.0                                0.0   \n1                             0.0                                0.0   \n2                             0.0                                0.0   \n3                             0.0                                0.0   \n4                             0.0                                0.0   \n...                           ...                                ...   \n202248                        0.0                                1.0   \n202249                        0.0                                1.0   \n202250                        0.0                                1.0   \n202251                        0.0                                1.0   \n202252                        0.0                                1.0   \n\n        conditions_Snow, Partially cloudy  conditions_Snow, Rain  \\\n0                                     0.0                    0.0   \n1                                     0.0                    0.0   \n2                                     0.0                    0.0   \n3                                     0.0                    0.0   \n4                                     0.0                    0.0   \n...                                   ...                    ...   \n202248                                0.0                    0.0   \n202249                                0.0                    0.0   \n202250                                0.0                    0.0   \n202251                                0.0                    0.0   \n202252                                0.0                    0.0   \n\n        conditions_Snow, Rain, Overcast  \\\n0                                   0.0   \n1                                   0.0   \n2                                   0.0   \n3                                   0.0   \n4                                   0.0   \n...                                 ...   \n202248                              0.0   \n202249                              0.0   \n202250                              0.0   \n202251                              0.0   \n202252                              0.0   \n\n        conditions_Snow, Rain, Partially cloudy  holiday1  holiday2  \n0                                           0.0       1.0       1.0  \n1                                           0.0       1.0       1.0  \n2                                           0.0       1.0       1.0  \n3                                           0.0       1.0       1.0  \n4                                           0.0       1.0       1.0  \n...                                         ...       ...       ...  \n202248                                      0.0       0.0       0.0  \n202249                                      0.0       0.0       0.0  \n202250                                      0.0       0.0       0.0  \n202251                                      0.0       0.0       0.0  \n202252                                      0.0       0.0       0.0  \n\n[202253 rows x 52 columns]",
      "text/html": "<div>\n<style scoped>\n    .dataframe tbody tr th:only-of-type {\n        vertical-align: middle;\n    }\n\n    .dataframe tbody tr th {\n        vertical-align: top;\n    }\n\n    .dataframe thead th {\n        text-align: right;\n    }\n</style>\n<table border=\"1\" class=\"dataframe\">\n  <thead>\n    <tr style=\"text-align: right;\">\n      <th></th>\n      <th>DOLocationID</th>\n      <th>hour</th>\n      <th>Max_PULocationID</th>\n      <th>Max_PULocationIDs</th>\n      <th>max_count</th>\n      <th>datetime</th>\n      <th>weekdaylabel1_weekday</th>\n      <th>weekdaylabel1_weekend</th>\n      <th>weekdaylabel2_weekday</th>\n      <th>weekdaylabel2_friday</th>\n      <th>...</th>\n      <th>conditions_Partially cloudy</th>\n      <th>conditions_Rain</th>\n      <th>conditions_Rain, Overcast</th>\n      <th>conditions_Rain, Partially cloudy</th>\n      <th>conditions_Snow, Partially cloudy</th>\n      <th>conditions_Snow, Rain</th>\n      <th>conditions_Snow, Rain, Overcast</th>\n      <th>conditions_Snow, Rain, Partially cloudy</th>\n      <th>holiday1</th>\n      <th>holiday2</th>\n    </tr>\n  </thead>\n  <tbody>\n    <tr>\n      <th>0</th>\n      <td>1.0</td>\n      <td>1.0</td>\n      <td>186.0</td>\n      <td>[186]</td>\n      <td>7.0</td>\n      <td>2016-01-01</td>\n      <td>1</td>\n      <td>0</td>\n      <td>0</td>\n      <td>1</td>\n      <td>...</td>\n      <td>1.0</td>\n      <td>0.0</td>\n      <td>0.0</td>\n      <td>0.0</td>\n      <td>0.0</td>\n      <td>0.0</td>\n      <td>0.0</td>\n      <td>0.0</td>\n      <td>1.0</td>\n      <td>1.0</td>\n    </tr>\n    <tr>\n      <th>1</th>\n      <td>1.0</td>\n      <td>2.0</td>\n      <td>161.0</td>\n      <td>[161, 230]</td>\n      <td>9.0</td>\n      <td>2016-01-01</td>\n      <td>1</td>\n      <td>0</td>\n      <td>0</td>\n      <td>1</td>\n      <td>...</td>\n      <td>1.0</td>\n      <td>0.0</td>\n      <td>0.0</td>\n      <td>0.0</td>\n      <td>0.0</td>\n      <td>0.0</td>\n      <td>0.0</td>\n      <td>0.0</td>\n      <td>1.0</td>\n      <td>1.0</td>\n    </tr>\n    <tr>\n      <th>2</th>\n      <td>1.0</td>\n      <td>2.0</td>\n      <td>230.0</td>\n      <td>[161, 230]</td>\n      <td>9.0</td>\n      <td>2016-01-01</td>\n      <td>1</td>\n      <td>0</td>\n      <td>0</td>\n      <td>1</td>\n      <td>...</td>\n      <td>1.0</td>\n      <td>0.0</td>\n      <td>0.0</td>\n      <td>0.0</td>\n      <td>0.0</td>\n      <td>0.0</td>\n      <td>0.0</td>\n      <td>0.0</td>\n      <td>1.0</td>\n      <td>1.0</td>\n    </tr>\n    <tr>\n      <th>3</th>\n      <td>1.0</td>\n      <td>3.0</td>\n      <td>186.0</td>\n      <td>[186, 230]</td>\n      <td>12.0</td>\n      <td>2016-01-01</td>\n      <td>1</td>\n      <td>0</td>\n      <td>0</td>\n      <td>1</td>\n      <td>...</td>\n      <td>1.0</td>\n      <td>0.0</td>\n      <td>0.0</td>\n      <td>0.0</td>\n      <td>0.0</td>\n      <td>0.0</td>\n      <td>0.0</td>\n      <td>0.0</td>\n      <td>1.0</td>\n      <td>1.0</td>\n    </tr>\n    <tr>\n      <th>4</th>\n      <td>1.0</td>\n      <td>3.0</td>\n      <td>230.0</td>\n      <td>[186, 230]</td>\n      <td>12.0</td>\n      <td>2016-01-01</td>\n      <td>1</td>\n      <td>0</td>\n      <td>0</td>\n      <td>1</td>\n      <td>...</td>\n      <td>1.0</td>\n      <td>0.0</td>\n      <td>0.0</td>\n      <td>0.0</td>\n      <td>0.0</td>\n      <td>0.0</td>\n      <td>0.0</td>\n      <td>0.0</td>\n      <td>1.0</td>\n      <td>1.0</td>\n    </tr>\n    <tr>\n      <th>...</th>\n      <td>...</td>\n      <td>...</td>\n      <td>...</td>\n      <td>...</td>\n      <td>...</td>\n      <td>...</td>\n      <td>...</td>\n      <td>...</td>\n      <td>...</td>\n      <td>...</td>\n      <td>...</td>\n      <td>...</td>\n      <td>...</td>\n      <td>...</td>\n      <td>...</td>\n      <td>...</td>\n      <td>...</td>\n      <td>...</td>\n      <td>...</td>\n      <td>...</td>\n      <td>...</td>\n    </tr>\n    <tr>\n      <th>202248</th>\n      <td>263.0</td>\n      <td>3.0</td>\n      <td>236.0</td>\n      <td>[236]</td>\n      <td>114.0</td>\n      <td>2016-06-04</td>\n      <td>0</td>\n      <td>1</td>\n      <td>0</td>\n      <td>0</td>\n      <td>...</td>\n      <td>0.0</td>\n      <td>0.0</td>\n      <td>0.0</td>\n      <td>1.0</td>\n      <td>0.0</td>\n      <td>0.0</td>\n      <td>0.0</td>\n      <td>0.0</td>\n      <td>0.0</td>\n      <td>0.0</td>\n    </tr>\n    <tr>\n      <th>202249</th>\n      <td>263.0</td>\n      <td>4.0</td>\n      <td>236.0</td>\n      <td>[236]</td>\n      <td>134.0</td>\n      <td>2016-06-04</td>\n      <td>0</td>\n      <td>1</td>\n      <td>0</td>\n      <td>0</td>\n      <td>...</td>\n      <td>0.0</td>\n      <td>0.0</td>\n      <td>0.0</td>\n      <td>1.0</td>\n      <td>0.0</td>\n      <td>0.0</td>\n      <td>0.0</td>\n      <td>0.0</td>\n      <td>0.0</td>\n      <td>0.0</td>\n    </tr>\n    <tr>\n      <th>202250</th>\n      <td>263.0</td>\n      <td>5.0</td>\n      <td>236.0</td>\n      <td>[236]</td>\n      <td>124.0</td>\n      <td>2016-06-04</td>\n      <td>0</td>\n      <td>1</td>\n      <td>0</td>\n      <td>0</td>\n      <td>...</td>\n      <td>0.0</td>\n      <td>0.0</td>\n      <td>0.0</td>\n      <td>1.0</td>\n      <td>0.0</td>\n      <td>0.0</td>\n      <td>0.0</td>\n      <td>0.0</td>\n      <td>0.0</td>\n      <td>0.0</td>\n    </tr>\n    <tr>\n      <th>202251</th>\n      <td>263.0</td>\n      <td>6.0</td>\n      <td>236.0</td>\n      <td>[236]</td>\n      <td>194.0</td>\n      <td>2016-06-04</td>\n      <td>0</td>\n      <td>1</td>\n      <td>0</td>\n      <td>0</td>\n      <td>...</td>\n      <td>0.0</td>\n      <td>0.0</td>\n      <td>0.0</td>\n      <td>1.0</td>\n      <td>0.0</td>\n      <td>0.0</td>\n      <td>0.0</td>\n      <td>0.0</td>\n      <td>0.0</td>\n      <td>0.0</td>\n    </tr>\n    <tr>\n      <th>202252</th>\n      <td>263.0</td>\n      <td>7.0</td>\n      <td>141.0</td>\n      <td>[141]</td>\n      <td>91.0</td>\n      <td>2016-06-04</td>\n      <td>0</td>\n      <td>1</td>\n      <td>0</td>\n      <td>0</td>\n      <td>...</td>\n      <td>0.0</td>\n      <td>0.0</td>\n      <td>0.0</td>\n      <td>1.0</td>\n      <td>0.0</td>\n      <td>0.0</td>\n      <td>0.0</td>\n      <td>0.0</td>\n      <td>0.0</td>\n      <td>0.0</td>\n    </tr>\n  </tbody>\n</table>\n<p>202253 rows × 52 columns</p>\n</div>"
     },
     "execution_count": 32,
     "metadata": {},
     "output_type": "execute_result"
    }
   ],
   "source": [
    "joined_data_75"
   ],
   "metadata": {
    "collapsed": false,
    "pycharm": {
     "name": "#%%\n"
    }
   }
  },
  {
   "cell_type": "markdown",
   "source": [
    "# One Hot Encode 3 Hour Block (from Original Data)"
   ],
   "metadata": {
    "collapsed": false
   }
  },
  {
   "cell_type": "code",
   "execution_count": 33,
   "outputs": [
    {
     "data": {
      "text/plain": "        DOLocationID  Max_PULocationID Max_PULocationIDs  max_count  \\\n0                1.0             186.0             [186]        7.0   \n1                1.0             161.0        [161, 230]        9.0   \n2                1.0             230.0        [161, 230]        9.0   \n3                1.0             186.0        [186, 230]       12.0   \n4                1.0             230.0        [186, 230]       12.0   \n...              ...               ...               ...        ...   \n202248         263.0             236.0             [236]      114.0   \n202249         263.0             236.0             [236]      134.0   \n202250         263.0             236.0             [236]      124.0   \n202251         263.0             236.0             [236]      194.0   \n202252         263.0             141.0             [141]       91.0   \n\n          datetime  weekdaylabel1_weekday  weekdaylabel1_weekend  \\\n0       2016-01-01                      1                      0   \n1       2016-01-01                      1                      0   \n2       2016-01-01                      1                      0   \n3       2016-01-01                      1                      0   \n4       2016-01-01                      1                      0   \n...            ...                    ...                    ...   \n202248  2016-06-04                      0                      1   \n202249  2016-06-04                      0                      1   \n202250  2016-06-04                      0                      1   \n202251  2016-06-04                      0                      1   \n202252  2016-06-04                      0                      1   \n\n        weekdaylabel2_weekday  weekdaylabel2_friday  weekdaylabel2_weekend  \\\n0                           0                     1                      0   \n1                           0                     1                      0   \n2                           0                     1                      0   \n3                           0                     1                      0   \n4                           0                     1                      0   \n...                       ...                   ...                    ...   \n202248                      0                     0                      1   \n202249                      0                     0                      1   \n202250                      0                     0                      1   \n202251                      0                     0                      1   \n202252                      0                     0                      1   \n\n        ...  holiday1  holiday2  hour_0.0  hour_1.0  hour_2.0  hour_3.0  \\\n0       ...       1.0       1.0       0.0       1.0       0.0       0.0   \n1       ...       1.0       1.0       0.0       0.0       1.0       0.0   \n2       ...       1.0       1.0       0.0       0.0       1.0       0.0   \n3       ...       1.0       1.0       0.0       0.0       0.0       1.0   \n4       ...       1.0       1.0       0.0       0.0       0.0       1.0   \n...     ...       ...       ...       ...       ...       ...       ...   \n202248  ...       0.0       0.0       0.0       0.0       0.0       1.0   \n202249  ...       0.0       0.0       0.0       0.0       0.0       0.0   \n202250  ...       0.0       0.0       0.0       0.0       0.0       0.0   \n202251  ...       0.0       0.0       0.0       0.0       0.0       0.0   \n202252  ...       0.0       0.0       0.0       0.0       0.0       0.0   \n\n        hour_4.0  hour_5.0  hour_6.0  hour_7.0  \n0            0.0       0.0       0.0       0.0  \n1            0.0       0.0       0.0       0.0  \n2            0.0       0.0       0.0       0.0  \n3            0.0       0.0       0.0       0.0  \n4            0.0       0.0       0.0       0.0  \n...          ...       ...       ...       ...  \n202248       0.0       0.0       0.0       0.0  \n202249       1.0       0.0       0.0       0.0  \n202250       0.0       1.0       0.0       0.0  \n202251       0.0       0.0       1.0       0.0  \n202252       0.0       0.0       0.0       1.0  \n\n[202253 rows x 59 columns]",
      "text/html": "<div>\n<style scoped>\n    .dataframe tbody tr th:only-of-type {\n        vertical-align: middle;\n    }\n\n    .dataframe tbody tr th {\n        vertical-align: top;\n    }\n\n    .dataframe thead th {\n        text-align: right;\n    }\n</style>\n<table border=\"1\" class=\"dataframe\">\n  <thead>\n    <tr style=\"text-align: right;\">\n      <th></th>\n      <th>DOLocationID</th>\n      <th>Max_PULocationID</th>\n      <th>Max_PULocationIDs</th>\n      <th>max_count</th>\n      <th>datetime</th>\n      <th>weekdaylabel1_weekday</th>\n      <th>weekdaylabel1_weekend</th>\n      <th>weekdaylabel2_weekday</th>\n      <th>weekdaylabel2_friday</th>\n      <th>weekdaylabel2_weekend</th>\n      <th>...</th>\n      <th>holiday1</th>\n      <th>holiday2</th>\n      <th>hour_0.0</th>\n      <th>hour_1.0</th>\n      <th>hour_2.0</th>\n      <th>hour_3.0</th>\n      <th>hour_4.0</th>\n      <th>hour_5.0</th>\n      <th>hour_6.0</th>\n      <th>hour_7.0</th>\n    </tr>\n  </thead>\n  <tbody>\n    <tr>\n      <th>0</th>\n      <td>1.0</td>\n      <td>186.0</td>\n      <td>[186]</td>\n      <td>7.0</td>\n      <td>2016-01-01</td>\n      <td>1</td>\n      <td>0</td>\n      <td>0</td>\n      <td>1</td>\n      <td>0</td>\n      <td>...</td>\n      <td>1.0</td>\n      <td>1.0</td>\n      <td>0.0</td>\n      <td>1.0</td>\n      <td>0.0</td>\n      <td>0.0</td>\n      <td>0.0</td>\n      <td>0.0</td>\n      <td>0.0</td>\n      <td>0.0</td>\n    </tr>\n    <tr>\n      <th>1</th>\n      <td>1.0</td>\n      <td>161.0</td>\n      <td>[161, 230]</td>\n      <td>9.0</td>\n      <td>2016-01-01</td>\n      <td>1</td>\n      <td>0</td>\n      <td>0</td>\n      <td>1</td>\n      <td>0</td>\n      <td>...</td>\n      <td>1.0</td>\n      <td>1.0</td>\n      <td>0.0</td>\n      <td>0.0</td>\n      <td>1.0</td>\n      <td>0.0</td>\n      <td>0.0</td>\n      <td>0.0</td>\n      <td>0.0</td>\n      <td>0.0</td>\n    </tr>\n    <tr>\n      <th>2</th>\n      <td>1.0</td>\n      <td>230.0</td>\n      <td>[161, 230]</td>\n      <td>9.0</td>\n      <td>2016-01-01</td>\n      <td>1</td>\n      <td>0</td>\n      <td>0</td>\n      <td>1</td>\n      <td>0</td>\n      <td>...</td>\n      <td>1.0</td>\n      <td>1.0</td>\n      <td>0.0</td>\n      <td>0.0</td>\n      <td>1.0</td>\n      <td>0.0</td>\n      <td>0.0</td>\n      <td>0.0</td>\n      <td>0.0</td>\n      <td>0.0</td>\n    </tr>\n    <tr>\n      <th>3</th>\n      <td>1.0</td>\n      <td>186.0</td>\n      <td>[186, 230]</td>\n      <td>12.0</td>\n      <td>2016-01-01</td>\n      <td>1</td>\n      <td>0</td>\n      <td>0</td>\n      <td>1</td>\n      <td>0</td>\n      <td>...</td>\n      <td>1.0</td>\n      <td>1.0</td>\n      <td>0.0</td>\n      <td>0.0</td>\n      <td>0.0</td>\n      <td>1.0</td>\n      <td>0.0</td>\n      <td>0.0</td>\n      <td>0.0</td>\n      <td>0.0</td>\n    </tr>\n    <tr>\n      <th>4</th>\n      <td>1.0</td>\n      <td>230.0</td>\n      <td>[186, 230]</td>\n      <td>12.0</td>\n      <td>2016-01-01</td>\n      <td>1</td>\n      <td>0</td>\n      <td>0</td>\n      <td>1</td>\n      <td>0</td>\n      <td>...</td>\n      <td>1.0</td>\n      <td>1.0</td>\n      <td>0.0</td>\n      <td>0.0</td>\n      <td>0.0</td>\n      <td>1.0</td>\n      <td>0.0</td>\n      <td>0.0</td>\n      <td>0.0</td>\n      <td>0.0</td>\n    </tr>\n    <tr>\n      <th>...</th>\n      <td>...</td>\n      <td>...</td>\n      <td>...</td>\n      <td>...</td>\n      <td>...</td>\n      <td>...</td>\n      <td>...</td>\n      <td>...</td>\n      <td>...</td>\n      <td>...</td>\n      <td>...</td>\n      <td>...</td>\n      <td>...</td>\n      <td>...</td>\n      <td>...</td>\n      <td>...</td>\n      <td>...</td>\n      <td>...</td>\n      <td>...</td>\n      <td>...</td>\n      <td>...</td>\n    </tr>\n    <tr>\n      <th>202248</th>\n      <td>263.0</td>\n      <td>236.0</td>\n      <td>[236]</td>\n      <td>114.0</td>\n      <td>2016-06-04</td>\n      <td>0</td>\n      <td>1</td>\n      <td>0</td>\n      <td>0</td>\n      <td>1</td>\n      <td>...</td>\n      <td>0.0</td>\n      <td>0.0</td>\n      <td>0.0</td>\n      <td>0.0</td>\n      <td>0.0</td>\n      <td>1.0</td>\n      <td>0.0</td>\n      <td>0.0</td>\n      <td>0.0</td>\n      <td>0.0</td>\n    </tr>\n    <tr>\n      <th>202249</th>\n      <td>263.0</td>\n      <td>236.0</td>\n      <td>[236]</td>\n      <td>134.0</td>\n      <td>2016-06-04</td>\n      <td>0</td>\n      <td>1</td>\n      <td>0</td>\n      <td>0</td>\n      <td>1</td>\n      <td>...</td>\n      <td>0.0</td>\n      <td>0.0</td>\n      <td>0.0</td>\n      <td>0.0</td>\n      <td>0.0</td>\n      <td>0.0</td>\n      <td>1.0</td>\n      <td>0.0</td>\n      <td>0.0</td>\n      <td>0.0</td>\n    </tr>\n    <tr>\n      <th>202250</th>\n      <td>263.0</td>\n      <td>236.0</td>\n      <td>[236]</td>\n      <td>124.0</td>\n      <td>2016-06-04</td>\n      <td>0</td>\n      <td>1</td>\n      <td>0</td>\n      <td>0</td>\n      <td>1</td>\n      <td>...</td>\n      <td>0.0</td>\n      <td>0.0</td>\n      <td>0.0</td>\n      <td>0.0</td>\n      <td>0.0</td>\n      <td>0.0</td>\n      <td>0.0</td>\n      <td>1.0</td>\n      <td>0.0</td>\n      <td>0.0</td>\n    </tr>\n    <tr>\n      <th>202251</th>\n      <td>263.0</td>\n      <td>236.0</td>\n      <td>[236]</td>\n      <td>194.0</td>\n      <td>2016-06-04</td>\n      <td>0</td>\n      <td>1</td>\n      <td>0</td>\n      <td>0</td>\n      <td>1</td>\n      <td>...</td>\n      <td>0.0</td>\n      <td>0.0</td>\n      <td>0.0</td>\n      <td>0.0</td>\n      <td>0.0</td>\n      <td>0.0</td>\n      <td>0.0</td>\n      <td>0.0</td>\n      <td>1.0</td>\n      <td>0.0</td>\n    </tr>\n    <tr>\n      <th>202252</th>\n      <td>263.0</td>\n      <td>141.0</td>\n      <td>[141]</td>\n      <td>91.0</td>\n      <td>2016-06-04</td>\n      <td>0</td>\n      <td>1</td>\n      <td>0</td>\n      <td>0</td>\n      <td>1</td>\n      <td>...</td>\n      <td>0.0</td>\n      <td>0.0</td>\n      <td>0.0</td>\n      <td>0.0</td>\n      <td>0.0</td>\n      <td>0.0</td>\n      <td>0.0</td>\n      <td>0.0</td>\n      <td>0.0</td>\n      <td>1.0</td>\n    </tr>\n  </tbody>\n</table>\n<p>202253 rows × 59 columns</p>\n</div>"
     },
     "execution_count": 33,
     "metadata": {},
     "output_type": "execute_result"
    }
   ],
   "source": [
    "ohe = OneHotEncoder(handle_unknown='ignore')\n",
    "\n",
    "joined_to_ohe = joined_data_75[['hour']]\n",
    "joined_ohe = ohe.fit_transform(joined_to_ohe).toarray()\n",
    "\n",
    "joined_ohe = pd.DataFrame(joined_ohe, columns=list(ohe.get_feature_names_out(['hour'])))\n",
    "\n",
    "joined_data_75 = joined_data_75.drop(['hour'], axis=1)\n",
    "\n",
    "for col in joined_ohe.columns:\n",
    "    new_col = joined_ohe[col]\n",
    "    new_col.index = range(len(new_col))\n",
    "\n",
    "    joined_data_75[str(col)] = new_col\n",
    "\n",
    "joined_data_75"
   ],
   "metadata": {
    "collapsed": false,
    "pycharm": {
     "name": "#%%\n"
    }
   }
  },
  {
   "cell_type": "markdown",
   "source": [
    "# Train Test Split"
   ],
   "metadata": {
    "collapsed": false
   }
  },
  {
   "cell_type": "code",
   "execution_count": 34,
   "outputs": [],
   "source": [
    "# Train: between Jan01 and May10\n",
    "Train = joined_data_75[joined_data_75['datetime'] <=\n",
    "                       datetime.date(year=2016, month=5, day=10)]\n",
    "\n",
    "# Val: between May11 and Jun5\n",
    "Validate = joined_data_75[(joined_data_75['datetime'] >=\n",
    "                           datetime.date(year=2016, month=5, day=11)) &\n",
    "                          (joined_data_75['datetime'] <=\n",
    "                           datetime.date(year=2016, month=6, day=5))]\n",
    "\n",
    "# Test: between Jun6 and Jun30\n",
    "Test =joined_data_75[(joined_data_75['datetime'] >=\n",
    "                      datetime.date(year=2016, month=6, day=6)) &\n",
    "                     ((joined_data_75['datetime'] <=\n",
    "                       datetime.date(year=2016, month=6, day=30)))]"
   ],
   "metadata": {
    "collapsed": false,
    "pycharm": {
     "name": "#%%\n"
    }
   }
  },
  {
   "cell_type": "code",
   "execution_count": 35,
   "outputs": [
    {
     "data": {
      "text/plain": "        DOLocationID  Max_PULocationID Max_PULocationIDs  max_count  \\\n0                1.0             186.0             [186]        7.0   \n815            181.0             181.0             [181]       82.0   \n814            181.0             181.0             [181]       49.0   \n813            181.0             181.0             [181]       25.0   \n812            181.0             181.0             [181]       25.0   \n...              ...               ...               ...        ...   \n143776         197.0             132.0             [132]        8.0   \n143775         197.0              95.0              [95]        6.0   \n143774         197.0             132.0             [132]        6.0   \n143788         202.0               7.0               [7]        5.0   \n143571         148.0             234.0             [234]       26.0   \n\n          datetime  weekdaylabel1_weekday  weekdaylabel1_weekend  \\\n0       2016-01-01                      1                      0   \n815     2016-01-01                      1                      0   \n814     2016-01-01                      1                      0   \n813     2016-01-01                      1                      0   \n812     2016-01-01                      1                      0   \n...            ...                    ...                    ...   \n143776  2016-05-10                      1                      0   \n143775  2016-05-10                      1                      0   \n143774  2016-05-10                      1                      0   \n143788  2016-05-10                      1                      0   \n143571  2016-05-10                      1                      0   \n\n        weekdaylabel2_weekday  weekdaylabel2_friday  weekdaylabel2_weekend  \\\n0                           0                     1                      0   \n815                         0                     1                      0   \n814                         0                     1                      0   \n813                         0                     1                      0   \n812                         0                     1                      0   \n...                       ...                   ...                    ...   \n143776                      1                     0                      0   \n143775                      1                     0                      0   \n143774                      1                     0                      0   \n143788                      1                     0                      0   \n143571                      1                     0                      0   \n\n        ...  holiday1  holiday2  hour_0.0  hour_1.0  hour_2.0  hour_3.0  \\\n0       ...       1.0       1.0       0.0       1.0       0.0       0.0   \n815     ...       1.0       1.0       0.0       0.0       0.0       0.0   \n814     ...       1.0       1.0       0.0       0.0       0.0       0.0   \n813     ...       1.0       1.0       0.0       0.0       0.0       0.0   \n812     ...       1.0       1.0       0.0       0.0       0.0       1.0   \n...     ...       ...       ...       ...       ...       ...       ...   \n143776  ...       0.0       0.0       0.0       0.0       0.0       0.0   \n143775  ...       0.0       0.0       0.0       0.0       0.0       0.0   \n143774  ...       0.0       0.0       0.0       0.0       0.0       1.0   \n143788  ...       0.0       0.0       0.0       0.0       0.0       0.0   \n143571  ...       0.0       0.0       0.0       0.0       0.0       0.0   \n\n        hour_4.0  hour_5.0  hour_6.0  hour_7.0  \n0            0.0       0.0       0.0       0.0  \n815          0.0       0.0       1.0       0.0  \n814          0.0       1.0       0.0       0.0  \n813          1.0       0.0       0.0       0.0  \n812          0.0       0.0       0.0       0.0  \n...          ...       ...       ...       ...  \n143776       0.0       1.0       0.0       0.0  \n143775       1.0       0.0       0.0       0.0  \n143774       0.0       0.0       0.0       0.0  \n143788       1.0       0.0       0.0       0.0  \n143571       0.0       1.0       0.0       0.0  \n\n[145251 rows x 59 columns]",
      "text/html": "<div>\n<style scoped>\n    .dataframe tbody tr th:only-of-type {\n        vertical-align: middle;\n    }\n\n    .dataframe tbody tr th {\n        vertical-align: top;\n    }\n\n    .dataframe thead th {\n        text-align: right;\n    }\n</style>\n<table border=\"1\" class=\"dataframe\">\n  <thead>\n    <tr style=\"text-align: right;\">\n      <th></th>\n      <th>DOLocationID</th>\n      <th>Max_PULocationID</th>\n      <th>Max_PULocationIDs</th>\n      <th>max_count</th>\n      <th>datetime</th>\n      <th>weekdaylabel1_weekday</th>\n      <th>weekdaylabel1_weekend</th>\n      <th>weekdaylabel2_weekday</th>\n      <th>weekdaylabel2_friday</th>\n      <th>weekdaylabel2_weekend</th>\n      <th>...</th>\n      <th>holiday1</th>\n      <th>holiday2</th>\n      <th>hour_0.0</th>\n      <th>hour_1.0</th>\n      <th>hour_2.0</th>\n      <th>hour_3.0</th>\n      <th>hour_4.0</th>\n      <th>hour_5.0</th>\n      <th>hour_6.0</th>\n      <th>hour_7.0</th>\n    </tr>\n  </thead>\n  <tbody>\n    <tr>\n      <th>0</th>\n      <td>1.0</td>\n      <td>186.0</td>\n      <td>[186]</td>\n      <td>7.0</td>\n      <td>2016-01-01</td>\n      <td>1</td>\n      <td>0</td>\n      <td>0</td>\n      <td>1</td>\n      <td>0</td>\n      <td>...</td>\n      <td>1.0</td>\n      <td>1.0</td>\n      <td>0.0</td>\n      <td>1.0</td>\n      <td>0.0</td>\n      <td>0.0</td>\n      <td>0.0</td>\n      <td>0.0</td>\n      <td>0.0</td>\n      <td>0.0</td>\n    </tr>\n    <tr>\n      <th>815</th>\n      <td>181.0</td>\n      <td>181.0</td>\n      <td>[181]</td>\n      <td>82.0</td>\n      <td>2016-01-01</td>\n      <td>1</td>\n      <td>0</td>\n      <td>0</td>\n      <td>1</td>\n      <td>0</td>\n      <td>...</td>\n      <td>1.0</td>\n      <td>1.0</td>\n      <td>0.0</td>\n      <td>0.0</td>\n      <td>0.0</td>\n      <td>0.0</td>\n      <td>0.0</td>\n      <td>0.0</td>\n      <td>1.0</td>\n      <td>0.0</td>\n    </tr>\n    <tr>\n      <th>814</th>\n      <td>181.0</td>\n      <td>181.0</td>\n      <td>[181]</td>\n      <td>49.0</td>\n      <td>2016-01-01</td>\n      <td>1</td>\n      <td>0</td>\n      <td>0</td>\n      <td>1</td>\n      <td>0</td>\n      <td>...</td>\n      <td>1.0</td>\n      <td>1.0</td>\n      <td>0.0</td>\n      <td>0.0</td>\n      <td>0.0</td>\n      <td>0.0</td>\n      <td>0.0</td>\n      <td>1.0</td>\n      <td>0.0</td>\n      <td>0.0</td>\n    </tr>\n    <tr>\n      <th>813</th>\n      <td>181.0</td>\n      <td>181.0</td>\n      <td>[181]</td>\n      <td>25.0</td>\n      <td>2016-01-01</td>\n      <td>1</td>\n      <td>0</td>\n      <td>0</td>\n      <td>1</td>\n      <td>0</td>\n      <td>...</td>\n      <td>1.0</td>\n      <td>1.0</td>\n      <td>0.0</td>\n      <td>0.0</td>\n      <td>0.0</td>\n      <td>0.0</td>\n      <td>1.0</td>\n      <td>0.0</td>\n      <td>0.0</td>\n      <td>0.0</td>\n    </tr>\n    <tr>\n      <th>812</th>\n      <td>181.0</td>\n      <td>181.0</td>\n      <td>[181]</td>\n      <td>25.0</td>\n      <td>2016-01-01</td>\n      <td>1</td>\n      <td>0</td>\n      <td>0</td>\n      <td>1</td>\n      <td>0</td>\n      <td>...</td>\n      <td>1.0</td>\n      <td>1.0</td>\n      <td>0.0</td>\n      <td>0.0</td>\n      <td>0.0</td>\n      <td>1.0</td>\n      <td>0.0</td>\n      <td>0.0</td>\n      <td>0.0</td>\n      <td>0.0</td>\n    </tr>\n    <tr>\n      <th>...</th>\n      <td>...</td>\n      <td>...</td>\n      <td>...</td>\n      <td>...</td>\n      <td>...</td>\n      <td>...</td>\n      <td>...</td>\n      <td>...</td>\n      <td>...</td>\n      <td>...</td>\n      <td>...</td>\n      <td>...</td>\n      <td>...</td>\n      <td>...</td>\n      <td>...</td>\n      <td>...</td>\n      <td>...</td>\n      <td>...</td>\n      <td>...</td>\n      <td>...</td>\n      <td>...</td>\n    </tr>\n    <tr>\n      <th>143776</th>\n      <td>197.0</td>\n      <td>132.0</td>\n      <td>[132]</td>\n      <td>8.0</td>\n      <td>2016-05-10</td>\n      <td>1</td>\n      <td>0</td>\n      <td>1</td>\n      <td>0</td>\n      <td>0</td>\n      <td>...</td>\n      <td>0.0</td>\n      <td>0.0</td>\n      <td>0.0</td>\n      <td>0.0</td>\n      <td>0.0</td>\n      <td>0.0</td>\n      <td>0.0</td>\n      <td>1.0</td>\n      <td>0.0</td>\n      <td>0.0</td>\n    </tr>\n    <tr>\n      <th>143775</th>\n      <td>197.0</td>\n      <td>95.0</td>\n      <td>[95]</td>\n      <td>6.0</td>\n      <td>2016-05-10</td>\n      <td>1</td>\n      <td>0</td>\n      <td>1</td>\n      <td>0</td>\n      <td>0</td>\n      <td>...</td>\n      <td>0.0</td>\n      <td>0.0</td>\n      <td>0.0</td>\n      <td>0.0</td>\n      <td>0.0</td>\n      <td>0.0</td>\n      <td>1.0</td>\n      <td>0.0</td>\n      <td>0.0</td>\n      <td>0.0</td>\n    </tr>\n    <tr>\n      <th>143774</th>\n      <td>197.0</td>\n      <td>132.0</td>\n      <td>[132]</td>\n      <td>6.0</td>\n      <td>2016-05-10</td>\n      <td>1</td>\n      <td>0</td>\n      <td>1</td>\n      <td>0</td>\n      <td>0</td>\n      <td>...</td>\n      <td>0.0</td>\n      <td>0.0</td>\n      <td>0.0</td>\n      <td>0.0</td>\n      <td>0.0</td>\n      <td>1.0</td>\n      <td>0.0</td>\n      <td>0.0</td>\n      <td>0.0</td>\n      <td>0.0</td>\n    </tr>\n    <tr>\n      <th>143788</th>\n      <td>202.0</td>\n      <td>7.0</td>\n      <td>[7]</td>\n      <td>5.0</td>\n      <td>2016-05-10</td>\n      <td>1</td>\n      <td>0</td>\n      <td>1</td>\n      <td>0</td>\n      <td>0</td>\n      <td>...</td>\n      <td>0.0</td>\n      <td>0.0</td>\n      <td>0.0</td>\n      <td>0.0</td>\n      <td>0.0</td>\n      <td>0.0</td>\n      <td>1.0</td>\n      <td>0.0</td>\n      <td>0.0</td>\n      <td>0.0</td>\n    </tr>\n    <tr>\n      <th>143571</th>\n      <td>148.0</td>\n      <td>234.0</td>\n      <td>[234]</td>\n      <td>26.0</td>\n      <td>2016-05-10</td>\n      <td>1</td>\n      <td>0</td>\n      <td>1</td>\n      <td>0</td>\n      <td>0</td>\n      <td>...</td>\n      <td>0.0</td>\n      <td>0.0</td>\n      <td>0.0</td>\n      <td>0.0</td>\n      <td>0.0</td>\n      <td>0.0</td>\n      <td>0.0</td>\n      <td>1.0</td>\n      <td>0.0</td>\n      <td>0.0</td>\n    </tr>\n  </tbody>\n</table>\n<p>145251 rows × 59 columns</p>\n</div>"
     },
     "execution_count": 35,
     "metadata": {},
     "output_type": "execute_result"
    }
   ],
   "source": [
    "Train.sort_values(['datetime'])"
   ],
   "metadata": {
    "collapsed": false,
    "pycharm": {
     "name": "#%%\n"
    }
   }
  },
  {
   "cell_type": "markdown",
   "source": [
    "# Standardisation"
   ],
   "metadata": {
    "collapsed": false
   }
  },
  {
   "cell_type": "code",
   "execution_count": 36,
   "outputs": [
    {
     "name": "stdout",
     "output_type": "stream",
     "text": [
      "tempmax\n"
     ]
    },
    {
     "name": "stderr",
     "output_type": "stream",
     "text": [
      "/var/folders/xg/8w_3dndd6l5c3n99vd7vd3f40000gn/T/ipykernel_7355/4239809557.py:22: SettingWithCopyWarning: \n",
      "A value is trying to be set on a copy of a slice from a DataFrame.\n",
      "Try using .loc[row_indexer,col_indexer] = value instead\n",
      "\n",
      "See the caveats in the documentation: https://pandas.pydata.org/pandas-docs/stable/user_guide/indexing.html#returning-a-view-versus-a-copy\n",
      "  Train[col] = (Train[col] - mean)/std\n",
      "/var/folders/xg/8w_3dndd6l5c3n99vd7vd3f40000gn/T/ipykernel_7355/4239809557.py:23: SettingWithCopyWarning: \n",
      "A value is trying to be set on a copy of a slice from a DataFrame.\n",
      "Try using .loc[row_indexer,col_indexer] = value instead\n",
      "\n",
      "See the caveats in the documentation: https://pandas.pydata.org/pandas-docs/stable/user_guide/indexing.html#returning-a-view-versus-a-copy\n",
      "  Validate[col] = (Validate[col] - mean)/std\n",
      "/var/folders/xg/8w_3dndd6l5c3n99vd7vd3f40000gn/T/ipykernel_7355/4239809557.py:24: SettingWithCopyWarning: \n",
      "A value is trying to be set on a copy of a slice from a DataFrame.\n",
      "Try using .loc[row_indexer,col_indexer] = value instead\n",
      "\n",
      "See the caveats in the documentation: https://pandas.pydata.org/pandas-docs/stable/user_guide/indexing.html#returning-a-view-versus-a-copy\n",
      "  Test[col] = (Test[col] - mean)/std\n"
     ]
    },
    {
     "name": "stdout",
     "output_type": "stream",
     "text": [
      "tempmin\n",
      "temp\n",
      "feelslikemax\n",
      "feelslikemin\n",
      "feelslike\n",
      "dew\n",
      "humidity\n",
      "precip\n",
      "precipprob\n",
      "precipcover\n",
      "snow\n",
      "snowdepth\n",
      "windgust\n",
      "windspeed\n",
      "winddir\n",
      "sealevelpressure\n",
      "cloudcover\n",
      "visibility\n",
      "solarradiation\n",
      "solarenergy\n",
      "uvindex\n",
      "sunrise\n",
      "sunset\n",
      "moonphase\n"
     ]
    }
   ],
   "source": [
    "for col in Train.columns:\n",
    "    if col not in ['DOLocationID', 'hour', 'Max_PULocationID',\n",
    "                   'Max_PULocationIDs', 'max_count', 'datetime',\n",
    "                   'preciptype_none', 'preciptype_rain', 'preciptype_rain,snow',\n",
    "                   'preciptype_snow', 'conditions_Clear', 'conditions_Overcast',\n",
    "                   'conditions_Partially cloudy', 'conditions_Rain',\n",
    "                   'conditions_Rain, Overcast', 'conditions_Rain, Partially cloudy',\n",
    "                   'conditions_Snow, Partially cloudy', 'conditions_Snow, Rain',\n",
    "                   'conditions_Snow, Rain, Overcast', 'conditions_Snow, Rain, Partially cloudy',\n",
    "                   'conditions_Snow, Rain, Partially cloudy', 'holiday1', 'holiday2',\n",
    "                   'weekdaylabel1_weekday', 'weekdaylabel1_weekend', 'weekdaylabel2_weekday',\n",
    "                   'weekdaylabel2_friday', 'weekdaylabel2_weekend', 'hour_0.0',\n",
    "                   'hour_1.0', 'hour_2.0', 'hour_3.0', 'hour_4.0', 'hour_5.0',\n",
    "                   'hour_6.0', 'hour_7.0']:\n",
    "        print(col)\n",
    "\n",
    "        # use train data mean and std to prevent overfit\n",
    "        mean = s.mean(Train[col])\n",
    "        std = s.stdev(Train[col])\n",
    "\n",
    "        # (x - mean(train))/std(train)\n",
    "        Train[col] = (Train[col] - mean)/std\n",
    "        Validate[col] = (Validate[col] - mean)/std\n",
    "        Test[col] = (Test[col] - mean)/std"
   ],
   "metadata": {
    "collapsed": false,
    "pycharm": {
     "name": "#%%\n"
    }
   }
  },
  {
   "cell_type": "code",
   "execution_count": 37,
   "outputs": [],
   "source": [
    "# create directory if not exist\n",
    "output_relative_dirs = ['../data/curated/ModelBuilding/Discrete',\n",
    "                        '../data/curated/ModelBuilding/DiscreteKBest']\n",
    "\n",
    "# check if it exists as it makedir will raise an error if it does exist\n",
    "for output_relative_dir in output_relative_dirs:\n",
    "    if not os.path.exists(output_relative_dir):\n",
    "        os.makedirs(output_relative_dir)"
   ],
   "metadata": {
    "collapsed": false,
    "pycharm": {
     "name": "#%%\n"
    }
   }
  },
  {
   "cell_type": "code",
   "execution_count": 38,
   "outputs": [],
   "source": [
    "# Export cleaned data with all columns in case need to re-select features - trade space for time\n",
    "Train.to_csv('../data/curated/ModelBuilding/Discrete/FullTrain_16-1_16-5.csv', index = False)\n",
    "Validate.to_csv('../data/curated/ModelBuilding/Discrete/FullVal_16-5_16-6.csv', index = False)\n",
    "Test.to_csv('../data/curated/ModelBuilding/Discrete/FullTest_16-6_16-6.csv', index = False)"
   ],
   "metadata": {
    "collapsed": false,
    "pycharm": {
     "name": "#%%\n"
    }
   }
  },
  {
   "cell_type": "markdown",
   "source": [
    "# PCA (ATTEMPTED, NOT SUCCESSFUL)"
   ],
   "metadata": {
    "collapsed": false
   }
  },
  {
   "cell_type": "code",
   "execution_count": 39,
   "outputs": [],
   "source": [
    "X = Train.drop(['datetime', 'Max_PULocationIDs', 'Max_PULocationID', 'max_count', 'DOLocationID'], axis = 1)\n",
    "y = Train['Max_PULocationID'].astype(str)"
   ],
   "metadata": {
    "collapsed": false,
    "pycharm": {
     "name": "#%%\n"
    }
   }
  },
  {
   "cell_type": "code",
   "execution_count": 40,
   "outputs": [
    {
     "data": {
      "text/plain": "   weekdaylabel1_weekday  weekdaylabel1_weekend  weekdaylabel2_weekday  \\\n0                      1                      0                      0   \n1                      1                      0                      0   \n2                      1                      0                      0   \n3                      1                      0                      0   \n4                      1                      0                      0   \n\n   weekdaylabel2_friday  weekdaylabel2_weekend   tempmax   tempmin      temp  \\\n0                     1                      0 -0.698427 -0.231067 -0.426187   \n1                     1                      0 -0.698427 -0.231067 -0.426187   \n2                     1                      0 -0.698427 -0.231067 -0.426187   \n3                     1                      0 -0.698427 -0.231067 -0.426187   \n4                     1                      0 -0.698427 -0.231067 -0.426187   \n\n   feelslikemax  feelslikemin  ...  holiday1  holiday2  hour_0.0  hour_1.0  \\\n0     -0.761072     -0.339188  ...       1.0       1.0       0.0       1.0   \n1     -0.761072     -0.339188  ...       1.0       1.0       0.0       0.0   \n2     -0.761072     -0.339188  ...       1.0       1.0       0.0       0.0   \n3     -0.761072     -0.339188  ...       1.0       1.0       0.0       0.0   \n4     -0.761072     -0.339188  ...       1.0       1.0       0.0       0.0   \n\n   hour_2.0  hour_3.0  hour_4.0  hour_5.0  hour_6.0  hour_7.0  \n0       0.0       0.0       0.0       0.0       0.0       0.0  \n1       1.0       0.0       0.0       0.0       0.0       0.0  \n2       1.0       0.0       0.0       0.0       0.0       0.0  \n3       0.0       1.0       0.0       0.0       0.0       0.0  \n4       0.0       1.0       0.0       0.0       0.0       0.0  \n\n[5 rows x 54 columns]",
      "text/html": "<div>\n<style scoped>\n    .dataframe tbody tr th:only-of-type {\n        vertical-align: middle;\n    }\n\n    .dataframe tbody tr th {\n        vertical-align: top;\n    }\n\n    .dataframe thead th {\n        text-align: right;\n    }\n</style>\n<table border=\"1\" class=\"dataframe\">\n  <thead>\n    <tr style=\"text-align: right;\">\n      <th></th>\n      <th>weekdaylabel1_weekday</th>\n      <th>weekdaylabel1_weekend</th>\n      <th>weekdaylabel2_weekday</th>\n      <th>weekdaylabel2_friday</th>\n      <th>weekdaylabel2_weekend</th>\n      <th>tempmax</th>\n      <th>tempmin</th>\n      <th>temp</th>\n      <th>feelslikemax</th>\n      <th>feelslikemin</th>\n      <th>...</th>\n      <th>holiday1</th>\n      <th>holiday2</th>\n      <th>hour_0.0</th>\n      <th>hour_1.0</th>\n      <th>hour_2.0</th>\n      <th>hour_3.0</th>\n      <th>hour_4.0</th>\n      <th>hour_5.0</th>\n      <th>hour_6.0</th>\n      <th>hour_7.0</th>\n    </tr>\n  </thead>\n  <tbody>\n    <tr>\n      <th>0</th>\n      <td>1</td>\n      <td>0</td>\n      <td>0</td>\n      <td>1</td>\n      <td>0</td>\n      <td>-0.698427</td>\n      <td>-0.231067</td>\n      <td>-0.426187</td>\n      <td>-0.761072</td>\n      <td>-0.339188</td>\n      <td>...</td>\n      <td>1.0</td>\n      <td>1.0</td>\n      <td>0.0</td>\n      <td>1.0</td>\n      <td>0.0</td>\n      <td>0.0</td>\n      <td>0.0</td>\n      <td>0.0</td>\n      <td>0.0</td>\n      <td>0.0</td>\n    </tr>\n    <tr>\n      <th>1</th>\n      <td>1</td>\n      <td>0</td>\n      <td>0</td>\n      <td>1</td>\n      <td>0</td>\n      <td>-0.698427</td>\n      <td>-0.231067</td>\n      <td>-0.426187</td>\n      <td>-0.761072</td>\n      <td>-0.339188</td>\n      <td>...</td>\n      <td>1.0</td>\n      <td>1.0</td>\n      <td>0.0</td>\n      <td>0.0</td>\n      <td>1.0</td>\n      <td>0.0</td>\n      <td>0.0</td>\n      <td>0.0</td>\n      <td>0.0</td>\n      <td>0.0</td>\n    </tr>\n    <tr>\n      <th>2</th>\n      <td>1</td>\n      <td>0</td>\n      <td>0</td>\n      <td>1</td>\n      <td>0</td>\n      <td>-0.698427</td>\n      <td>-0.231067</td>\n      <td>-0.426187</td>\n      <td>-0.761072</td>\n      <td>-0.339188</td>\n      <td>...</td>\n      <td>1.0</td>\n      <td>1.0</td>\n      <td>0.0</td>\n      <td>0.0</td>\n      <td>1.0</td>\n      <td>0.0</td>\n      <td>0.0</td>\n      <td>0.0</td>\n      <td>0.0</td>\n      <td>0.0</td>\n    </tr>\n    <tr>\n      <th>3</th>\n      <td>1</td>\n      <td>0</td>\n      <td>0</td>\n      <td>1</td>\n      <td>0</td>\n      <td>-0.698427</td>\n      <td>-0.231067</td>\n      <td>-0.426187</td>\n      <td>-0.761072</td>\n      <td>-0.339188</td>\n      <td>...</td>\n      <td>1.0</td>\n      <td>1.0</td>\n      <td>0.0</td>\n      <td>0.0</td>\n      <td>0.0</td>\n      <td>1.0</td>\n      <td>0.0</td>\n      <td>0.0</td>\n      <td>0.0</td>\n      <td>0.0</td>\n    </tr>\n    <tr>\n      <th>4</th>\n      <td>1</td>\n      <td>0</td>\n      <td>0</td>\n      <td>1</td>\n      <td>0</td>\n      <td>-0.698427</td>\n      <td>-0.231067</td>\n      <td>-0.426187</td>\n      <td>-0.761072</td>\n      <td>-0.339188</td>\n      <td>...</td>\n      <td>1.0</td>\n      <td>1.0</td>\n      <td>0.0</td>\n      <td>0.0</td>\n      <td>0.0</td>\n      <td>1.0</td>\n      <td>0.0</td>\n      <td>0.0</td>\n      <td>0.0</td>\n      <td>0.0</td>\n    </tr>\n  </tbody>\n</table>\n<p>5 rows × 54 columns</p>\n</div>"
     },
     "execution_count": 40,
     "metadata": {},
     "output_type": "execute_result"
    }
   ],
   "source": [
    "X.head()"
   ],
   "metadata": {
    "collapsed": false,
    "pycharm": {
     "name": "#%%\n"
    }
   }
  },
  {
   "cell_type": "code",
   "execution_count": 41,
   "outputs": [],
   "source": [
    "# from sklearn.decomposition import PCA\n",
    "# pca = PCA(n_components=5)\n",
    "# pca.fit(X)\n",
    "# pca_result = pca.transform(X)"
   ],
   "metadata": {
    "collapsed": false,
    "pycharm": {
     "name": "#%%\n"
    }
   }
  },
  {
   "cell_type": "code",
   "execution_count": 42,
   "outputs": [],
   "source": [
    "# list(pca.explained_variance_)"
   ],
   "metadata": {
    "collapsed": false,
    "pycharm": {
     "name": "#%%\n"
    }
   }
  },
  {
   "cell_type": "code",
   "execution_count": 43,
   "outputs": [],
   "source": [
    "# pd.DataFrame(pca_result)"
   ],
   "metadata": {
    "collapsed": false,
    "pycharm": {
     "name": "#%%\n"
    }
   }
  },
  {
   "cell_type": "markdown",
   "source": [
    "# Feature Selection"
   ],
   "metadata": {
    "collapsed": false,
    "pycharm": {
     "name": "#%% md\n"
    }
   }
  },
  {
   "cell_type": "code",
   "execution_count": 44,
   "outputs": [],
   "source": [
    "from sklearn.feature_selection import SelectKBest\n",
    "from sklearn.feature_selection import f_classif"
   ],
   "metadata": {
    "collapsed": false,
    "pycharm": {
     "name": "#%%\n"
    }
   }
  },
  {
   "cell_type": "code",
   "execution_count": 45,
   "outputs": [
    {
     "name": "stderr",
     "output_type": "stream",
     "text": [
      "/Applications/anaconda3/lib/python3.9/site-packages/sklearn/feature_selection/_univariate_selection.py:112: UserWarning: Features [37] are constant.\n",
      "  warnings.warn(\"Features %s are constant.\" % constant_features_idx, UserWarning)\n",
      "/Applications/anaconda3/lib/python3.9/site-packages/sklearn/feature_selection/_univariate_selection.py:113: RuntimeWarning: invalid value encountered in true_divide\n",
      "  f = msb / msw\n"
     ]
    },
    {
     "data": {
      "text/plain": "SelectKBest(k=54)"
     },
     "execution_count": 45,
     "metadata": {},
     "output_type": "execute_result"
    }
   ],
   "source": [
    "# F-test\n",
    "f = SelectKBest(f_classif, k=len(X.columns))\n",
    "f.fit(X,y)"
   ],
   "metadata": {
    "collapsed": false,
    "pycharm": {
     "name": "#%%\n"
    }
   }
  },
  {
   "cell_type": "code",
   "execution_count": 46,
   "outputs": [
    {
     "data": {
      "text/plain": "                                   features     scores\n47                                 hour_1.0  97.713889\n48                                 hour_2.0  53.449014\n46                                 hour_0.0  48.742270\n0                     weekdaylabel1_weekday  26.341111\n1                     weekdaylabel1_weekend  26.341111\n4                     weekdaylabel2_weekend  26.341111\n52                                 hour_6.0  23.385082\n2                     weekdaylabel2_weekday  22.914564\n53                                 hour_7.0  22.888451\n51                                 hour_5.0  22.452536\n50                                 hour_4.0  19.043582\n49                                 hour_3.0  18.953984\n3                      weekdaylabel2_friday   3.479744\n7                                      temp   2.951348\n5                                   tempmax   2.917972\n10                                feelslike   2.911430\n8                              feelslikemax   2.793030\n9                              feelslikemin   2.783634\n6                                   tempmin   2.763466\n11                                      dew   2.368892\n45                                 holiday2   2.302984\n16                                     snow   2.298360\n17                                snowdepth   2.229598\n24                           solarradiation   2.018071\n25                              solarenergy   2.016201\n42          conditions_Snow, Rain, Overcast   1.969537\n19                                windspeed   1.925472\n28                                   sunset   1.910606\n44                                 holiday1   1.834544\n40        conditions_Snow, Partially cloudy   1.785784\n33                          preciptype_snow   1.785784\n26                                  uvindex   1.779333\n18                                 windgust   1.725349\n27                                  sunrise   1.676431\n35                      conditions_Overcast   1.583744\n22                               cloudcover   1.547604\n31                          preciptype_rain   1.484304\n20                                  winddir   1.457238\n23                               visibility   1.378793\n38                conditions_Rain, Overcast   1.358490\n34                         conditions_Clear   1.354500\n12                                 humidity   1.328920\n32                     preciptype_rain,snow   1.323728\n21                         sealevelpressure   1.316798\n29                                moonphase   1.313382\n14                               precipprob   1.306106\n30                          preciptype_none   1.306106\n15                              precipcover   1.262238\n39        conditions_Rain, Partially cloudy   1.250945\n13                                   precip   1.185885\n36              conditions_Partially cloudy   1.143480\n43  conditions_Snow, Rain, Partially cloudy   1.055060\n41                    conditions_Snow, Rain   0.846094\n37                          conditions_Rain        NaN",
      "text/html": "<div>\n<style scoped>\n    .dataframe tbody tr th:only-of-type {\n        vertical-align: middle;\n    }\n\n    .dataframe tbody tr th {\n        vertical-align: top;\n    }\n\n    .dataframe thead th {\n        text-align: right;\n    }\n</style>\n<table border=\"1\" class=\"dataframe\">\n  <thead>\n    <tr style=\"text-align: right;\">\n      <th></th>\n      <th>features</th>\n      <th>scores</th>\n    </tr>\n  </thead>\n  <tbody>\n    <tr>\n      <th>47</th>\n      <td>hour_1.0</td>\n      <td>97.713889</td>\n    </tr>\n    <tr>\n      <th>48</th>\n      <td>hour_2.0</td>\n      <td>53.449014</td>\n    </tr>\n    <tr>\n      <th>46</th>\n      <td>hour_0.0</td>\n      <td>48.742270</td>\n    </tr>\n    <tr>\n      <th>0</th>\n      <td>weekdaylabel1_weekday</td>\n      <td>26.341111</td>\n    </tr>\n    <tr>\n      <th>1</th>\n      <td>weekdaylabel1_weekend</td>\n      <td>26.341111</td>\n    </tr>\n    <tr>\n      <th>4</th>\n      <td>weekdaylabel2_weekend</td>\n      <td>26.341111</td>\n    </tr>\n    <tr>\n      <th>52</th>\n      <td>hour_6.0</td>\n      <td>23.385082</td>\n    </tr>\n    <tr>\n      <th>2</th>\n      <td>weekdaylabel2_weekday</td>\n      <td>22.914564</td>\n    </tr>\n    <tr>\n      <th>53</th>\n      <td>hour_7.0</td>\n      <td>22.888451</td>\n    </tr>\n    <tr>\n      <th>51</th>\n      <td>hour_5.0</td>\n      <td>22.452536</td>\n    </tr>\n    <tr>\n      <th>50</th>\n      <td>hour_4.0</td>\n      <td>19.043582</td>\n    </tr>\n    <tr>\n      <th>49</th>\n      <td>hour_3.0</td>\n      <td>18.953984</td>\n    </tr>\n    <tr>\n      <th>3</th>\n      <td>weekdaylabel2_friday</td>\n      <td>3.479744</td>\n    </tr>\n    <tr>\n      <th>7</th>\n      <td>temp</td>\n      <td>2.951348</td>\n    </tr>\n    <tr>\n      <th>5</th>\n      <td>tempmax</td>\n      <td>2.917972</td>\n    </tr>\n    <tr>\n      <th>10</th>\n      <td>feelslike</td>\n      <td>2.911430</td>\n    </tr>\n    <tr>\n      <th>8</th>\n      <td>feelslikemax</td>\n      <td>2.793030</td>\n    </tr>\n    <tr>\n      <th>9</th>\n      <td>feelslikemin</td>\n      <td>2.783634</td>\n    </tr>\n    <tr>\n      <th>6</th>\n      <td>tempmin</td>\n      <td>2.763466</td>\n    </tr>\n    <tr>\n      <th>11</th>\n      <td>dew</td>\n      <td>2.368892</td>\n    </tr>\n    <tr>\n      <th>45</th>\n      <td>holiday2</td>\n      <td>2.302984</td>\n    </tr>\n    <tr>\n      <th>16</th>\n      <td>snow</td>\n      <td>2.298360</td>\n    </tr>\n    <tr>\n      <th>17</th>\n      <td>snowdepth</td>\n      <td>2.229598</td>\n    </tr>\n    <tr>\n      <th>24</th>\n      <td>solarradiation</td>\n      <td>2.018071</td>\n    </tr>\n    <tr>\n      <th>25</th>\n      <td>solarenergy</td>\n      <td>2.016201</td>\n    </tr>\n    <tr>\n      <th>42</th>\n      <td>conditions_Snow, Rain, Overcast</td>\n      <td>1.969537</td>\n    </tr>\n    <tr>\n      <th>19</th>\n      <td>windspeed</td>\n      <td>1.925472</td>\n    </tr>\n    <tr>\n      <th>28</th>\n      <td>sunset</td>\n      <td>1.910606</td>\n    </tr>\n    <tr>\n      <th>44</th>\n      <td>holiday1</td>\n      <td>1.834544</td>\n    </tr>\n    <tr>\n      <th>40</th>\n      <td>conditions_Snow, Partially cloudy</td>\n      <td>1.785784</td>\n    </tr>\n    <tr>\n      <th>33</th>\n      <td>preciptype_snow</td>\n      <td>1.785784</td>\n    </tr>\n    <tr>\n      <th>26</th>\n      <td>uvindex</td>\n      <td>1.779333</td>\n    </tr>\n    <tr>\n      <th>18</th>\n      <td>windgust</td>\n      <td>1.725349</td>\n    </tr>\n    <tr>\n      <th>27</th>\n      <td>sunrise</td>\n      <td>1.676431</td>\n    </tr>\n    <tr>\n      <th>35</th>\n      <td>conditions_Overcast</td>\n      <td>1.583744</td>\n    </tr>\n    <tr>\n      <th>22</th>\n      <td>cloudcover</td>\n      <td>1.547604</td>\n    </tr>\n    <tr>\n      <th>31</th>\n      <td>preciptype_rain</td>\n      <td>1.484304</td>\n    </tr>\n    <tr>\n      <th>20</th>\n      <td>winddir</td>\n      <td>1.457238</td>\n    </tr>\n    <tr>\n      <th>23</th>\n      <td>visibility</td>\n      <td>1.378793</td>\n    </tr>\n    <tr>\n      <th>38</th>\n      <td>conditions_Rain, Overcast</td>\n      <td>1.358490</td>\n    </tr>\n    <tr>\n      <th>34</th>\n      <td>conditions_Clear</td>\n      <td>1.354500</td>\n    </tr>\n    <tr>\n      <th>12</th>\n      <td>humidity</td>\n      <td>1.328920</td>\n    </tr>\n    <tr>\n      <th>32</th>\n      <td>preciptype_rain,snow</td>\n      <td>1.323728</td>\n    </tr>\n    <tr>\n      <th>21</th>\n      <td>sealevelpressure</td>\n      <td>1.316798</td>\n    </tr>\n    <tr>\n      <th>29</th>\n      <td>moonphase</td>\n      <td>1.313382</td>\n    </tr>\n    <tr>\n      <th>14</th>\n      <td>precipprob</td>\n      <td>1.306106</td>\n    </tr>\n    <tr>\n      <th>30</th>\n      <td>preciptype_none</td>\n      <td>1.306106</td>\n    </tr>\n    <tr>\n      <th>15</th>\n      <td>precipcover</td>\n      <td>1.262238</td>\n    </tr>\n    <tr>\n      <th>39</th>\n      <td>conditions_Rain, Partially cloudy</td>\n      <td>1.250945</td>\n    </tr>\n    <tr>\n      <th>13</th>\n      <td>precip</td>\n      <td>1.185885</td>\n    </tr>\n    <tr>\n      <th>36</th>\n      <td>conditions_Partially cloudy</td>\n      <td>1.143480</td>\n    </tr>\n    <tr>\n      <th>43</th>\n      <td>conditions_Snow, Rain, Partially cloudy</td>\n      <td>1.055060</td>\n    </tr>\n    <tr>\n      <th>41</th>\n      <td>conditions_Snow, Rain</td>\n      <td>0.846094</td>\n    </tr>\n    <tr>\n      <th>37</th>\n      <td>conditions_Rain</td>\n      <td>NaN</td>\n    </tr>\n  </tbody>\n</table>\n</div>"
     },
     "execution_count": 46,
     "metadata": {},
     "output_type": "execute_result"
    }
   ],
   "source": [
    "# get the ranked feature names and scores\n",
    "kbest_scores1 = pd.DataFrame({'features': f.get_feature_names_out(), 'scores': f.scores_})\n",
    "kbest_scores1 = kbest_scores1.sort_values('scores', ascending=False)\n",
    "kbest_scores1"
   ],
   "metadata": {
    "collapsed": false,
    "pycharm": {
     "name": "#%%\n"
    }
   }
  },
  {
   "cell_type": "markdown",
   "source": [
    "### Select correct columns"
   ],
   "metadata": {
    "collapsed": false,
    "pycharm": {
     "name": "#%% md\n"
    }
   }
  },
  {
   "cell_type": "code",
   "execution_count": 137,
   "outputs": [],
   "source": [
    "# import pandas as pd\n",
    "# Train = pd.read_csv('../data/curated/ModelBuilding/Discrete/FullTrain_16-1_16-5.csv')\n",
    "# Validate = pd.read_csv('../data/curated/ModelBuilding/Discrete/FullVal_16-5_16-6.csv')\n",
    "# Test = pd.read_csv('../data/curated/ModelBuilding/Discrete/FullTest_16-6_16-6.csv')"
   ],
   "metadata": {
    "collapsed": false,
    "pycharm": {
     "name": "#%%\n"
    }
   }
  },
  {
   "cell_type": "code",
   "execution_count": 47,
   "outputs": [],
   "source": [
    "X_train = Train[['weekdaylabel1_weekday',\n",
    "                 'weekdaylabel1_weekend', 'hour_0.0',\n",
    "                 'hour_1.0', 'hour_2.0', 'hour_3.0', 'hour_4.0',\n",
    "                 'hour_5.0', 'hour_6.0', 'hour_7.0', 'holiday2',\n",
    "                 'dew','DOLocationID', 'temp', 'tempmax', 'tempmin',\n",
    "                 'snow', 'snowdepth',\n",
    "                 'datetime']]\n",
    "y_train = Train[['Max_PULocationID', 'Max_PULocationIDs']].astype(str)"
   ],
   "metadata": {
    "collapsed": false,
    "pycharm": {
     "name": "#%%\n"
    }
   }
  },
  {
   "cell_type": "code",
   "execution_count": 48,
   "outputs": [],
   "source": [
    "X_validate = Validate[['weekdaylabel1_weekday',\n",
    "                 'weekdaylabel1_weekend', 'hour_0.0',\n",
    "                 'hour_1.0', 'hour_2.0', 'hour_3.0', 'hour_4.0',\n",
    "                 'hour_5.0', 'hour_6.0', 'hour_7.0', 'holiday2',\n",
    "                 'dew','DOLocationID', 'temp', 'tempmax', 'tempmin',\n",
    "                 'snow', 'snowdepth',\n",
    "                 'datetime']]\n",
    "y_validate = Validate[['Max_PULocationID', 'Max_PULocationIDs']].astype(str)"
   ],
   "metadata": {
    "collapsed": false,
    "pycharm": {
     "name": "#%%\n"
    }
   }
  },
  {
   "cell_type": "code",
   "execution_count": 49,
   "outputs": [],
   "source": [
    "X_test = Test[['weekdaylabel1_weekday',\n",
    "                 'weekdaylabel1_weekend', 'hour_0.0',\n",
    "                 'hour_1.0', 'hour_2.0', 'hour_3.0', 'hour_4.0',\n",
    "                 'hour_5.0', 'hour_6.0', 'hour_7.0', 'holiday2',\n",
    "                 'dew','DOLocationID', 'temp', 'tempmax', 'tempmin',\n",
    "                 'snow', 'snowdepth',\n",
    "                 'datetime']]\n",
    "y_test = Test[['Max_PULocationID', 'Max_PULocationIDs']].astype(str)"
   ],
   "metadata": {
    "collapsed": false,
    "pycharm": {
     "name": "#%%\n"
    }
   }
  },
  {
   "cell_type": "markdown",
   "source": [
    "# Export"
   ],
   "metadata": {
    "collapsed": false,
    "pycharm": {
     "name": "#%% md\n"
    }
   }
  },
  {
   "cell_type": "code",
   "execution_count": 50,
   "outputs": [],
   "source": [
    "X_train.to_csv('../data/curated/ModelBuilding/Discrete/XTrain_16-1_16-5.csv', index = False)\n",
    "X_validate.to_csv('../data/curated/ModelBuilding/Discrete/XVal_16-5_16-6.csv', index = False)\n",
    "X_test.to_csv('../data/curated/ModelBuilding/Discrete/XTest_16-6_16-6.csv', index = False)\n",
    "y_train.to_csv('../data/curated/ModelBuilding/Discrete/yTrain_16-1_16-5.csv', index = False)\n",
    "y_validate.to_csv('../data/curated/ModelBuilding/Discrete/yVal_16-5_16-6.csv', index = False)\n",
    "y_test.to_csv('../data/curated/ModelBuilding/Discrete/yTest_16-6_16-6.csv', index = False)"
   ],
   "metadata": {
    "collapsed": false,
    "pycharm": {
     "name": "#%%\n"
    }
   }
  },
  {
   "cell_type": "code",
   "execution_count": 51,
   "outputs": [],
   "source": [
    "kbest_scores1.to_csv('../data/curated/ModelBuilding/DiscreteKBest/f_16-1_16-6.csv', index=False)"
   ],
   "metadata": {
    "collapsed": false,
    "pycharm": {
     "name": "#%%\n"
    }
   }
  },
  {
   "cell_type": "code",
   "execution_count": null,
   "outputs": [],
   "source": [],
   "metadata": {
    "collapsed": false,
    "pycharm": {
     "name": "#%%\n"
    }
   }
  }
 ],
 "metadata": {
  "kernelspec": {
   "display_name": "Python 3",
   "language": "python",
   "name": "python3"
  },
  "language_info": {
   "codemirror_mode": {
    "name": "ipython",
    "version": 2
   },
   "file_extension": ".py",
   "mimetype": "text/x-python",
   "name": "python",
   "nbconvert_exporter": "python",
   "pygments_lexer": "ipython2",
   "version": "2.7.6"
  }
 },
 "nbformat": 4,
 "nbformat_minor": 0
}