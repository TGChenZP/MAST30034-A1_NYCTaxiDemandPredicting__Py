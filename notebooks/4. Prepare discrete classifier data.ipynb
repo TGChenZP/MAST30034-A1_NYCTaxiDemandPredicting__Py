{
 "cells": [
  {
   "cell_type": "markdown",
   "source": [
    "# 4. Prepare discrete classifier data"
   ],
   "metadata": {
    "collapsed": false,
    "pycharm": {
     "name": "#%% md\n"
    }
   }
  },
  {
   "cell_type": "code",
   "execution_count": 1,
   "outputs": [],
   "source": [
    "import pandas as pd\n",
    "import numpy as np\n",
    "import datetime\n",
    "import calendar\n",
    "import os"
   ],
   "metadata": {
    "collapsed": false,
    "pycharm": {
     "name": "#%%\n"
    }
   }
  },
  {
   "cell_type": "code",
   "execution_count": 2,
   "outputs": [],
   "source": [
    "# create new directory\n",
    "output_relative_dirs = ['../data/curated/cleaned/discrete']\n",
    "\n",
    "# check if it exists as it makedir will raise an error if it does exist\n",
    "for output_relative_dir in output_relative_dirs:\n",
    "    if not os.path.exists(output_relative_dir):\n",
    "        os.makedirs(output_relative_dir)"
   ],
   "metadata": {
    "collapsed": false,
    "pycharm": {
     "name": "#%%\n"
    }
   }
  },
  {
   "cell_type": "markdown",
   "source": [
    "# SCRIPT"
   ],
   "metadata": {
    "collapsed": false,
    "pycharm": {
     "name": "#%% md\n"
    }
   }
  },
  {
   "cell_type": "code",
   "execution_count": 3,
   "outputs": [
    {
     "name": "stdout",
     "output_type": "stream",
     "text": [
      "BEGIN PROCESSING 2016-1\n",
      "BEGIN PROCESSING 2016-2\n",
      "BEGIN PROCESSING 2016-3\n",
      "BEGIN PROCESSING 2016-4\n",
      "BEGIN PROCESSING 2016-5\n",
      "BEGIN PROCESSING 2016-6\n"
     ]
    }
   ],
   "source": [
    "cal = calendar.Calendar()\n",
    "DAYS_IN_MONTH = [29, 31, 28, 31, 30, 31, 30, 31, 31, 30, 31, 30, 31] # for getting max day in month\n",
    "\n",
    "for year in [2016]:\n",
    "    for month in range(1, 7):\n",
    "\n",
    "        print(f\"BEGIN PROCESSING {year}-{month}\")\n",
    "\n",
    "        # load both datasets\n",
    "        yellow_data = pd.read_csv(f'../data/curated/taxi_aggregated/yellow_{year}-{str(month).zfill(2)}.csv')\n",
    "        green_data = pd.read_csv(f'../data/curated/taxi_aggregated/green_{year}-{str(month).zfill(2)}.csv')\n",
    "        data = yellow_data.append(green_data)\n",
    "\n",
    "        # turn the hour labels into its //3 value, effectively using a label to group data into 3 hour blocks\n",
    "        data['rounded_lepep_pickup_datetime'] = pd.to_datetime(data['rounded_lepep_pickup_datetime']).dt.date\n",
    "        data['hour'] = data['hour']//3\n",
    "\n",
    "        # Group into 3 hour blocks (both yellow and green now together) by DOLocation and PULocation\n",
    "        agg_data = data.groupby(['DOLocationID', 'hour', 'PULocationID','rounded_lepep_pickup_datetime']).agg({\n",
    "                                                                               'count':sum}).reset_index()\n",
    "\n",
    "        # Get discrete labels: PULocation with maximum pickups in every {DOLocation, 3HrB} set\n",
    "        max_PULocationID_data = pd.DataFrame({'DOLocationID': [], 'hour': [], 'Max_PULocationID': [],\n",
    "                                              'Max_PULocationIDs':[], 'max_count':[],\n",
    "                                              'rounded_lepep_pickup_datetime': []})\n",
    "\n",
    "        for id, agg_data in agg_data.groupby(['DOLocationID', 'hour', 'rounded_lepep_pickup_datetime']):\n",
    "\n",
    "            agg_data.index = range(len(agg_data))\n",
    "\n",
    "            max_count = max(agg_data['count'])\n",
    "            max_count_rows = agg_data[agg_data['count'] == max_count]\n",
    "            max_PULocationIDs = list(max_count_rows['PULocationID'])\n",
    "\n",
    "            # if multiple maxes, then create multiple instances with same attribute values but different labels\n",
    "            for max_PULocationID in max_PULocationIDs:\n",
    "                tmp = pd.DataFrame({'DOLocationID': [id[0]], 'hour': [id[1]],\n",
    "                                'Max_PULocationID': [max_PULocationID], 'Max_PULocationIDs': [max_PULocationIDs],\n",
    "                                    'max_count': [max(agg_data['count'])],\n",
    "                                    'rounded_lepep_pickup_datetime': [agg_data.loc[0]['rounded_lepep_pickup_datetime']]})\n",
    "\n",
    "                max_PULocationID_data = max_PULocationID_data.append(tmp)\n",
    "\n",
    "        # Remove any dates that are outside this month\n",
    "        if year == 2016 and month == 2:\n",
    "            days_in_month = DAYS_IN_MONTH[0]\n",
    "        else:\n",
    "            days_in_month = DAYS_IN_MONTH[month]\n",
    "\n",
    "        max_PULocationID_data.index = range(len(max_PULocationID_data))\n",
    "\n",
    "        max_PULocationID_data = max_PULocationID_data[(max_PULocationID_data['rounded_lepep_pickup_datetime'] <= datetime.date(year=year,\n",
    "                                                                            month=month, day=days_in_month)) &\n",
    "                                                      (max_PULocationID_data['rounded_lepep_pickup_datetime'] >= datetime.date(year=year,\n",
    "                                                                            month=month, day=1))]\n",
    "\n",
    "\n",
    "        ## LEGACY CODE FOR FILLING NON-OBSERVATIONS - LATER DISCARDED\n",
    "\n",
    "        # # Fill date-hour-DOLocation with no records with PUlocation of 0, denoting missing id\n",
    "        #\n",
    "        # date_list = [date_ for date_ in cal.itermonthdates(year = year, month = month) if date_.year == year and date_.month == month]\n",
    "        #\n",
    "        # for dolocation in range(1, 264):\n",
    "        #     for hour in range(8):\n",
    "        #         for date_ in date_list:\n",
    "        #             if len(max_PULocationID_data[(max_PULocationID_data['DOLocationID'] == dolocation) & (max_PULocationID_data['hour'] == hour) & (max_PULocationID_data['rounded_lepep_pickup_datetime'] == date_)]) == 0:\n",
    "        #\n",
    "        #                 tmp = pd.DataFrame({'DOLocationID': [dolocation], 'hour': [hour], 'Max_PULocationID': [0], 'Max_PULocationIDs': [[0]], 'max_count': [0], 'rounded_lepep_pickup_datetime': [date_]})\n",
    "        #                 max_PULocationID_data = max_PULocationID_data.append(tmp)\n",
    "        #\n",
    "        # max_PULocationID_data.index = range(len(max_PULocationID_data))\n",
    "\n",
    "\n",
    "        # rename a column to datetime\n",
    "        max_PULocationID_data = max_PULocationID_data.rename(columns = {'rounded_lepep_pickup_datetime': 'datetime'})\n",
    "\n",
    "        # output\n",
    "        max_PULocationID_data.to_csv(f'../data/curated/cleaned/discrete/{year}-{str(month).zfill(2)}_discrete.csv', index= False)"
   ],
   "metadata": {
    "collapsed": false,
    "pycharm": {
     "name": "#%%\n"
    }
   }
  },
  {
   "cell_type": "markdown",
   "source": [
    "# BUILDING UP THE SCRIPT (DRAFTING LEGACY)"
   ],
   "metadata": {
    "collapsed": false,
    "pycharm": {
     "name": "#%% md\n"
    }
   }
  },
  {
   "cell_type": "markdown",
   "source": [
    "load both dataset"
   ],
   "metadata": {
    "collapsed": false,
    "pycharm": {
     "name": "#%% md\n"
    }
   }
  },
  {
   "cell_type": "code",
   "execution_count": 4,
   "outputs": [],
   "source": [
    "# # load both datasets\n",
    "# yellow_data = pd.read_csv('../data/curated/taxi_csv/yellow_2016-01.csv')\n",
    "# green_data = pd.read_csv('../data/curated/taxi_csv/green_2016-01.csv')\n",
    "# data = yellow_data.append(green_data)"
   ],
   "metadata": {
    "collapsed": false,
    "pycharm": {
     "name": "#%%\n"
    }
   }
  },
  {
   "cell_type": "markdown",
   "source": [
    "get the hours into labels that works in groups of 3"
   ],
   "metadata": {
    "collapsed": false,
    "pycharm": {
     "name": "#%% md\n"
    }
   }
  },
  {
   "cell_type": "code",
   "execution_count": 5,
   "outputs": [],
   "source": [
    "# # get the hours into labels that works in groups of 3\n",
    "# data['rounded_lepep_pickup_datetime'] = pd.to_datetime(data['rounded_lepep_pickup_datetime']).dt.date\n",
    "# data['hour'] = data['hour']//3\n",
    "# data"
   ],
   "metadata": {
    "collapsed": false,
    "pycharm": {
     "name": "#%%\n"
    }
   }
  },
  {
   "cell_type": "code",
   "execution_count": 6,
   "outputs": [],
   "source": [
    "# data.sort_values(['rounded_lepep_pickup_datetime', 'DOLocationID', 'hour', 'PULocationID'])"
   ],
   "metadata": {
    "collapsed": false,
    "pycharm": {
     "name": "#%%\n"
    }
   }
  },
  {
   "cell_type": "markdown",
   "source": [
    "Group into 3 hour blocks (both yellow and green)"
   ],
   "metadata": {
    "collapsed": false,
    "pycharm": {
     "name": "#%% md\n"
    }
   }
  },
  {
   "cell_type": "code",
   "execution_count": 7,
   "outputs": [],
   "source": [
    "# # Group into 3 hour blocks (both yellow and green)\n",
    "# agg_data = data.groupby(['DOLocationID', 'hour', 'PULocationID']).agg({'rounded_lepep_pickup_datetime':min, 'count':sum}).reset_index()"
   ],
   "metadata": {
    "collapsed": false,
    "pycharm": {
     "name": "#%%\n"
    }
   }
  },
  {
   "cell_type": "code",
   "execution_count": 8,
   "outputs": [],
   "source": [
    "# agg_data.sort_values(['rounded_lepep_pickup_datetime', 'DOLocationID', 'hour', 'PULocationID'])"
   ],
   "metadata": {
    "collapsed": false,
    "pycharm": {
     "name": "#%%\n"
    }
   }
  },
  {
   "cell_type": "markdown",
   "source": [
    "Get labels: maximum label per week"
   ],
   "metadata": {
    "collapsed": false,
    "pycharm": {
     "name": "#%% md\n"
    }
   }
  },
  {
   "cell_type": "code",
   "execution_count": 9,
   "outputs": [],
   "source": [
    "# # Get labels: maximum labels per week\n",
    "# max_PULocationID_data = pd.DataFrame({'DOLocationID': [], 'hour': [], 'Max_PULocationID': [], 'Max_PULocationIDs':[], 'max_count':[], 'rounded_lepep_pickup_datetime': []})\n",
    "#\n",
    "# for id, agg_data in agg_data.groupby(['DOLocationID', 'hour', 'rounded_lepep_pickup_datetime']):\n",
    "#\n",
    "#     agg_data.index = range(len(agg_data))\n",
    "#\n",
    "#     max_count = max(agg_data['count'])\n",
    "#     max_count_rows = agg_data[agg_data['count'] == max_count]\n",
    "#     max_PULocationIDs = list(max_count_rows['PULocationID'])\n",
    "#\n",
    "#     # if multiple maxes, then give both\n",
    "#     for max_PULocationID in max_PULocationIDs:\n",
    "#         tmp = pd.DataFrame({'DOLocationID': [id[0]], 'hour': [id[1]],\n",
    "#                         'Max_PULocationID': [max_PULocationID], 'Max_PULocationIDs': [max_PULocationIDs], 'max_count': [max(agg_data['count'])], 'rounded_lepep_pickup_datetime': [agg_data.loc[0]['rounded_lepep_pickup_datetime']]})\n",
    "#\n",
    "#         max_PULocationID_data = max_PULocationID_data.append(tmp)\n",
    "#\n",
    "# max_PULocationID_data.index = range(len(max_PULocationID_data))\n",
    "# max_PULocationID_data"
   ],
   "metadata": {
    "collapsed": false,
    "pycharm": {
     "name": "#%%\n"
    }
   }
  },
  {
   "cell_type": "markdown",
   "source": [
    "Remove any dates that are outside this month"
   ],
   "metadata": {
    "collapsed": false,
    "pycharm": {
     "name": "#%% md\n"
    }
   }
  },
  {
   "cell_type": "code",
   "execution_count": 10,
   "outputs": [],
   "source": [
    "# # Remove any dates that are outside this month\n",
    "# max_PULocationID_data = max_PULocationID_data[(max_PULocationID_data['rounded_lepep_pickup_datetime'] <= datetime.date(year=2016,month=1, day=31)) & (max_PULocationID_data['rounded_lepep_pickup_datetime'] >= datetime.date(year=2016,month=1, day=1))]"
   ],
   "metadata": {
    "collapsed": false,
    "pycharm": {
     "name": "#%%\n"
    }
   }
  },
  {
   "cell_type": "code",
   "execution_count": 11,
   "outputs": [],
   "source": [
    "# max_PULocationID_data"
   ],
   "metadata": {
    "collapsed": false,
    "pycharm": {
     "name": "#%%\n"
    }
   }
  },
  {
   "cell_type": "markdown",
   "source": [
    "Fill date-hour-DOLocation with no records with PUlocation of 264, denoting missing id"
   ],
   "metadata": {
    "collapsed": false,
    "pycharm": {
     "name": "#%% md\n"
    }
   },
   "execution_count": 9
  },
  {
   "cell_type": "code",
   "execution_count": 12,
   "outputs": [],
   "source": [
    "# # Fill date-hour-DOLocation with no records with PUlocation of 0, denoting missing id\n",
    "# cal = calendar.Calendar()\n",
    "# date_list = [date_ for date_ in cal.itermonthdates(year = 2016, month = 1) if date_.year == 2016 and date_.month == 1]\n",
    "#\n",
    "# for dolocation in range(1, 264):\n",
    "#     for hour in range(8):\n",
    "#         for date_ in date_list:\n",
    "#             if len(max_PULocationID_data[(max_PULocationID_data['DOLocationID'] == dolocation) & (max_PULocationID_data['hour'] == hour) & (max_PULocationID_data['rounded_lepep_pickup_datetime'] == date_)]) == 0:\n",
    "#\n",
    "#                 tmp = pd.DataFrame({'DOLocationID': [dolocation], 'hour': [hour], 'Max_PULocationID': [0], 'Max_PULocationIDs': [[0]], 'max_count': [0], 'rounded_lepep_pickup_datetime': [date_]})\n",
    "#                 max_PULocationID_data = max_PULocationID_data.append(tmp)\n",
    "# max_PULocationID_data"
   ],
   "metadata": {
    "collapsed": false,
    "pycharm": {
     "name": "#%%\n"
    }
   }
  },
  {
   "cell_type": "code",
   "execution_count": 13,
   "outputs": [],
   "source": [
    "# max_PULocationID_data.index = range(len(max_PULocationID_data))\n",
    "# max_PULocationID_data = max_PULocationID_data.rename(columns = {'rounded_lepep_pickup_datetime': 'datetime'})"
   ],
   "metadata": {
    "collapsed": false,
    "pycharm": {
     "name": "#%%\n"
    }
   }
  },
  {
   "cell_type": "code",
   "execution_count": 14,
   "outputs": [],
   "source": [
    "# max_PULocationID_data.sort_values(['datetime', 'hour', 'DOLocationID'])"
   ],
   "metadata": {
    "collapsed": false,
    "pycharm": {
     "name": "#%%\n"
    }
   }
  }
 ],
 "metadata": {
  "kernelspec": {
   "display_name": "Python 3",
   "language": "python",
   "name": "python3"
  },
  "language_info": {
   "codemirror_mode": {
    "name": "ipython",
    "version": 2
   },
   "file_extension": ".py",
   "mimetype": "text/x-python",
   "name": "python",
   "nbconvert_exporter": "python",
   "pygments_lexer": "ipython2",
   "version": "2.7.6"
  }
 },
 "nbformat": 4,
 "nbformat_minor": 0
}