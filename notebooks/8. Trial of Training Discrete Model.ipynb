{
 "cells": [
  {
   "cell_type": "markdown",
   "source": [
    "# 8. Trial of Training Discrete Model\n",
    "\n",
    "- Trains a selection of classification models with default hyperparameter values to gauge the time required to train-score one model, and also get a preview of the accuracy scores.\n",
    "- notebook follows Initialise, Train, Predict, Get Accuracy Score steps"
   ],
   "metadata": {
    "collapsed": false,
    "pycharm": {
     "name": "#%% md\n"
    }
   }
  },
  {
   "cell_type": "code",
   "execution_count": 1,
   "metadata": {
    "collapsed": true,
    "pycharm": {
     "name": "#%%\n"
    }
   },
   "outputs": [],
   "source": [
    "import pandas as pd"
   ]
  },
  {
   "cell_type": "markdown",
   "source": [
    "## Create Function for special evaluation"
   ],
   "metadata": {
    "collapsed": false,
    "pycharm": {
     "name": "#%% md\n"
    }
   }
  },
  {
   "cell_type": "code",
   "execution_count": 2,
   "outputs": [],
   "source": [
    "def accuracy_score(pred, obs):\n",
    "\n",
    "    n = len(pred)\n",
    "    n_tp = 0\n",
    "\n",
    "    for i in range(n):\n",
    "        if pred[i] in obs[i]:\n",
    "            n_tp += 1\n",
    "\n",
    "    return n_tp/n"
   ],
   "metadata": {
    "collapsed": false,
    "pycharm": {
     "name": "#%%\n"
    }
   }
  },
  {
   "cell_type": "markdown",
   "source": [
    "# Import Data"
   ],
   "metadata": {
    "collapsed": false,
    "pycharm": {
     "name": "#%% md\n"
    }
   }
  },
  {
   "cell_type": "code",
   "source": [
    "Train_data_X = pd.read_csv('../data/curated/ModelBuilding/Discrete/XTrain_16-1_16-5.csv')\n",
    "Train_data_y = pd.read_csv('../data/curated/ModelBuilding/Discrete/yTrain_16-1_16-5.csv')\n",
    "XTrain = Train_data_X\n",
    "yTrain = Train_data_y['Max_PULocationID']"
   ],
   "metadata": {
    "collapsed": false,
    "pycharm": {
     "name": "#%%\n"
    }
   },
   "execution_count": 3,
   "outputs": []
  },
  {
   "cell_type": "code",
   "execution_count": 4,
   "outputs": [],
   "source": [
    "Val_data_X = pd.read_csv('../data/curated/ModelBuilding/Discrete/XVal_16-5_16-6.csv')\n",
    "Val_data_y = pd.read_csv('../data/curated/ModelBuilding/Discrete/yVal_16-5_16-6.csv')\n",
    "XVal = Val_data_X\n",
    "yVal = Val_data_y['Max_PULocationID']"
   ],
   "metadata": {
    "collapsed": false,
    "pycharm": {
     "name": "#%%\n"
    }
   }
  },
  {
   "cell_type": "code",
   "execution_count": 5,
   "outputs": [],
   "source": [
    "Test_data_X = pd.read_csv('../data/curated/ModelBuilding/Discrete/XTest_16-6_16-6.csv')\n",
    "Test_data_y = pd.read_csv('../data/curated/ModelBuilding/Discrete/yTest_16-6_16-6.csv')\n",
    "XTest = Test_data_X\n",
    "yTest = Test_data_y['Max_PULocationID']"
   ],
   "metadata": {
    "collapsed": false,
    "pycharm": {
     "name": "#%%\n"
    }
   }
  },
  {
   "cell_type": "code",
   "execution_count": 6,
   "outputs": [],
   "source": [
    "# Get object for accuracy for multiple correct labels\n",
    "train_obs = [[int(x) for x in Max_IDs.strip('[]').split(',')] for Max_IDs in Train_data_y['Max_PULocationIDs']]\n",
    "val_obs = [[int(x) for x in Max_IDs.strip('[]').split(',')] for Max_IDs in Val_data_y['Max_PULocationIDs']]\n",
    "test_obs = [[int(x) for x in Max_IDs.strip('[]').split(',')] for Max_IDs in Test_data_y['Max_PULocationIDs']]"
   ],
   "metadata": {
    "collapsed": false,
    "pycharm": {
     "name": "#%%\n"
    }
   }
  },
  {
   "cell_type": "markdown",
   "source": [
    "# Extra One Hot Encoding (on the fly)"
   ],
   "metadata": {
    "collapsed": false,
    "pycharm": {
     "name": "#%% md\n"
    }
   }
  },
  {
   "cell_type": "code",
   "execution_count": 7,
   "outputs": [],
   "source": [
    "from sklearn.preprocessing import OneHotEncoder"
   ],
   "metadata": {
    "collapsed": false,
    "pycharm": {
     "name": "#%%\n"
    }
   }
  },
  {
   "cell_type": "code",
   "execution_count": 8,
   "outputs": [
    {
     "name": "stderr",
     "output_type": "stream",
     "text": [
      "/var/folders/xg/8w_3dndd6l5c3n99vd7vd3f40000gn/T/ipykernel_7552/2145848971.py:15: PerformanceWarning: DataFrame is highly fragmented.  This is usually the result of calling `frame.insert` many times, which has poor performance.  Consider joining all columns at once using pd.concat(axis=1) instead.  To get a de-fragmented frame, use `newframe = frame.copy()`\n",
      "  XTrain[str(col)] = new_col\n"
     ]
    },
    {
     "data": {
      "text/plain": "        weekdaylabel1_weekday  weekdaylabel1_weekend  hour_0.0  hour_1.0  \\\n0                           1                      0       0.0       1.0   \n1                           1                      0       0.0       0.0   \n2                           1                      0       0.0       0.0   \n3                           1                      0       0.0       0.0   \n4                           1                      0       0.0       0.0   \n...                       ...                    ...       ...       ...   \n145246                      0                      1       0.0       0.0   \n145247                      0                      1       0.0       0.0   \n145248                      0                      1       0.0       0.0   \n145249                      0                      1       0.0       0.0   \n145250                      0                      1       0.0       0.0   \n\n        hour_2.0  hour_3.0  hour_4.0  hour_5.0  hour_6.0  hour_7.0  ...  \\\n0            0.0       0.0       0.0       0.0       0.0       0.0  ...   \n1            1.0       0.0       0.0       0.0       0.0       0.0  ...   \n2            1.0       0.0       0.0       0.0       0.0       0.0  ...   \n3            0.0       1.0       0.0       0.0       0.0       0.0  ...   \n4            0.0       1.0       0.0       0.0       0.0       0.0  ...   \n...          ...       ...       ...       ...       ...       ...  ...   \n145246       0.0       1.0       0.0       0.0       0.0       0.0  ...   \n145247       0.0       0.0       1.0       0.0       0.0       0.0  ...   \n145248       0.0       0.0       0.0       1.0       0.0       0.0  ...   \n145249       0.0       0.0       0.0       0.0       1.0       0.0  ...   \n145250       0.0       0.0       0.0       0.0       0.0       1.0  ...   \n\n        DOLocationID_254.0  DOLocationID_255.0  DOLocationID_256.0  \\\n0                      0.0                 0.0                 0.0   \n1                      0.0                 0.0                 0.0   \n2                      0.0                 0.0                 0.0   \n3                      0.0                 0.0                 0.0   \n4                      0.0                 0.0                 0.0   \n...                    ...                 ...                 ...   \n145246                 0.0                 0.0                 0.0   \n145247                 0.0                 0.0                 0.0   \n145248                 0.0                 0.0                 0.0   \n145249                 0.0                 0.0                 0.0   \n145250                 0.0                 0.0                 0.0   \n\n        DOLocationID_257.0  DOLocationID_258.0  DOLocationID_259.0  \\\n0                      0.0                 0.0                 0.0   \n1                      0.0                 0.0                 0.0   \n2                      0.0                 0.0                 0.0   \n3                      0.0                 0.0                 0.0   \n4                      0.0                 0.0                 0.0   \n...                    ...                 ...                 ...   \n145246                 0.0                 0.0                 0.0   \n145247                 0.0                 0.0                 0.0   \n145248                 0.0                 0.0                 0.0   \n145249                 0.0                 0.0                 0.0   \n145250                 0.0                 0.0                 0.0   \n\n        DOLocationID_260.0  DOLocationID_261.0  DOLocationID_262.0  \\\n0                      0.0                 0.0                 0.0   \n1                      0.0                 0.0                 0.0   \n2                      0.0                 0.0                 0.0   \n3                      0.0                 0.0                 0.0   \n4                      0.0                 0.0                 0.0   \n...                    ...                 ...                 ...   \n145246                 0.0                 0.0                 0.0   \n145247                 0.0                 0.0                 0.0   \n145248                 0.0                 0.0                 0.0   \n145249                 0.0                 0.0                 0.0   \n145250                 0.0                 0.0                 0.0   \n\n        DOLocationID_263.0  \n0                      0.0  \n1                      0.0  \n2                      0.0  \n3                      0.0  \n4                      0.0  \n...                    ...  \n145246                 1.0  \n145247                 1.0  \n145248                 1.0  \n145249                 1.0  \n145250                 1.0  \n\n[145251 rows x 259 columns]",
      "text/html": "<div>\n<style scoped>\n    .dataframe tbody tr th:only-of-type {\n        vertical-align: middle;\n    }\n\n    .dataframe tbody tr th {\n        vertical-align: top;\n    }\n\n    .dataframe thead th {\n        text-align: right;\n    }\n</style>\n<table border=\"1\" class=\"dataframe\">\n  <thead>\n    <tr style=\"text-align: right;\">\n      <th></th>\n      <th>weekdaylabel1_weekday</th>\n      <th>weekdaylabel1_weekend</th>\n      <th>hour_0.0</th>\n      <th>hour_1.0</th>\n      <th>hour_2.0</th>\n      <th>hour_3.0</th>\n      <th>hour_4.0</th>\n      <th>hour_5.0</th>\n      <th>hour_6.0</th>\n      <th>hour_7.0</th>\n      <th>...</th>\n      <th>DOLocationID_254.0</th>\n      <th>DOLocationID_255.0</th>\n      <th>DOLocationID_256.0</th>\n      <th>DOLocationID_257.0</th>\n      <th>DOLocationID_258.0</th>\n      <th>DOLocationID_259.0</th>\n      <th>DOLocationID_260.0</th>\n      <th>DOLocationID_261.0</th>\n      <th>DOLocationID_262.0</th>\n      <th>DOLocationID_263.0</th>\n    </tr>\n  </thead>\n  <tbody>\n    <tr>\n      <th>0</th>\n      <td>1</td>\n      <td>0</td>\n      <td>0.0</td>\n      <td>1.0</td>\n      <td>0.0</td>\n      <td>0.0</td>\n      <td>0.0</td>\n      <td>0.0</td>\n      <td>0.0</td>\n      <td>0.0</td>\n      <td>...</td>\n      <td>0.0</td>\n      <td>0.0</td>\n      <td>0.0</td>\n      <td>0.0</td>\n      <td>0.0</td>\n      <td>0.0</td>\n      <td>0.0</td>\n      <td>0.0</td>\n      <td>0.0</td>\n      <td>0.0</td>\n    </tr>\n    <tr>\n      <th>1</th>\n      <td>1</td>\n      <td>0</td>\n      <td>0.0</td>\n      <td>0.0</td>\n      <td>1.0</td>\n      <td>0.0</td>\n      <td>0.0</td>\n      <td>0.0</td>\n      <td>0.0</td>\n      <td>0.0</td>\n      <td>...</td>\n      <td>0.0</td>\n      <td>0.0</td>\n      <td>0.0</td>\n      <td>0.0</td>\n      <td>0.0</td>\n      <td>0.0</td>\n      <td>0.0</td>\n      <td>0.0</td>\n      <td>0.0</td>\n      <td>0.0</td>\n    </tr>\n    <tr>\n      <th>2</th>\n      <td>1</td>\n      <td>0</td>\n      <td>0.0</td>\n      <td>0.0</td>\n      <td>1.0</td>\n      <td>0.0</td>\n      <td>0.0</td>\n      <td>0.0</td>\n      <td>0.0</td>\n      <td>0.0</td>\n      <td>...</td>\n      <td>0.0</td>\n      <td>0.0</td>\n      <td>0.0</td>\n      <td>0.0</td>\n      <td>0.0</td>\n      <td>0.0</td>\n      <td>0.0</td>\n      <td>0.0</td>\n      <td>0.0</td>\n      <td>0.0</td>\n    </tr>\n    <tr>\n      <th>3</th>\n      <td>1</td>\n      <td>0</td>\n      <td>0.0</td>\n      <td>0.0</td>\n      <td>0.0</td>\n      <td>1.0</td>\n      <td>0.0</td>\n      <td>0.0</td>\n      <td>0.0</td>\n      <td>0.0</td>\n      <td>...</td>\n      <td>0.0</td>\n      <td>0.0</td>\n      <td>0.0</td>\n      <td>0.0</td>\n      <td>0.0</td>\n      <td>0.0</td>\n      <td>0.0</td>\n      <td>0.0</td>\n      <td>0.0</td>\n      <td>0.0</td>\n    </tr>\n    <tr>\n      <th>4</th>\n      <td>1</td>\n      <td>0</td>\n      <td>0.0</td>\n      <td>0.0</td>\n      <td>0.0</td>\n      <td>1.0</td>\n      <td>0.0</td>\n      <td>0.0</td>\n      <td>0.0</td>\n      <td>0.0</td>\n      <td>...</td>\n      <td>0.0</td>\n      <td>0.0</td>\n      <td>0.0</td>\n      <td>0.0</td>\n      <td>0.0</td>\n      <td>0.0</td>\n      <td>0.0</td>\n      <td>0.0</td>\n      <td>0.0</td>\n      <td>0.0</td>\n    </tr>\n    <tr>\n      <th>...</th>\n      <td>...</td>\n      <td>...</td>\n      <td>...</td>\n      <td>...</td>\n      <td>...</td>\n      <td>...</td>\n      <td>...</td>\n      <td>...</td>\n      <td>...</td>\n      <td>...</td>\n      <td>...</td>\n      <td>...</td>\n      <td>...</td>\n      <td>...</td>\n      <td>...</td>\n      <td>...</td>\n      <td>...</td>\n      <td>...</td>\n      <td>...</td>\n      <td>...</td>\n      <td>...</td>\n    </tr>\n    <tr>\n      <th>145246</th>\n      <td>0</td>\n      <td>1</td>\n      <td>0.0</td>\n      <td>0.0</td>\n      <td>0.0</td>\n      <td>1.0</td>\n      <td>0.0</td>\n      <td>0.0</td>\n      <td>0.0</td>\n      <td>0.0</td>\n      <td>...</td>\n      <td>0.0</td>\n      <td>0.0</td>\n      <td>0.0</td>\n      <td>0.0</td>\n      <td>0.0</td>\n      <td>0.0</td>\n      <td>0.0</td>\n      <td>0.0</td>\n      <td>0.0</td>\n      <td>1.0</td>\n    </tr>\n    <tr>\n      <th>145247</th>\n      <td>0</td>\n      <td>1</td>\n      <td>0.0</td>\n      <td>0.0</td>\n      <td>0.0</td>\n      <td>0.0</td>\n      <td>1.0</td>\n      <td>0.0</td>\n      <td>0.0</td>\n      <td>0.0</td>\n      <td>...</td>\n      <td>0.0</td>\n      <td>0.0</td>\n      <td>0.0</td>\n      <td>0.0</td>\n      <td>0.0</td>\n      <td>0.0</td>\n      <td>0.0</td>\n      <td>0.0</td>\n      <td>0.0</td>\n      <td>1.0</td>\n    </tr>\n    <tr>\n      <th>145248</th>\n      <td>0</td>\n      <td>1</td>\n      <td>0.0</td>\n      <td>0.0</td>\n      <td>0.0</td>\n      <td>0.0</td>\n      <td>0.0</td>\n      <td>1.0</td>\n      <td>0.0</td>\n      <td>0.0</td>\n      <td>...</td>\n      <td>0.0</td>\n      <td>0.0</td>\n      <td>0.0</td>\n      <td>0.0</td>\n      <td>0.0</td>\n      <td>0.0</td>\n      <td>0.0</td>\n      <td>0.0</td>\n      <td>0.0</td>\n      <td>1.0</td>\n    </tr>\n    <tr>\n      <th>145249</th>\n      <td>0</td>\n      <td>1</td>\n      <td>0.0</td>\n      <td>0.0</td>\n      <td>0.0</td>\n      <td>0.0</td>\n      <td>0.0</td>\n      <td>0.0</td>\n      <td>1.0</td>\n      <td>0.0</td>\n      <td>...</td>\n      <td>0.0</td>\n      <td>0.0</td>\n      <td>0.0</td>\n      <td>0.0</td>\n      <td>0.0</td>\n      <td>0.0</td>\n      <td>0.0</td>\n      <td>0.0</td>\n      <td>0.0</td>\n      <td>1.0</td>\n    </tr>\n    <tr>\n      <th>145250</th>\n      <td>0</td>\n      <td>1</td>\n      <td>0.0</td>\n      <td>0.0</td>\n      <td>0.0</td>\n      <td>0.0</td>\n      <td>0.0</td>\n      <td>0.0</td>\n      <td>0.0</td>\n      <td>1.0</td>\n      <td>...</td>\n      <td>0.0</td>\n      <td>0.0</td>\n      <td>0.0</td>\n      <td>0.0</td>\n      <td>0.0</td>\n      <td>0.0</td>\n      <td>0.0</td>\n      <td>0.0</td>\n      <td>0.0</td>\n      <td>1.0</td>\n    </tr>\n  </tbody>\n</table>\n<p>145251 rows × 259 columns</p>\n</div>"
     },
     "execution_count": 8,
     "metadata": {},
     "output_type": "execute_result"
    }
   ],
   "source": [
    "ohe = OneHotEncoder(handle_unknown='ignore')\n",
    "\n",
    "Train_data_to_ohe = XTrain[['DOLocationID']]\n",
    "Train_data_ohe = ohe.fit_transform(Train_data_to_ohe).toarray()\n",
    "\n",
    "Train_data_ohe = pd.DataFrame(Train_data_ohe,\n",
    "                              columns=list(ohe.get_feature_names_out(['DOLocationID'])))\n",
    "\n",
    "XTrain = Train_data_X.drop(['DOLocationID'], axis=1)\n",
    "\n",
    "for col in Train_data_ohe.columns:\n",
    "    new_col = Train_data_ohe[col]\n",
    "    new_col.index = range(len(new_col))\n",
    "\n",
    "    XTrain[str(col)] = new_col\n",
    "\n",
    "XTrain = XTrain.drop('datetime', axis=1)\n",
    "XTrain"
   ],
   "metadata": {
    "collapsed": false,
    "pycharm": {
     "name": "#%%\n"
    }
   }
  },
  {
   "cell_type": "code",
   "execution_count": 9,
   "outputs": [
    {
     "name": "stderr",
     "output_type": "stream",
     "text": [
      "/var/folders/xg/8w_3dndd6l5c3n99vd7vd3f40000gn/T/ipykernel_7552/2301774214.py:13: PerformanceWarning: DataFrame is highly fragmented.  This is usually the result of calling `frame.insert` many times, which has poor performance.  Consider joining all columns at once using pd.concat(axis=1) instead.  To get a de-fragmented frame, use `newframe = frame.copy()`\n",
      "  XVal[str(col)] = new_col\n"
     ]
    },
    {
     "data": {
      "text/plain": "       weekdaylabel1_weekday  weekdaylabel1_weekend  hour_0.0  hour_1.0  \\\n0                          1                      0       0.0       1.0   \n1                          1                      0       0.0       0.0   \n2                          1                      0       0.0       0.0   \n3                          1                      0       0.0       0.0   \n4                          1                      0       0.0       0.0   \n...                      ...                    ...       ...       ...   \n29212                      0                      1       0.0       0.0   \n29213                      0                      1       0.0       0.0   \n29214                      0                      1       0.0       0.0   \n29215                      0                      1       0.0       0.0   \n29216                      0                      1       0.0       0.0   \n\n       hour_2.0  hour_3.0  hour_4.0  hour_5.0  hour_6.0  hour_7.0  ...  \\\n0           0.0       0.0       0.0       0.0       0.0       0.0  ...   \n1           1.0       0.0       0.0       0.0       0.0       0.0  ...   \n2           0.0       1.0       0.0       0.0       0.0       0.0  ...   \n3           0.0       0.0       1.0       0.0       0.0       0.0  ...   \n4           0.0       0.0       1.0       0.0       0.0       0.0  ...   \n...         ...       ...       ...       ...       ...       ...  ...   \n29212       0.0       1.0       0.0       0.0       0.0       0.0  ...   \n29213       0.0       0.0       1.0       0.0       0.0       0.0  ...   \n29214       0.0       0.0       0.0       1.0       0.0       0.0  ...   \n29215       0.0       0.0       0.0       0.0       1.0       0.0  ...   \n29216       0.0       0.0       0.0       0.0       0.0       1.0  ...   \n\n       DOLocationID_254.0  DOLocationID_255.0  DOLocationID_256.0  \\\n0                     0.0                 0.0                 0.0   \n1                     0.0                 0.0                 0.0   \n2                     0.0                 0.0                 0.0   \n3                     0.0                 0.0                 0.0   \n4                     0.0                 0.0                 0.0   \n...                   ...                 ...                 ...   \n29212                 0.0                 0.0                 0.0   \n29213                 0.0                 0.0                 0.0   \n29214                 0.0                 0.0                 0.0   \n29215                 0.0                 0.0                 0.0   \n29216                 0.0                 0.0                 0.0   \n\n       DOLocationID_257.0  DOLocationID_258.0  DOLocationID_259.0  \\\n0                     0.0                 0.0                 0.0   \n1                     0.0                 0.0                 0.0   \n2                     0.0                 0.0                 0.0   \n3                     0.0                 0.0                 0.0   \n4                     0.0                 0.0                 0.0   \n...                   ...                 ...                 ...   \n29212                 0.0                 0.0                 0.0   \n29213                 0.0                 0.0                 0.0   \n29214                 0.0                 0.0                 0.0   \n29215                 0.0                 0.0                 0.0   \n29216                 0.0                 0.0                 0.0   \n\n       DOLocationID_260.0  DOLocationID_261.0  DOLocationID_262.0  \\\n0                     0.0                 0.0                 0.0   \n1                     0.0                 0.0                 0.0   \n2                     0.0                 0.0                 0.0   \n3                     0.0                 0.0                 0.0   \n4                     0.0                 0.0                 0.0   \n...                   ...                 ...                 ...   \n29212                 0.0                 0.0                 0.0   \n29213                 0.0                 0.0                 0.0   \n29214                 0.0                 0.0                 0.0   \n29215                 0.0                 0.0                 0.0   \n29216                 0.0                 0.0                 0.0   \n\n       DOLocationID_263.0  \n0                     0.0  \n1                     0.0  \n2                     0.0  \n3                     0.0  \n4                     0.0  \n...                   ...  \n29212                 1.0  \n29213                 1.0  \n29214                 1.0  \n29215                 1.0  \n29216                 1.0  \n\n[29217 rows x 259 columns]",
      "text/html": "<div>\n<style scoped>\n    .dataframe tbody tr th:only-of-type {\n        vertical-align: middle;\n    }\n\n    .dataframe tbody tr th {\n        vertical-align: top;\n    }\n\n    .dataframe thead th {\n        text-align: right;\n    }\n</style>\n<table border=\"1\" class=\"dataframe\">\n  <thead>\n    <tr style=\"text-align: right;\">\n      <th></th>\n      <th>weekdaylabel1_weekday</th>\n      <th>weekdaylabel1_weekend</th>\n      <th>hour_0.0</th>\n      <th>hour_1.0</th>\n      <th>hour_2.0</th>\n      <th>hour_3.0</th>\n      <th>hour_4.0</th>\n      <th>hour_5.0</th>\n      <th>hour_6.0</th>\n      <th>hour_7.0</th>\n      <th>...</th>\n      <th>DOLocationID_254.0</th>\n      <th>DOLocationID_255.0</th>\n      <th>DOLocationID_256.0</th>\n      <th>DOLocationID_257.0</th>\n      <th>DOLocationID_258.0</th>\n      <th>DOLocationID_259.0</th>\n      <th>DOLocationID_260.0</th>\n      <th>DOLocationID_261.0</th>\n      <th>DOLocationID_262.0</th>\n      <th>DOLocationID_263.0</th>\n    </tr>\n  </thead>\n  <tbody>\n    <tr>\n      <th>0</th>\n      <td>1</td>\n      <td>0</td>\n      <td>0.0</td>\n      <td>1.0</td>\n      <td>0.0</td>\n      <td>0.0</td>\n      <td>0.0</td>\n      <td>0.0</td>\n      <td>0.0</td>\n      <td>0.0</td>\n      <td>...</td>\n      <td>0.0</td>\n      <td>0.0</td>\n      <td>0.0</td>\n      <td>0.0</td>\n      <td>0.0</td>\n      <td>0.0</td>\n      <td>0.0</td>\n      <td>0.0</td>\n      <td>0.0</td>\n      <td>0.0</td>\n    </tr>\n    <tr>\n      <th>1</th>\n      <td>1</td>\n      <td>0</td>\n      <td>0.0</td>\n      <td>0.0</td>\n      <td>1.0</td>\n      <td>0.0</td>\n      <td>0.0</td>\n      <td>0.0</td>\n      <td>0.0</td>\n      <td>0.0</td>\n      <td>...</td>\n      <td>0.0</td>\n      <td>0.0</td>\n      <td>0.0</td>\n      <td>0.0</td>\n      <td>0.0</td>\n      <td>0.0</td>\n      <td>0.0</td>\n      <td>0.0</td>\n      <td>0.0</td>\n      <td>0.0</td>\n    </tr>\n    <tr>\n      <th>2</th>\n      <td>1</td>\n      <td>0</td>\n      <td>0.0</td>\n      <td>0.0</td>\n      <td>0.0</td>\n      <td>1.0</td>\n      <td>0.0</td>\n      <td>0.0</td>\n      <td>0.0</td>\n      <td>0.0</td>\n      <td>...</td>\n      <td>0.0</td>\n      <td>0.0</td>\n      <td>0.0</td>\n      <td>0.0</td>\n      <td>0.0</td>\n      <td>0.0</td>\n      <td>0.0</td>\n      <td>0.0</td>\n      <td>0.0</td>\n      <td>0.0</td>\n    </tr>\n    <tr>\n      <th>3</th>\n      <td>1</td>\n      <td>0</td>\n      <td>0.0</td>\n      <td>0.0</td>\n      <td>0.0</td>\n      <td>0.0</td>\n      <td>1.0</td>\n      <td>0.0</td>\n      <td>0.0</td>\n      <td>0.0</td>\n      <td>...</td>\n      <td>0.0</td>\n      <td>0.0</td>\n      <td>0.0</td>\n      <td>0.0</td>\n      <td>0.0</td>\n      <td>0.0</td>\n      <td>0.0</td>\n      <td>0.0</td>\n      <td>0.0</td>\n      <td>0.0</td>\n    </tr>\n    <tr>\n      <th>4</th>\n      <td>1</td>\n      <td>0</td>\n      <td>0.0</td>\n      <td>0.0</td>\n      <td>0.0</td>\n      <td>0.0</td>\n      <td>1.0</td>\n      <td>0.0</td>\n      <td>0.0</td>\n      <td>0.0</td>\n      <td>...</td>\n      <td>0.0</td>\n      <td>0.0</td>\n      <td>0.0</td>\n      <td>0.0</td>\n      <td>0.0</td>\n      <td>0.0</td>\n      <td>0.0</td>\n      <td>0.0</td>\n      <td>0.0</td>\n      <td>0.0</td>\n    </tr>\n    <tr>\n      <th>...</th>\n      <td>...</td>\n      <td>...</td>\n      <td>...</td>\n      <td>...</td>\n      <td>...</td>\n      <td>...</td>\n      <td>...</td>\n      <td>...</td>\n      <td>...</td>\n      <td>...</td>\n      <td>...</td>\n      <td>...</td>\n      <td>...</td>\n      <td>...</td>\n      <td>...</td>\n      <td>...</td>\n      <td>...</td>\n      <td>...</td>\n      <td>...</td>\n      <td>...</td>\n      <td>...</td>\n    </tr>\n    <tr>\n      <th>29212</th>\n      <td>0</td>\n      <td>1</td>\n      <td>0.0</td>\n      <td>0.0</td>\n      <td>0.0</td>\n      <td>1.0</td>\n      <td>0.0</td>\n      <td>0.0</td>\n      <td>0.0</td>\n      <td>0.0</td>\n      <td>...</td>\n      <td>0.0</td>\n      <td>0.0</td>\n      <td>0.0</td>\n      <td>0.0</td>\n      <td>0.0</td>\n      <td>0.0</td>\n      <td>0.0</td>\n      <td>0.0</td>\n      <td>0.0</td>\n      <td>1.0</td>\n    </tr>\n    <tr>\n      <th>29213</th>\n      <td>0</td>\n      <td>1</td>\n      <td>0.0</td>\n      <td>0.0</td>\n      <td>0.0</td>\n      <td>0.0</td>\n      <td>1.0</td>\n      <td>0.0</td>\n      <td>0.0</td>\n      <td>0.0</td>\n      <td>...</td>\n      <td>0.0</td>\n      <td>0.0</td>\n      <td>0.0</td>\n      <td>0.0</td>\n      <td>0.0</td>\n      <td>0.0</td>\n      <td>0.0</td>\n      <td>0.0</td>\n      <td>0.0</td>\n      <td>1.0</td>\n    </tr>\n    <tr>\n      <th>29214</th>\n      <td>0</td>\n      <td>1</td>\n      <td>0.0</td>\n      <td>0.0</td>\n      <td>0.0</td>\n      <td>0.0</td>\n      <td>0.0</td>\n      <td>1.0</td>\n      <td>0.0</td>\n      <td>0.0</td>\n      <td>...</td>\n      <td>0.0</td>\n      <td>0.0</td>\n      <td>0.0</td>\n      <td>0.0</td>\n      <td>0.0</td>\n      <td>0.0</td>\n      <td>0.0</td>\n      <td>0.0</td>\n      <td>0.0</td>\n      <td>1.0</td>\n    </tr>\n    <tr>\n      <th>29215</th>\n      <td>0</td>\n      <td>1</td>\n      <td>0.0</td>\n      <td>0.0</td>\n      <td>0.0</td>\n      <td>0.0</td>\n      <td>0.0</td>\n      <td>0.0</td>\n      <td>1.0</td>\n      <td>0.0</td>\n      <td>...</td>\n      <td>0.0</td>\n      <td>0.0</td>\n      <td>0.0</td>\n      <td>0.0</td>\n      <td>0.0</td>\n      <td>0.0</td>\n      <td>0.0</td>\n      <td>0.0</td>\n      <td>0.0</td>\n      <td>1.0</td>\n    </tr>\n    <tr>\n      <th>29216</th>\n      <td>0</td>\n      <td>1</td>\n      <td>0.0</td>\n      <td>0.0</td>\n      <td>0.0</td>\n      <td>0.0</td>\n      <td>0.0</td>\n      <td>0.0</td>\n      <td>0.0</td>\n      <td>1.0</td>\n      <td>...</td>\n      <td>0.0</td>\n      <td>0.0</td>\n      <td>0.0</td>\n      <td>0.0</td>\n      <td>0.0</td>\n      <td>0.0</td>\n      <td>0.0</td>\n      <td>0.0</td>\n      <td>0.0</td>\n      <td>1.0</td>\n    </tr>\n  </tbody>\n</table>\n<p>29217 rows × 259 columns</p>\n</div>"
     },
     "execution_count": 9,
     "metadata": {},
     "output_type": "execute_result"
    }
   ],
   "source": [
    "Val_data_to_ohe = XVal[['DOLocationID']]\n",
    "Val_data_ohe = ohe.transform(Val_data_to_ohe).toarray()\n",
    "\n",
    "Val_data_ohe = pd.DataFrame(Val_data_ohe,\n",
    "                            columns=list(ohe.get_feature_names_out(['DOLocationID'])))\n",
    "\n",
    "XVal = XVal.drop(['DOLocationID'], axis=1)\n",
    "\n",
    "for col in Val_data_ohe.columns:\n",
    "    new_col = Val_data_ohe[col]\n",
    "    new_col.index = range(len(new_col))\n",
    "\n",
    "    XVal[str(col)] = new_col\n",
    "\n",
    "XVal = XVal.drop('datetime', axis=1)\n",
    "XVal"
   ],
   "metadata": {
    "collapsed": false,
    "pycharm": {
     "name": "#%%\n"
    }
   }
  },
  {
   "cell_type": "code",
   "execution_count": 10,
   "outputs": [
    {
     "name": "stderr",
     "output_type": "stream",
     "text": [
      "/var/folders/xg/8w_3dndd6l5c3n99vd7vd3f40000gn/T/ipykernel_7552/1886040005.py:13: PerformanceWarning: DataFrame is highly fragmented.  This is usually the result of calling `frame.insert` many times, which has poor performance.  Consider joining all columns at once using pd.concat(axis=1) instead.  To get a de-fragmented frame, use `newframe = frame.copy()`\n",
      "  XTest[str(col)] = new_col\n"
     ]
    },
    {
     "data": {
      "text/plain": "       weekdaylabel1_weekday  weekdaylabel1_weekend  hour_0.0  hour_1.0  \\\n0                          1                      0       0.0       1.0   \n1                          1                      0       0.0       1.0   \n2                          1                      0       0.0       0.0   \n3                          1                      0       0.0       0.0   \n4                          1                      0       0.0       0.0   \n...                      ...                    ...       ...       ...   \n27780                      1                      0       0.0       0.0   \n27781                      1                      0       0.0       0.0   \n27782                      1                      0       0.0       0.0   \n27783                      1                      0       0.0       0.0   \n27784                      1                      0       0.0       0.0   \n\n       hour_2.0  hour_3.0  hour_4.0  hour_5.0  hour_6.0  hour_7.0  ...  \\\n0           0.0       0.0       0.0       0.0       0.0       0.0  ...   \n1           0.0       0.0       0.0       0.0       0.0       0.0  ...   \n2           1.0       0.0       0.0       0.0       0.0       0.0  ...   \n3           0.0       1.0       0.0       0.0       0.0       0.0  ...   \n4           0.0       0.0       1.0       0.0       0.0       0.0  ...   \n...         ...       ...       ...       ...       ...       ...  ...   \n27780       0.0       1.0       0.0       0.0       0.0       0.0  ...   \n27781       0.0       0.0       1.0       0.0       0.0       0.0  ...   \n27782       0.0       0.0       0.0       1.0       0.0       0.0  ...   \n27783       0.0       0.0       0.0       0.0       1.0       0.0  ...   \n27784       0.0       0.0       0.0       0.0       0.0       1.0  ...   \n\n       DOLocationID_254.0  DOLocationID_255.0  DOLocationID_256.0  \\\n0                     0.0                 0.0                 0.0   \n1                     0.0                 0.0                 0.0   \n2                     0.0                 0.0                 0.0   \n3                     0.0                 0.0                 0.0   \n4                     0.0                 0.0                 0.0   \n...                   ...                 ...                 ...   \n27780                 0.0                 0.0                 0.0   \n27781                 0.0                 0.0                 0.0   \n27782                 0.0                 0.0                 0.0   \n27783                 0.0                 0.0                 0.0   \n27784                 0.0                 0.0                 0.0   \n\n       DOLocationID_257.0  DOLocationID_258.0  DOLocationID_259.0  \\\n0                     0.0                 0.0                 0.0   \n1                     0.0                 0.0                 0.0   \n2                     0.0                 0.0                 0.0   \n3                     0.0                 0.0                 0.0   \n4                     0.0                 0.0                 0.0   \n...                   ...                 ...                 ...   \n27780                 0.0                 0.0                 0.0   \n27781                 0.0                 0.0                 0.0   \n27782                 0.0                 0.0                 0.0   \n27783                 0.0                 0.0                 0.0   \n27784                 0.0                 0.0                 0.0   \n\n       DOLocationID_260.0  DOLocationID_261.0  DOLocationID_262.0  \\\n0                     0.0                 0.0                 0.0   \n1                     0.0                 0.0                 0.0   \n2                     0.0                 0.0                 0.0   \n3                     0.0                 0.0                 0.0   \n4                     0.0                 0.0                 0.0   \n...                   ...                 ...                 ...   \n27780                 0.0                 0.0                 0.0   \n27781                 0.0                 0.0                 0.0   \n27782                 0.0                 0.0                 0.0   \n27783                 0.0                 0.0                 0.0   \n27784                 0.0                 0.0                 0.0   \n\n       DOLocationID_263.0  \n0                     0.0  \n1                     0.0  \n2                     0.0  \n3                     0.0  \n4                     0.0  \n...                   ...  \n27780                 1.0  \n27781                 1.0  \n27782                 1.0  \n27783                 1.0  \n27784                 1.0  \n\n[27785 rows x 259 columns]",
      "text/html": "<div>\n<style scoped>\n    .dataframe tbody tr th:only-of-type {\n        vertical-align: middle;\n    }\n\n    .dataframe tbody tr th {\n        vertical-align: top;\n    }\n\n    .dataframe thead th {\n        text-align: right;\n    }\n</style>\n<table border=\"1\" class=\"dataframe\">\n  <thead>\n    <tr style=\"text-align: right;\">\n      <th></th>\n      <th>weekdaylabel1_weekday</th>\n      <th>weekdaylabel1_weekend</th>\n      <th>hour_0.0</th>\n      <th>hour_1.0</th>\n      <th>hour_2.0</th>\n      <th>hour_3.0</th>\n      <th>hour_4.0</th>\n      <th>hour_5.0</th>\n      <th>hour_6.0</th>\n      <th>hour_7.0</th>\n      <th>...</th>\n      <th>DOLocationID_254.0</th>\n      <th>DOLocationID_255.0</th>\n      <th>DOLocationID_256.0</th>\n      <th>DOLocationID_257.0</th>\n      <th>DOLocationID_258.0</th>\n      <th>DOLocationID_259.0</th>\n      <th>DOLocationID_260.0</th>\n      <th>DOLocationID_261.0</th>\n      <th>DOLocationID_262.0</th>\n      <th>DOLocationID_263.0</th>\n    </tr>\n  </thead>\n  <tbody>\n    <tr>\n      <th>0</th>\n      <td>1</td>\n      <td>0</td>\n      <td>0.0</td>\n      <td>1.0</td>\n      <td>0.0</td>\n      <td>0.0</td>\n      <td>0.0</td>\n      <td>0.0</td>\n      <td>0.0</td>\n      <td>0.0</td>\n      <td>...</td>\n      <td>0.0</td>\n      <td>0.0</td>\n      <td>0.0</td>\n      <td>0.0</td>\n      <td>0.0</td>\n      <td>0.0</td>\n      <td>0.0</td>\n      <td>0.0</td>\n      <td>0.0</td>\n      <td>0.0</td>\n    </tr>\n    <tr>\n      <th>1</th>\n      <td>1</td>\n      <td>0</td>\n      <td>0.0</td>\n      <td>1.0</td>\n      <td>0.0</td>\n      <td>0.0</td>\n      <td>0.0</td>\n      <td>0.0</td>\n      <td>0.0</td>\n      <td>0.0</td>\n      <td>...</td>\n      <td>0.0</td>\n      <td>0.0</td>\n      <td>0.0</td>\n      <td>0.0</td>\n      <td>0.0</td>\n      <td>0.0</td>\n      <td>0.0</td>\n      <td>0.0</td>\n      <td>0.0</td>\n      <td>0.0</td>\n    </tr>\n    <tr>\n      <th>2</th>\n      <td>1</td>\n      <td>0</td>\n      <td>0.0</td>\n      <td>0.0</td>\n      <td>1.0</td>\n      <td>0.0</td>\n      <td>0.0</td>\n      <td>0.0</td>\n      <td>0.0</td>\n      <td>0.0</td>\n      <td>...</td>\n      <td>0.0</td>\n      <td>0.0</td>\n      <td>0.0</td>\n      <td>0.0</td>\n      <td>0.0</td>\n      <td>0.0</td>\n      <td>0.0</td>\n      <td>0.0</td>\n      <td>0.0</td>\n      <td>0.0</td>\n    </tr>\n    <tr>\n      <th>3</th>\n      <td>1</td>\n      <td>0</td>\n      <td>0.0</td>\n      <td>0.0</td>\n      <td>0.0</td>\n      <td>1.0</td>\n      <td>0.0</td>\n      <td>0.0</td>\n      <td>0.0</td>\n      <td>0.0</td>\n      <td>...</td>\n      <td>0.0</td>\n      <td>0.0</td>\n      <td>0.0</td>\n      <td>0.0</td>\n      <td>0.0</td>\n      <td>0.0</td>\n      <td>0.0</td>\n      <td>0.0</td>\n      <td>0.0</td>\n      <td>0.0</td>\n    </tr>\n    <tr>\n      <th>4</th>\n      <td>1</td>\n      <td>0</td>\n      <td>0.0</td>\n      <td>0.0</td>\n      <td>0.0</td>\n      <td>0.0</td>\n      <td>1.0</td>\n      <td>0.0</td>\n      <td>0.0</td>\n      <td>0.0</td>\n      <td>...</td>\n      <td>0.0</td>\n      <td>0.0</td>\n      <td>0.0</td>\n      <td>0.0</td>\n      <td>0.0</td>\n      <td>0.0</td>\n      <td>0.0</td>\n      <td>0.0</td>\n      <td>0.0</td>\n      <td>0.0</td>\n    </tr>\n    <tr>\n      <th>...</th>\n      <td>...</td>\n      <td>...</td>\n      <td>...</td>\n      <td>...</td>\n      <td>...</td>\n      <td>...</td>\n      <td>...</td>\n      <td>...</td>\n      <td>...</td>\n      <td>...</td>\n      <td>...</td>\n      <td>...</td>\n      <td>...</td>\n      <td>...</td>\n      <td>...</td>\n      <td>...</td>\n      <td>...</td>\n      <td>...</td>\n      <td>...</td>\n      <td>...</td>\n      <td>...</td>\n    </tr>\n    <tr>\n      <th>27780</th>\n      <td>1</td>\n      <td>0</td>\n      <td>0.0</td>\n      <td>0.0</td>\n      <td>0.0</td>\n      <td>1.0</td>\n      <td>0.0</td>\n      <td>0.0</td>\n      <td>0.0</td>\n      <td>0.0</td>\n      <td>...</td>\n      <td>0.0</td>\n      <td>0.0</td>\n      <td>0.0</td>\n      <td>0.0</td>\n      <td>0.0</td>\n      <td>0.0</td>\n      <td>0.0</td>\n      <td>0.0</td>\n      <td>0.0</td>\n      <td>1.0</td>\n    </tr>\n    <tr>\n      <th>27781</th>\n      <td>1</td>\n      <td>0</td>\n      <td>0.0</td>\n      <td>0.0</td>\n      <td>0.0</td>\n      <td>0.0</td>\n      <td>1.0</td>\n      <td>0.0</td>\n      <td>0.0</td>\n      <td>0.0</td>\n      <td>...</td>\n      <td>0.0</td>\n      <td>0.0</td>\n      <td>0.0</td>\n      <td>0.0</td>\n      <td>0.0</td>\n      <td>0.0</td>\n      <td>0.0</td>\n      <td>0.0</td>\n      <td>0.0</td>\n      <td>1.0</td>\n    </tr>\n    <tr>\n      <th>27782</th>\n      <td>1</td>\n      <td>0</td>\n      <td>0.0</td>\n      <td>0.0</td>\n      <td>0.0</td>\n      <td>0.0</td>\n      <td>0.0</td>\n      <td>1.0</td>\n      <td>0.0</td>\n      <td>0.0</td>\n      <td>...</td>\n      <td>0.0</td>\n      <td>0.0</td>\n      <td>0.0</td>\n      <td>0.0</td>\n      <td>0.0</td>\n      <td>0.0</td>\n      <td>0.0</td>\n      <td>0.0</td>\n      <td>0.0</td>\n      <td>1.0</td>\n    </tr>\n    <tr>\n      <th>27783</th>\n      <td>1</td>\n      <td>0</td>\n      <td>0.0</td>\n      <td>0.0</td>\n      <td>0.0</td>\n      <td>0.0</td>\n      <td>0.0</td>\n      <td>0.0</td>\n      <td>1.0</td>\n      <td>0.0</td>\n      <td>...</td>\n      <td>0.0</td>\n      <td>0.0</td>\n      <td>0.0</td>\n      <td>0.0</td>\n      <td>0.0</td>\n      <td>0.0</td>\n      <td>0.0</td>\n      <td>0.0</td>\n      <td>0.0</td>\n      <td>1.0</td>\n    </tr>\n    <tr>\n      <th>27784</th>\n      <td>1</td>\n      <td>0</td>\n      <td>0.0</td>\n      <td>0.0</td>\n      <td>0.0</td>\n      <td>0.0</td>\n      <td>0.0</td>\n      <td>0.0</td>\n      <td>0.0</td>\n      <td>1.0</td>\n      <td>...</td>\n      <td>0.0</td>\n      <td>0.0</td>\n      <td>0.0</td>\n      <td>0.0</td>\n      <td>0.0</td>\n      <td>0.0</td>\n      <td>0.0</td>\n      <td>0.0</td>\n      <td>0.0</td>\n      <td>1.0</td>\n    </tr>\n  </tbody>\n</table>\n<p>27785 rows × 259 columns</p>\n</div>"
     },
     "execution_count": 10,
     "metadata": {},
     "output_type": "execute_result"
    }
   ],
   "source": [
    "Test_data_to_ohe = XTest[['DOLocationID']]\n",
    "Test_data_ohe = ohe.transform(Test_data_to_ohe).toarray()\n",
    "\n",
    "Test_data_ohe = pd.DataFrame(Test_data_ohe,\n",
    "                             columns=list(ohe.get_feature_names_out(['DOLocationID'])))\n",
    "\n",
    "XTest = XTest.drop(['DOLocationID'], axis=1)\n",
    "\n",
    "for col in Test_data_ohe.columns:\n",
    "    new_col = Test_data_ohe[col]\n",
    "    new_col.index = range(len(new_col))\n",
    "\n",
    "    XTest[str(col)] = new_col\n",
    "\n",
    "XTest = XTest.drop('datetime', axis=1)\n",
    "XTest"
   ],
   "metadata": {
    "collapsed": false,
    "pycharm": {
     "name": "#%%\n"
    }
   }
  },
  {
   "cell_type": "markdown",
   "source": [
    "# Models\n",
    "## 0R"
   ],
   "metadata": {
    "collapsed": false,
    "pycharm": {
     "name": "#%% md\n"
    }
   }
  },
  {
   "cell_type": "code",
   "source": [
    "from sklearn.dummy import DummyClassifier"
   ],
   "metadata": {
    "collapsed": false,
    "pycharm": {
     "name": "#%%\n"
    }
   },
   "execution_count": 11,
   "outputs": []
  },
  {
   "cell_type": "code",
   "execution_count": 12,
   "outputs": [
    {
     "data": {
      "text/plain": "DummyClassifier()"
     },
     "execution_count": 12,
     "metadata": {},
     "output_type": "execute_result"
    }
   ],
   "source": [
    "# Initialise and Train\n",
    "zero_r = DummyClassifier()\n",
    "zero_r.fit(XTrain, yTrain)"
   ],
   "metadata": {
    "collapsed": false,
    "pycharm": {
     "name": "#%%\n"
    }
   }
  },
  {
   "cell_type": "code",
   "execution_count": 13,
   "outputs": [],
   "source": [
    "# Get predictions for train and get train accuracy\n",
    "train_pred_0R = zero_r.predict(XTrain)"
   ],
   "metadata": {
    "collapsed": false,
    "pycharm": {
     "name": "#%%\n"
    }
   }
  },
  {
   "cell_type": "code",
   "execution_count": 14,
   "outputs": [
    {
     "data": {
      "text/plain": "array([79., 79., 79., ..., 79., 79., 79.])"
     },
     "execution_count": 14,
     "metadata": {},
     "output_type": "execute_result"
    }
   ],
   "source": [
    "train_pred_0R"
   ],
   "metadata": {
    "collapsed": false,
    "pycharm": {
     "name": "#%%\n"
    }
   }
  },
  {
   "cell_type": "code",
   "execution_count": 15,
   "outputs": [
    {
     "data": {
      "text/plain": "0.08130752972440809"
     },
     "execution_count": 15,
     "metadata": {},
     "output_type": "execute_result"
    }
   ],
   "source": [
    "accuracy_score(train_pred_0R, train_obs)"
   ],
   "metadata": {
    "collapsed": false,
    "pycharm": {
     "name": "#%%\n"
    }
   }
  },
  {
   "cell_type": "code",
   "execution_count": 16,
   "outputs": [],
   "source": [
    "# Get predictions for val and get val accuracy\n",
    "val_pred_0R = zero_r.predict(XVal)"
   ],
   "metadata": {
    "collapsed": false,
    "pycharm": {
     "name": "#%%\n"
    }
   }
  },
  {
   "cell_type": "code",
   "execution_count": 17,
   "outputs": [
    {
     "data": {
      "text/plain": "0.08522435568333504"
     },
     "execution_count": 17,
     "metadata": {},
     "output_type": "execute_result"
    }
   ],
   "source": [
    "accuracy_score(val_pred_0R, val_obs)"
   ],
   "metadata": {
    "collapsed": false,
    "pycharm": {
     "name": "#%%\n"
    }
   }
  },
  {
   "cell_type": "code",
   "execution_count": 18,
   "outputs": [],
   "source": [
    "# Get predictions for test and get test accuracy\n",
    "test_pred_0R = zero_r.predict(XTest)"
   ],
   "metadata": {
    "collapsed": false,
    "pycharm": {
     "name": "#%%\n"
    }
   }
  },
  {
   "cell_type": "code",
   "execution_count": 19,
   "outputs": [
    {
     "data": {
      "text/plain": "0.0770199748065503"
     },
     "execution_count": 19,
     "metadata": {},
     "output_type": "execute_result"
    }
   ],
   "source": [
    "accuracy_score(test_pred_0R, test_obs)"
   ],
   "metadata": {
    "collapsed": false,
    "pycharm": {
     "name": "#%%\n"
    }
   }
  },
  {
   "cell_type": "markdown",
   "source": [
    "## XGB attempt (took too long)\n",
    "\n",
    "*All commenting from hereonin as per 0R*"
   ],
   "metadata": {
    "collapsed": false,
    "pycharm": {
     "name": "#%% md\n"
    }
   }
  },
  {
   "cell_type": "code",
   "execution_count": 39,
   "outputs": [],
   "source": [
    "# import xgboost as xgb\n",
    "# from sklearn.preprocessing import LabelEncoder"
   ],
   "metadata": {
    "collapsed": false,
    "pycharm": {
     "name": "#%%\n"
    }
   }
  },
  {
   "cell_type": "code",
   "execution_count": 22,
   "outputs": [],
   "source": [
    "# XGB = xgb.XGBClassifier(gamma=1, subsample= 0.5, colsample_bytree=1, max_depth = 8, eta = 0.25)"
   ],
   "metadata": {
    "collapsed": false,
    "pycharm": {
     "name": "#%%\n"
    }
   }
  },
  {
   "cell_type": "code",
   "execution_count": 23,
   "outputs": [],
   "source": [
    "# # Extra transformationn of labels for XGB requirements\n",
    "# le = LabelEncoder()\n",
    "# yTrainXGB = le.fit_transform(yTrain)"
   ],
   "metadata": {
    "collapsed": false,
    "pycharm": {
     "name": "#%%\n"
    }
   }
  },
  {
   "cell_type": "code",
   "execution_count": 24,
   "outputs": [],
   "source": [
    "# XGB.fit(XTrain, yTrainXGB)"
   ],
   "metadata": {
    "collapsed": false,
    "pycharm": {
     "name": "#%%\n"
    }
   }
  },
  {
   "cell_type": "code",
   "execution_count": 25,
   "outputs": [],
   "source": [
    "# train_pred_XGB_untransformed = XGB.predict(XTrain)\n",
    "# train_pred_XGB = le.inverse_transform(train_pred_XGB_untransformed)"
   ],
   "metadata": {
    "collapsed": false,
    "pycharm": {
     "name": "#%%\n"
    }
   }
  },
  {
   "cell_type": "code",
   "execution_count": null,
   "outputs": [],
   "source": [
    "# accuracy_score(train_pred_XGB, train_obs)"
   ],
   "metadata": {
    "collapsed": false,
    "pycharm": {
     "name": "#%%\n"
    }
   }
  },
  {
   "cell_type": "code",
   "execution_count": 27,
   "outputs": [],
   "source": [
    "# val_pred_XGB_untransformed = XGB.predict(XVal)\n",
    "# val_pred_XGB = le.inverse_transform(val_pred_XGB_untransformed)"
   ],
   "metadata": {
    "collapsed": false,
    "pycharm": {
     "name": "#%%\n"
    }
   }
  },
  {
   "cell_type": "code",
   "execution_count": null,
   "outputs": [],
   "source": [
    "# accuracy_score(val_pred_XGB, val_obs)"
   ],
   "metadata": {
    "collapsed": false,
    "pycharm": {
     "name": "#%%\n"
    }
   }
  },
  {
   "cell_type": "code",
   "execution_count": 29,
   "outputs": [],
   "source": [
    "# test_pred_XGB_untransformed = XGB.predict(XTest)\n",
    "# test_pred_XGB = le.inverse_transformed(test_pred_XGB_untransformed)"
   ],
   "metadata": {
    "collapsed": false,
    "pycharm": {
     "name": "#%%\n"
    }
   }
  },
  {
   "cell_type": "code",
   "execution_count": null,
   "outputs": [],
   "source": [
    "# accuracy_score(test_pred_XGB, test_obs)"
   ],
   "metadata": {
    "collapsed": false,
    "pycharm": {
     "name": "#%%\n"
    }
   }
  },
  {
   "cell_type": "markdown",
   "source": [
    "## logR"
   ],
   "metadata": {
    "collapsed": false,
    "pycharm": {
     "name": "#%% md\n"
    }
   }
  },
  {
   "cell_type": "code",
   "source": [
    "from sklearn.linear_model import LogisticRegression"
   ],
   "metadata": {
    "collapsed": false,
    "pycharm": {
     "name": "#%%\n"
    }
   },
   "execution_count": 20,
   "outputs": []
  },
  {
   "cell_type": "code",
   "execution_count": 21,
   "outputs": [
    {
     "data": {
      "text/plain": "LogisticRegression(max_iter=1000)"
     },
     "execution_count": 21,
     "metadata": {},
     "output_type": "execute_result"
    }
   ],
   "source": [
    "logR = LogisticRegression(max_iter=1000)\n",
    "logR.fit(XTrain, yTrain)"
   ],
   "metadata": {
    "collapsed": false,
    "pycharm": {
     "name": "#%%\n"
    }
   }
  },
  {
   "cell_type": "code",
   "execution_count": 22,
   "outputs": [],
   "source": [
    "train_pred_logR = logR.predict(XTrain)"
   ],
   "metadata": {
    "collapsed": false,
    "pycharm": {
     "name": "#%%\n"
    }
   }
  },
  {
   "cell_type": "code",
   "execution_count": 23,
   "outputs": [
    {
     "data": {
      "text/plain": "0.6690625193630336"
     },
     "execution_count": 23,
     "metadata": {},
     "output_type": "execute_result"
    }
   ],
   "source": [
    "accuracy_score(train_pred_logR, train_obs)"
   ],
   "metadata": {
    "collapsed": false,
    "pycharm": {
     "name": "#%%\n"
    }
   }
  },
  {
   "cell_type": "code",
   "execution_count": 24,
   "outputs": [],
   "source": [
    "val_pred_logR = logR.predict(XVal)"
   ],
   "metadata": {
    "collapsed": false,
    "pycharm": {
     "name": "#%%\n"
    }
   }
  },
  {
   "cell_type": "code",
   "execution_count": 25,
   "outputs": [
    {
     "data": {
      "text/plain": "0.6414416264503543"
     },
     "execution_count": 25,
     "metadata": {},
     "output_type": "execute_result"
    }
   ],
   "source": [
    "accuracy_score(val_pred_logR, val_obs)"
   ],
   "metadata": {
    "collapsed": false,
    "pycharm": {
     "name": "#%%\n"
    }
   }
  },
  {
   "cell_type": "code",
   "execution_count": 26,
   "outputs": [],
   "source": [
    "test_pred_logR = logR.predict(XTest)"
   ],
   "metadata": {
    "collapsed": false,
    "pycharm": {
     "name": "#%%\n"
    }
   }
  },
  {
   "cell_type": "code",
   "execution_count": 27,
   "outputs": [
    {
     "data": {
      "text/plain": "0.6425769299982005"
     },
     "execution_count": 27,
     "metadata": {},
     "output_type": "execute_result"
    }
   ],
   "source": [
    "accuracy_score(test_pred_logR, test_obs)"
   ],
   "metadata": {
    "collapsed": false,
    "pycharm": {
     "name": "#%%\n"
    }
   }
  },
  {
   "cell_type": "markdown",
   "source": [
    "## RF"
   ],
   "metadata": {
    "collapsed": false,
    "pycharm": {
     "name": "#%% md\n"
    }
   }
  },
  {
   "cell_type": "code",
   "execution_count": 28,
   "outputs": [],
   "source": [
    "from sklearn.ensemble import RandomForestClassifier"
   ],
   "metadata": {
    "collapsed": false,
    "pycharm": {
     "name": "#%%\n"
    }
   }
  },
  {
   "cell_type": "code",
   "execution_count": 29,
   "outputs": [
    {
     "data": {
      "text/plain": "RandomForestClassifier(max_depth=16)"
     },
     "execution_count": 29,
     "metadata": {},
     "output_type": "execute_result"
    }
   ],
   "source": [
    "RF = RandomForestClassifier(n_estimators = 100, max_depth=16)\n",
    "RF.fit(XTrain, yTrain)"
   ],
   "metadata": {
    "collapsed": false,
    "pycharm": {
     "name": "#%%\n"
    }
   }
  },
  {
   "cell_type": "code",
   "execution_count": 30,
   "outputs": [],
   "source": [
    "train_pred_RF = RF.predict(XTrain)"
   ],
   "metadata": {
    "collapsed": false,
    "pycharm": {
     "name": "#%%\n"
    }
   }
  },
  {
   "cell_type": "code",
   "execution_count": 31,
   "outputs": [
    {
     "data": {
      "text/plain": "0.34019042898155605"
     },
     "execution_count": 31,
     "metadata": {},
     "output_type": "execute_result"
    }
   ],
   "source": [
    "accuracy_score(train_pred_RF, train_obs)"
   ],
   "metadata": {
    "collapsed": false,
    "pycharm": {
     "name": "#%%\n"
    }
   }
  },
  {
   "cell_type": "code",
   "execution_count": 32,
   "outputs": [],
   "source": [
    "val_pred_RF = RF.predict(XVal)"
   ],
   "metadata": {
    "collapsed": false,
    "pycharm": {
     "name": "#%%\n"
    }
   }
  },
  {
   "cell_type": "code",
   "execution_count": 33,
   "outputs": [
    {
     "data": {
      "text/plain": "0.32337337851250986"
     },
     "execution_count": 33,
     "metadata": {},
     "output_type": "execute_result"
    }
   ],
   "source": [
    "accuracy_score(val_pred_RF, val_obs)"
   ],
   "metadata": {
    "collapsed": false,
    "pycharm": {
     "name": "#%%\n"
    }
   }
  },
  {
   "cell_type": "code",
   "execution_count": 34,
   "outputs": [],
   "source": [
    "test_pred_RF = RF.predict(XTest)"
   ],
   "metadata": {
    "collapsed": false,
    "pycharm": {
     "name": "#%%\n"
    }
   }
  },
  {
   "cell_type": "code",
   "execution_count": 35,
   "outputs": [
    {
     "data": {
      "text/plain": "0.3161777937736189"
     },
     "execution_count": 35,
     "metadata": {},
     "output_type": "execute_result"
    }
   ],
   "source": [
    "accuracy_score(test_pred_RF, test_obs)"
   ],
   "metadata": {
    "collapsed": false,
    "pycharm": {
     "name": "#%%\n"
    }
   }
  },
  {
   "cell_type": "markdown",
   "source": [],
   "metadata": {
    "collapsed": false,
    "pycharm": {
     "name": "#%% md\n"
    }
   }
  }
 ],
 "metadata": {
  "kernelspec": {
   "display_name": "Python 3",
   "language": "python",
   "name": "python3"
  },
  "language_info": {
   "codemirror_mode": {
    "name": "ipython",
    "version": 2
   },
   "file_extension": ".py",
   "mimetype": "text/x-python",
   "name": "python",
   "nbconvert_exporter": "python",
   "pygments_lexer": "ipython2",
   "version": "2.7.6"
  }
 },
 "nbformat": 4,
 "nbformat_minor": 0
}