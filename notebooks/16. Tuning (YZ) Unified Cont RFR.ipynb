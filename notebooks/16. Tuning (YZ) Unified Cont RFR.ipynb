{
 "cells": [
  {
   "cell_type": "markdown",
   "source": [
    "# Random Forest Regressor\n",
    "## YangZhou Class Tuner (Heuristic/Greedy)"
   ],
   "metadata": {
    "collapsed": false,
    "pycharm": {
     "name": "#%% md\n"
    }
   }
  },
  {
   "cell_type": "code",
   "execution_count": 1,
   "outputs": [],
   "source": [
    "import pandas as pd\n",
    "import os"
   ],
   "metadata": {
    "collapsed": false,
    "pycharm": {
     "name": "#%%\n"
    }
   }
  },
  {
   "cell_type": "code",
   "execution_count": 2,
   "outputs": [],
   "source": [
    "from sklearn.ensemble import RandomForestRegressor"
   ],
   "metadata": {
    "collapsed": false,
    "pycharm": {
     "name": "#%%\n"
    }
   }
  },
  {
   "cell_type": "code",
   "execution_count": 4,
   "metadata": {
    "collapsed": false,
    "jupyter": {
     "outputs_hidden": false
    },
    "pycharm": {
     "name": "#%%\n"
    }
   },
   "outputs": [],
   "source": [
    "from YangZhou.GuidanceAlgorithm import *\n",
    "from YangZhou.CruiseEngine import *\n",
    "from YangZhou.CruiseAlgorithm import *"
   ]
  },
  {
   "cell_type": "code",
   "execution_count": 12,
   "outputs": [],
   "source": [
    "# create directory to store tuning results\n",
    "output_relative_dirs = ['../data/curated/tuning']\n",
    "\n",
    "# check if it exists as it makedir will raise an error if it does exist\n",
    "for output_relative_dir in output_relative_dirs:\n",
    "    if not os.path.exists(output_relative_dir):\n",
    "        os.makedirs(output_relative_dir)"
   ],
   "metadata": {
    "collapsed": false,
    "pycharm": {
     "name": "#%%\n"
    }
   }
  },
  {
   "cell_type": "markdown",
   "source": [
    "# Import Data"
   ],
   "metadata": {
    "collapsed": false,
    "pycharm": {
     "name": "#%% md\n"
    }
   }
  },
  {
   "cell_type": "code",
   "execution_count": 13,
   "metadata": {
    "collapsed": false,
    "jupyter": {
     "outputs_hidden": false
    },
    "pycharm": {
     "name": "#%%\n"
    }
   },
   "outputs": [],
   "source": [
    "# Import Data\n",
    "Train_data_X = pd.read_csv('../data/curated/ModelBuilding/Continuous/XTrain_16-1_16-5.csv')\n",
    "Train_data_y = pd.read_csv('../data/curated/ModelBuilding/Continuous/yTrain_16-1_16-5.csv')\n",
    "XTrain = Train_data_X\n",
    "yTrain = Train_data_y['count']"
   ]
  },
  {
   "cell_type": "code",
   "execution_count": 14,
   "outputs": [],
   "source": [
    "Val_data_X = pd.read_csv('../data/curated/ModelBuilding/Continuous/XVal_16-5_16-6.csv')\n",
    "Val_data_y = pd.read_csv('../data/curated/ModelBuilding/Continuous/yVal_16-5_16-6.csv')\n",
    "XVal = Val_data_X\n",
    "yVal = Val_data_y['count']"
   ],
   "metadata": {
    "collapsed": false,
    "pycharm": {
     "name": "#%%\n"
    }
   }
  },
  {
   "cell_type": "code",
   "execution_count": 15,
   "outputs": [],
   "source": [
    "Test_data_X = pd.read_csv('../data/curated/ModelBuilding/Continuous/XTest_16-6_16-6.csv')\n",
    "Test_data_y = pd.read_csv('../data/curated/ModelBuilding/Continuous/yTest_16-6_16-6.csv')\n",
    "XTest = Test_data_X\n",
    "yTest = Test_data_y['count']"
   ],
   "metadata": {
    "collapsed": false,
    "pycharm": {
     "name": "#%%\n"
    }
   }
  },
  {
   "cell_type": "markdown",
   "source": [
    "# Extra One Hot Encoding (On the Fly)"
   ],
   "metadata": {
    "collapsed": false,
    "pycharm": {
     "name": "#%% md\n"
    }
   }
  },
  {
   "cell_type": "code",
   "execution_count": null,
   "outputs": [],
   "source": [
    "from sklearn.preprocessing import OneHotEncoder\n",
    "\n",
    "# OHE for DOLocationID\n",
    "\n",
    "ohe = OneHotEncoder(handle_unknown='ignore')\n",
    "\n",
    "Train_data_to_ohe = XTrain[['DOLocationID']]\n",
    "Train_data_ohe = ohe.fit_transform(Train_data_to_ohe).toarray()\n",
    "\n",
    "Train_data_ohe = pd.DataFrame(Train_data_ohe,\n",
    "                              columns=list(ohe.get_feature_names_out(['DOLocationID'])))\n",
    "\n",
    "XTrain = Train_data_X.drop(['DOLocationID'], axis=1)\n",
    "\n",
    "for col in Train_data_ohe.columns:\n",
    "    new_col = Train_data_ohe[col]\n",
    "    new_col.index = range(len(new_col))\n",
    "\n",
    "    XTrain[str(col)] = new_col\n",
    "\n",
    "XTrain = XTrain.drop('datetime', axis=1)\n",
    "\n",
    "Val_data_to_ohe = XVal[['DOLocationID']]\n",
    "Val_data_ohe = ohe.transform(Val_data_to_ohe).toarray()\n",
    "\n",
    "Val_data_ohe = pd.DataFrame(Val_data_ohe,\n",
    "                            columns=list(ohe.get_feature_names_out(['DOLocationID'])))\n",
    "\n",
    "XVal = XVal.drop(['DOLocationID'], axis=1)\n",
    "\n",
    "for col in Val_data_ohe.columns:\n",
    "    new_col = Val_data_ohe[col]\n",
    "    new_col.index = range(len(new_col))\n",
    "\n",
    "    XVal[str(col)] = new_col\n",
    "\n",
    "XVal = XVal.drop('datetime', axis=1)\n",
    "\n",
    "Test_data_to_ohe = XTest[['DOLocationID']]\n",
    "Test_data_ohe = ohe.transform(Test_data_to_ohe).toarray()\n",
    "\n",
    "Test_data_ohe = pd.DataFrame(Test_data_ohe,\n",
    "                             columns=list(ohe.get_feature_names_out(['DOLocationID'])))\n",
    "\n",
    "XTest = XTest.drop(['DOLocationID'], axis=1)\n",
    "\n",
    "for col in Test_data_ohe.columns:\n",
    "    new_col = Test_data_ohe[col]\n",
    "    new_col.index = range(len(new_col))\n",
    "\n",
    "    XTest[str(col)] = new_col\n",
    "\n",
    "XTest = XTest.drop('datetime', axis=1)\n"
   ],
   "metadata": {
    "collapsed": false,
    "pycharm": {
     "name": "#%%\n"
    }
   }
  },
  {
   "cell_type": "code",
   "execution_count": null,
   "outputs": [],
   "source": [
    "# OHE for PULocationID\n",
    "\n",
    "ohe = OneHotEncoder(handle_unknown='ignore')\n",
    "\n",
    "Train_data_to_ohe = XTrain[['PULocationID']]\n",
    "Train_data_ohe = ohe.fit_transform(Train_data_to_ohe).toarray()\n",
    "\n",
    "Train_data_ohe = pd.DataFrame(Train_data_ohe,\n",
    "                              columns=list(ohe.get_feature_names_out(['PULocationID'])))\n",
    "\n",
    "XTrain = Train_data_X.drop(['PULocationID'], axis=1)\n",
    "\n",
    "for col in Train_data_ohe.columns:\n",
    "    new_col = Train_data_ohe[col]\n",
    "    new_col.index = range(len(new_col))\n",
    "\n",
    "    XTrain[str(col)] = new_col\n",
    "\n",
    "\n",
    "Val_data_to_ohe = XVal[['PULocationID']]\n",
    "Val_data_ohe = ohe.transform(Val_data_to_ohe).toarray()\n",
    "\n",
    "Val_data_ohe = pd.DataFrame(Val_data_ohe,\n",
    "                            columns=list(ohe.get_feature_names_out(['PULocationID'])))\n",
    "\n",
    "XVal = XVal.drop(['PULocationID'], axis=1)\n",
    "\n",
    "for col in Val_data_ohe.columns:\n",
    "    new_col = Val_data_ohe[col]\n",
    "    new_col.index = range(len(new_col))\n",
    "\n",
    "    XVal[str(col)] = new_col\n",
    "\n",
    "\n",
    "Test_data_to_ohe = XTest[['PULocationID']]\n",
    "Test_data_ohe = ohe.transform(Test_data_to_ohe).toarray()\n",
    "\n",
    "Test_data_ohe = pd.DataFrame(Test_data_ohe,\n",
    "                             columns=list(ohe.get_feature_names_out(['PULocationID'])))\n",
    "\n",
    "XTest = XTest.drop(['PULocationID'], axis=1)\n",
    "\n",
    "for col in Test_data_ohe.columns:\n",
    "    new_col = Test_data_ohe[col]\n",
    "    new_col.index = range(len(new_col))\n",
    "\n",
    "    XTest[str(col)] = new_col\n",
    "\n"
   ],
   "metadata": {
    "collapsed": false,
    "pycharm": {
     "name": "#%%\n"
    }
   }
  },
  {
   "cell_type": "markdown",
   "source": [
    "# Processing data for YangZhou Algorithm Input"
   ],
   "metadata": {
    "collapsed": false,
    "pycharm": {
     "name": "#%% md\n"
    }
   }
  },
  {
   "cell_type": "code",
   "execution_count": 17,
   "outputs": [
    {
     "data": {
      "text/plain": "{'n_estimators': {1: 50, 2: 100, 3: 150},\n 'max_depth': {1: 6, 2: 8, 3: 12, 4: 16},\n 'max_samples': {1: 0.25, 2: 0.5, 3: 0.75, 4: 1},\n 'ccp_alpha': {1: 0, 2: 0.001, 3: 0.01, 4: 0.1, 5: 1, 6: 10}}"
     },
     "execution_count": 17,
     "metadata": {},
     "output_type": "execute_result"
    }
   ],
   "source": [
    "# Set values to try in each hyperparameter value\n",
    "\n",
    "arguments = {\n",
    "    \"n_estimators\":{1:50, 2:100, 3:150},\n",
    "    \"max_depth\": {1:6, 2:8, 3:12, 4:16},\n",
    "    \"max_samples\": {1:0.25, 2:0.5, 3:0.75, 4:1},\n",
    "    \"ccp_alpha\": {1:0, 2:0.001, 3:0.01, 4:0.1, 5:1, 6:10}\n",
    "}\n",
    "arguments"
   ],
   "metadata": {
    "collapsed": false,
    "pycharm": {
     "name": "#%%\n"
    }
   }
  },
  {
   "cell_type": "code",
   "execution_count": 18,
   "outputs": [
    {
     "data": {
      "text/plain": "[3, 4, 4, 6]"
     },
     "execution_count": 18,
     "metadata": {},
     "output_type": "execute_result"
    }
   ],
   "source": [
    "num_arg_vals = [len(arguments[i]) for i in arguments]\n",
    "num_arg_vals"
   ],
   "metadata": {
    "collapsed": false,
    "pycharm": {
     "name": "#%%\n"
    }
   }
  },
  {
   "cell_type": "markdown",
   "source": [
    "# YangZhou Algorithm"
   ],
   "metadata": {
    "collapsed": false,
    "pycharm": {
     "name": "#%% md\n"
    }
   }
  },
  {
   "cell_type": "code",
   "execution_count": 27,
   "metadata": {
    "collapsed": false,
    "jupyter": {
     "outputs_hidden": false
    },
    "pycharm": {
     "name": "#%%\n"
    }
   },
   "outputs": [],
   "source": [
    "def get_new_cores(core, num_arg_val, surrounding_vectors, found, checked_boxes,\n",
    "                  checked_core, XTrain, yTrain, XVal, XTest, arguments, tuning_results):\n",
    "\n",
    "    # if (should be rare) case where core has been a core before, then skip. For prevention of infinite loops\n",
    "    if checked_core[flatten_coordinates_h(core, num_arg_val)] == 2:\n",
    "        prev_checked = 1\n",
    "    else:\n",
    "        checked_core[flatten_coordinates_h(core, num_arg_val)] = 2\n",
    "        prev_checked = 0\n",
    "\n",
    "    if prev_checked:\n",
    "        print('Prev checked:', core, '!\\n')\n",
    "        return [], found, checked_boxes, checked_core\n",
    "\n",
    "    # prepare data for welch test\n",
    "    surrounding_coordinates = get_surrounding_coordinates(core,\n",
    "                                            surrounding_vectors, num_arg_val)\n",
    "\n",
    "    indices = get_indices(core)\n",
    "\n",
    "    # put coordinates into treatments and nulls\n",
    "    treatment, null, direction = get_blocks(core, surrounding_coordinates,\n",
    "                                            surrounding_vectors, indices, num_arg_val)\n",
    "\n",
    "    # actually tune the surrounding coordinates\n",
    "    for coord in surrounding_coordinates:\n",
    "        #TODO: TRAIN AND TEST\n",
    "        index = flatten_coordinates_h(coord, num_arg_val)\n",
    "        if checked_boxes[index] == 0:\n",
    "            val_accu, tuning_results = train_and_get_accuracies(arguments,\n",
    "                                            coord, XTrain, yTrain, XVal, XTest, tuning_results)\n",
    "\n",
    "            found[index] = val_accu\n",
    "            checked_boxes[index] = 1\n",
    "\n",
    "    # perform welch test and return surrounding coordinates that should be used as new core\n",
    "    new_cores = find_new_core1(treatment, null, direction, num_arg_val, found)\n",
    "\n",
    "    return new_cores, found, checked_boxes, checked_core, tuning_results"
   ]
  },
  {
   "cell_type": "code",
   "execution_count": 28,
   "metadata": {
    "collapsed": false,
    "jupyter": {
     "outputs_hidden": false
    },
    "pycharm": {
     "name": "#%%\n"
    }
   },
   "outputs": [],
   "source": [
    "def YangZhou_GuidanceSystem(core, num_arg_val, surrounding_vectors, found,\n",
    "                            checked_boxes, restarts, checked_core, been_best,\n",
    "                            XTrain, yTrain, XVal, XTest, arguments, tuning_results):\n",
    "\n",
    "    if restarts == 0:\n",
    "        print(\"BEGIN INITIAL GUIDANCE\\n\")\n",
    "    else:\n",
    "        print(\"RESTART GUIDANCE: ROUND\", restarts, '\\n')\n",
    "\n",
    "    print('ROUND', restarts, 'ITERATION: ', 0, '\\n')\n",
    "\n",
    "    # first get a surrounding 3^d tuned\n",
    "    new_cores, found, checked_boxes, checked_core, tuning_results = get_new_cores(core,\n",
    "                                                num_arg_val, surrounding_vectors, found,\n",
    "                                                checked_boxes, checked_core, XTrain, yTrain,\n",
    "                                                XVal, XTest, arguments, tuning_results)\n",
    "    for new_core in new_cores: # only add if not checked before\n",
    "        if checked_core[flatten_coordinates_h(new_core, num_arg_val)] == 0:\n",
    "            checked_core[flatten_coordinates_h(new_core, num_arg_val)] = 1\n",
    "\n",
    "    round = 1\n",
    "    while new_cores: # while new cores are being added\n",
    "        print('ROUND', restarts, \"ITERATION: \", round, \"\\n\")\n",
    "        round += 1\n",
    "\n",
    "        print('New cores:', new_cores, '\\n')\n",
    "        old_new_cores = deepcopy(new_cores)\n",
    "        new_cores = list()\n",
    "\n",
    "        # for each of the new cores, 'recursively' tune and grab new cores;\n",
    "        # but each Iteration doesn't end until all cores of current round has been checked\n",
    "        for new_core in old_new_cores:\n",
    "\n",
    "            new_new_cores, found, checked_boxes, checked_core, tuning_results = get_new_cores(new_core,\n",
    "                                                    num_arg_val, surrounding_vectors, found, checked_boxes,\n",
    "                                                    checked_core, XTrain, yTrain, XVal, XTest, arguments,\n",
    "                                                    tuning_results)\n",
    "            for new_new_core in new_new_cores:\n",
    "                if checked_core[flatten_coordinates_h(new_new_core, num_arg_val)] == 0:\n",
    "                    new_cores.append(new_new_core)\n",
    "                    checked_core[flatten_coordinates_h(new_new_core, num_arg_val)] = 1\n",
    "\n",
    "    # for current max, get 3^d block. if new max happens to be found, continue to do 3^d block until no new max is found\n",
    "    # just a cheap way to flesh out the max (the goal of YangZhou)\n",
    "    max_combo = recreate_coordinates_h(np.argmax(found), num_arg_val)\n",
    "\n",
    "    while been_best[flatten_coordinates_h((max_combo), num_arg_val)] == 0:\n",
    "\n",
    "        been_best[flatten_coordinates_h((max_combo), num_arg_val)] = 1\n",
    "        #add surrounding find!! ##functionalise\n",
    "        surrounding_coordinates = get_surrounding_coordinates(max_combo, surrounding_vectors, num_arg_val)\n",
    "        for coord in surrounding_coordinates:\n",
    "            #TODO: TRAIN AND TEST\n",
    "            index = flatten_coordinates_h(coord, num_arg_val)\n",
    "            if checked_boxes[index] == 0:\n",
    "\n",
    "                val_accu, tuning_results = train_and_get_accuracies(arguments, coord, XTrain,\n",
    "                                                            yTrain, XVal, XTest, tuning_results)\n",
    "\n",
    "                found[index] = val_accu\n",
    "                checked_boxes[index] = 1\n",
    "\n",
    "        max_combo = recreate_coordinates_h(np.argmax(found),num_arg_val)\n",
    "\n",
    "    max_accuracy = max(found)\n",
    "\n",
    "    # print information of this round\n",
    "    if restarts == 0:\n",
    "        print(f\"\\nYANGZHOU INITIAL GUIDE STAGE ENDED\\n\")\n",
    "    else:\n",
    "        print(f\"\\nYANGZHOU GUIDE STAGE {restarts} ENDED\\n\")\n",
    "\n",
    "\n",
    "    if len(arguments) == 2:\n",
    "        print('Found: \\n', np.array(found).reshape(num_arg_val).round(4), '\\n')\n",
    "        print('Checked Boxes: \\n', np.array(checked_boxes).reshape(num_arg_val).round(4), '\\n')\n",
    "\n",
    "    print('Max Accuracy From This Guidance Round: \\n', max(found))\n",
    "    print('Max Combo From This Guidance Round: \\n', max_combo)\n",
    "\n",
    "    print('% Combos Checked Thus Far:', int(sum(checked_boxes)), 'out of', cond_prod(num_arg_val),\n",
    "          'which is', f'{np.mean(checked_boxes).round(8)*100}%')\n",
    "\n",
    "\n",
    "    return max_combo, max_accuracy, found, checked_boxes, checked_core, been_best, tuning_results"
   ]
  },
  {
   "cell_type": "code",
   "execution_count": 29,
   "metadata": {
    "collapsed": false,
    "jupyter": {
     "outputs_hidden": false
    },
    "pycharm": {
     "name": "#%%\n"
    }
   },
   "outputs": [],
   "source": [
    "def YangZhou_CruiseSystem(arguments, num_arg, num_arg_val, surrounding_vectors, max_combo,\n",
    "                          max_accuracy, found, checked_boxes, restarts, checked_core, XTrain,\n",
    "                          yTrain, XVal, XTest, tuning_results):\n",
    "\n",
    "    print(f\"BEGIN CRUISING: ROUND {restarts}\\n\")\n",
    "\n",
    "    # get cruise coordinates in sorted order (furthest away from current max)\n",
    "    sorted_cruise_coordinates = get_sorted_cruise_coordinates(arguments, num_arg, max_combo)\n",
    "\n",
    "    # calculate warning threshold\n",
    "    max_surrounding_mean, max_surrounding_sd = get_max_surrounding_mean_sd(max_combo,\n",
    "                                                max_accuracy, surrounding_vectors, num_arg_val, found)\n",
    "\n",
    "    #TODO: add parameter to specify which warning_threshold\n",
    "\n",
    "    # warning_threshold = cruise_warning_threshold1(max_accuracy, max_surrounding_sd, len(surrounding_vectors)-1)\n",
    "    warning_threshold = cruise_warning_threshold2(max_accuracy, max_surrounding_sd, len(surrounding_vectors)-1)\n",
    "    # warning_threshold = cruise_warning_threshold3(max_surrounding_mean, max_surrounding_sd, len(surrounding_vectors)-1)\n",
    "    # warning_threshold = cruise_warning_threshold4(max_surrounding_mean, max_surrounding_sd, len(surrounding_vectors)-1)\n",
    "\n",
    "    # check each cruise coordinate\n",
    "    for cruise_coord in sorted_cruise_coordinates:\n",
    "        index = flatten_coordinates_h(cruise_coord, num_arg_val)\n",
    "\n",
    "        # only search if it hasn't been checked before (if has then is not an artifect of significance)\n",
    "        if not checked_boxes[index]:\n",
    "            val_accu, tuning_results = train_and_get_accuracies(arguments, cruise_coord,\n",
    "                                                    XTrain, yTrain, XVal, XTest, tuning_results)\n",
    "\n",
    "            found[index] = val_accu\n",
    "            checked_boxes[index] = 1\n",
    "\n",
    "            # if above warning threshold, then stop cruise and restart guide\n",
    "            if found[index] >= warning_threshold:\n",
    "                if len(arguments) == 2:\n",
    "                    print('Found: \\n', np.array(found).reshape(num_arg_val).round(4), '\\n')\n",
    "                    print('Checked Boxes: \\n', np.array(checked_boxes).reshape(num_arg_val).round(4), '\\n')\n",
    "\n",
    "                print('Max Accuracy From This Guidance Round: \\n', max(found))\n",
    "                print('Max Combo From This Guidance Round: \\n', max_combo)\n",
    "\n",
    "                print('% Combos Checked Thus Far:', int(sum(checked_boxes)), 'out of',\n",
    "                      cond_prod(num_arg_val), 'which is', f'{np.mean(checked_boxes).round(8)*100}%')\n",
    "\n",
    "                print(f\"YANGZHOU CRUISE STAGE {restarts} ENDED, RESTARTING GUIDANCE\\n\")\n",
    "                return 1, cruise_coord, found, checked_boxes, checked_core, tuning_results\n",
    "\n",
    "    # if reach here then all cruise indicies checked. can safely say end cruise\n",
    "    print(f\"YANGZHOU CRUISE STAGE {restarts} ENDED\\n\")\n",
    "    print(f\"YANGZHOU CRUISE SYSTEM SHUTDOWN\\n\\n\")\n",
    "\n",
    "    return 0, [], found, checked_boxes, checked_core, tuning_results"
   ]
  },
  {
   "cell_type": "code",
   "execution_count": 30,
   "metadata": {
    "collapsed": false,
    "jupyter": {
     "outputs_hidden": false
    },
    "pycharm": {
     "name": "#%%\n"
    }
   },
   "outputs": [],
   "source": [
    "# def YangZhou_trial(arguments, XTrain, yTrain, XVal, XTest):\n",
    "#\n",
    "#     print(\"YANGZHOU SYSTEM ACTIVATED\\n\\n\")\n",
    "#\n",
    "#     # Process inputs and initiate arguments\n",
    "#     num_arg = {arg:len(arguments[arg]) for arg in arguments}\n",
    "#     num_arg_val = list(num_arg.values())\n",
    "#\n",
    "#     arg_median_values = {arg:(num_arg[arg]//2)+1 for arg in arguments}\n",
    "#     core = [arg_median_values[arg] for arg in num_arg]\n",
    "#     print('Initial core:', core, '\\n')\n",
    "#     surrounding_vectors = get_surrounding_vectors(core)\n",
    "#\n",
    "#     found = np.zeros(np.prod(num_arg_val))\n",
    "#     checked_boxes = np.zeros(np.prod(num_arg_val))\n",
    "#     checked_core = np.zeros(np.prod(num_arg_val))\n",
    "#     been_best = np.zeros(np.prod(num_arg_val))\n",
    "#\n",
    "#     tuning_results = pd.DataFrame()\n",
    "#\n",
    "#     print(\"YANGZHOU GUIDE SYSTEM ACTIVATED\\n\")\n",
    "#\n",
    "#     # Initial Round of Guidance\n",
    "#     checked_core[flatten_coordinates_h(core, num_arg_val)] = 1\n",
    "#     max_combo, max_accuracy, found, checked_boxes, checked_core, been_best, tuning_results = YangZhou_GuidanceSystem(core, num_arg_val, surrounding_vectors, found, checked_boxes, 0, checked_core, been_best, XTrain, yTrain, XVal, XTest, arguments, tuning_results)\n",
    "#\n",
    "#     # Recursively Cruise and restart Guide if find a combo that is within halfwidth of max\n",
    "#     print(\"YANGZHOU CRUISE SYSTEM ACTIVATED\\n\")\n",
    "#     cruising = 1\n",
    "#     restarts = 1\n",
    "#     while cruising:\n",
    "#         cruising, restart_core, found, checked_boxes, checked_core, tuning_results = YangZhou_CruiseSystem(arguments, num_arg, num_arg_val, surrounding_vectors, max_combo, max_accuracy, found, checked_boxes, restarts, checked_core, XTrain, yTrain, XVal, XTest, tuning_results)\n",
    "#\n",
    "#         if cruising:\n",
    "#             max_combo, max_accuracy, found, checked_boxes, checked_core, been_best, tuning_results = YangZhou_GuidanceSystem(restart_core, num_arg_val, surrounding_vectors, found, checked_boxes, restarts, checked_core, been_best, XTrain, yTrain, XVal, XTest, arguments, tuning_results)\n",
    "#             restarts += 1\n",
    "#\n",
    "#     # Final extensive search around maxes.\n",
    "#     print(\"YANGZHOU FINAL GUIDANCE ACTIVATED\\n\")\n",
    "#     old_max_accuracy = deepcopy(max_accuracy)\n",
    "#     max_combo, max_accuracy, found, checked_boxes, checked_core, been_best, tuning_results = YangZhou_GuidanceSystem(max_combo, num_arg_val, surrounding_vectors, found, checked_boxes, 'FINAL', checked_core, been_best, XTrain, yTrain, XVal, XTest, arguments, tuning_results)\n",
    "#     while(max_accuracy-old_max_accuracy > 0):\n",
    "#         old_max_accuracy = deepcopy(max_accuracy)\n",
    "#         max_combo, max_accuracy, found, checked_boxes, checked_core, tuning_results = YangZhou_GuidanceSystem(max_combo, num_arg_val, surrounding_vectors, found, checked_boxes, 'FINAL', checked_core, been_best, XTrain, yTrain, XVal, XTest, arguments, tuning_results)\n",
    "#\n",
    "#\n",
    "#     # Display final information\n",
    "#     print(\"YANGZHOU FINAL GUIDANCE STAGE ENDED\")\n",
    "#     print(\"YANGZHOU MISSION ACCOMPLISHED\\n\")\n",
    "#\n",
    "#     if len(arguments) == 2:\n",
    "#         print('Final Found: \\n', np.array(found).reshape(num_arg_val).round(4), '\\n')\n",
    "#         print('Final Checked Boxes: \\n', np.array(checked_boxes).reshape(num_arg_val).round(4), '\\n')\n",
    "#         print('Final Checked Cores: \\n', np.array(checked_core).reshape(num_arg_val).round(4), '\\n')\n",
    "#\n",
    "#     print('Max Accuracy: \\n', max(found))\n",
    "#     print('Max Combo: \\n', max_combo)\n",
    "#\n",
    "#     print('% Combos Checked:', int(sum(checked_boxes)), 'out of', cond_prod(num_arg_val), 'which is', f'{np.mean(checked_boxes).round(8)*100}%')\n",
    "#\n",
    "#     return max_combo, max_accuracy, found, checked_boxes, checked_core, been_best"
   ]
  },
  {
   "cell_type": "code",
   "execution_count": 31,
   "outputs": [],
   "source": [
    "# max_combo, max_accuracy, found, checked_boxes, checked_core, been_best = YangZhou_trial(arguments, XTrain, yTrain, XVal, XTest)"
   ],
   "metadata": {
    "collapsed": false,
    "pycharm": {
     "name": "#%%\n"
    }
   }
  },
  {
   "cell_type": "markdown",
   "source": [
    "The helper function which specifies what type of model we are tuning and also records tuning results"
   ],
   "metadata": {
    "collapsed": false,
    "pycharm": {
     "name": "#%% md\n"
    }
   }
  },
  {
   "cell_type": "code",
   "execution_count": 32,
   "outputs": [],
   "source": [
    "def train_and_get_accuracies(arguments, coord, XTrain, yTrain, XVal, XTest, tuning_results):\n",
    "\n",
    "    RF = RandomForestRegressor(n_estimators=arguments['n_estimators'][coord[0]],\n",
    "                               max_depth = arguments['max_depth'][coord[1]],\n",
    "                               max_samples = arguments['max_samples'][coord[2]],\n",
    "                               ccp_alpha = arguments['ccp_alpha'][coord[3]])\n",
    "\n",
    "    RF.fit(XTrain, yTrain)\n",
    "    train_accu = RF.score(XTrain, yTrain)\n",
    "    val_accu = RF.score(XVal, yVal)\n",
    "    test_accu = RF.score(XTest, yTest)\n",
    "\n",
    "    one_result = pd.DataFrame({'n_estimators': [arguments['n_estimators'][coord[0]]],\n",
    "                               'max_depth': [arguments['max_depth'][coord[1]]],\n",
    "                               'max_samples': [arguments['max_samples'][coord[2]]],\n",
    "                               'ccp_alpha': [arguments['ccp_alpha'][coord[3]]],\n",
    "                               'training_accuracy': [train_accu],\n",
    "                               'validation_accuracy': [val_accu],\n",
    "                               'testing_accuracy': [test_accu]})\n",
    "\n",
    "    tuning_results = tuning_results.append(one_result)\n",
    "    tuning_results.to_csv('../data/curated/tuning/RFR_Unified.csv')\n",
    "\n",
    "    return val_accu, tuning_results"
   ],
   "metadata": {
    "collapsed": false,
    "pycharm": {
     "name": "#%%\n"
    }
   }
  },
  {
   "cell_type": "markdown",
   "source": [
    "# The MAIN of YangZhou - pulled out of function to make it more flexible in use"
   ],
   "metadata": {
    "collapsed": false,
    "pycharm": {
     "name": "#%% md\n"
    }
   }
  },
  {
   "cell_type": "code",
   "execution_count": 34,
   "outputs": [
    {
     "name": "stdout",
     "output_type": "stream",
     "text": [
      "YANGZHOU SYSTEM ACTIVATED\n",
      "\n",
      "\n",
      "Initial core: [2, 3, 3, 4] \n",
      "\n",
      "YANGZHOU GUIDE SYSTEM ACTIVATED\n",
      "\n",
      "BEGIN INITIAL GUIDANCE\n",
      "\n",
      "ROUND 0 ITERATION:  0 \n",
      "\n"
     ]
    },
    {
     "ename": "UnboundLocalError",
     "evalue": "local variable 'max_key' referenced before assignment",
     "output_type": "error",
     "traceback": [
      "\u001B[1;31m---------------------------------------------------------------------------\u001B[0m",
      "\u001B[1;31mUnboundLocalError\u001B[0m                         Traceback (most recent call last)",
      "Input \u001B[1;32mIn [34]\u001B[0m, in \u001B[0;36m<cell line: 23>\u001B[1;34m()\u001B[0m\n\u001B[0;32m     21\u001B[0m \u001B[38;5;66;03m# Initial Round of Guidance\u001B[39;00m\n\u001B[0;32m     22\u001B[0m checked_core[flatten_coordinates_h(core, num_arg_val)] \u001B[38;5;241m=\u001B[39m \u001B[38;5;241m1\u001B[39m\n\u001B[1;32m---> 23\u001B[0m max_combo, max_accuracy, found, checked_boxes, checked_core, been_best, tuning_results \u001B[38;5;241m=\u001B[39m \u001B[43mYangZhou_GuidanceSystem\u001B[49m\u001B[43m(\u001B[49m\u001B[43mcore\u001B[49m\u001B[43m,\u001B[49m\u001B[43m \u001B[49m\u001B[43mnum_arg_val\u001B[49m\u001B[43m,\u001B[49m\u001B[43m \u001B[49m\u001B[43msurrounding_vectors\u001B[49m\u001B[43m,\u001B[49m\u001B[43m \u001B[49m\u001B[43mfound\u001B[49m\u001B[43m,\u001B[49m\u001B[43m \u001B[49m\u001B[43mchecked_boxes\u001B[49m\u001B[43m,\u001B[49m\u001B[43m \u001B[49m\u001B[38;5;241;43m0\u001B[39;49m\u001B[43m,\u001B[49m\u001B[43m \u001B[49m\u001B[43mchecked_core\u001B[49m\u001B[43m,\u001B[49m\u001B[43m \u001B[49m\u001B[43mbeen_best\u001B[49m\u001B[43m,\u001B[49m\u001B[43m \u001B[49m\u001B[43mXTrain\u001B[49m\u001B[43m,\u001B[49m\u001B[43m \u001B[49m\u001B[43myTrain\u001B[49m\u001B[43m,\u001B[49m\u001B[43m \u001B[49m\u001B[43mXVal\u001B[49m\u001B[43m,\u001B[49m\u001B[43m \u001B[49m\u001B[43mXTest\u001B[49m\u001B[43m,\u001B[49m\u001B[43m \u001B[49m\u001B[43marguments\u001B[49m\u001B[43m,\u001B[49m\u001B[43m \u001B[49m\u001B[43mtuning_results\u001B[49m\u001B[43m)\u001B[49m\n\u001B[0;32m     25\u001B[0m \u001B[38;5;66;03m# Recursively Cruise and restart Guide if find a combo that is within halfwidth of max\u001B[39;00m\n\u001B[0;32m     26\u001B[0m \u001B[38;5;28mprint\u001B[39m(\u001B[38;5;124m\"\u001B[39m\u001B[38;5;124mYANGZHOU CRUISE SYSTEM ACTIVATED\u001B[39m\u001B[38;5;130;01m\\n\u001B[39;00m\u001B[38;5;124m\"\u001B[39m)\n",
      "Input \u001B[1;32mIn [28]\u001B[0m, in \u001B[0;36mYangZhou_GuidanceSystem\u001B[1;34m(core, num_arg_val, surrounding_vectors, found, checked_boxes, restarts, checked_core, been_best, XTrain, yTrain, XVal, XTest, arguments, tuning_results)\u001B[0m\n\u001B[0;32m      8\u001B[0m \u001B[38;5;28mprint\u001B[39m(\u001B[38;5;124m'\u001B[39m\u001B[38;5;124mROUND\u001B[39m\u001B[38;5;124m'\u001B[39m, restarts, \u001B[38;5;124m'\u001B[39m\u001B[38;5;124mITERATION: \u001B[39m\u001B[38;5;124m'\u001B[39m, \u001B[38;5;241m0\u001B[39m, \u001B[38;5;124m'\u001B[39m\u001B[38;5;130;01m\\n\u001B[39;00m\u001B[38;5;124m'\u001B[39m)\n\u001B[0;32m     10\u001B[0m \u001B[38;5;66;03m# first get a surrounding 3^d tuned\u001B[39;00m\n\u001B[1;32m---> 11\u001B[0m new_cores, found, checked_boxes, checked_core, tuning_results \u001B[38;5;241m=\u001B[39m \u001B[43mget_new_cores\u001B[49m\u001B[43m(\u001B[49m\u001B[43mcore\u001B[49m\u001B[43m,\u001B[49m\u001B[43m \u001B[49m\u001B[43mnum_arg_val\u001B[49m\u001B[43m,\u001B[49m\u001B[43m \u001B[49m\u001B[43msurrounding_vectors\u001B[49m\u001B[43m,\u001B[49m\u001B[43m \u001B[49m\u001B[43mfound\u001B[49m\u001B[43m,\u001B[49m\u001B[43m \u001B[49m\u001B[43mchecked_boxes\u001B[49m\u001B[43m,\u001B[49m\u001B[43m \u001B[49m\u001B[43mchecked_core\u001B[49m\u001B[43m,\u001B[49m\u001B[43m \u001B[49m\u001B[43mXTrain\u001B[49m\u001B[43m,\u001B[49m\u001B[43m \u001B[49m\u001B[43myTrain\u001B[49m\u001B[43m,\u001B[49m\u001B[43m \u001B[49m\u001B[43mXVal\u001B[49m\u001B[43m,\u001B[49m\u001B[43m \u001B[49m\u001B[43mXTest\u001B[49m\u001B[43m,\u001B[49m\u001B[43m \u001B[49m\u001B[43marguments\u001B[49m\u001B[43m,\u001B[49m\u001B[43m \u001B[49m\u001B[43mtuning_results\u001B[49m\u001B[43m)\u001B[49m\n\u001B[0;32m     12\u001B[0m \u001B[38;5;28;01mfor\u001B[39;00m new_core \u001B[38;5;129;01min\u001B[39;00m new_cores: \u001B[38;5;66;03m# only add if not checked before\u001B[39;00m\n\u001B[0;32m     13\u001B[0m     \u001B[38;5;28;01mif\u001B[39;00m checked_core[flatten_coordinates_h(new_core, num_arg_val)] \u001B[38;5;241m==\u001B[39m \u001B[38;5;241m0\u001B[39m:\n",
      "Input \u001B[1;32mIn [27]\u001B[0m, in \u001B[0;36mget_new_cores\u001B[1;34m(core, num_arg_val, surrounding_vectors, found, checked_boxes, checked_core, XTrain, yTrain, XVal, XTest, arguments, tuning_results)\u001B[0m\n\u001B[0;32m     30\u001B[0m         checked_boxes[index] \u001B[38;5;241m=\u001B[39m \u001B[38;5;241m1\u001B[39m\n\u001B[0;32m     32\u001B[0m \u001B[38;5;66;03m# perform welch test and return surrounding coordinates that should be used as new core\u001B[39;00m\n\u001B[1;32m---> 33\u001B[0m new_cores \u001B[38;5;241m=\u001B[39m \u001B[43mfind_new_core1\u001B[49m\u001B[43m(\u001B[49m\u001B[43mtreatment\u001B[49m\u001B[43m,\u001B[49m\u001B[43m \u001B[49m\u001B[43mnull\u001B[49m\u001B[43m,\u001B[49m\u001B[43m \u001B[49m\u001B[43mdirection\u001B[49m\u001B[43m,\u001B[49m\u001B[43m \u001B[49m\u001B[43mnum_arg_val\u001B[49m\u001B[43m,\u001B[49m\u001B[43m \u001B[49m\u001B[43mfound\u001B[49m\u001B[43m)\u001B[49m\n\u001B[0;32m     35\u001B[0m \u001B[38;5;28;01mreturn\u001B[39;00m new_cores, found, checked_boxes, checked_core, tuning_results\n",
      "File \u001B[1;32m~\\PycharmProjects\\mast30034-project-1-TGChenZP\\mast30034-project-1-TGChenZP\\notebooks\\YangZhou\\GuidanceAlgorithm.py:26\u001B[0m, in \u001B[0;36mfind_new_core1\u001B[1;34m(treatment, null, direction, num_arg_val, found)\u001B[0m\n\u001B[0;32m     19\u001B[0m p_val \u001B[38;5;241m=\u001B[39m stats\u001B[38;5;241m.\u001B[39mttest_ind(\u001B[38;5;28mlist\u001B[39m(get_treat_or_null_scores(treatment[i], num_arg_val, found)\u001B[38;5;241m.\u001B[39mvalues()),\n\u001B[0;32m     20\u001B[0m                         \u001B[38;5;28mlist\u001B[39m(get_treat_or_null_scores(null[i], num_arg_val, found)\u001B[38;5;241m.\u001B[39mvalues()),\n\u001B[0;32m     21\u001B[0m                         equal_var\u001B[38;5;241m=\u001B[39m\u001B[38;5;28;01mTrue\u001B[39;00m)\u001B[38;5;241m.\u001B[39mpvalue\n\u001B[0;32m     23\u001B[0m \u001B[38;5;66;03m# print(direction[i])\u001B[39;00m\n\u001B[0;32m     24\u001B[0m \u001B[38;5;66;03m# print(bool_inc, '\\t', p_val)\u001B[39;00m\n\u001B[1;32m---> 26\u001B[0m arg_max, max_accuracy_in_this_dir \u001B[38;5;241m=\u001B[39m \u001B[43mdict_arg_max\u001B[49m\u001B[43m(\u001B[49m\u001B[43mget_treat_or_null_scores\u001B[49m\u001B[43m(\u001B[49m\u001B[43mtreatment\u001B[49m\u001B[43m[\u001B[49m\u001B[43mi\u001B[49m\u001B[43m]\u001B[49m\u001B[43m,\u001B[49m\u001B[43m \u001B[49m\u001B[43mnum_arg_val\u001B[49m\u001B[43m,\u001B[49m\u001B[43m \u001B[49m\u001B[43mfound\u001B[49m\u001B[43m)\u001B[49m\u001B[43m)\u001B[49m\n\u001B[0;32m     27\u001B[0m \u001B[38;5;28;01mif\u001B[39;00m p_val \u001B[38;5;241m<\u001B[39m \u001B[38;5;241m0.05\u001B[39m \u001B[38;5;129;01mand\u001B[39;00m bool_inc:\n\u001B[0;32m     28\u001B[0m     \u001B[38;5;28;01mif\u001B[39;00m \u001B[38;5;129;01mnot\u001B[39;00m appended_new_core[flatten_coordinates_h(arg_max, num_arg_val)]:\n",
      "File \u001B[1;32m~\\PycharmProjects\\mast30034-project-1-TGChenZP\\mast30034-project-1-TGChenZP\\notebooks\\YangZhou\\Engine.py:282\u001B[0m, in \u001B[0;36mdict_arg_max\u001B[1;34m(dic)\u001B[0m\n\u001B[0;32m    279\u001B[0m         max_val \u001B[38;5;241m=\u001B[39m dic[key]\n\u001B[0;32m    280\u001B[0m         max_key \u001B[38;5;241m=\u001B[39m key\n\u001B[1;32m--> 282\u001B[0m \u001B[38;5;28;01mreturn\u001B[39;00m make_coord(\u001B[43mmax_key\u001B[49m), max_val\n",
      "\u001B[1;31mUnboundLocalError\u001B[0m: local variable 'max_key' referenced before assignment"
     ]
    }
   ],
   "source": [
    "print(\"YANGZHOU SYSTEM ACTIVATED\\n\\n\")\n",
    "\n",
    "# Process inputs and initiate arguments\n",
    "num_arg = {arg:len(arguments[arg]) for arg in arguments}\n",
    "num_arg_val = list(num_arg.values())\n",
    "\n",
    "arg_median_values = {arg:(num_arg[arg]//2)+1 for arg in arguments}\n",
    "core = [arg_median_values[arg] for arg in num_arg]\n",
    "print('Initial core:', core, '\\n')\n",
    "surrounding_vectors = get_surrounding_vectors(core)\n",
    "\n",
    "# found = np.zeros(np.prod(num_arg_val))\n",
    "# checked_boxes = np.zeros(np.prod(num_arg_val))\n",
    "# checked_core = np.zeros(np.prod(num_arg_val))\n",
    "# been_best = np.zeros(np.prod(num_arg_val))\n",
    "\n",
    "tuning_results = pd.DataFrame()\n",
    "\n",
    "print(\"YANGZHOU GUIDE SYSTEM ACTIVATED\\n\")\n",
    "\n",
    "# Initial Round of Guidance\n",
    "checked_core[flatten_coordinates_h(core, num_arg_val)] = 1\n",
    "max_combo, max_accuracy, found, checked_boxes, checked_core, been_best, tuning_results = YangZhou_GuidanceSystem(core,\n",
    "                                                                                num_arg_val, surrounding_vectors, found,\n",
    "                                                                                checked_boxes, 0, checked_core, been_best,\n",
    "                                                                                XTrain, yTrain, XVal, XTest, arguments,\n",
    "                                                                                tuning_results)\n",
    "\n",
    "# Recursively Cruise and restart Guide if find a combo that is within halfwidth of max\n",
    "print(\"YANGZHOU CRUISE SYSTEM ACTIVATED\\n\")\n",
    "cruising = 1\n",
    "restarts = 1\n",
    "while cruising:\n",
    "    cruising, restart_core, found, checked_boxes, checked_core, tuning_results = YangZhou_CruiseSystem(arguments,\n",
    "                                                                                    num_arg, num_arg_val, surrounding_vectors,\n",
    "                                                                                    max_combo, max_accuracy, found, checked_boxes,\n",
    "                                                                                    restarts, checked_core, XTrain, yTrain, XVal,\n",
    "                                                                                    XTest, tuning_results)\n",
    "\n",
    "    if cruising:\n",
    "        max_combo, max_accuracy, found, checked_boxes, checked_core, been_best, tuning_results = YangZhou_GuidanceSystem(restart_core,\n",
    "                                                                                    num_arg_val, surrounding_vectors, found, checked_boxes,\n",
    "                                                                                    restarts, checked_core, been_best, XTrain, yTrain, XVal,\n",
    "                                                                                    XTest, arguments, tuning_results)\n",
    "        restarts += 1\n",
    "\n",
    "# Final extensive search around maxes.\n",
    "print(\"YANGZHOU FINAL GUIDANCE ACTIVATED\\n\")\n",
    "old_max_accuracy = deepcopy(max_accuracy)\n",
    "max_combo, max_accuracy, found, checked_boxes, checked_core, been_best, tuning_results = YangZhou_GuidanceSystem(max_combo,\n",
    "                                                                                num_arg_val, surrounding_vectors, found,\n",
    "                                                                                checked_boxes, 'FINAL', checked_core, been_best,\n",
    "                                                                                XTrain, yTrain, XVal, XTest, arguments, tuning_results)\n",
    "while(max_accuracy-old_max_accuracy > 0):\n",
    "    old_max_accuracy = deepcopy(max_accuracy)\n",
    "    max_combo, max_accuracy, found, checked_boxes, checked_core, tuning_results = YangZhou_GuidanceSystem(max_combo,\n",
    "                                                                                num_arg_val, surrounding_vectors, found, checked_boxes,\n",
    "                                                                                'FINAL', checked_core, been_best, XTrain, yTrain, XVal,\n",
    "                                                                                XTest, arguments, tuning_results)\n",
    "\n",
    "\n",
    "# Display final information\n",
    "print(\"YANGZHOU FINAL GUIDANCE STAGE ENDED\")\n",
    "print(\"YANGZHOU MISSION ACCOMPLISHED\\n\")\n",
    "\n",
    "if len(arguments) == 2:\n",
    "    print('Final Found: \\n', np.array(found).reshape(num_arg_val).round(4), '\\n')\n",
    "    print('Final Checked Boxes: \\n', np.array(checked_boxes).reshape(num_arg_val).round(4), '\\n')\n",
    "    print('Final Checked Cores: \\n', np.array(checked_core).reshape(num_arg_val).round(4), '\\n')\n",
    "\n",
    "print('Max Accuracy: \\n', max(found))\n",
    "print('Max Combo: \\n', max_combo)\n",
    "\n",
    "print('% Combos Checked:', int(sum(checked_boxes)), 'out of', cond_prod(num_arg_val),\n",
    "      'which is', f'{np.mean(checked_boxes).round(8)*100}%')"
   ],
   "metadata": {
    "collapsed": false,
    "pycharm": {
     "name": "#%%\n"
    }
   }
  },
  {
   "cell_type": "code",
   "execution_count": null,
   "outputs": [],
   "source": [],
   "metadata": {
    "collapsed": false,
    "pycharm": {
     "name": "#%%\n"
    }
   }
  }
 ],
 "metadata": {
  "kernelspec": {
   "display_name": "Python 3 (ipykernel)",
   "language": "python",
   "name": "python3"
  },
  "language_info": {
   "codemirror_mode": {
    "name": "ipython",
    "version": 3
   },
   "file_extension": ".py",
   "mimetype": "text/x-python",
   "name": "python",
   "nbconvert_exporter": "python",
   "pygments_lexer": "ipython3",
   "version": "3.9.7"
  }
 },
 "nbformat": 4,
 "nbformat_minor": 4
}